{
 "cells": [
  {
   "cell_type": "markdown",
   "metadata": {},
   "source": [
    "# 14. Web Integration\n",
    "\n",
    "Chapter 14 of Python for Finance (continued)\n",
    "\n",
    "Hilpisch, Yves. Python for Finance: Analyze Big Financial Data. O'Reilly Media. Kindle Edition."
   ]
  },
  {
   "cell_type": "code",
   "execution_count": 1,
   "metadata": {
    "collapsed": true
   },
   "outputs": [],
   "source": [
    "import ftplib\n",
    "import numpy as np"
   ]
  },
  {
   "cell_type": "code",
   "execution_count": 2,
   "metadata": {
    "collapsed": false
   },
   "outputs": [],
   "source": [
    "# ftp = ftplib.FTP('oreilly.quant-platform.com')\n",
    "# ftp.login(user='tttrinter', passwd='t0mmyt')\n",
    "\n",
    "# ftp = ftplib.FTP('oreilly.quant-platform.com')\n",
    "# ftp.login(user='tttrinter', passwd='t0mmyt')\n",
    "\n",
    "#These are not working"
   ]
  },
  {
   "cell_type": "code",
   "execution_count": 3,
   "metadata": {
    "collapsed": false
   },
   "outputs": [],
   "source": [
    "import httplib2"
   ]
  },
  {
   "cell_type": "code",
   "execution_count": 58,
   "metadata": {
    "collapsed": true
   },
   "outputs": [],
   "source": [
    "http = httplib2.HTTPConnectionWithTimeout('hilpisch.com')"
   ]
  },
  {
   "cell_type": "code",
   "execution_count": 59,
   "metadata": {
    "collapsed": true
   },
   "outputs": [],
   "source": [
    "http.request('GET', '/index.htm')"
   ]
  },
  {
   "cell_type": "code",
   "execution_count": 60,
   "metadata": {
    "collapsed": false
   },
   "outputs": [],
   "source": [
    "resp = http.getresponse()"
   ]
  },
  {
   "cell_type": "code",
   "execution_count": 61,
   "metadata": {
    "collapsed": false
   },
   "outputs": [
    {
     "data": {
      "text/plain": [
       "<http.client.HTTPResponse at 0x18a4681e128>"
      ]
     },
     "execution_count": 61,
     "metadata": {},
     "output_type": "execute_result"
    }
   ],
   "source": [
    "resp"
   ]
  },
  {
   "cell_type": "code",
   "execution_count": 62,
   "metadata": {
    "collapsed": false
   },
   "outputs": [
    {
     "data": {
      "text/plain": [
       "(200, 'OK')"
      ]
     },
     "execution_count": 62,
     "metadata": {},
     "output_type": "execute_result"
    }
   ],
   "source": [
    "resp.status, resp.reason"
   ]
  },
  {
   "cell_type": "code",
   "execution_count": 63,
   "metadata": {
    "collapsed": false
   },
   "outputs": [
    {
     "data": {
      "text/plain": [
       "'b\\'<!doctype html>\\\\n<html lang=\"en\">\\\\n\\\\n\\\\t<head>\\\\n\\\\t\\\\t<meta charset=\"utf-8\">\\\\n\\\\n\\\\t\\\\t<title>Dr. Yves J'"
      ]
     },
     "execution_count": 63,
     "metadata": {},
     "output_type": "execute_result"
    }
   ],
   "source": [
    "content = str(resp.read())\n",
    "content[:100]"
   ]
  },
  {
   "cell_type": "code",
   "execution_count": 64,
   "metadata": {
    "collapsed": false
   },
   "outputs": [
    {
     "data": {
      "text/plain": [
       "2268"
      ]
     },
     "execution_count": 64,
     "metadata": {},
     "output_type": "execute_result"
    }
   ],
   "source": [
    "index = content.find(\" E \")\n",
    "index"
   ]
  },
  {
   "cell_type": "code",
   "execution_count": 65,
   "metadata": {
    "collapsed": false
   },
   "outputs": [
    {
     "data": {
      "text/plain": [
       "' E contact [at] dyjh [dot] de'"
      ]
     },
     "execution_count": 65,
     "metadata": {},
     "output_type": "execute_result"
    }
   ],
   "source": [
    "content[index:index+29]"
   ]
  },
  {
   "cell_type": "code",
   "execution_count": 66,
   "metadata": {
    "collapsed": true
   },
   "outputs": [],
   "source": [
    "http.close()"
   ]
  },
  {
   "cell_type": "code",
   "execution_count": 75,
   "metadata": {
    "collapsed": false
   },
   "outputs": [],
   "source": [
    "import urllib.request"
   ]
  },
  {
   "cell_type": "code",
   "execution_count": 90,
   "metadata": {
    "collapsed": false
   },
   "outputs": [
    {
     "data": {
      "text/plain": [
       "'http://chart.finance.yahoo.com/table.csv?g=d&ignore=.csv&s=YHOO&a=01&b=1&c=2014&d=02&e=6&f=2014'"
      ]
     },
     "execution_count": 90,
     "metadata": {},
     "output_type": "execute_result"
    }
   ],
   "source": [
    "# http://chart.finance.yahoo.com/table.csv?s=YHOO&a=10&b=25&c=2016&d=11&e=25&f=2016&g=d&ignore=.csv\n",
    "url = 'http://chart.finance.yahoo.com/table.csv?g=d&ignore=.csv' \n",
    "url += '&s=YHOO&a=01&b=1&c=2014&d=02&e=6&f=2014'\n",
    "url"
   ]
  },
  {
   "cell_type": "code",
   "execution_count": 91,
   "metadata": {
    "collapsed": false
   },
   "outputs": [],
   "source": [
    "connect = urllib.request.urlopen(url)"
   ]
  },
  {
   "cell_type": "code",
   "execution_count": 92,
   "metadata": {
    "collapsed": true
   },
   "outputs": [],
   "source": [
    "data = connect.read()"
   ]
  },
  {
   "cell_type": "code",
   "execution_count": 93,
   "metadata": {
    "collapsed": false
   },
   "outputs": [
    {
     "name": "stdout",
     "output_type": "stream",
     "text": [
      "b'Date,Open,High,Low,Close,Volume,Adj Close\\n2014-03-06,39.599998,39.98,39.50,39.66,10626700,39.66\\n2014-03-05,39.830002,40.150002,39.189999,39.50,12536800,39.50\\n2014-03-04,38.759998,39.790001,38.68,39.630001,16139400,39.630001\\n2014-03-03,37.650002,38.66,37.43,38.25,14714700,38.25\\n2014-02-28,38.549999,39.380001,38.220001,38.669998,16957100,38.669998\\n2014-02-27,37.799999,38.48,37.740002,38.470001,15489400,38.470001\\n2014-02-26,37.349998,38.099998,37.34,37.619999,15778900,37.619999\\n2014-02-25,37.48,37.580002,37.02,37.259998,9756900,37.259998\\n2014-02-24,37.23,37.709999,36.82,37.419998,15738900,37.419998\\n2014-02-21,37.900002,37.959999,37.220001,37.290001,12351900,37.290001\\n2014-02-20,37.830002,38.040001,37.299999,37.790001,11155900,37.790001\\n2014-02-19,38.060001,38.330002,37.68,37.810001,15851900,37.810001\\n2014-02-18,38.310001,38.59,38.09,38.310001,12096400,38.310001\\n2014-02-14,38.43,38.450001,38.110001,38.23,9975800,38.23\\n2014-02-13,37.919998,38.689999,37.790001,38.52,12088100,38.52\\n2014-02-12,38.599998,38.91,38.029999,38.110001,14088500,38.110001\\n2014-02-11,38.150002,38.860001,38.09,38.50,18348000,38.50\\n2014-02-10,38.00,38.130001,37.25,37.759998,17642900,37.759998\\n2014-02-07,36.650002,37.27,36.240002,37.23,16178500,37.23\\n2014-02-06,35.650002,36.75,35.610001,36.240002,14250000,36.240002\\n2014-02-05,35.599998,35.939999,34.990002,35.490002,14022900,35.490002\\n2014-02-04,35.110001,35.860001,34.860001,35.66,21082500,35.66\\n2014-02-03,35.939999,36.009998,34.66,34.900002,22195200,34.900002\\n'\n"
     ]
    }
   ],
   "source": [
    "print(data)"
   ]
  },
  {
   "cell_type": "markdown",
   "metadata": {},
   "source": [
    "## Static Plots"
   ]
  },
  {
   "cell_type": "code",
   "execution_count": 95,
   "metadata": {
    "collapsed": true
   },
   "outputs": [],
   "source": [
    "import numpy as np\n",
    "import pandas as pd\n",
    "%matplotlib inline"
   ]
  },
  {
   "cell_type": "code",
   "execution_count": 96,
   "metadata": {
    "collapsed": true
   },
   "outputs": [],
   "source": [
    "url = 'http://chart.finance.yahoo.com/table.csv?g=d&ignore=.csv' \n",
    "url += '&s=MSFT&a=0&b=1&c=2009'\n",
    "data = pd.read_csv(url, parse_dates=['Date'])"
   ]
  },
  {
   "cell_type": "code",
   "execution_count": 98,
   "metadata": {
    "collapsed": false
   },
   "outputs": [
    {
     "data": {
      "text/html": [
       "<div>\n",
       "<table border=\"1\" class=\"dataframe\">\n",
       "  <thead>\n",
       "    <tr style=\"text-align: right;\">\n",
       "      <th></th>\n",
       "      <th>Date</th>\n",
       "      <th>Open</th>\n",
       "      <th>High</th>\n",
       "      <th>Low</th>\n",
       "      <th>Close</th>\n",
       "      <th>Volume</th>\n",
       "      <th>Adj Close</th>\n",
       "    </tr>\n",
       "  </thead>\n",
       "  <tbody>\n",
       "    <tr>\n",
       "      <th>0</th>\n",
       "      <td>2016-12-23</td>\n",
       "      <td>63.450001</td>\n",
       "      <td>63.540001</td>\n",
       "      <td>62.799999</td>\n",
       "      <td>63.240002</td>\n",
       "      <td>12398000</td>\n",
       "      <td>63.240002</td>\n",
       "    </tr>\n",
       "    <tr>\n",
       "      <th>1</th>\n",
       "      <td>2016-12-22</td>\n",
       "      <td>63.840000</td>\n",
       "      <td>64.099998</td>\n",
       "      <td>63.410000</td>\n",
       "      <td>63.549999</td>\n",
       "      <td>22155200</td>\n",
       "      <td>63.549999</td>\n",
       "    </tr>\n",
       "    <tr>\n",
       "      <th>2</th>\n",
       "      <td>2016-12-21</td>\n",
       "      <td>63.430000</td>\n",
       "      <td>63.700001</td>\n",
       "      <td>63.119999</td>\n",
       "      <td>63.540001</td>\n",
       "      <td>17071800</td>\n",
       "      <td>63.540001</td>\n",
       "    </tr>\n",
       "    <tr>\n",
       "      <th>3</th>\n",
       "      <td>2016-12-20</td>\n",
       "      <td>63.689999</td>\n",
       "      <td>63.799999</td>\n",
       "      <td>63.029999</td>\n",
       "      <td>63.540001</td>\n",
       "      <td>25389900</td>\n",
       "      <td>63.540001</td>\n",
       "    </tr>\n",
       "    <tr>\n",
       "      <th>4</th>\n",
       "      <td>2016-12-19</td>\n",
       "      <td>62.560001</td>\n",
       "      <td>63.770000</td>\n",
       "      <td>62.419998</td>\n",
       "      <td>63.619999</td>\n",
       "      <td>33182800</td>\n",
       "      <td>63.619999</td>\n",
       "    </tr>\n",
       "  </tbody>\n",
       "</table>\n",
       "</div>"
      ],
      "text/plain": [
       "        Date       Open       High        Low      Close    Volume  Adj Close\n",
       "0 2016-12-23  63.450001  63.540001  62.799999  63.240002  12398000  63.240002\n",
       "1 2016-12-22  63.840000  64.099998  63.410000  63.549999  22155200  63.549999\n",
       "2 2016-12-21  63.430000  63.700001  63.119999  63.540001  17071800  63.540001\n",
       "3 2016-12-20  63.689999  63.799999  63.029999  63.540001  25389900  63.540001\n",
       "4 2016-12-19  62.560001  63.770000  62.419998  63.619999  33182800  63.619999"
      ]
     },
     "execution_count": 98,
     "metadata": {},
     "output_type": "execute_result"
    }
   ],
   "source": [
    "data.head()"
   ]
  },
  {
   "cell_type": "code",
   "execution_count": 99,
   "metadata": {
    "collapsed": false
   },
   "outputs": [
    {
     "data": {
      "text/plain": [
       "<matplotlib.axes._subplots.AxesSubplot at 0x18a4820ea90>"
      ]
     },
     "execution_count": 99,
     "metadata": {},
     "output_type": "execute_result"
    },
    {
     "data": {
      "image/png": "[encoded data removed]",
      "text/plain": [
       "<matplotlib.figure.Figure at 0x18a4820ed30>"
      ]
     },
     "metadata": {},
     "output_type": "display_data"
    }
   ],
   "source": [
    "data.plot(x='Date',y='Close')"
   ]
  },
  {
   "cell_type": "markdown",
   "metadata": {},
   "source": [
    "## Bokeh Plotting"
   ]
  },
  {
   "cell_type": "code",
   "execution_count": 100,
   "metadata": {
    "collapsed": true
   },
   "outputs": [],
   "source": [
    "import bokeh.plotting as bp"
   ]
  },
  {
   "cell_type": "code",
   "execution_count": 113,
   "metadata": {
    "collapsed": false
   },
   "outputs": [
    {
     "data": {
      "text/html": [
       "\n",
       "    <div class=\"bk-root\">\n",
       "        <a href=\"http://bokeh.pydata.org\" target=\"_blank\" class=\"bk-logo bk-logo-small bk-logo-notebook\"></a>\n",
       "        <span id=\"cc35a14d-c2d1-4465-a68b-e3a81abf2135\">Loading BokehJS ...</span>\n",
       "    </div>"
      ]
     },
     "metadata": {},
     "output_type": "display_data"
    },
    {
     "data": {
      "application/javascript": [
       "\n",
       "(function(global) {\n",
       "  function now() {\n",
       "    return new Date();\n",
       "  }\n",
       "\n",
       "  var force = \"1\";\n",
       "\n",
       "  if (typeof (window._bokeh_onload_callbacks) === \"undefined\" || force !== \"\") {\n",
       "    window._bokeh_onload_callbacks = [];\n",
       "    window._bokeh_is_loading = undefined;\n",
       "  }\n",
       "\n",
       "\n",
       "  \n",
       "  if (typeof (window._bokeh_timeout) === \"undefined\" || force !== \"\") {\n",
       "    window._bokeh_timeout = Date.now() + 5000;\n",
       "    window._bokeh_failed_load = false;\n",
       "  }\n",
       "\n",
       "  var NB_LOAD_WARNING = {'data': {'text/html':\n",
       "     \"<div style='background-color: #fdd'>\\n\"+\n",
       "     \"<p>\\n\"+\n",
       "     \"BokehJS does not appear to have successfully loaded. If loading BokehJS from CDN, this \\n\"+\n",
       "     \"may be due to a slow or bad network connection. Possible fixes:\\n\"+\n",
       "     \"</p>\\n\"+\n",
       "     \"<ul>\\n\"+\n",
       "     \"<li>re-rerun `output_notebook()` to attempt to load from CDN again, or</li>\\n\"+\n",
       "     \"<li>use INLINE resources instead, as so:</li>\\n\"+\n",
       "     \"</ul>\\n\"+\n",
       "     \"<code>\\n\"+\n",
       "     \"from bokeh.resources import INLINE\\n\"+\n",
       "     \"output_notebook(resources=INLINE)\\n\"+\n",
       "     \"</code>\\n\"+\n",
       "     \"</div>\"}};\n",
       "\n",
       "  function display_loaded() {\n",
       "    if (window.Bokeh !== undefined) {\n",
       "      Bokeh.$(\"#cc35a14d-c2d1-4465-a68b-e3a81abf2135\").text(\"BokehJS successfully loaded.\");\n",
       "    } else if (Date.now() < window._bokeh_timeout) {\n",
       "      setTimeout(display_loaded, 100)\n",
       "    }\n",
       "  }\n",
       "\n",
       "  function run_callbacks() {\n",
       "    window._bokeh_onload_callbacks.forEach(function(callback) { callback() });\n",
       "    delete window._bokeh_onload_callbacks\n",
       "    console.info(\"Bokeh: all callbacks have finished\");\n",
       "  }\n",
       "\n",
       "  function load_libs(js_urls, callback) {\n",
       "    window._bokeh_onload_callbacks.push(callback);\n",
       "    if (window._bokeh_is_loading > 0) {\n",
       "      console.log(\"Bokeh: BokehJS is being loaded, scheduling callback at\", now());\n",
       "      return null;\n",
       "    }\n",
       "    if (js_urls == null || js_urls.length === 0) {\n",
       "      run_callbacks();\n",
       "      return null;\n",
       "    }\n",
       "    console.log(\"Bokeh: BokehJS not loaded, scheduling load and callback at\", now());\n",
       "    window._bokeh_is_loading = js_urls.length;\n",
       "    for (var i = 0; i < js_urls.length; i++) {\n",
       "      var url = js_urls[i];\n",
       "      var s = document.createElement('script');\n",
       "      s.src = url;\n",
       "      s.async = false;\n",
       "      s.onreadystatechange = s.onload = function() {\n",
       "        window._bokeh_is_loading--;\n",
       "        if (window._bokeh_is_loading === 0) {\n",
       "          console.log(\"Bokeh: all BokehJS libraries loaded\");\n",
       "          run_callbacks()\n",
       "        }\n",
       "      };\n",
       "      s.onerror = function() {\n",
       "        console.warn(\"failed to load library \" + url);\n",
       "      };\n",
       "      console.log(\"Bokeh: injecting script tag for BokehJS library: \", url);\n",
       "      document.getElementsByTagName(\"head\")[0].appendChild(s);\n",
       "    }\n",
       "  };var element = document.getElementById(\"cc35a14d-c2d1-4465-a68b-e3a81abf2135\");\n",
       "  if (element == null) {\n",
       "    console.log(\"Bokeh: ERROR: autoload.js configured with elementid 'cc35a14d-c2d1-4465-a68b-e3a81abf2135' but no matching script tag was found. \")\n",
       "    return false;\n",
       "  }\n",
       "\n",
       "  var js_urls = ['https://cdn.pydata.org/bokeh/release/bokeh-0.12.2.min.js', 'https://cdn.pydata.org/bokeh/release/bokeh-widgets-0.12.2.min.js', 'https://cdn.pydata.org/bokeh/release/bokeh-compiler-0.12.2.min.js'];\n",
       "\n",
       "  var inline_js = [\n",
       "    function(Bokeh) {\n",
       "      Bokeh.set_log_level(\"info\");\n",
       "    },\n",
       "    \n",
       "    function(Bokeh) {\n",
       "      \n",
       "      Bokeh.$(\"#cc35a14d-c2d1-4465-a68b-e3a81abf2135\").text(\"BokehJS is loading...\");\n",
       "    },\n",
       "    function(Bokeh) {\n",
       "      console.log(\"Bokeh: injecting CSS: https://cdn.pydata.org/bokeh/release/bokeh-0.12.2.min.css\");\n",
       "      Bokeh.embed.inject_css(\"https://cdn.pydata.org/bokeh/release/bokeh-0.12.2.min.css\");\n",
       "      console.log(\"Bokeh: injecting CSS: https://cdn.pydata.org/bokeh/release/bokeh-widgets-0.12.2.min.css\");\n",
       "      Bokeh.embed.inject_css(\"https://cdn.pydata.org/bokeh/release/bokeh-widgets-0.12.2.min.css\");\n",
       "    }\n",
       "  ];\n",
       "\n",
       "  function run_inline_js() {\n",
       "    \n",
       "    if ((window.Bokeh !== undefined) || (force === \"1\")) {\n",
       "      for (var i = 0; i < inline_js.length; i++) {\n",
       "        inline_js[i](window.Bokeh);\n",
       "      }if (force === \"1\") {\n",
       "        display_loaded();\n",
       "      }} else if (Date.now() < window._bokeh_timeout) {\n",
       "      setTimeout(run_inline_js, 100);\n",
       "    } else if (!window._bokeh_failed_load) {\n",
       "      console.log(\"Bokeh: BokehJS failed to load within specified timeout.\");\n",
       "      window._bokeh_failed_load = true;\n",
       "    } else if (!force) {\n",
       "      var cell = $(\"#cc35a14d-c2d1-4465-a68b-e3a81abf2135\").parents('.cell').data().cell;\n",
       "      cell.output_area.append_execute_result(NB_LOAD_WARNING)\n",
       "    }\n",
       "\n",
       "  }\n",
       "\n",
       "  if (window._bokeh_is_loading === 0) {\n",
       "    console.log(\"Bokeh: BokehJS loaded, going straight to plotting\");\n",
       "    run_inline_js();\n",
       "  } else {\n",
       "    load_libs(js_urls, function() {\n",
       "      console.log(\"Bokeh: BokehJS plotting callback run at\", now());\n",
       "      run_inline_js();\n",
       "    });\n",
       "  }\n",
       "}(this));"
      ]
     },
     "metadata": {},
     "output_type": "display_data"
    }
   ],
   "source": [
    "# bp.output_file(\"msft_1.html\",title=\"Bokeh Example (static)\")\n",
    "#use: bp.output_notebook(\"default\")\n",
    "#for output  within a Jupyter notebook\n",
    "bp.output_notebook()"
   ]
  },
  {
   "cell_type": "code",
   "execution_count": 115,
   "metadata": {
    "collapsed": false
   },
   "outputs": [
    {
     "data": {
      "text/html": [
       "\n",
       "\n",
       "    <div class=\"bk-root\">\n",
       "        <div class=\"plotdiv\" id=\"6835030a-9e73-4245-966a-1b2213ae2d94\"></div>\n",
       "    </div>\n",
       "<script type=\"text/javascript\">\n",
       "  \n",
       "  (function(global) {\n",
       "    function now() {\n",
       "      return new Date();\n",
       "    }\n",
       "  \n",
       "    var force = \"\";\n",
       "  \n",
       "    if (typeof (window._bokeh_onload_callbacks) === \"undefined\" || force !== \"\") {\n",
       "      window._bokeh_onload_callbacks = [];\n",
       "      window._bokeh_is_loading = undefined;\n",
       "    }\n",
       "  \n",
       "  \n",
       "    \n",
       "    if (typeof (window._bokeh_timeout) === \"undefined\" || force !== \"\") {\n",
       "      window._bokeh_timeout = Date.now() + 0;\n",
       "      window._bokeh_failed_load = false;\n",
       "    }\n",
       "  \n",
       "    var NB_LOAD_WARNING = {'data': {'text/html':\n",
       "       \"<div style='background-color: #fdd'>\\n\"+\n",
       "       \"<p>\\n\"+\n",
       "       \"BokehJS does not appear to have successfully loaded. If loading BokehJS from CDN, this \\n\"+\n",
       "       \"may be due to a slow or bad network connection. Possible fixes:\\n\"+\n",
       "       \"</p>\\n\"+\n",
       "       \"<ul>\\n\"+\n",
       "       \"<li>re-rerun `output_notebook()` to attempt to load from CDN again, or</li>\\n\"+\n",
       "       \"<li>use INLINE resources instead, as so:</li>\\n\"+\n",
       "       \"</ul>\\n\"+\n",
       "       \"<code>\\n\"+\n",
       "       \"from bokeh.resources import INLINE\\n\"+\n",
       "       \"output_notebook(resources=INLINE)\\n\"+\n",
       "       \"</code>\\n\"+\n",
       "       \"</div>\"}};\n",
       "  \n",
       "    function display_loaded() {\n",
       "      if (window.Bokeh !== undefined) {\n",
       "        Bokeh.$(\"#6835030a-9e73-4245-966a-1b2213ae2d94\").text(\"BokehJS successfully loaded.\");\n",
       "      } else if (Date.now() < window._bokeh_timeout) {\n",
       "        setTimeout(display_loaded, 100)\n",
       "      }\n",
       "    }\n",
       "  \n",
       "    function run_callbacks() {\n",
       "      window._bokeh_onload_callbacks.forEach(function(callback) { callback() });\n",
       "      delete window._bokeh_onload_callbacks\n",
       "      console.info(\"Bokeh: all callbacks have finished\");\n",
       "    }\n",
       "  \n",
       "    function load_libs(js_urls, callback) {\n",
       "      window._bokeh_onload_callbacks.push(callback);\n",
       "      if (window._bokeh_is_loading > 0) {\n",
       "        console.log(\"Bokeh: BokehJS is being loaded, scheduling callback at\", now());\n",
       "        return null;\n",
       "      }\n",
       "      if (js_urls == null || js_urls.length === 0) {\n",
       "        run_callbacks();\n",
       "        return null;\n",
       "      }\n",
       "      console.log(\"Bokeh: BokehJS not loaded, scheduling load and callback at\", now());\n",
       "      window._bokeh_is_loading = js_urls.length;\n",
       "      for (var i = 0; i < js_urls.length; i++) {\n",
       "        var url = js_urls[i];\n",
       "        var s = document.createElement('script');\n",
       "        s.src = url;\n",
       "        s.async = false;\n",
       "        s.onreadystatechange = s.onload = function() {\n",
       "          window._bokeh_is_loading--;\n",
       "          if (window._bokeh_is_loading === 0) {\n",
       "            console.log(\"Bokeh: all BokehJS libraries loaded\");\n",
       "            run_callbacks()\n",
       "          }\n",
       "        };\n",
       "        s.onerror = function() {\n",
       "          console.warn(\"failed to load library \" + url);\n",
       "        };\n",
       "        console.log(\"Bokeh: injecting script tag for BokehJS library: \", url);\n",
       "        document.getElementsByTagName(\"head\")[0].appendChild(s);\n",
       "      }\n",
       "    };var element = document.getElementById(\"6835030a-9e73-4245-966a-1b2213ae2d94\");\n",
       "    if (element == null) {\n",
       "      console.log(\"Bokeh: ERROR: autoload.js configured with elementid '6835030a-9e73-4245-966a-1b2213ae2d94' but no matching script tag was found. \")\n",
       "      return false;\n",
       "    }\n",
       "  \n",
       "    var js_urls = [];\n",
       "  \n",
       "    var inline_js = [\n",
       "      function(Bokeh) {\n",
       "        Bokeh.$(function() {\n",
       "            var docs_json = {\"5d040a29-0b61-423b-90eb-42a0dc3cf299\":{\"roots\":{\"references\":[{\"attributes\":{\"callback\":null},\"id\":\"8c2aec04-8098-4e43-b132-bf15dc876830\",\"type\":\"DataRange1d\"},{\"attributes\":{\"legends\":[[\"MSFT\",[{\"id\":\"17a8628a-a426-4952-b2a9-05ec0cf859ad\",\"type\":\"GlyphRenderer\"}]]],\"plot\":{\"id\":\"1f5fcf0b-2fa8-425d-a119-1b5d6d2287d4\",\"subtype\":\"Figure\",\"type\":\"Plot\"}},\"id\":\"3f87d1e8-4103-4b02-9e0a-260556823d4a\",\"type\":\"Legend\"},{\"attributes\":{\"num_minor_ticks\":5},\"id\":\"d766407f-0b8e-4134-b1df-30179be8d452\",\"type\":\"DatetimeTicker\"},{\"attributes\":{\"days\":[1,15]},\"id\":\"046ed1be-f6b7-4a0c-b796-961f4ec05c4f\",\"type\":\"DaysTicker\"},{\"attributes\":{\"bottom_units\":\"screen\",\"fill_alpha\":{\"value\":0.5},\"fill_color\":{\"value\":\"lightgrey\"},\"left_units\":\"screen\",\"level\":\"overlay\",\"line_alpha\":{\"value\":1.0},\"line_color\":{\"value\":\"black\"},\"line_dash\":[4,4],\"line_width\":{\"value\":2},\"plot\":null,\"render_mode\":\"css\",\"right_units\":\"screen\",\"top_units\":\"screen\"},\"id\":\"ab3d5fe7-6d53-4cce-ae99-e9ccf87c160c\",\"type\":\"BoxAnnotation\"},{\"attributes\":{\"below\":[{\"id\":\"428152ee-1f6a-4ebd-9b08-2d2240472b28\",\"type\":\"DatetimeAxis\"}],\"left\":[{\"id\":\"5b16b3db-f85e-407c-a772-750650686409\",\"type\":\"LinearAxis\"}],\"renderers\":[{\"id\":\"428152ee-1f6a-4ebd-9b08-2d2240472b28\",\"type\":\"DatetimeAxis\"},{\"id\":\"2fb15e21-4bf7-4b41-ae35-51a41c07a240\",\"type\":\"Grid\"},{\"id\":\"5b16b3db-f85e-407c-a772-750650686409\",\"type\":\"LinearAxis\"},{\"id\":\"eaa5b251-f4ca-416a-89b6-0eff5417f12b\",\"type\":\"Grid\"},{\"id\":\"ab3d5fe7-6d53-4cce-ae99-e9ccf87c160c\",\"type\":\"BoxAnnotation\"},{\"id\":\"3f87d1e8-4103-4b02-9e0a-260556823d4a\",\"type\":\"Legend\"},{\"id\":\"17a8628a-a426-4952-b2a9-05ec0cf859ad\",\"type\":\"GlyphRenderer\"}],\"title\":{\"id\":\"81ac9e19-ec42-4b82-b740-5d6e947bdf95\",\"type\":\"Title\"},\"tool_events\":{\"id\":\"a3edd778-e90b-4e6e-aa1a-fc37d5680a88\",\"type\":\"ToolEvents\"},\"toolbar\":{\"id\":\"9e59cd6c-6ca9-4572-b783-8896d2e7ba92\",\"type\":\"Toolbar\"},\"x_range\":{\"id\":\"8c2aec04-8098-4e43-b132-bf15dc876830\",\"type\":\"DataRange1d\"},\"y_range\":{\"id\":\"9dac9264-09c7-43d8-993e-5e08c396c1a6\",\"type\":\"DataRange1d\"}},\"id\":\"1f5fcf0b-2fa8-425d-a119-1b5d6d2287d4\",\"subtype\":\"Figure\",\"type\":\"Plot\"},{\"attributes\":{\"plot\":null,\"text\":\"Historical Stock Quotes\"},\"id\":\"81ac9e19-ec42-4b82-b740-5d6e947bdf95\",\"type\":\"Title\"},{\"attributes\":{\"days\":[1,8,15,22]},\"id\":\"5f387c63-1f1e-40ae-b5fe-ab7d22b80d84\",\"type\":\"DaysTicker\"},{\"attributes\":{\"months\":[0,6]},\"id\":\"0992a68c-4a9e-4669-86d1-be9a61172a66\",\"type\":\"MonthsTicker\"},{\"attributes\":{\"dimension\":1,\"plot\":{\"id\":\"1f5fcf0b-2fa8-425d-a119-1b5d6d2287d4\",\"subtype\":\"Figure\",\"type\":\"Plot\"},\"ticker\":{\"id\":\"2bedb9a6-6b70-4b29-9094-ad8f84b1dcb4\",\"type\":\"BasicTicker\"}},\"id\":\"eaa5b251-f4ca-416a-89b6-0eff5417f12b\",\"type\":\"Grid\"},{\"attributes\":{\"plot\":{\"id\":\"1f5fcf0b-2fa8-425d-a119-1b5d6d2287d4\",\"subtype\":\"Figure\",\"type\":\"Plot\"}},\"id\":\"555f17cb-1dca-488f-9d48-bab1f0a39b15\",\"type\":\"WheelZoomTool\"},{\"attributes\":{\"axis_label\":\"Date\",\"formatter\":{\"id\":\"2a8ea553-0cd6-4caf-83ef-65f8a8d3a6fb\",\"type\":\"DatetimeTickFormatter\"},\"plot\":{\"id\":\"1f5fcf0b-2fa8-425d-a119-1b5d6d2287d4\",\"subtype\":\"Figure\",\"type\":\"Plot\"},\"ticker\":{\"id\":\"d766407f-0b8e-4134-b1df-30179be8d452\",\"type\":\"DatetimeTicker\"}},\"id\":\"428152ee-1f6a-4ebd-9b08-2d2240472b28\",\"type\":\"DatetimeAxis\"},{\"attributes\":{\"plot\":{\"id\":\"1f5fcf0b-2fa8-425d-a119-1b5d6d2287d4\",\"subtype\":\"Figure\",\"type\":\"Plot\"}},\"id\":\"e60f809e-bd49-413e-b071-8053d64aa2dd\",\"type\":\"SaveTool\"},{\"attributes\":{\"days\":[1,2,3,4,5,6,7,8,9,10,11,12,13,14,15,16,17,18,19,20,21,22,23,24,25,26,27,28,29,30,31]},\"id\":\"ff757110-56bd-46db-8aa6-e5625aa44511\",\"type\":\"DaysTicker\"},{\"attributes\":{\"callback\":null,\"column_names\":[\"y\",\"x\"],\"data\":{\"x\":[1482451200000.0,1482364800000.0,1482278400000.0,1482192000000.0,1482105600000.0,1481846400000.0,1481760000000.0,1481673600000.0,1481587200000.0,1481500800000.0,1481241600000.0,1481155200000.0,1481068800000.0,1480982400000.0,1480896000000.0,1480636800000.0,1480550400000.0,1480464000000.0,1480377600000.0,1480291200000.0,1480032000000.0,1479859200000.0,1479772800000.0,1479686400000.0,1479427200000.0,1479340800000.0,1479254400000.0,1479168000000.0,1479081600000.0,1478822400000.0,1478736000000.0,1478649600000.0,1478563200000.0,1478476800000.0,1478217600000.0,1478131200000.0,1478044800000.0,1477958400000.0,1477872000000.0,1477612800000.0,1477526400000.0,1477440000000.0,1477353600000.0,1477267200000.0,1477008000000.0,1476921600000.0,1476835200000.0,1476748800000.0,1476662400000.0,1476403200000.0,1476316800000.0,1476230400000.0,1476144000000.0,1476057600000.0,1475798400000.0,1475712000000.0,1475625600000.0,1475539200000.0,1475452800000.0,1475193600000.0,1475107200000.0,1475020800000.0,1474934400000.0,1474848000000.0,1474588800000.0,1474502400000.0,1474416000000.0,1474329600000.0,1474243200000.0,1473984000000.0,1473897600000.0,1473811200000.0,1473724800000.0,1473638400000.0,1473379200000.0,1473292800000.0,1473206400000.0,1473120000000.0,1472774400000.0,1472688000000.0,1472601600000.0,1472515200000.0,1472428800000.0,1472169600000.0,1472083200000.0,1471996800000.0,1471910400000.0,1471824000000.0,1471564800000.0,1471478400000.0,1471392000000.0,1471305600000.0,1471219200000.0,1470960000000.0,1470873600000.0,1470787200000.0,1470700800000.0,1470614400000.0,1470355200000.0,1470268800000.0,1470182400000.0,1470096000000.0,1470009600000.0,1469750400000.0,1469664000000.0,1469577600000.0,1469491200000.0,1469404800000.0,1469145600000.0,1469059200000.0,1468972800000.0,1468886400000.0,1468800000000.0,1468540800000.0,1468454400000.0,1468368000000.0,1468281600000.0,1468195200000.0,1467936000000.0,1467849600000.0,1467763200000.0,1467676800000.0,1467331200000.0,1467244800000.0,1467158400000.0,1467072000000.0,1466985600000.0,1466726400000.0,1466640000000.0,1466553600000.0,1466467200000.0,1466380800000.0,1466121600000.0,1466035200000.0,1465948800000.0,1465862400000.0,1465776000000.0,1465516800000.0,1465430400000.0,1465344000000.0,1465257600000.0,1465171200000.0,1464912000000.0,1464825600000.0,1464739200000.0,1464652800000.0,1464307200000.0,1464220800000.0,1464134400000.0,1464048000000.0,1463961600000.0,1463702400000.0,1463616000000.0,1463529600000.0,1463443200000.0,1463356800000.0,1463097600000.0,1463011200000.0,1462924800000.0,1462838400000.0,1462752000000.0,1462492800000.0,1462406400000.0,1462320000000.0,1462233600000.0,1462147200000.0,1461888000000.0,1461801600000.0,1461715200000.0,1461628800000.0,1461542400000.0,1461283200000.0,1461196800000.0,1461110400000.0,1461024000000.0,1460937600000.0,1460678400000.0,1460592000000.0,1460505600000.0,1460419200000.0,1460332800000.0,1460073600000.0,1459987200000.0,1459900800000.0,1459814400000.0,1459728000000.0,1459468800000.0,1459382400000.0,1459296000000.0,1459209600000.0,1459123200000.0,1458777600000.0,1458691200000.0,1458604800000.0,1458518400000.0,1458259200000.0,1458172800000.0,1458086400000.0,1458000000000.0,1457913600000.0,1457654400000.0,1457568000000.0,1457481600000.0,1457395200000.0,1457308800000.0,1457049600000.0,1456963200000.0,1456876800000.0,1456790400000.0,1456704000000.0,1456444800000.0,1456358400000.0,1456272000000.0,1456185600000.0,1456099200000.0,1455840000000.0,1455753600000.0,1455667200000.0,1455580800000.0,1455235200000.0,1455148800000.0,1455062400000.0,1454976000000.0,1454889600000.0,1454630400000.0,1454544000000.0,1454457600000.0,1454371200000.0,1454284800000.0,1454025600000.0,1453939200000.0,1453852800000.0,1453766400000.0,1453680000000.0,1453420800000.0,1453334400000.0,1453248000000.0,1453161600000.0,1452816000000.0,1452729600000.0,1452643200000.0,1452556800000.0,1452470400000.0,1452211200000.0,1452124800000.0,1452038400000.0,1451952000000.0,1451865600000.0,1451520000000.0,1451433600000.0,1451347200000.0,1451260800000.0,1450915200000.0,1450828800000.0,1450742400000.0,1450656000000.0,1450396800000.0,1450310400000.0,1450224000000.0,1450137600000.0,1450051200000.0,1449792000000.0,1449705600000.0,1449619200000.0,1449532800000.0,1449446400000.0,1449187200000.0,1449100800000.0,1449014400000.0,1448928000000.0,1448841600000.0,1448582400000.0,1448409600000.0,1448323200000.0,1448236800000.0,1447977600000.0,1447891200000.0,1447804800000.0,1447718400000.0,1447632000000.0,1447372800000.0,1447286400000.0,1447200000000.0,1447113600000.0,1447027200000.0,1446768000000.0,1446681600000.0,1446595200000.0,1446508800000.0,1446422400000.0,1446163200000.0,1446076800000.0,1445990400000.0,1445904000000.0,1445817600000.0,1445558400000.0,1445472000000.0,1445385600000.0,1445299200000.0,1445212800000.0,1444953600000.0,1444867200000.0,1444780800000.0,1444694400000.0,1444608000000.0,1444348800000.0,1444262400000.0,1444176000000.0,1444089600000.0,1444003200000.0,1443744000000.0,1443657600000.0,1443571200000.0,1443484800000.0,1443398400000.0,1443139200000.0,1443052800000.0,1442966400000.0,1442880000000.0,1442793600000.0,1442534400000.0,1442448000000.0,1442361600000.0,1442275200000.0,1442188800000.0,1441929600000.0,1441843200000.0,1441756800000.0,1441670400000.0,1441324800000.0,1441238400000.0,1441152000000.0,1441065600000.0,1440979200000.0,1440720000000.0,1440633600000.0,1440547200000.0,1440460800000.0,1440374400000.0,1440115200000.0,1440028800000.0,1439942400000.0,1439856000000.0,1439769600000.0,1439510400000.0,1439424000000.0,1439337600000.0,1439251200000.0,1439164800000.0,1438905600000.0,1438819200000.0,1438732800000.0,1438646400000.0,1438560000000.0,1438300800000.0,1438214400000.0,1438128000000.0,1438041600000.0,1437955200000.0,1437696000000.0,1437609600000.0,1437523200000.0,1437436800000.0,1437350400000.0,1437091200000.0,1437004800000.0,1436918400000.0,1436832000000.0,1436745600000.0,1436486400000.0,1436400000000.0,1436313600000.0,1436227200000.0,1436140800000.0,1435795200000.0,1435708800000.0,1435622400000.0,1435536000000.0,1435276800000.0,1435190400000.0,1435104000000.0,1435017600000.0,1434931200000.0,1434672000000.0,1434585600000.0,1434499200000.0,1434412800000.0,1434326400000.0,1434067200000.0,1433980800000.0,1433894400000.0,1433808000000.0,1433721600000.0,1433462400000.0,1433376000000.0,1433289600000.0,1433203200000.0,1433116800000.0,1432857600000.0,1432771200000.0,1432684800000.0,1432598400000.0,1432252800000.0,1432166400000.0,1432080000000.0,1431993600000.0,1431907200000.0,1431648000000.0,1431561600000.0,1431475200000.0,1431388800000.0,1431302400000.0,1431043200000.0,1430956800000.0,1430870400000.0,1430784000000.0,1430697600000.0,1430438400000.0,1430352000000.0,1430265600000.0,1430179200000.0,1430092800000.0,1429833600000.0,1429747200000.0,1429660800000.0,1429574400000.0,1429488000000.0,1429228800000.0,1429142400000.0,1429056000000.0,1428969600000.0,1428883200000.0,1428624000000.0,1428537600000.0,1428451200000.0,1428364800000.0,1428278400000.0,1427932800000.0,1427846400000.0,1427760000000.0,1427673600000.0,1427414400000.0,1427328000000.0,1427241600000.0,1427155200000.0,1427068800000.0,1426809600000.0,1426723200000.0,1426636800000.0,1426550400000.0,1426464000000.0,1426204800000.0,1426118400000.0,1426032000000.0,1425945600000.0,1425859200000.0,1425600000000.0,1425513600000.0,1425427200000.0,1425340800000.0,1425254400000.0,1424995200000.0,1424908800000.0,1424822400000.0,1424736000000.0,1424649600000.0,1424390400000.0,1424304000000.0,1424217600000.0,1424131200000.0,1423785600000.0,1423699200000.0,1423612800000.0,1423526400000.0,1423440000000.0,1423180800000.0,1423094400000.0,1423008000000.0,1422921600000.0,1422835200000.0,1422576000000.0,1422489600000.0,1422403200000.0,1422316800000.0,1422230400000.0,1421971200000.0,1421884800000.0,1421798400000.0,1421712000000.0,1421366400000.0,1421280000000.0,1421193600000.0,1421107200000.0,1421020800000.0,1420761600000.0,1420675200000.0,1420588800000.0,1420502400000.0,1420416000000.0,1420156800000.0,1419984000000.0,1419897600000.0,1419811200000.0,1419552000000.0,1419379200000.0,1419292800000.0,1419206400000.0,1418947200000.0,1418860800000.0,1418774400000.0,1418688000000.0,1418601600000.0,1418342400000.0,1418256000000.0,1418169600000.0,1418083200000.0,1417996800000.0,1417737600000.0,1417651200000.0,1417564800000.0,1417478400000.0,1417392000000.0,1417132800000.0,1416960000000.0,1416873600000.0,1416787200000.0,1416528000000.0,1416441600000.0,1416355200000.0,1416268800000.0,1416182400000.0,1415923200000.0,1415836800000.0,1415750400000.0,1415664000000.0,1415577600000.0,1415318400000.0,1415232000000.0,1415145600000.0,1415059200000.0,1414972800000.0,1414713600000.0,1414627200000.0,1414540800000.0,1414454400000.0,1414368000000.0,1414108800000.0,1414022400000.0,1413936000000.0,1413849600000.0,1413763200000.0,1413504000000.0,1413417600000.0,1413331200000.0,1413244800000.0,1413158400000.0,1412899200000.0,1412812800000.0,1412726400000.0,1412640000000.0,1412553600000.0,1412294400000.0,1412208000000.0,1412121600000.0,1412035200000.0,1411948800000.0,1411689600000.0,1411603200000.0,1411516800000.0,1411430400000.0,1411344000000.0,1411084800000.0,1410998400000.0,1410912000000.0,1410825600000.0,1410739200000.0,1410480000000.0,1410393600000.0,1410307200000.0,1410220800000.0,1410134400000.0,1409875200000.0,1409788800000.0,1409702400000.0,1409616000000.0,1409270400000.0,1409184000000.0,1409097600000.0,1409011200000.0,1408924800000.0,1408665600000.0,1408579200000.0,1408492800000.0,1408406400000.0,1408320000000.0,1408060800000.0,1407974400000.0,1407888000000.0,1407801600000.0,1407715200000.0,1407456000000.0,1407369600000.0,1407283200000.0,1407196800000.0,1407110400000.0,1406851200000.0,1406764800000.0,1406678400000.0,1406592000000.0,1406505600000.0,1406246400000.0,1406160000000.0,1406073600000.0,1405987200000.0,1405900800000.0,1405641600000.0,1405555200000.0,1405468800000.0,1405382400000.0,1405296000000.0,1405036800000.0,1404950400000.0,1404864000000.0,1404777600000.0,1404691200000.0,1404345600000.0,1404259200000.0,1404172800000.0,1404086400000.0,1403827200000.0,1403740800000.0,1403654400000.0,1403568000000.0,1403481600000.0,1403222400000.0,1403136000000.0,1403049600000.0,1402963200000.0,1402876800000.0,1402617600000.0,1402531200000.0,1402444800000.0,1402358400000.0,1402272000000.0,1402012800000.0,1401926400000.0,1401840000000.0,1401753600000.0,1401667200000.0,1401408000000.0,1401321600000.0,1401235200000.0,1401148800000.0,1400803200000.0,1400716800000.0,1400630400000.0,1400544000000.0,1400457600000.0,1400198400000.0,1400112000000.0,1400025600000.0,1399939200000.0,1399852800000.0,1399593600000.0,1399507200000.0,1399420800000.0,1399334400000.0,1399248000000.0,1398988800000.0,1398902400000.0,1398816000000.0,1398729600000.0,1398643200000.0,1398384000000.0,1398297600000.0,1398211200000.0,1398124800000.0,1398038400000.0,1397692800000.0,1397606400000.0,1397520000000.0,1397433600000.0,1397174400000.0,1397088000000.0,1397001600000.0,1396915200000.0,1396828800000.0,1396569600000.0,1396483200000.0,1396396800000.0,1396310400000.0,1396224000000.0,1395964800000.0,1395878400000.0,1395792000000.0,1395705600000.0,1395619200000.0,1395360000000.0,1395273600000.0,1395187200000.0,1395100800000.0,1395014400000.0,1394755200000.0,1394668800000.0,1394582400000.0,1394496000000.0,1394409600000.0,1394150400000.0,1394064000000.0,1393977600000.0,1393891200000.0,1393804800000.0,1393545600000.0,1393459200000.0,1393372800000.0,1393286400000.0,1393200000000.0,1392940800000.0,1392854400000.0,1392768000000.0,1392681600000.0,1392336000000.0,1392249600000.0,1392163200000.0,1392076800000.0,1391990400000.0,1391731200000.0,1391644800000.0,1391558400000.0,1391472000000.0,1391385600000.0,1391126400000.0,1391040000000.0,1390953600000.0,1390867200000.0,1390780800000.0,1390521600000.0,1390435200000.0,1390348800000.0,1390262400000.0,1389916800000.0,1389830400000.0,1389744000000.0,1389657600000.0,1389571200000.0,1389312000000.0,1389225600000.0,1389139200000.0,1389052800000.0,1388966400000.0,1388707200000.0,1388620800000.0,1388448000000.0,1388361600000.0,1388102400000.0,1388016000000.0,1387843200000.0,1387756800000.0,1387497600000.0,1387411200000.0,1387324800000.0,1387238400000.0,1387152000000.0,1386892800000.0,1386806400000.0,1386720000000.0,1386633600000.0,1386547200000.0,1386288000000.0,1386201600000.0,1386115200000.0,1386028800000.0,1385942400000.0,1385683200000.0,1385510400000.0,1385424000000.0,1385337600000.0,1385078400000.0,1384992000000.0,1384905600000.0,1384819200000.0,1384732800000.0,1384473600000.0,1384387200000.0,1384300800000.0,1384214400000.0,1384128000000.0,1383868800000.0,1383782400000.0,1383696000000.0,1383609600000.0,1383523200000.0,1383264000000.0,1383177600000.0,1383091200000.0,1383004800000.0,1382918400000.0,1382659200000.0,1382572800000.0,1382486400000.0,1382400000000.0,1382313600000.0,1382054400000.0,1381968000000.0,1381881600000.0,1381795200000.0,1381708800000.0,1381449600000.0,1381363200000.0,1381276800000.0,1381190400000.0,1381104000000.0,1380844800000.0,1380758400000.0,1380672000000.0,1380585600000.0,1380499200000.0,1380240000000.0,1380153600000.0,1380067200000.0,1379980800000.0,1379894400000.0,1379635200000.0,1379548800000.0,1379462400000.0,1379376000000.0,1379289600000.0,1379030400000.0,1378944000000.0,1378857600000.0,1378771200000.0,1378684800000.0,1378425600000.0,1378339200000.0,1378252800000.0,1378166400000.0,1377820800000.0,1377734400000.0,1377648000000.0,1377561600000.0,1377475200000.0,1377216000000.0,1377129600000.0,1377043200000.0,1376956800000.0,1376870400000.0,1376611200000.0,1376524800000.0,1376438400000.0,1376352000000.0,1376265600000.0,1376006400000.0,1375920000000.0,1375833600000.0,1375747200000.0,1375660800000.0,1375401600000.0,1375315200000.0,1375228800000.0,1375142400000.0,1375056000000.0,1374796800000.0,1374710400000.0,1374624000000.0,1374537600000.0,1374451200000.0,1374192000000.0,1374105600000.0,1374019200000.0,1373932800000.0,1373846400000.0,1373587200000.0,1373500800000.0,1373414400000.0,1373328000000.0,1373241600000.0,1372982400000.0,1372809600000.0,1372723200000.0,1372636800000.0,1372377600000.0,1372291200000.0,1372204800000.0,1372118400000.0,1372032000000.0,1371772800000.0,1371686400000.0,1371600000000.0,1371513600000.0,1371427200000.0,1371168000000.0,1371081600000.0,1370995200000.0,1370908800000.0,1370822400000.0,1370563200000.0,1370476800000.0,1370390400000.0,1370304000000.0,1370217600000.0,1369958400000.0,1369872000000.0,1369785600000.0,1369699200000.0,1369353600000.0,1369267200000.0,1369180800000.0,1369094400000.0,1369008000000.0,1368748800000.0,1368662400000.0,1368576000000.0,1368489600000.0,1368403200000.0,1368144000000.0,1368057600000.0,1367971200000.0,1367884800000.0,1367798400000.0,1367539200000.0,1367452800000.0,1367366400000.0,1367280000000.0,1367193600000.0,1366934400000.0,1366848000000.0,1366761600000.0,1366675200000.0,1366588800000.0,1366329600000.0,1366243200000.0,1366156800000.0,1366070400000.0,1365984000000.0,1365724800000.0,1365638400000.0,1365552000000.0,1365465600000.0,1365379200000.0,1365120000000.0,1365033600000.0,1364947200000.0,1364860800000.0,1364774400000.0,1364428800000.0,1364342400000.0,1364256000000.0,1364169600000.0,1363910400000.0,1363824000000.0,1363737600000.0,1363651200000.0,1363564800000.0,1363305600000.0,1363219200000.0,1363132800000.0,1363046400000.0,1362960000000.0,1362700800000.0,1362614400000.0,1362528000000.0,1362441600000.0,1362355200000.0,1362096000000.0,1362009600000.0,1361923200000.0,1361836800000.0,1361750400000.0,1361491200000.0,1361404800000.0,1361318400000.0,1361232000000.0,1360886400000.0,1360800000000.0,1360713600000.0,1360627200000.0,1360540800000.0,1360281600000.0,1360195200000.0,1360108800000.0,1360022400000.0,1359936000000.0,1359676800000.0,1359590400000.0,1359504000000.0,1359417600000.0,1359331200000.0,1359072000000.0,1358985600000.0,1358899200000.0,1358812800000.0,1358467200000.0,1358380800000.0,1358294400000.0,1358208000000.0,1358121600000.0,1357862400000.0,1357776000000.0,1357689600000.0,1357603200000.0,1357516800000.0,1357257600000.0,1357171200000.0,1357084800000.0,1356912000000.0,1356652800000.0,1356566400000.0,1356480000000.0,1356307200000.0,1356048000000.0,1355961600000.0,1355875200000.0,1355788800000.0,1355702400000.0,1355443200000.0,1355356800000.0,1355270400000.0,1355184000000.0,1355097600000.0,1354838400000.0,1354752000000.0,1354665600000.0,1354579200000.0,1354492800000.0,1354233600000.0,1354147200000.0,1354060800000.0,1353974400000.0,1353888000000.0,1353628800000.0,1353456000000.0,1353369600000.0,1353283200000.0,1353024000000.0,1352937600000.0,1352851200000.0,1352764800000.0,1352678400000.0,1352419200000.0,1352332800000.0,1352246400000.0,1352160000000.0,1352073600000.0,1351814400000.0,1351728000000.0,1351641600000.0,1351209600000.0,1351123200000.0,1351036800000.0,1350950400000.0,1350864000000.0,1350604800000.0,1350518400000.0,1350432000000.0,1350345600000.0,1350259200000.0,1350000000000.0,1349913600000.0,1349827200000.0,1349740800000.0,1349654400000.0,1349395200000.0,1349308800000.0,1349222400000.0,1349136000000.0,1349049600000.0,1348790400000.0,1348704000000.0,1348617600000.0,1348531200000.0,1348444800000.0,1348185600000.0,1348099200000.0,1348012800000.0,1347926400000.0,1347840000000.0,1347580800000.0,1347494400000.0,1347408000000.0,1347321600000.0,1347235200000.0,1346976000000.0,1346889600000.0,1346803200000.0,1346716800000.0,1346371200000.0,1346284800000.0,1346198400000.0,1346112000000.0,1346025600000.0,1345766400000.0,1345680000000.0,1345593600000.0,1345507200000.0,1345420800000.0,1345161600000.0,1345075200000.0,1344988800000.0,1344902400000.0,1344816000000.0,1344556800000.0,1344470400000.0,1344384000000.0,1344297600000.0,1344211200000.0,1343952000000.0,1343865600000.0,1343779200000.0,1343692800000.0,1343606400000.0,1343347200000.0,1343260800000.0,1343174400000.0,1343088000000.0,1343001600000.0,1342742400000.0,1342656000000.0,1342569600000.0,1342483200000.0,1342396800000.0,1342137600000.0,1342051200000.0,1341964800000.0,1341878400000.0,1341792000000.0,1341532800000.0,1341446400000.0,1341273600000.0,1341187200000.0,1340928000000.0,1340841600000.0,1340755200000.0,1340668800000.0,1340582400000.0,1340323200000.0,1340236800000.0,1340150400000.0,1340064000000.0,1339977600000.0,1339718400000.0,1339632000000.0,1339545600000.0,1339459200000.0,1339372800000.0,1339113600000.0,1339027200000.0,1338940800000.0,1338854400000.0,1338768000000.0,1338508800000.0,1338422400000.0,1338336000000.0,1338249600000.0,1337904000000.0,1337817600000.0,1337731200000.0,1337644800000.0,1337558400000.0,1337299200000.0,1337212800000.0,1337126400000.0,1337040000000.0,1336953600000.0,1336694400000.0,1336608000000.0,1336521600000.0,1336435200000.0,1336348800000.0,1336089600000.0,1336003200000.0,1335916800000.0,1335830400000.0,1335744000000.0,1335484800000.0,1335398400000.0,1335312000000.0,1335225600000.0,1335139200000.0,1334880000000.0,1334793600000.0,1334707200000.0,1334620800000.0,1334534400000.0,1334275200000.0,1334188800000.0,1334102400000.0,1334016000000.0,1333929600000.0,1333584000000.0,1333497600000.0,1333411200000.0,1333324800000.0,1333065600000.0,1332979200000.0,1332892800000.0,1332806400000.0,1332720000000.0,1332460800000.0,1332374400000.0,1332288000000.0,1332201600000.0,1332115200000.0,1331856000000.0,1331769600000.0,1331683200000.0,1331596800000.0,1331510400000.0,1331251200000.0,1331164800000.0,1331078400000.0,1330992000000.0,1330905600000.0,1330646400000.0,1330560000000.0,1330473600000.0,1330387200000.0,1330300800000.0,1330041600000.0,1329955200000.0,1329868800000.0,1329782400000.0,1329436800000.0,1329350400000.0,1329264000000.0,1329177600000.0,1329091200000.0,1328832000000.0,1328745600000.0,1328659200000.0,1328572800000.0,1328486400000.0,1328227200000.0,1328140800000.0,1328054400000.0,1327968000000.0,1327881600000.0,1327622400000.0,1327536000000.0,1327449600000.0,1327363200000.0,1327276800000.0,1327017600000.0,1326931200000.0,1326844800000.0,1326758400000.0,1326412800000.0,1326326400000.0,1326240000000.0,1326153600000.0,1326067200000.0,1325808000000.0,1325721600000.0,1325635200000.0,1325548800000.0,1325203200000.0,1325116800000.0,1325030400000.0,1324944000000.0,1324598400000.0,1324512000000.0,1324425600000.0,1324339200000.0,1324252800000.0,1323993600000.0,1323907200000.0,1323820800000.0,1323734400000.0,1323648000000.0,1323388800000.0,1323302400000.0,1323216000000.0,1323129600000.0,1323043200000.0,1322784000000.0,1322697600000.0,1322611200000.0,1322524800000.0,1322438400000.0,1322179200000.0,1322006400000.0,1321920000000.0,1321833600000.0,1321574400000.0,1321488000000.0,1321401600000.0,1321315200000.0,1321228800000.0,1320969600000.0,1320883200000.0,1320796800000.0,1320710400000.0,1320624000000.0,1320364800000.0,1320278400000.0,1320192000000.0,1320105600000.0,1320019200000.0,1319760000000.0,1319673600000.0,1319587200000.0,1319500800000.0,1319414400000.0,1319155200000.0,1319068800000.0,1318982400000.0,1318896000000.0,1318809600000.0,1318550400000.0,1318464000000.0,1318377600000.0,1318291200000.0,1318204800000.0,1317945600000.0,1317859200000.0,1317772800000.0,1317686400000.0,1317600000000.0,1317340800000.0,1317254400000.0,1317168000000.0,1317081600000.0,1316995200000.0,1316736000000.0,1316649600000.0,1316563200000.0,1316476800000.0,1316390400000.0,1316131200000.0,1316044800000.0,1315958400000.0,1315872000000.0,1315785600000.0,1315526400000.0,1315440000000.0,1315353600000.0,1315267200000.0,1314921600000.0,1314835200000.0,1314748800000.0,1314662400000.0,1314576000000.0,1314316800000.0,1314230400000.0,1314144000000.0,1314057600000.0,1313971200000.0,1313712000000.0,1313625600000.0,1313539200000.0,1313452800000.0,1313366400000.0,1313107200000.0,1313020800000.0,1312934400000.0,1312848000000.0,1312761600000.0,1312502400000.0,1312416000000.0,1312329600000.0,1312243200000.0,1312156800000.0,1311897600000.0,1311811200000.0,1311724800000.0,1311638400000.0,1311552000000.0,1311292800000.0,1311206400000.0,1311120000000.0,1311033600000.0,1310947200000.0,1310688000000.0,1310601600000.0,1310515200000.0,1310428800000.0,1310342400000.0,1310083200000.0,1309996800000.0,1309910400000.0,1309824000000.0,1309478400000.0,1309392000000.0,1309305600000.0,1309219200000.0,1309132800000.0,1308873600000.0,1308787200000.0,1308700800000.0,1308614400000.0,1308528000000.0,1308268800000.0,1308182400000.0,1308096000000.0,1308009600000.0,1307923200000.0,1307664000000.0,1307577600000.0,1307491200000.0,1307404800000.0,1307318400000.0,1307059200000.0,1306972800000.0,1306886400000.0,1306800000000.0,1306454400000.0,1306368000000.0,1306281600000.0,1306195200000.0,1306108800000.0,1305849600000.0,1305763200000.0,1305676800000.0,1305590400000.0,1305504000000.0,1305244800000.0,1305158400000.0,1305072000000.0,1304985600000.0,1304899200000.0,1304640000000.0,1304553600000.0,1304467200000.0,1304380800000.0,1304294400000.0,1304035200000.0,1303948800000.0,1303862400000.0,1303776000000.0,1303689600000.0,1303344000000.0,1303257600000.0,1303171200000.0,1303084800000.0,1302825600000.0,1302739200000.0,1302652800000.0,1302566400000.0,1302480000000.0,1302220800000.0,1302134400000.0,1302048000000.0,1301961600000.0,1301875200000.0,1301616000000.0,1301529600000.0,1301443200000.0,1301356800000.0,1301270400000.0,1301011200000.0,1300924800000.0,1300838400000.0,1300752000000.0,1300665600000.0,1300406400000.0,1300320000000.0,1300233600000.0,1300147200000.0,1300060800000.0,1299801600000.0,1299715200000.0,1299628800000.0,1299542400000.0,1299456000000.0,1299196800000.0,1299110400000.0,1299024000000.0,1298937600000.0,1298851200000.0,1298592000000.0,1298505600000.0,1298419200000.0,1298332800000.0,1297987200000.0,1297900800000.0,1297814400000.0,1297728000000.0,1297641600000.0,1297382400000.0,1297296000000.0,1297209600000.0,1297123200000.0,1297036800000.0,1296777600000.0,1296691200000.0,1296604800000.0,1296518400000.0,1296432000000.0,1296172800000.0,1296086400000.0,1296000000000.0,1295913600000.0,1295827200000.0,1295568000000.0,1295481600000.0,1295395200000.0,1295308800000.0,1294963200000.0,1294876800000.0,1294790400000.0,1294704000000.0,1294617600000.0,1294358400000.0,1294272000000.0,1294185600000.0,1294099200000.0,1294012800000.0,1293753600000.0,1293667200000.0,1293580800000.0,1293494400000.0,1293408000000.0,1293062400000.0,1292976000000.0,1292889600000.0,1292803200000.0,1292544000000.0,1292457600000.0,1292371200000.0,1292284800000.0,1292198400000.0,1291939200000.0,1291852800000.0,1291766400000.0,1291680000000.0,1291593600000.0,1291334400000.0,1291248000000.0,1291161600000.0,1291075200000.0,1290988800000.0,1290729600000.0,1290556800000.0,1290470400000.0,1290384000000.0,1290124800000.0,1290038400000.0,1289952000000.0,1289865600000.0,1289779200000.0,1289520000000.0,1289433600000.0,1289347200000.0,1289260800000.0,1289174400000.0,1288915200000.0,1288828800000.0,1288742400000.0,1288656000000.0,1288569600000.0,1288310400000.0,1288224000000.0,1288137600000.0,1288051200000.0,1287964800000.0,1287705600000.0,1287619200000.0,1287532800000.0,1287446400000.0,1287360000000.0,1287100800000.0,1287014400000.0,1286928000000.0,1286841600000.0,1286755200000.0,1286496000000.0,1286409600000.0,1286323200000.0,1286236800000.0,1286150400000.0,1285891200000.0,1285804800000.0,1285718400000.0,1285632000000.0,1285545600000.0,1285286400000.0,1285200000000.0,1285113600000.0,1285027200000.0,1284940800000.0,1284681600000.0,1284595200000.0,1284508800000.0,1284422400000.0,1284336000000.0,1284076800000.0,1283990400000.0,1283904000000.0,1283817600000.0,1283472000000.0,1283385600000.0,1283299200000.0,1283212800000.0,1283126400000.0,1282867200000.0,1282780800000.0,1282694400000.0,1282608000000.0,1282521600000.0,1282262400000.0,1282176000000.0,1282089600000.0,1282003200000.0,1281916800000.0,1281657600000.0,1281571200000.0,1281484800000.0,1281398400000.0,1281312000000.0,1281052800000.0,1280966400000.0,1280880000000.0,1280793600000.0,1280707200000.0,1280448000000.0,1280361600000.0,1280275200000.0,1280188800000.0,1280102400000.0,1279843200000.0,1279756800000.0,1279670400000.0,1279584000000.0,1279497600000.0,1279238400000.0,1279152000000.0,1279065600000.0,1278979200000.0,1278892800000.0,1278633600000.0,1278547200000.0,1278460800000.0,1278374400000.0,1278028800000.0,1277942400000.0,1277856000000.0,1277769600000.0,1277683200000.0,1277424000000.0,1277337600000.0,1277251200000.0,1277164800000.0,1277078400000.0,1276819200000.0,1276732800000.0,1276646400000.0,1276560000000.0,1276473600000.0,1276214400000.0,1276128000000.0,1276041600000.0,1275955200000.0,1275868800000.0,1275609600000.0,1275523200000.0,1275436800000.0,1275350400000.0,1275004800000.0,1274918400000.0,1274832000000.0,1274745600000.0,1274659200000.0,1274400000000.0,1274313600000.0,1274227200000.0,1274140800000.0,1274054400000.0,1273795200000.0,1273708800000.0,1273622400000.0,1273536000000.0,1273449600000.0,1273190400000.0,1273104000000.0,1273017600000.0,1272931200000.0,1272844800000.0,1272585600000.0,1272499200000.0,1272412800000.0,1272326400000.0,1272240000000.0,1271980800000.0,1271894400000.0,1271808000000.0,1271721600000.0,1271635200000.0,1271376000000.0,1271289600000.0,1271203200000.0,1271116800000.0,1271030400000.0,1270771200000.0,1270684800000.0,1270598400000.0,1270512000000.0,1270425600000.0,1270080000000.0,1269993600000.0,1269907200000.0,1269820800000.0,1269561600000.0,1269475200000.0,1269388800000.0,1269302400000.0,1269216000000.0,1268956800000.0,1268870400000.0,1268784000000.0,1268697600000.0,1268611200000.0,1268352000000.0,1268265600000.0,1268179200000.0,1268092800000.0,1268006400000.0,1267747200000.0,1267660800000.0,1267574400000.0,1267488000000.0,1267401600000.0,1267142400000.0,1267056000000.0,1266969600000.0,1266883200000.0,1266796800000.0,1266537600000.0,1266451200000.0,1266364800000.0,1266278400000.0,1265932800000.0,1265846400000.0,1265760000000.0,1265673600000.0,1265587200000.0,1265328000000.0,1265241600000.0,1265155200000.0,1265068800000.0,1264982400000.0,1264723200000.0,1264636800000.0,1264550400000.0,1264464000000.0,1264377600000.0,1264118400000.0,1264032000000.0,1263945600000.0,1263859200000.0,1263513600000.0,1263427200000.0,1263340800000.0,1263254400000.0,1263168000000.0,1262908800000.0,1262822400000.0,1262736000000.0,1262649600000.0,1262563200000.0,1262217600000.0,1262131200000.0,1262044800000.0,1261958400000.0,1261612800000.0,1261526400000.0,1261440000000.0,1261353600000.0,1261094400000.0,1261008000000.0,1260921600000.0,1260835200000.0,1260748800000.0,1260489600000.0,1260403200000.0,1260316800000.0,1260230400000.0,1260144000000.0,1259884800000.0,1259798400000.0,1259712000000.0,1259625600000.0,1259539200000.0,1259280000000.0,1259107200000.0,1259020800000.0,1258934400000.0,1258675200000.0,1258588800000.0,1258502400000.0,1258416000000.0,1258329600000.0,1258070400000.0,1257984000000.0,1257897600000.0,1257811200000.0,1257724800000.0,1257465600000.0,1257379200000.0,1257292800000.0,1257206400000.0,1257120000000.0,1256860800000.0,1256774400000.0,1256688000000.0,1256601600000.0,1256515200000.0,1256256000000.0,1256169600000.0,1256083200000.0,1255996800000.0,1255910400000.0,1255651200000.0,1255564800000.0,1255478400000.0,1255392000000.0,1255305600000.0,1255046400000.0,1254960000000.0,1254873600000.0,1254787200000.0,1254700800000.0,1254441600000.0,1254355200000.0,1254268800000.0,1254182400000.0,1254096000000.0,1253836800000.0,1253750400000.0,1253664000000.0,1253577600000.0,1253491200000.0,1253232000000.0,1253145600000.0,1253059200000.0,1252972800000.0,1252886400000.0,1252627200000.0,1252540800000.0,1252454400000.0,1252368000000.0,1252022400000.0,1251936000000.0,1251849600000.0,1251763200000.0,1251676800000.0,1251417600000.0,1251331200000.0,1251244800000.0,1251158400000.0,1251072000000.0,1250812800000.0,1250726400000.0,1250640000000.0,1250553600000.0,1250467200000.0,1250208000000.0,1250121600000.0,1250035200000.0,1249948800000.0,1249862400000.0,1249603200000.0,1249516800000.0,1249430400000.0,1249344000000.0,1249257600000.0,1248998400000.0,1248912000000.0,1248825600000.0,1248739200000.0,1248652800000.0,1248393600000.0,1248307200000.0,1248220800000.0,1248134400000.0,1248048000000.0,1247788800000.0,1247702400000.0,1247616000000.0,1247529600000.0,1247443200000.0,1247184000000.0,1247097600000.0,1247011200000.0,1246924800000.0,1246838400000.0,1246492800000.0,1246406400000.0,1246320000000.0,1246233600000.0,1245974400000.0,1245888000000.0,1245801600000.0,1245715200000.0,1245628800000.0,1245369600000.0,1245283200000.0,1245196800000.0,1245110400000.0,1245024000000.0,1244764800000.0,1244678400000.0,1244592000000.0,1244505600000.0,1244419200000.0,1244160000000.0,1244073600000.0,1243987200000.0,1243900800000.0,1243814400000.0,1243555200000.0,1243468800000.0,1243382400000.0,1243296000000.0,1242950400000.0,1242864000000.0,1242777600000.0,1242691200000.0,1242604800000.0,1242345600000.0,1242259200000.0,1242172800000.0,1242086400000.0,1242000000000.0,1241740800000.0,1241654400000.0,1241568000000.0,1241481600000.0,1241395200000.0,1241136000000.0,1241049600000.0,1240963200000.0,1240876800000.0,1240790400000.0,1240531200000.0,1240444800000.0,1240358400000.0,1240272000000.0,1240185600000.0,1239926400000.0,1239840000000.0,1239753600000.0,1239667200000.0,1239580800000.0,1239235200000.0,1239148800000.0,1239062400000.0,1238976000000.0,1238716800000.0,1238630400000.0,1238544000000.0,1238457600000.0,1238371200000.0,1238112000000.0,1238025600000.0,1237939200000.0,1237852800000.0,1237766400000.0,1237507200000.0,1237420800000.0,1237334400000.0,1237248000000.0,1237161600000.0,1236902400000.0,1236816000000.0,1236729600000.0,1236643200000.0,1236556800000.0,1236297600000.0,1236211200000.0,1236124800000.0,1236038400000.0,1235952000000.0,1235692800000.0,1235606400000.0,1235520000000.0,1235433600000.0,1235347200000.0,1235088000000.0,1235001600000.0,1234915200000.0,1234828800000.0,1234483200000.0,1234396800000.0,1234310400000.0,1234224000000.0,1234137600000.0,1233878400000.0,1233792000000.0,1233705600000.0,1233619200000.0,1233532800000.0,1233273600000.0,1233187200000.0,1233100800000.0,1233014400000.0,1232928000000.0,1232668800000.0,1232582400000.0,1232496000000.0,1232409600000.0,1232064000000.0,1231977600000.0,1231891200000.0,1231804800000.0,1231718400000.0,1231459200000.0,1231372800000.0,1231286400000.0,1231200000000.0,1231113600000.0,1230854400000.0],\"y\":[63.240002000000004,63.549999,63.540001000000004,63.540001000000004,63.619999,62.299999,62.580002,62.68,62.98,62.169998,61.970001,61.009997999999996,61.369999,59.950001,60.220001,59.25,59.200001,60.259997999999996,61.09,60.610001000000004,60.529999,60.400002,61.119999,60.860001000000004,60.349998,60.639998999999996,59.650002,58.869999,58.119999,59.02,58.700001,60.169998,60.470001,60.419998,58.709998999999996,59.209998999999996,59.43,59.799999,59.919998,59.869999,60.099998,60.630001,60.990002000000004,61.0,59.66,57.25,57.529999,57.66,57.220001,57.419998,56.919998,57.110001000000004,57.189999,58.040001000000004,57.799999,57.740002000000004,57.639998999999996,57.240002000000004,57.419998,57.599998,57.400002,58.029999,57.950001,56.900002,57.43,57.82,57.759997999999996,56.810001,56.93,57.25,57.189999,56.259997999999996,56.529999,57.049999,56.209998999999996,57.43,57.66,57.610001000000004,57.669998,57.59,57.459998999999996,57.889998999999996,58.099998,58.029999,58.169998,57.950001,57.889998999999996,57.669998,57.619999,57.599998,57.560001,57.439999,58.119999,57.939999,58.299999,58.02,58.200001,58.060001,57.959998999999996,57.389998999999996,56.970001,56.580002,56.580002,56.68,56.209998999999996,56.189999,56.759997999999996,56.73,56.57,55.799999,55.91,53.09,53.959998999999996,53.700001,53.740002000000004,53.509997999999996,53.209998999999996,52.59,52.299999,51.380001,51.380001,51.169998,51.16,51.169998,50.540001000000004,49.439999,48.43,49.830002,51.91,50.990002000000004,51.189999,50.07,50.130001,50.389998999999996,49.689999,49.830002,50.139998999999996,51.48,51.619999,52.040001000000004,52.099998,52.130001,51.790001000000004,52.48,52.849998,53.0,52.32,51.889998999999996,52.119999,51.59,50.029999,50.619999,50.32,50.810001,50.509997999999996,51.830002,51.080002,51.509997999999996,51.049999,51.02,50.07,50.389998999999996,49.939999,49.869999,49.779999,50.610001000000004,49.869999,49.900002,50.939999,51.439999,52.110001000000004,51.779999,55.779999,55.59,56.389998999999996,56.459998999999996,55.650002,55.360001000000004,55.349998,54.650002,54.310001,54.419998,54.459998999999996,55.119999,54.560001,55.43,55.57,55.23,55.049999,54.709998999999996,53.540001000000004,54.209998999999996,53.970001,54.07,53.860001000000004,53.490002000000004,54.66,54.349998,53.59,53.169998,53.07,52.049999,52.84,51.650002,51.029999,52.029999,52.349998,52.950001,52.580002,50.880001,51.299999,52.099998,51.360001000000004,51.18,52.650002,51.82,52.189999,52.419998,51.09,50.5,49.689999,49.709998999999996,49.279999,49.41,50.16,52.0,52.16,53.0,54.709998999999996,55.09,52.060001,51.220001,52.169998,51.790001000000004,52.290001000000004,50.48,50.790001000000004,50.560001,50.990002000000004,53.110001000000004,51.639998999999996,52.779999,52.299999,52.330002,52.169998,54.049999,55.049999,54.799999,55.48,56.310001,56.549999,55.950001,55.669998,55.82,55.349998,54.830002,54.130001,55.700001,56.130001,55.200001,55.139998999999996,54.060001,55.27,54.98,55.790001000000004,55.810001,55.91,54.200001,55.209998999999996,55.220001,54.349998,53.93,53.689999,54.25,54.189999,54.189999,53.939999,53.849998,52.970001,53.77,52.84,53.32,53.650002,53.509997999999996,54.16,54.919998,54.380001,54.400002,54.150002,53.240002000000004,52.639998999999996,53.360001000000004,53.98,53.689999,54.25,52.869999,48.029999,47.200001,47.77,47.619999,47.509997999999996,47.009997999999996,46.68,46.889998999999996,47.0,47.110001000000004,47.450001,46.799999,46.75,46.630001,45.57,44.610001000000004,44.259997999999996,43.439999,43.290001000000004,43.939999,43.91,43.869999,43.900002,44.110001000000004,43.48,44.25,44.299999,43.98,43.040001000000004,43.48,43.290001000000004,43.07,43.889998999999996,42.610001000000004,43.5,43.360001000000004,41.82,43.52,43.93,43.900002,42.709998999999996,40.470001,41.68,43.07,45.66,46.610001000000004,47.27,47.32,47.0,46.73,46.740002000000004,46.41,47.330002,46.740002000000004,46.619999,47.580002,47.540001000000004,46.810001,46.700001,46.880001,46.290001000000004,45.34,45.349998,45.939999,46.110001000000004,45.540001000000004,47.279999,46.919998,46.619999,46.66,45.759997999999996,45.619999,45.540001000000004,44.610001000000004,44.52,44.240002000000004,44.299999,44.389998999999996,44.400002,44.450001,44.150002,44.369999,45.259997999999996,45.650002,45.639998999999996,45.91,46.23,46.099998,46.720001,45.970001,45.830002,45.48,45.970001,46.439999,46.610001000000004,45.650002,45.73,46.139998999999996,46.360001000000004,46.849998,46.919998,47.23,46.860001000000004,47.450001,47.610001000000004,46.59,46.900002,47.419998,47.580002,47.580002,48.009997999999996,48.299999,48.720001,47.630001,47.349998,47.369999,47.75,46.700001,46.279999,47.599998,48.240002000000004,48.66,48.639998999999996,49.060001,49.16,48.029999,47.869999,43.34,42.990002000000004,42.639998999999996,42.91,41.619999,42.16,42.259997999999996,41.650002,41.759997999999996,41.720001,41.48,41.419998,41.529999,41.549999,40.290001000000004,40.720001,40.66,40.959998999999996,40.970001,41.209998999999996,41.459998999999996,42.900002,42.860001000000004,42.880001,42.290001000000004,42.5,41.700001,41.560001,41.380001,41.02,41.98,42.029999,42.849998,42.360001000000004,43.110001000000004,43.060001,43.279999,43.880001,43.849998,44.060001,43.990002000000004,44.09,44.150002,43.860001000000004,43.5,43.529999,43.580002,43.869999,43.09,42.380001,42.599998,42.360001000000004,42.41,42.450001,41.84,41.599998,41.279999,40.400002,42.009997999999996,41.189999,42.66,47.009997999999996,47.18,47.130001,45.919998,46.389998999999996,46.240002000000004,45.48,45.959998999999996,46.360001000000004,46.599998,47.189999,47.59,46.23,45.650002,46.330002,46.759997999999996,46.450001,47.02,47.450001,47.880001,48.139998999999996,48.450001,47.98,47.66,47.52,45.740002000000004,45.16,46.669998,46.950001,47.169998,46.900002,47.59,47.700001,48.419998,48.84,48.080002,48.459998999999996,48.619999,47.810001,47.75,47.470001,47.59,47.98,48.700001,48.220001,48.740002000000004,49.459998999999996,49.580002,49.610001000000004,48.779999,48.869999,48.889998999999996,48.68,48.700001,47.860001000000004,47.57,47.439999,46.950001,46.049999,46.619999,46.490002000000004,45.91,46.130001,45.02,44.380001,44.880001,44.080002,43.630001,42.740002000000004,43.220001,43.73,43.650002,44.029999,45.849998,46.779999,45.529999,46.09,46.09,45.759997999999996,45.900002,46.360001000000004,46.439999,46.41,46.040001000000004,47.080002,46.560001,47.060001,47.52,46.68,46.52,46.759997999999996,46.240002000000004,46.700001,47.0,46.84,46.759997999999996,46.470001,45.91,45.259997999999996,44.959998999999996,45.09,45.43,44.880001,44.869999,45.009997999999996,45.169998,45.150002,45.220001,44.950001,45.330002,45.110001000000004,44.790001000000004,44.27,44.080002,43.52,43.200001,43.200001,43.23,42.740002000000004,43.080002,43.369999,42.860001000000004,43.16,43.580002,43.889998999999996,43.970001,44.5,44.400002,44.869999,44.830002,44.84,44.689999,44.529999,44.080002,42.450001,42.139998999999996,42.09,41.689999,41.669998,41.779999,41.990002000000004,41.799999,41.900002,41.869999,41.700001,42.25,41.720001,42.029999,41.75,41.990002000000004,41.68,41.509997999999996,41.650002,41.68,41.5,41.23,40.580002,40.860001000000004,41.110001000000004,41.27,41.48,41.209998999999996,40.32,40.290001000000004,40.790001000000004,40.939999,40.34,40.009997999999996,40.189999,40.119999,40.099998,40.349998,39.68,39.75,39.830002,39.599998,40.240002000000004,40.419998,39.970001,39.540001000000004,39.639998999999996,39.419998,39.060001,39.43,39.689999,40.0,40.400002,40.509997999999996,40.869999,39.91,39.860001000000004,39.689999,39.990002000000004,39.939999,40.009997999999996,40.400002,39.75,39.18,39.209998999999996,39.360001000000004,40.470001,39.82,39.799999,39.869999,41.009997999999996,41.349998,41.419998,40.990002000000004,40.299999,39.360001000000004,39.790001000000004,40.34,40.5,40.16,40.330002,39.27,39.549999,38.049999,37.700001,37.889998999999996,38.27,38.02,37.82,37.900002,38.150002,38.110001000000004,38.41,37.779999,38.310001,37.860001000000004,37.470001,37.540001000000004,37.689999,37.98,37.75,37.509997999999996,37.419998,37.619999,37.610001000000004,37.470001,37.169998,36.799999,36.560001,36.18,35.82,36.349998,36.48,37.84,36.860001000000004,36.66,36.27,36.029999,36.810001,36.060001,35.93,36.169998,36.380001,36.889998999999996,36.759997999999996,35.779999,34.98,36.040001000000004,35.529999,35.759997999999996,36.41,36.130001,36.91,37.16,37.41,37.290001000000004,37.290001000000004,37.439999,37.080002,36.619999,36.799999,36.25,36.580002,36.52,36.889998999999996,36.689999,37.220001,37.610001000000004,38.110001000000004,38.709998999999996,38.360001000000004,38.0,38.939999,38.310001,38.450001,38.130001,37.599998,37.349998,37.639998999999996,37.57,37.400002,37.080002,36.740002000000004,37.200001,37.84,38.02,38.16,37.360001000000004,37.59,37.779999,37.5,38.18,36.639998999999996,35.939999,35.529999,35.41,35.540001000000004,35.52,35.57,35.73,33.720001,33.759997999999996,34.580002,34.990002000000004,34.959998999999996,34.919998,34.639998999999996,34.490002000000004,34.450001,34.130001,33.759997999999996,33.07,33.009997999999996,33.299999,33.880001,33.860001000000004,33.919998,33.580002,33.279999,33.27,32.77,32.509997999999996,32.450001,32.740002000000004,32.790001000000004,33.639998999999996,33.32,32.93,32.799999,33.029999,32.689999,32.740002000000004,32.389998999999996,31.66,31.15,31.23,31.200001,31.879998999999998,33.400002,33.549999,33.02,33.259997999999996,34.150002,34.75,32.389998999999996,31.610001,31.620001000000002,31.389999,31.799999,31.790001,32.349998,32.23,32.869999,32.700001,32.889998999999996,32.060001,31.58,31.700001,31.889999,31.67,31.84,31.85,31.540001,31.620001000000002,31.389999,31.959999,31.82,32.009997999999996,31.4,35.439999,35.740002000000004,36.27,36.169998,35.669998,35.689999,34.700001,34.349998,34.330002,34.209998999999996,34.009997999999996,33.939999,34.360001000000004,34.540001000000004,34.619999,34.349998,33.669998,33.720001,33.27,33.490002000000004,34.59,34.98,35.0,34.400002,34.720001,35.0,34.84,35.470001,35.669998,34.959998999999996,34.779999,34.990002000000004,35.59,34.900002,35.029999,34.880001,35.02,34.27,34.150002,34.610001000000004,34.849998,35.080002,34.869999,34.080002,33.849998,33.529999,33.029999,32.689999,32.66,32.990002000000004,33.310001,33.75,33.490002000000004,33.16,32.720001,33.099998,32.610001000000004,31.790001,31.940001000000002,31.76,30.6,30.83,29.77,28.790001,28.83,28.969998999999998,28.690001000000002,28.790001,28.940001000000002,30.280001000000002,29.610001,28.59,28.700001,28.6,28.559998999999998,28.799999,28.610001,28.610001,28.370001000000002,28.16,28.16,28.25,28.110001,28.32,28.18,28.1,28.040001,28.139999,27.92,27.91,27.870001000000002,28.0,28.139999,28.09,28.35,28.15,27.950001,27.799999,27.809998999999998,27.370001000000002,27.370001000000002,27.76,27.49,27.870001000000002,28.049999,28.01,28.040001,28.030001000000002,27.879998999999998,27.860001,27.549999,27.280001000000002,27.34,27.5,27.440001000000002,27.93,27.450001,27.85,28.01,27.91,27.879998999999998,27.629998999999998,27.610001,27.15,27.25,27.25,27.040001,27.209999,26.889999,26.83,26.459999,26.700001,26.549999,26.690001000000002,26.74,27.25,27.620001000000002,26.709999,26.549999,26.959999,26.860001,27.059998999999998,27.450001,27.68,27.309998999999998,27.559998999999998,27.1,26.809998999999998,27.110001,27.24,27.32,26.940001000000002,26.459999,26.73,26.67,26.370001000000002,26.43,26.620001000000002,26.950001,27.360001,27.08,27.389999,27.700001,26.950001,26.709999,26.73,26.52,26.66,26.84,27.09,28.219998999999998,28.83,28.809998999999998,29.08,29.860001,29.629998999999998,29.5,29.52,28.540001,28.209999,27.879998999999998,27.9,28.049999,28.0,28.639999,29.5,29.59,29.49,29.51,29.200001,28.950001,28.98,29.280001000000002,29.780001000000002,29.85,30.030001000000002,29.860001,29.66,29.49,29.76,30.16,30.17,30.389999,30.780001000000002,31.190001000000002,31.450001,31.049999,31.18,31.209999,31.209999,30.940001000000002,30.780001000000002,30.790001,30.719998999999998,30.950001,31.35,30.389999,30.389999,30.82,30.32,30.65,30.629998999999998,30.690001000000002,30.559998999999998,30.26,30.540001,30.799999,30.74,30.9,30.780001000000002,30.200001,30.129998999999998,30.389999,30.42,30.5,30.33,30.26,29.950001,29.75,29.190001000000002,29.41,29.469998999999998,29.639999,29.76,29.16,28.83,29.15,29.280001000000002,30.120001000000002,30.67,30.450001,29.66,29.440001000000002,29.389999,28.629998999999998,29.299999,29.74,30.0,30.190001000000002,30.700001,30.76,30.559998999999998,30.59,29.91,30.17,30.02,29.870001000000002,30.700001,30.139999,30.93,30.700001,29.84,30.02,29.34,29.129998999999998,29.290001,28.9,29.65,29.23,29.35,28.51,28.549999,28.450001,29.190001000000002,29.34,29.559998999999998,29.059998999999998,29.07,29.110001,29.76,29.75,29.27,29.719998999999998,29.9,30.209999,30.68,31.16,30.74,30.76,30.5,30.65,30.98,31.76,31.799999,32.009997999999996,32.02,31.98,32.110001000000004,32.200001,31.92,32.119999,32.419998,31.01,31.139999,31.440001000000002,31.08,30.809998999999998,30.98,30.35,30.469998999999998,31.1,31.52,31.209999,31.940001000000002,32.290001000000004,32.259997999999996,32.119999,32.189999,32.52,32.59,32.009997999999996,32.0,31.91,31.99,32.200001,32.599998,32.849998,32.77,32.669998,32.040001000000004,31.99,32.009997999999996,31.84,31.559998999999998,31.799999,32.080002,32.290001000000004,31.74,31.870001000000002,31.35,31.48,31.370001000000002,31.27,31.440001000000002,31.25,31.290001,30.049999,30.25,30.58,30.5,30.77,30.66,30.35,30.200001,30.24,29.950001,29.889999,29.530001000000002,29.610001,29.23,29.5,29.559998999999998,29.34,29.73,29.709999,28.120001000000002,28.23,28.26,28.25,28.0,27.719998999999998,27.84,27.74,28.110001,27.68,27.4,26.77,25.959999,26.02,25.82,26.040001,26.030001000000002,25.809998999999998,25.76,26.030001000000002,25.530001000000002,26.0,25.559998999999998,25.59,25.76,25.51,25.700001,25.4,25.6,25.66,25.700001,25.219998999999998,25.280001000000002,25.58,24.84,24.870001000000002,24.299999,24.469998999999998,24.790001,25.0,25.299999,25.540001,26.07,26.74,26.76,26.91,26.280001000000002,26.200001,27.16,26.799999,26.25,26.530001000000002,26.01,25.99,26.629998999999998,26.98,27.25,26.59,26.809998999999998,27.190001000000002,27.16,27.040001,27.129998999999998,27.309998999999998,26.98,27.27,27.18,26.959999,27.0,26.940001000000002,26.25,26.34,25.889999,25.34,24.530001000000002,24.889999,25.450001,25.58,25.67,25.440001000000002,25.059998999999998,25.059998999999998,25.99,26.98,27.209999,27.120001000000002,26.99,26.5,26.040001,25.889999,25.74,26.219998999999998,26.0,25.51,25.799999,26.209999,26.6,26.23,25.84,25.25,24.57,24.9,24.719998999999998,23.98,24.049999,24.67,25.25,25.35,25.51,25.1,25.190001000000002,24.200001,25.58,24.48,25.68,25.940001000000002,26.92,26.799999,27.27,27.4,27.719998999999998,27.33,28.08,27.91,27.530001000000002,27.1,27.059998999999998,27.540001,26.59,26.780001000000002,26.469998999999998,26.629998999999998,26.540001,26.629998999999998,26.92,26.77,26.33,26.030001000000002,26.02,26.0,25.620001000000002,25.799999,25.200001,24.299999,24.629998999999998,24.65,24.76,24.469998999999998,24.26,24.0,23.74,24.219998999999998,24.040001,23.709999,23.959999,23.940001000000002,24.059998999999998,24.01,23.91,24.219998999999998,24.43,25.01,24.76,24.67,24.190001000000002,24.15,24.17,24.49,24.719998999999998,24.690001000000002,24.52,24.57,25.030001000000002,25.32,25.360001,25.67,25.83,25.870001000000002,25.790001,26.059998999999998,25.809998999999998,25.66,25.92,26.709999,26.379998999999998,26.190001000000002,25.610001,25.52,25.76,25.15,25.08,25.370001000000002,25.42,25.629998999999998,25.639999,25.98,26.07,26.200001,26.15,25.780001000000002,25.549999,25.48,25.389999,25.610001,25.49,25.41,25.620001000000002,25.809998999999998,25.540001,25.299999,25.33,24.799999,24.780001000000002,24.790001,25.389999,25.690001000000002,25.68,25.41,25.889999,25.91,25.719998999999998,25.950001,26.200001,26.08,26.16,26.58,26.549999,26.77,26.59,26.59,27.059998999999998,27.209999,27.02,26.959999,27.23,27.25,27.5,27.969998999999998,28.280001000000002,28.200001,27.77,27.65,27.940001000000002,27.99,27.73,27.75,28.870001000000002,28.780001000000002,28.450001,28.379998999999998,28.02,28.35,28.469998999999998,28.66,28.299999,28.190001000000002,28.549999,28.110001,28.219998999999998,28.6,28.82,28.0,28.09,27.98,27.91,27.85,27.969998999999998,28.01,28.07,28.299999,28.190001000000002,28.07,27.809998999999998,27.9,27.99,27.85,27.620001000000002,27.25,27.34,27.08,27.23,26.870001000000002,26.84,27.02,26.889999,26.040001,25.26,25.309998999999998,25.25,25.370001000000002,25.120001000000002,25.73,25.690001000000002,25.84,25.57,25.809998999999998,26.200001,26.27,26.68,26.940001000000002,26.950001,26.809998999999998,26.85,27.139999,27.030001000000002,27.389999,26.950001,26.67,26.280001000000002,26.049999,25.9,25.190001000000002,25.379998999999998,25.42,25.309998999999998,25.1,25.82,25.540001,25.23,25.34,24.83,24.59,24.57,24.530001000000002,24.43,24.35,23.91,24.379998999999998,24.49,24.5,24.68,24.73,24.780001000000002,24.43,24.610001,25.15,25.43,25.219998999999998,25.33,25.120001000000002,25.030001000000002,25.110001,23.85,24.01,23.93,23.959999,24.290001,23.940001000000002,23.9,23.469998999999998,23.639999,23.93,23.82,24.1,24.040001,24.280001000000002,24.23,24.440001000000002,24.82,24.709999,24.5,24.4,24.49,24.860001,25.07,25.610001,25.549999,25.370001000000002,25.73,26.16,26.33,25.809998999999998,26.030001000000002,25.950001,26.16,26.1,25.809998999999998,25.84,25.120001000000002,25.48,25.23,24.889999,25.51,25.440001000000002,25.129998999999998,24.83,24.27,24.41,24.299999,23.82,23.27,23.16,23.01,23.309998999999998,24.309998999999998,24.530001000000002,25.0,25.309998999999998,25.77,25.950001,26.440001000000002,26.370001000000002,26.32,26.58,25.5,25.66,25.0,24.790001,25.110001,25.290001,25.790001,26.860001,26.459999,25.889999,25.799999,26.0,25.01,26.07,26.27,26.84,27.110001,28.24,28.6,28.940001000000002,28.93,29.24,29.440001000000002,28.879998999999998,28.940001000000002,28.209999,28.98,29.85,30.129998999999998,30.860001,30.540001,31.0,30.91,30.85,31.110001,30.959999,31.389999,31.33,31.360001,31.040001,30.67,30.870001000000002,30.82,30.450001,30.32,30.34,29.92,29.35,29.32,29.27,29.16,29.290001,29.77,29.59,29.66,30.01,29.65,29.879998999999998,29.6,29.59,29.610001,29.629998999999998,29.370001000000002,29.290001,29.27,29.18,28.969998999999998,28.799999,28.629998999999998,28.59,28.629998999999998,28.459999,28.459999,29.02,28.67,28.6,28.629998999999998,28.33,28.73,28.77,28.969998999999998,28.59,28.35,27.93,28.120001000000002,27.99,28.01,27.719998999999998,28.02,27.84,28.629998999999998,28.459999,28.41,28.18,29.16,29.67,29.5,29.32,28.959999,30.01,30.59,31.1,30.860001,30.959999,30.35,30.07,30.27,30.66,30.450001,30.77,30.959999,30.950001,30.48,30.959999,31.389999,31.17,31.0,30.92,30.82,30.52,30.360001,29.6,30.1,30.02,30.110001,29.85,29.870001000000002,29.709999,29.57,29.790001,29.98,29.83,29.780001000000002,30.01,29.41,29.219998999999998,29.790001,29.91,29.940001000000002,29.620001000000002,29.780001000000002,30.110001,30.0,29.540001,29.629998999999998,29.360001,29.120001000000002,29.01,28.99,28.52,28.469998999999998,28.059998999999998,27.530001000000002,27.879998999999998,27.73,28.219998999999998,28.02,28.59,28.68,28.02,26.59,26.58,26.370001000000002,26.360001,26.5,26.709999,25.959999,25.809998999999998,25.719998999999998,25.549999,25.67,25.1,25.110001,24.639999,24.959999,24.879998999999998,25.719998999999998,25.75,25.83,25.549999,25.940001000000002,25.709999,25.77,25.299999,25.26,25.299999,25.200001,25.200001,25.0,24.860001,25.0,24.780001000000002,24.82,24.620001000000002,24.110001,23.860001,24.0,24.65,24.68,24.690001000000002,24.549999,24.639999,24.639999,24.41,23.67,23.65,23.58,23.25,23.690001000000002,23.620001000000002,23.530001000000002,23.129998999999998,23.42,23.559998999999998,23.459999,23.809998999999998,23.77,23.83,23.52,23.809998999999998,23.799999,23.469998999999998,23.110001,23.450001,25.559998999999998,24.799999,24.83,24.530001000000002,24.290001,24.440001000000002,24.120001000000002,23.110001,23.23,22.389999,22.440001000000002,22.559998999999998,22.530001000000002,23.200001,23.370001000000002,24.040001,23.77,23.860001,23.35,23.790001,23.469998999999998,23.34,23.280001000000002,24.07,23.5,23.68,23.450001,23.42,23.33,22.83,22.549999,22.08,22.049999,22.139999,21.83,21.73,21.4,21.4,20.889999,20.450001,20.129998999999998,20.34,19.75,19.82,20.379998999999998,20.309998999999998,20.6,20.219998999999998,20.059998999999998,19.75,19.889999,19.32,19.42,19.32,19.790001,19.790001,20.190001000000002,20.24,20.26,20.25,19.93,20.4,20.91,18.92,18.780001000000002,18.969998999999998,18.610001,19.200001,19.76,18.83,19.35,19.59,19.67,19.190001000000002,18.76,18.76,18.75,19.290001,19.309998999999998,18.370001000000002,17.48,18.129998999999998,18.83,17.879998999999998,17.93,18.33,17.059998999999998,17.139999,16.959999,16.9,16.25,16.65,17.01,17.110001,16.48,15.15,15.28,15.27,16.120001000000002,15.88,15.79,16.15,16.42,16.959999,17.17,17.209999,18.0,17.91,18.120001000000002,18.09,19.09,19.26,19.209999,18.799999,19.440001000000002,19.66,19.040001,18.629998999999998,18.5,17.83,17.1,17.59,18.040001,17.66,17.629998999999998,17.200001,17.110001,19.379998999999998,18.48,19.709999,19.24,19.09,19.82,19.469998999999998,19.52,20.120001000000002,19.51,20.76,20.52,20.33]}},\"id\":\"46436b1b-189d-4c5d-a36b-0de16b3a1635\",\"type\":\"ColumnDataSource\"},{\"attributes\":{\"axis_label\":\"Price\",\"formatter\":{\"id\":\"ddc2c462-4384-41d7-a79c-e9334871deac\",\"type\":\"BasicTickFormatter\"},\"plot\":{\"id\":\"1f5fcf0b-2fa8-425d-a119-1b5d6d2287d4\",\"subtype\":\"Figure\",\"type\":\"Plot\"},\"ticker\":{\"id\":\"2bedb9a6-6b70-4b29-9094-ad8f84b1dcb4\",\"type\":\"BasicTicker\"}},\"id\":\"5b16b3db-f85e-407c-a772-750650686409\",\"type\":\"LinearAxis\"},{\"attributes\":{},\"id\":\"ddc2c462-4384-41d7-a79c-e9334871deac\",\"type\":\"BasicTickFormatter\"},{\"attributes\":{\"line_color\":{\"value\":\"#1f77b4\"},\"x\":{\"field\":\"x\"},\"y\":{\"field\":\"y\"}},\"id\":\"cd0df42c-83eb-442d-95f9-ca86465bd35d\",\"type\":\"Line\"},{\"attributes\":{\"data_source\":{\"id\":\"46436b1b-189d-4c5d-a36b-0de16b3a1635\",\"type\":\"ColumnDataSource\"},\"glyph\":{\"id\":\"cd0df42c-83eb-442d-95f9-ca86465bd35d\",\"type\":\"Line\"},\"hover_glyph\":null,\"nonselection_glyph\":{\"id\":\"6348f92a-e744-4680-90b3-c6fe191d570a\",\"type\":\"Line\"},\"selection_glyph\":null},\"id\":\"17a8628a-a426-4952-b2a9-05ec0cf859ad\",\"type\":\"GlyphRenderer\"},{\"attributes\":{},\"id\":\"2a8ea553-0cd6-4caf-83ef-65f8a8d3a6fb\",\"type\":\"DatetimeTickFormatter\"},{\"attributes\":{},\"id\":\"6beceac8-231e-46e1-9237-9ac42ae9e227\",\"type\":\"YearsTicker\"},{\"attributes\":{\"active_drag\":\"auto\",\"active_scroll\":\"auto\",\"active_tap\":\"auto\",\"tools\":[{\"id\":\"115233ed-a534-4e17-8b2e-46331a32a55e\",\"type\":\"PanTool\"},{\"id\":\"555f17cb-1dca-488f-9d48-bab1f0a39b15\",\"type\":\"WheelZoomTool\"},{\"id\":\"813e63f8-db52-4ed8-a12f-297aac54019a\",\"type\":\"BoxZoomTool\"},{\"id\":\"e60f809e-bd49-413e-b071-8053d64aa2dd\",\"type\":\"SaveTool\"},{\"id\":\"ad8391db-010f-48cb-b669-23c1896f1b3d\",\"type\":\"ResetTool\"},{\"id\":\"ad968ee5-54ea-4547-8cac-787caaa508d8\",\"type\":\"HelpTool\"}]},\"id\":\"9e59cd6c-6ca9-4572-b783-8896d2e7ba92\",\"type\":\"Toolbar\"},{\"attributes\":{\"plot\":{\"id\":\"1f5fcf0b-2fa8-425d-a119-1b5d6d2287d4\",\"subtype\":\"Figure\",\"type\":\"Plot\"},\"ticker\":{\"id\":\"d766407f-0b8e-4134-b1df-30179be8d452\",\"type\":\"DatetimeTicker\"}},\"id\":\"2fb15e21-4bf7-4b41-ae35-51a41c07a240\",\"type\":\"Grid\"},{\"attributes\":{\"plot\":{\"id\":\"1f5fcf0b-2fa8-425d-a119-1b5d6d2287d4\",\"subtype\":\"Figure\",\"type\":\"Plot\"}},\"id\":\"ad968ee5-54ea-4547-8cac-787caaa508d8\",\"type\":\"HelpTool\"},{\"attributes\":{\"months\":[0,2,4,6,8,10]},\"id\":\"7727d9e7-4654-4b7c-876e-f7905e73b714\",\"type\":\"MonthsTicker\"},{\"attributes\":{\"line_alpha\":{\"value\":0.1},\"line_color\":{\"value\":\"#1f77b4\"},\"x\":{\"field\":\"x\"},\"y\":{\"field\":\"y\"}},\"id\":\"6348f92a-e744-4680-90b3-c6fe191d570a\",\"type\":\"Line\"},{\"attributes\":{\"days\":[1,4,7,10,13,16,19,22,25,28]},\"id\":\"52d66556-8d6c-45f3-af72-a761a59a6328\",\"type\":\"DaysTicker\"},{\"attributes\":{\"max_interval\":500.0,\"num_minor_ticks\":0},\"id\":\"da98c9b3-10ff-4c3d-bd93-77dfffeaf5fe\",\"type\":\"AdaptiveTicker\"},{\"attributes\":{\"base\":60,\"mantissas\":[1,2,5,10,15,20,30],\"max_interval\":1800000.0,\"min_interval\":1000.0,\"num_minor_ticks\":0},\"id\":\"7bfc0894-0926-4034-b45f-d15d24a0c54e\",\"type\":\"AdaptiveTicker\"},{\"attributes\":{},\"id\":\"a3edd778-e90b-4e6e-aa1a-fc37d5680a88\",\"type\":\"ToolEvents\"},{\"attributes\":{\"months\":[0,1,2,3,4,5,6,7,8,9,10,11]},\"id\":\"b403f7af-3974-40f8-8232-ae77dc993e8e\",\"type\":\"MonthsTicker\"},{\"attributes\":{\"plot\":{\"id\":\"1f5fcf0b-2fa8-425d-a119-1b5d6d2287d4\",\"subtype\":\"Figure\",\"type\":\"Plot\"}},\"id\":\"ad8391db-010f-48cb-b669-23c1896f1b3d\",\"type\":\"ResetTool\"},{\"attributes\":{\"overlay\":{\"id\":\"ab3d5fe7-6d53-4cce-ae99-e9ccf87c160c\",\"type\":\"BoxAnnotation\"},\"plot\":{\"id\":\"1f5fcf0b-2fa8-425d-a119-1b5d6d2287d4\",\"subtype\":\"Figure\",\"type\":\"Plot\"}},\"id\":\"813e63f8-db52-4ed8-a12f-297aac54019a\",\"type\":\"BoxZoomTool\"},{\"attributes\":{\"callback\":null},\"id\":\"9dac9264-09c7-43d8-993e-5e08c396c1a6\",\"type\":\"DataRange1d\"},{\"attributes\":{},\"id\":\"2bedb9a6-6b70-4b29-9094-ad8f84b1dcb4\",\"type\":\"BasicTicker\"},{\"attributes\":{\"base\":24,\"mantissas\":[1,2,4,6,8,12],\"max_interval\":43200000.0,\"min_interval\":3600000.0,\"num_minor_ticks\":0},\"id\":\"5887153e-ded3-43db-b9e5-796bfccbf6cc\",\"type\":\"AdaptiveTicker\"},{\"attributes\":{\"plot\":{\"id\":\"1f5fcf0b-2fa8-425d-a119-1b5d6d2287d4\",\"subtype\":\"Figure\",\"type\":\"Plot\"}},\"id\":\"115233ed-a534-4e17-8b2e-46331a32a55e\",\"type\":\"PanTool\"},{\"attributes\":{\"months\":[0,4,8]},\"id\":\"557f1a59-e175-4810-b170-c843fc0bcf45\",\"type\":\"MonthsTicker\"}],\"root_ids\":[\"1f5fcf0b-2fa8-425d-a119-1b5d6d2287d4\"]},\"title\":\"Bokeh Application\",\"version\":\"0.12.2\"}};\n",
       "            var render_items = [{\"docid\":\"5d040a29-0b61-423b-90eb-42a0dc3cf299\",\"elementid\":\"6835030a-9e73-4245-966a-1b2213ae2d94\",\"modelid\":\"1f5fcf0b-2fa8-425d-a119-1b5d6d2287d4\"}];\n",
       "            \n",
       "            Bokeh.embed.embed_items(docs_json, render_items);\n",
       "        });\n",
       "      },\n",
       "      function(Bokeh) {\n",
       "      }\n",
       "    ];\n",
       "  \n",
       "    function run_inline_js() {\n",
       "      \n",
       "      if ((window.Bokeh !== undefined) || (force === \"1\")) {\n",
       "        for (var i = 0; i < inline_js.length; i++) {\n",
       "          inline_js[i](window.Bokeh);\n",
       "        }if (force === \"1\") {\n",
       "          display_loaded();\n",
       "        }} else if (Date.now() < window._bokeh_timeout) {\n",
       "        setTimeout(run_inline_js, 100);\n",
       "      } else if (!window._bokeh_failed_load) {\n",
       "        console.log(\"Bokeh: BokehJS failed to load within specified timeout.\");\n",
       "        window._bokeh_failed_load = true;\n",
       "      } else if (!force) {\n",
       "        var cell = $(\"#6835030a-9e73-4245-966a-1b2213ae2d94\").parents('.cell').data().cell;\n",
       "        cell.output_area.append_execute_result(NB_LOAD_WARNING)\n",
       "      }\n",
       "  \n",
       "    }\n",
       "  \n",
       "    if (window._bokeh_is_loading === 0) {\n",
       "      console.log(\"Bokeh: BokehJS loaded, going straight to plotting\");\n",
       "      run_inline_js();\n",
       "    } else {\n",
       "      load_libs(js_urls, function() {\n",
       "        console.log(\"Bokeh: BokehJS plotting callback run at\", now());\n",
       "        run_inline_js();\n",
       "      });\n",
       "    }\n",
       "  }(this));\n",
       "</script>"
      ]
     },
     "metadata": {},
     "output_type": "display_data"
    }
   ],
   "source": [
    "p = bp.figure(title='Historical Stock Quotes', \n",
    "              x_axis_type='datetime',\n",
    "             x_axis_label='Date',\n",
    "             y_axis_label='Price')\n",
    "\n",
    "p.line(data['Date'], data['Close'], legend='MSFT')\n",
    "bp.show(p)"
   ]
  },
  {
   "cell_type": "markdown",
   "metadata": {},
   "source": [
    "## Real Time FX Data"
   ]
  },
  {
   "cell_type": "code",
   "execution_count": 117,
   "metadata": {
    "collapsed": true
   },
   "outputs": [],
   "source": [
    "import time\n",
    "import pandas as pd\n",
    "import datetime as dt\n",
    "import requests"
   ]
  },
  {
   "cell_type": "code",
   "execution_count": 118,
   "metadata": {
    "collapsed": true
   },
   "outputs": [],
   "source": [
    "url = 'http://api-sandbox.oanda.com/v1/prices?instruments={}'"
   ]
  },
  {
   "cell_type": "code",
   "execution_count": 123,
   "metadata": {
    "collapsed": false
   },
   "outputs": [
    {
     "name": "stderr",
     "output_type": "stream",
     "text": [
      "INFO:requests.packages.urllib3.connectionpool:Starting new HTTP connection (1): api-sandbox.oanda.com\n"
     ]
    },
    {
     "ename": "ConnectionError",
     "evalue": "HTTPConnectionPool(host='api-sandbox.oanda.com', port=80): Max retries exceeded with url: /v1/prices?instruments=EUR_USD (Caused by NewConnectionError('<requests.packages.urllib3.connection.HTTPConnection object at 0x0000018A4A412DA0>: Failed to establish a new connection: [WinError 10060] A connection attempt failed because the connected party did not properly respond after a period of time, or established connection failed because connected host has failed to respond',))",
     "output_type": "error",
     "traceback": [
      "\u001b[0;31m---------------------------------------------------------------------------\u001b[0m",
      "\u001b[0;31mTimeoutError\u001b[0m                              Traceback (most recent call last)",
      "\u001b[0;32mC:\\Users\\tttri\\Anaconda3\\lib\\site-packages\\requests\\packages\\urllib3\\connection.py\u001b[0m in \u001b[0;36m_new_conn\u001b[0;34m(self)\u001b[0m\n\u001b[1;32m    141\u001b[0m             conn = connection.create_connection(\n\u001b[0;32m--> 142\u001b[0;31m                 (self.host, self.port), self.timeout, **extra_kw)\n\u001b[0m\u001b[1;32m    143\u001b[0m \u001b[1;33m\u001b[0m\u001b[0m\n",
      "\u001b[0;32mC:\\Users\\tttri\\Anaconda3\\lib\\site-packages\\requests\\packages\\urllib3\\util\\connection.py\u001b[0m in \u001b[0;36mcreate_connection\u001b[0;34m(address, timeout, source_address, socket_options)\u001b[0m\n\u001b[1;32m     97\u001b[0m     \u001b[1;32mif\u001b[0m \u001b[0merr\u001b[0m \u001b[1;32mis\u001b[0m \u001b[1;32mnot\u001b[0m \u001b[1;32mNone\u001b[0m\u001b[1;33m:\u001b[0m\u001b[1;33m\u001b[0m\u001b[0m\n\u001b[0;32m---> 98\u001b[0;31m         \u001b[1;32mraise\u001b[0m \u001b[0merr\u001b[0m\u001b[1;33m\u001b[0m\u001b[0m\n\u001b[0m\u001b[1;32m     99\u001b[0m \u001b[1;33m\u001b[0m\u001b[0m\n",
      "\u001b[0;32mC:\\Users\\tttri\\Anaconda3\\lib\\site-packages\\requests\\packages\\urllib3\\util\\connection.py\u001b[0m in \u001b[0;36mcreate_connection\u001b[0;34m(address, timeout, source_address, socket_options)\u001b[0m\n\u001b[1;32m     87\u001b[0m                 \u001b[0msock\u001b[0m\u001b[1;33m.\u001b[0m\u001b[0mbind\u001b[0m\u001b[1;33m(\u001b[0m\u001b[0msource_address\u001b[0m\u001b[1;33m)\u001b[0m\u001b[1;33m\u001b[0m\u001b[0m\n\u001b[0;32m---> 88\u001b[0;31m             \u001b[0msock\u001b[0m\u001b[1;33m.\u001b[0m\u001b[0mconnect\u001b[0m\u001b[1;33m(\u001b[0m\u001b[0msa\u001b[0m\u001b[1;33m)\u001b[0m\u001b[1;33m\u001b[0m\u001b[0m\n\u001b[0m\u001b[1;32m     89\u001b[0m             \u001b[1;32mreturn\u001b[0m \u001b[0msock\u001b[0m\u001b[1;33m\u001b[0m\u001b[0m\n",
      "\u001b[0;31mTimeoutError\u001b[0m: [WinError 10060] A connection attempt failed because the connected party did not properly respond after a period of time, or established connection failed because connected host has failed to respond",
      "\nDuring handling of the above exception, another exception occurred:\n",
      "\u001b[0;31mNewConnectionError\u001b[0m                        Traceback (most recent call last)",
      "\u001b[0;32mC:\\Users\\tttri\\Anaconda3\\lib\\site-packages\\requests\\packages\\urllib3\\connectionpool.py\u001b[0m in \u001b[0;36murlopen\u001b[0;34m(self, method, url, body, headers, retries, redirect, assert_same_host, timeout, pool_timeout, release_conn, chunked, **response_kw)\u001b[0m\n\u001b[1;32m    594\u001b[0m                                                   \u001b[0mbody\u001b[0m\u001b[1;33m=\u001b[0m\u001b[0mbody\u001b[0m\u001b[1;33m,\u001b[0m \u001b[0mheaders\u001b[0m\u001b[1;33m=\u001b[0m\u001b[0mheaders\u001b[0m\u001b[1;33m,\u001b[0m\u001b[1;33m\u001b[0m\u001b[0m\n\u001b[0;32m--> 595\u001b[0;31m                                                   chunked=chunked)\n\u001b[0m\u001b[1;32m    596\u001b[0m \u001b[1;33m\u001b[0m\u001b[0m\n",
      "\u001b[0;32mC:\\Users\\tttri\\Anaconda3\\lib\\site-packages\\requests\\packages\\urllib3\\connectionpool.py\u001b[0m in \u001b[0;36m_make_request\u001b[0;34m(self, conn, method, url, timeout, chunked, **httplib_request_kw)\u001b[0m\n\u001b[1;32m    362\u001b[0m         \u001b[1;32melse\u001b[0m\u001b[1;33m:\u001b[0m\u001b[1;33m\u001b[0m\u001b[0m\n\u001b[0;32m--> 363\u001b[0;31m             \u001b[0mconn\u001b[0m\u001b[1;33m.\u001b[0m\u001b[0mrequest\u001b[0m\u001b[1;33m(\u001b[0m\u001b[0mmethod\u001b[0m\u001b[1;33m,\u001b[0m \u001b[0murl\u001b[0m\u001b[1;33m,\u001b[0m \u001b[1;33m**\u001b[0m\u001b[0mhttplib_request_kw\u001b[0m\u001b[1;33m)\u001b[0m\u001b[1;33m\u001b[0m\u001b[0m\n\u001b[0m\u001b[1;32m    364\u001b[0m \u001b[1;33m\u001b[0m\u001b[0m\n",
      "\u001b[0;32mC:\\Users\\tttri\\Anaconda3\\lib\\http\\client.py\u001b[0m in \u001b[0;36mrequest\u001b[0;34m(self, method, url, body, headers)\u001b[0m\n\u001b[1;32m   1105\u001b[0m         \u001b[1;34m\"\"\"Send a complete request to the server.\"\"\"\u001b[0m\u001b[1;33m\u001b[0m\u001b[0m\n\u001b[0;32m-> 1106\u001b[0;31m         \u001b[0mself\u001b[0m\u001b[1;33m.\u001b[0m\u001b[0m_send_request\u001b[0m\u001b[1;33m(\u001b[0m\u001b[0mmethod\u001b[0m\u001b[1;33m,\u001b[0m \u001b[0murl\u001b[0m\u001b[1;33m,\u001b[0m \u001b[0mbody\u001b[0m\u001b[1;33m,\u001b[0m \u001b[0mheaders\u001b[0m\u001b[1;33m)\u001b[0m\u001b[1;33m\u001b[0m\u001b[0m\n\u001b[0m\u001b[1;32m   1107\u001b[0m \u001b[1;33m\u001b[0m\u001b[0m\n",
      "\u001b[0;32mC:\\Users\\tttri\\Anaconda3\\lib\\http\\client.py\u001b[0m in \u001b[0;36m_send_request\u001b[0;34m(self, method, url, body, headers)\u001b[0m\n\u001b[1;32m   1150\u001b[0m             \u001b[0mbody\u001b[0m \u001b[1;33m=\u001b[0m \u001b[0m_encode\u001b[0m\u001b[1;33m(\u001b[0m\u001b[0mbody\u001b[0m\u001b[1;33m,\u001b[0m \u001b[1;34m'body'\u001b[0m\u001b[1;33m)\u001b[0m\u001b[1;33m\u001b[0m\u001b[0m\n\u001b[0;32m-> 1151\u001b[0;31m         \u001b[0mself\u001b[0m\u001b[1;33m.\u001b[0m\u001b[0mendheaders\u001b[0m\u001b[1;33m(\u001b[0m\u001b[0mbody\u001b[0m\u001b[1;33m)\u001b[0m\u001b[1;33m\u001b[0m\u001b[0m\n\u001b[0m\u001b[1;32m   1152\u001b[0m \u001b[1;33m\u001b[0m\u001b[0m\n",
      "\u001b[0;32mC:\\Users\\tttri\\Anaconda3\\lib\\http\\client.py\u001b[0m in \u001b[0;36mendheaders\u001b[0;34m(self, message_body)\u001b[0m\n\u001b[1;32m   1101\u001b[0m             \u001b[1;32mraise\u001b[0m \u001b[0mCannotSendHeader\u001b[0m\u001b[1;33m(\u001b[0m\u001b[1;33m)\u001b[0m\u001b[1;33m\u001b[0m\u001b[0m\n\u001b[0;32m-> 1102\u001b[0;31m         \u001b[0mself\u001b[0m\u001b[1;33m.\u001b[0m\u001b[0m_send_output\u001b[0m\u001b[1;33m(\u001b[0m\u001b[0mmessage_body\u001b[0m\u001b[1;33m)\u001b[0m\u001b[1;33m\u001b[0m\u001b[0m\n\u001b[0m\u001b[1;32m   1103\u001b[0m \u001b[1;33m\u001b[0m\u001b[0m\n",
      "\u001b[0;32mC:\\Users\\tttri\\Anaconda3\\lib\\http\\client.py\u001b[0m in \u001b[0;36m_send_output\u001b[0;34m(self, message_body)\u001b[0m\n\u001b[1;32m    933\u001b[0m \u001b[1;33m\u001b[0m\u001b[0m\n\u001b[0;32m--> 934\u001b[0;31m         \u001b[0mself\u001b[0m\u001b[1;33m.\u001b[0m\u001b[0msend\u001b[0m\u001b[1;33m(\u001b[0m\u001b[0mmsg\u001b[0m\u001b[1;33m)\u001b[0m\u001b[1;33m\u001b[0m\u001b[0m\n\u001b[0m\u001b[1;32m    935\u001b[0m         \u001b[1;32mif\u001b[0m \u001b[0mmessage_body\u001b[0m \u001b[1;32mis\u001b[0m \u001b[1;32mnot\u001b[0m \u001b[1;32mNone\u001b[0m\u001b[1;33m:\u001b[0m\u001b[1;33m\u001b[0m\u001b[0m\n",
      "\u001b[0;32mC:\\Users\\tttri\\Anaconda3\\lib\\http\\client.py\u001b[0m in \u001b[0;36msend\u001b[0;34m(self, data)\u001b[0m\n\u001b[1;32m    876\u001b[0m             \u001b[1;32mif\u001b[0m \u001b[0mself\u001b[0m\u001b[1;33m.\u001b[0m\u001b[0mauto_open\u001b[0m\u001b[1;33m:\u001b[0m\u001b[1;33m\u001b[0m\u001b[0m\n\u001b[0;32m--> 877\u001b[0;31m                 \u001b[0mself\u001b[0m\u001b[1;33m.\u001b[0m\u001b[0mconnect\u001b[0m\u001b[1;33m(\u001b[0m\u001b[1;33m)\u001b[0m\u001b[1;33m\u001b[0m\u001b[0m\n\u001b[0m\u001b[1;32m    878\u001b[0m             \u001b[1;32melse\u001b[0m\u001b[1;33m:\u001b[0m\u001b[1;33m\u001b[0m\u001b[0m\n",
      "\u001b[0;32mC:\\Users\\tttri\\Anaconda3\\lib\\site-packages\\requests\\packages\\urllib3\\connection.py\u001b[0m in \u001b[0;36mconnect\u001b[0;34m(self)\u001b[0m\n\u001b[1;32m    166\u001b[0m     \u001b[1;32mdef\u001b[0m \u001b[0mconnect\u001b[0m\u001b[1;33m(\u001b[0m\u001b[0mself\u001b[0m\u001b[1;33m)\u001b[0m\u001b[1;33m:\u001b[0m\u001b[1;33m\u001b[0m\u001b[0m\n\u001b[0;32m--> 167\u001b[0;31m         \u001b[0mconn\u001b[0m \u001b[1;33m=\u001b[0m \u001b[0mself\u001b[0m\u001b[1;33m.\u001b[0m\u001b[0m_new_conn\u001b[0m\u001b[1;33m(\u001b[0m\u001b[1;33m)\u001b[0m\u001b[1;33m\u001b[0m\u001b[0m\n\u001b[0m\u001b[1;32m    168\u001b[0m         \u001b[0mself\u001b[0m\u001b[1;33m.\u001b[0m\u001b[0m_prepare_conn\u001b[0m\u001b[1;33m(\u001b[0m\u001b[0mconn\u001b[0m\u001b[1;33m)\u001b[0m\u001b[1;33m\u001b[0m\u001b[0m\n",
      "\u001b[0;32mC:\\Users\\tttri\\Anaconda3\\lib\\site-packages\\requests\\packages\\urllib3\\connection.py\u001b[0m in \u001b[0;36m_new_conn\u001b[0;34m(self)\u001b[0m\n\u001b[1;32m    150\u001b[0m             raise NewConnectionError(\n\u001b[0;32m--> 151\u001b[0;31m                 self, \"Failed to establish a new connection: %s\" % e)\n\u001b[0m\u001b[1;32m    152\u001b[0m \u001b[1;33m\u001b[0m\u001b[0m\n",
      "\u001b[0;31mNewConnectionError\u001b[0m: <requests.packages.urllib3.connection.HTTPConnection object at 0x0000018A4A412DA0>: Failed to establish a new connection: [WinError 10060] A connection attempt failed because the connected party did not properly respond after a period of time, or established connection failed because connected host has failed to respond",
      "\nDuring handling of the above exception, another exception occurred:\n",
      "\u001b[0;31mMaxRetryError\u001b[0m                             Traceback (most recent call last)",
      "\u001b[0;32mC:\\Users\\tttri\\Anaconda3\\lib\\site-packages\\requests\\adapters.py\u001b[0m in \u001b[0;36msend\u001b[0;34m(self, request, stream, timeout, verify, cert, proxies)\u001b[0m\n\u001b[1;32m    422\u001b[0m                     \u001b[0mretries\u001b[0m\u001b[1;33m=\u001b[0m\u001b[0mself\u001b[0m\u001b[1;33m.\u001b[0m\u001b[0mmax_retries\u001b[0m\u001b[1;33m,\u001b[0m\u001b[1;33m\u001b[0m\u001b[0m\n\u001b[0;32m--> 423\u001b[0;31m                     \u001b[0mtimeout\u001b[0m\u001b[1;33m=\u001b[0m\u001b[0mtimeout\u001b[0m\u001b[1;33m\u001b[0m\u001b[0m\n\u001b[0m\u001b[1;32m    424\u001b[0m                 )\n",
      "\u001b[0;32mC:\\Users\\tttri\\Anaconda3\\lib\\site-packages\\requests\\packages\\urllib3\\connectionpool.py\u001b[0m in \u001b[0;36murlopen\u001b[0;34m(self, method, url, body, headers, retries, redirect, assert_same_host, timeout, pool_timeout, release_conn, chunked, **response_kw)\u001b[0m\n\u001b[1;32m    639\u001b[0m             retries = retries.increment(method, url, error=e, _pool=self,\n\u001b[0;32m--> 640\u001b[0;31m                                         _stacktrace=sys.exc_info()[2])\n\u001b[0m\u001b[1;32m    641\u001b[0m             \u001b[0mretries\u001b[0m\u001b[1;33m.\u001b[0m\u001b[0msleep\u001b[0m\u001b[1;33m(\u001b[0m\u001b[1;33m)\u001b[0m\u001b[1;33m\u001b[0m\u001b[0m\n",
      "\u001b[0;32mC:\\Users\\tttri\\Anaconda3\\lib\\site-packages\\requests\\packages\\urllib3\\util\\retry.py\u001b[0m in \u001b[0;36mincrement\u001b[0;34m(self, method, url, response, error, _pool, _stacktrace)\u001b[0m\n\u001b[1;32m    286\u001b[0m         \u001b[1;32mif\u001b[0m \u001b[0mnew_retry\u001b[0m\u001b[1;33m.\u001b[0m\u001b[0mis_exhausted\u001b[0m\u001b[1;33m(\u001b[0m\u001b[1;33m)\u001b[0m\u001b[1;33m:\u001b[0m\u001b[1;33m\u001b[0m\u001b[0m\n\u001b[0;32m--> 287\u001b[0;31m             \u001b[1;32mraise\u001b[0m \u001b[0mMaxRetryError\u001b[0m\u001b[1;33m(\u001b[0m\u001b[0m_pool\u001b[0m\u001b[1;33m,\u001b[0m \u001b[0murl\u001b[0m\u001b[1;33m,\u001b[0m \u001b[0merror\u001b[0m \u001b[1;32mor\u001b[0m \u001b[0mResponseError\u001b[0m\u001b[1;33m(\u001b[0m\u001b[0mcause\u001b[0m\u001b[1;33m)\u001b[0m\u001b[1;33m)\u001b[0m\u001b[1;33m\u001b[0m\u001b[0m\n\u001b[0m\u001b[1;32m    288\u001b[0m \u001b[1;33m\u001b[0m\u001b[0m\n",
      "\u001b[0;31mMaxRetryError\u001b[0m: HTTPConnectionPool(host='api-sandbox.oanda.com', port=80): Max retries exceeded with url: /v1/prices?instruments=EUR_USD (Caused by NewConnectionError('<requests.packages.urllib3.connection.HTTPConnection object at 0x0000018A4A412DA0>: Failed to establish a new connection: [WinError 10060] A connection attempt failed because the connected party did not properly respond after a period of time, or established connection failed because connected host has failed to respond',))",
      "\nDuring handling of the above exception, another exception occurred:\n",
      "\u001b[0;31mConnectionError\u001b[0m                           Traceback (most recent call last)",
      "\u001b[0;32m<ipython-input-123-329c5bdb3b27>\u001b[0m in \u001b[0;36m<module>\u001b[0;34m()\u001b[0m\n\u001b[1;32m      1\u001b[0m \u001b[0minstrument\u001b[0m\u001b[1;33m=\u001b[0m\u001b[1;34m'EUR_USD'\u001b[0m\u001b[1;33m\u001b[0m\u001b[0m\n\u001b[0;32m----> 2\u001b[0;31m \u001b[0mapi\u001b[0m \u001b[1;33m=\u001b[0m \u001b[0mrequests\u001b[0m\u001b[1;33m.\u001b[0m\u001b[0mget\u001b[0m\u001b[1;33m(\u001b[0m\u001b[0murl\u001b[0m\u001b[1;33m.\u001b[0m\u001b[0mformat\u001b[0m\u001b[1;33m(\u001b[0m\u001b[0minstrument\u001b[0m\u001b[1;33m)\u001b[0m\u001b[1;33m)\u001b[0m\u001b[1;33m\u001b[0m\u001b[0m\n\u001b[0m",
      "\u001b[0;32mC:\\Users\\tttri\\Anaconda3\\lib\\site-packages\\requests\\api.py\u001b[0m in \u001b[0;36mget\u001b[0;34m(url, params, **kwargs)\u001b[0m\n\u001b[1;32m     68\u001b[0m \u001b[1;33m\u001b[0m\u001b[0m\n\u001b[1;32m     69\u001b[0m     \u001b[0mkwargs\u001b[0m\u001b[1;33m.\u001b[0m\u001b[0msetdefault\u001b[0m\u001b[1;33m(\u001b[0m\u001b[1;34m'allow_redirects'\u001b[0m\u001b[1;33m,\u001b[0m \u001b[1;32mTrue\u001b[0m\u001b[1;33m)\u001b[0m\u001b[1;33m\u001b[0m\u001b[0m\n\u001b[0;32m---> 70\u001b[0;31m     \u001b[1;32mreturn\u001b[0m \u001b[0mrequest\u001b[0m\u001b[1;33m(\u001b[0m\u001b[1;34m'get'\u001b[0m\u001b[1;33m,\u001b[0m \u001b[0murl\u001b[0m\u001b[1;33m,\u001b[0m \u001b[0mparams\u001b[0m\u001b[1;33m=\u001b[0m\u001b[0mparams\u001b[0m\u001b[1;33m,\u001b[0m \u001b[1;33m**\u001b[0m\u001b[0mkwargs\u001b[0m\u001b[1;33m)\u001b[0m\u001b[1;33m\u001b[0m\u001b[0m\n\u001b[0m\u001b[1;32m     71\u001b[0m \u001b[1;33m\u001b[0m\u001b[0m\n\u001b[1;32m     72\u001b[0m \u001b[1;33m\u001b[0m\u001b[0m\n",
      "\u001b[0;32mC:\\Users\\tttri\\Anaconda3\\lib\\site-packages\\requests\\api.py\u001b[0m in \u001b[0;36mrequest\u001b[0;34m(method, url, **kwargs)\u001b[0m\n\u001b[1;32m     54\u001b[0m     \u001b[1;31m# cases, and look like a memory leak in others.\u001b[0m\u001b[1;33m\u001b[0m\u001b[1;33m\u001b[0m\u001b[0m\n\u001b[1;32m     55\u001b[0m     \u001b[1;32mwith\u001b[0m \u001b[0msessions\u001b[0m\u001b[1;33m.\u001b[0m\u001b[0mSession\u001b[0m\u001b[1;33m(\u001b[0m\u001b[1;33m)\u001b[0m \u001b[1;32mas\u001b[0m \u001b[0msession\u001b[0m\u001b[1;33m:\u001b[0m\u001b[1;33m\u001b[0m\u001b[0m\n\u001b[0;32m---> 56\u001b[0;31m         \u001b[1;32mreturn\u001b[0m \u001b[0msession\u001b[0m\u001b[1;33m.\u001b[0m\u001b[0mrequest\u001b[0m\u001b[1;33m(\u001b[0m\u001b[0mmethod\u001b[0m\u001b[1;33m=\u001b[0m\u001b[0mmethod\u001b[0m\u001b[1;33m,\u001b[0m \u001b[0murl\u001b[0m\u001b[1;33m=\u001b[0m\u001b[0murl\u001b[0m\u001b[1;33m,\u001b[0m \u001b[1;33m**\u001b[0m\u001b[0mkwargs\u001b[0m\u001b[1;33m)\u001b[0m\u001b[1;33m\u001b[0m\u001b[0m\n\u001b[0m\u001b[1;32m     57\u001b[0m \u001b[1;33m\u001b[0m\u001b[0m\n\u001b[1;32m     58\u001b[0m \u001b[1;33m\u001b[0m\u001b[0m\n",
      "\u001b[0;32mC:\\Users\\tttri\\Anaconda3\\lib\\site-packages\\requests\\sessions.py\u001b[0m in \u001b[0;36mrequest\u001b[0;34m(self, method, url, params, data, headers, cookies, files, auth, timeout, allow_redirects, proxies, hooks, stream, verify, cert, json)\u001b[0m\n\u001b[1;32m    473\u001b[0m         }\n\u001b[1;32m    474\u001b[0m         \u001b[0msend_kwargs\u001b[0m\u001b[1;33m.\u001b[0m\u001b[0mupdate\u001b[0m\u001b[1;33m(\u001b[0m\u001b[0msettings\u001b[0m\u001b[1;33m)\u001b[0m\u001b[1;33m\u001b[0m\u001b[0m\n\u001b[0;32m--> 475\u001b[0;31m         \u001b[0mresp\u001b[0m \u001b[1;33m=\u001b[0m \u001b[0mself\u001b[0m\u001b[1;33m.\u001b[0m\u001b[0msend\u001b[0m\u001b[1;33m(\u001b[0m\u001b[0mprep\u001b[0m\u001b[1;33m,\u001b[0m \u001b[1;33m**\u001b[0m\u001b[0msend_kwargs\u001b[0m\u001b[1;33m)\u001b[0m\u001b[1;33m\u001b[0m\u001b[0m\n\u001b[0m\u001b[1;32m    476\u001b[0m \u001b[1;33m\u001b[0m\u001b[0m\n\u001b[1;32m    477\u001b[0m         \u001b[1;32mreturn\u001b[0m \u001b[0mresp\u001b[0m\u001b[1;33m\u001b[0m\u001b[0m\n",
      "\u001b[0;32mC:\\Users\\tttri\\Anaconda3\\lib\\site-packages\\requests\\sessions.py\u001b[0m in \u001b[0;36msend\u001b[0;34m(self, request, **kwargs)\u001b[0m\n\u001b[1;32m    594\u001b[0m \u001b[1;33m\u001b[0m\u001b[0m\n\u001b[1;32m    595\u001b[0m         \u001b[1;31m# Send the request\u001b[0m\u001b[1;33m\u001b[0m\u001b[1;33m\u001b[0m\u001b[0m\n\u001b[0;32m--> 596\u001b[0;31m         \u001b[0mr\u001b[0m \u001b[1;33m=\u001b[0m \u001b[0madapter\u001b[0m\u001b[1;33m.\u001b[0m\u001b[0msend\u001b[0m\u001b[1;33m(\u001b[0m\u001b[0mrequest\u001b[0m\u001b[1;33m,\u001b[0m \u001b[1;33m**\u001b[0m\u001b[0mkwargs\u001b[0m\u001b[1;33m)\u001b[0m\u001b[1;33m\u001b[0m\u001b[0m\n\u001b[0m\u001b[1;32m    597\u001b[0m \u001b[1;33m\u001b[0m\u001b[0m\n\u001b[1;32m    598\u001b[0m         \u001b[1;31m# Total elapsed time of the request (approximately)\u001b[0m\u001b[1;33m\u001b[0m\u001b[1;33m\u001b[0m\u001b[0m\n",
      "\u001b[0;32mC:\\Users\\tttri\\Anaconda3\\lib\\site-packages\\requests\\adapters.py\u001b[0m in \u001b[0;36msend\u001b[0;34m(self, request, stream, timeout, verify, cert, proxies)\u001b[0m\n\u001b[1;32m    485\u001b[0m                 \u001b[1;32mraise\u001b[0m \u001b[0mProxyError\u001b[0m\u001b[1;33m(\u001b[0m\u001b[0me\u001b[0m\u001b[1;33m,\u001b[0m \u001b[0mrequest\u001b[0m\u001b[1;33m=\u001b[0m\u001b[0mrequest\u001b[0m\u001b[1;33m)\u001b[0m\u001b[1;33m\u001b[0m\u001b[0m\n\u001b[1;32m    486\u001b[0m \u001b[1;33m\u001b[0m\u001b[0m\n\u001b[0;32m--> 487\u001b[0;31m             \u001b[1;32mraise\u001b[0m \u001b[0mConnectionError\u001b[0m\u001b[1;33m(\u001b[0m\u001b[0me\u001b[0m\u001b[1;33m,\u001b[0m \u001b[0mrequest\u001b[0m\u001b[1;33m=\u001b[0m\u001b[0mrequest\u001b[0m\u001b[1;33m)\u001b[0m\u001b[1;33m\u001b[0m\u001b[0m\n\u001b[0m\u001b[1;32m    488\u001b[0m \u001b[1;33m\u001b[0m\u001b[0m\n\u001b[1;32m    489\u001b[0m         \u001b[1;32mexcept\u001b[0m \u001b[0mClosedPoolError\u001b[0m \u001b[1;32mas\u001b[0m \u001b[0me\u001b[0m\u001b[1;33m:\u001b[0m\u001b[1;33m\u001b[0m\u001b[0m\n",
      "\u001b[0;31mConnectionError\u001b[0m: HTTPConnectionPool(host='api-sandbox.oanda.com', port=80): Max retries exceeded with url: /v1/prices?instruments=EUR_USD (Caused by NewConnectionError('<requests.packages.urllib3.connection.HTTPConnection object at 0x0000018A4A412DA0>: Failed to establish a new connection: [WinError 10060] A connection attempt failed because the connected party did not properly respond after a period of time, or established connection failed because connected host has failed to respond',))"
     ]
    }
   ],
   "source": [
    "instrument='EUR_USD'\n",
    "api = requests.get(url.format(instrument))"
   ]
  },
  {
   "cell_type": "code",
   "execution_count": null,
   "metadata": {
    "collapsed": true
   },
   "outputs": [],
   "source": [
    "data = api.json()\n",
    "data"
   ]
  }
 ],
 "metadata": {
  "anaconda-cloud": {},
  "kernelspec": {
   "display_name": "Python [conda root]",
   "language": "python",
   "name": "conda-root-py"
  },
  "language_info": {
   "codemirror_mode": {
    "name": "ipython",
    "version": 3
   },
   "file_extension": ".py",
   "mimetype": "text/x-python",
   "name": "python",
   "nbconvert_exporter": "python",
   "pygments_lexer": "ipython3",
   "version": "3.5.2"
  }
 },
 "nbformat": 4,
 "nbformat_minor": 1
}
