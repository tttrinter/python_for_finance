{
 "cells": [
  {
   "cell_type": "markdown",
   "metadata": {},
   "source": [
    "# Financial Time Series: the PANDAS Library\n",
    "Chapter 6 - Python for Finance."
   ]
  },
  {
   "cell_type": "code",
   "execution_count": 1,
   "metadata": {
    "collapsed": true,
    "jupyter": {
     "outputs_hidden": true
    }
   },
   "outputs": [],
   "source": [
    "import numpy as np\n",
    "import pandas as pd"
   ]
  },
  {
   "cell_type": "code",
   "execution_count": 2,
   "metadata": {
    "collapsed": false,
    "jupyter": {
     "outputs_hidden": false
    }
   },
   "outputs": [
    {
     "data": {
      "text/html": [
       "<div>\n",
       "<style scoped>\n",
       "    .dataframe tbody tr th:only-of-type {\n",
       "        vertical-align: middle;\n",
       "    }\n",
       "\n",
       "    .dataframe tbody tr th {\n",
       "        vertical-align: top;\n",
       "    }\n",
       "\n",
       "    .dataframe thead th {\n",
       "        text-align: right;\n",
       "    }\n",
       "</style>\n",
       "<table border=\"1\" class=\"dataframe\">\n",
       "  <thead>\n",
       "    <tr style=\"text-align: right;\">\n",
       "      <th></th>\n",
       "      <th>numbers</th>\n",
       "    </tr>\n",
       "  </thead>\n",
       "  <tbody>\n",
       "    <tr>\n",
       "      <th>a</th>\n",
       "      <td>10</td>\n",
       "    </tr>\n",
       "    <tr>\n",
       "      <th>b</th>\n",
       "      <td>20</td>\n",
       "    </tr>\n",
       "    <tr>\n",
       "      <th>c</th>\n",
       "      <td>30</td>\n",
       "    </tr>\n",
       "    <tr>\n",
       "      <th>d</th>\n",
       "      <td>40</td>\n",
       "    </tr>\n",
       "  </tbody>\n",
       "</table>\n",
       "</div>"
      ],
      "text/plain": [
       "   numbers\n",
       "a       10\n",
       "b       20\n",
       "c       30\n",
       "d       40"
      ]
     },
     "execution_count": 2,
     "metadata": {},
     "output_type": "execute_result"
    }
   ],
   "source": [
    "df = pd.DataFrame([10,20,30,40], columns=['numbers'], index=['a','b','c','d'])\n",
    "df"
   ]
  },
  {
   "cell_type": "code",
   "execution_count": 3,
   "metadata": {
    "collapsed": false,
    "jupyter": {
     "outputs_hidden": false
    }
   },
   "outputs": [
    {
     "data": {
      "text/plain": [
       "Index(['a', 'b', 'c', 'd'], dtype='object')"
      ]
     },
     "execution_count": 3,
     "metadata": {},
     "output_type": "execute_result"
    }
   ],
   "source": [
    "df.index"
   ]
  },
  {
   "cell_type": "code",
   "execution_count": 4,
   "metadata": {
    "collapsed": false,
    "jupyter": {
     "outputs_hidden": false
    }
   },
   "outputs": [
    {
     "data": {
      "text/plain": [
       "Index(['numbers'], dtype='object')"
      ]
     },
     "execution_count": 4,
     "metadata": {},
     "output_type": "execute_result"
    }
   ],
   "source": [
    "df.columns"
   ]
  },
  {
   "cell_type": "code",
   "execution_count": 5,
   "metadata": {
    "collapsed": false,
    "jupyter": {
     "outputs_hidden": false
    }
   },
   "outputs": [
    {
     "name": "stderr",
     "output_type": "stream",
     "text": [
      "C:\\Users\\tttri\\Anaconda3\\lib\\site-packages\\ipykernel_launcher.py:1: DeprecationWarning: \n",
      ".ix is deprecated. Please use\n",
      ".loc for label based indexing or\n",
      ".iloc for positional indexing\n",
      "\n",
      "See the documentation here:\n",
      "http://pandas.pydata.org/pandas-docs/stable/indexing.html#ix-indexer-is-deprecated\n",
      "  \"\"\"Entry point for launching an IPython kernel.\n"
     ]
    },
    {
     "data": {
      "text/plain": [
       "numbers    30\n",
       "Name: c, dtype: int64"
      ]
     },
     "execution_count": 5,
     "metadata": {},
     "output_type": "execute_result"
    }
   ],
   "source": [
    "df.ix['c']"
   ]
  },
  {
   "cell_type": "code",
   "execution_count": 6,
   "metadata": {
    "collapsed": false,
    "jupyter": {
     "outputs_hidden": false
    }
   },
   "outputs": [
    {
     "name": "stderr",
     "output_type": "stream",
     "text": [
      "C:\\Users\\tttri\\Anaconda3\\lib\\site-packages\\ipykernel_launcher.py:1: DeprecationWarning: \n",
      ".ix is deprecated. Please use\n",
      ".loc for label based indexing or\n",
      ".iloc for positional indexing\n",
      "\n",
      "See the documentation here:\n",
      "http://pandas.pydata.org/pandas-docs/stable/indexing.html#ix-indexer-is-deprecated\n",
      "  \"\"\"Entry point for launching an IPython kernel.\n"
     ]
    },
    {
     "data": {
      "text/html": [
       "<div>\n",
       "<style scoped>\n",
       "    .dataframe tbody tr th:only-of-type {\n",
       "        vertical-align: middle;\n",
       "    }\n",
       "\n",
       "    .dataframe tbody tr th {\n",
       "        vertical-align: top;\n",
       "    }\n",
       "\n",
       "    .dataframe thead th {\n",
       "        text-align: right;\n",
       "    }\n",
       "</style>\n",
       "<table border=\"1\" class=\"dataframe\">\n",
       "  <thead>\n",
       "    <tr style=\"text-align: right;\">\n",
       "      <th></th>\n",
       "      <th>numbers</th>\n",
       "    </tr>\n",
       "  </thead>\n",
       "  <tbody>\n",
       "    <tr>\n",
       "      <th>a</th>\n",
       "      <td>10</td>\n",
       "    </tr>\n",
       "    <tr>\n",
       "      <th>d</th>\n",
       "      <td>40</td>\n",
       "    </tr>\n",
       "  </tbody>\n",
       "</table>\n",
       "</div>"
      ],
      "text/plain": [
       "   numbers\n",
       "a       10\n",
       "d       40"
      ]
     },
     "execution_count": 6,
     "metadata": {},
     "output_type": "execute_result"
    }
   ],
   "source": [
    "df.ix[['a','d']]"
   ]
  },
  {
   "cell_type": "code",
   "execution_count": 7,
   "metadata": {
    "collapsed": false,
    "jupyter": {
     "outputs_hidden": false
    }
   },
   "outputs": [
    {
     "name": "stderr",
     "output_type": "stream",
     "text": [
      "C:\\Users\\tttri\\Anaconda3\\lib\\site-packages\\ipykernel_launcher.py:1: DeprecationWarning: \n",
      ".ix is deprecated. Please use\n",
      ".loc for label based indexing or\n",
      ".iloc for positional indexing\n",
      "\n",
      "See the documentation here:\n",
      "http://pandas.pydata.org/pandas-docs/stable/indexing.html#ix-indexer-is-deprecated\n",
      "  \"\"\"Entry point for launching an IPython kernel.\n"
     ]
    },
    {
     "data": {
      "text/html": [
       "<div>\n",
       "<style scoped>\n",
       "    .dataframe tbody tr th:only-of-type {\n",
       "        vertical-align: middle;\n",
       "    }\n",
       "\n",
       "    .dataframe tbody tr th {\n",
       "        vertical-align: top;\n",
       "    }\n",
       "\n",
       "    .dataframe thead th {\n",
       "        text-align: right;\n",
       "    }\n",
       "</style>\n",
       "<table border=\"1\" class=\"dataframe\">\n",
       "  <thead>\n",
       "    <tr style=\"text-align: right;\">\n",
       "      <th></th>\n",
       "      <th>numbers</th>\n",
       "    </tr>\n",
       "  </thead>\n",
       "  <tbody>\n",
       "    <tr>\n",
       "      <th>b</th>\n",
       "      <td>20</td>\n",
       "    </tr>\n",
       "    <tr>\n",
       "      <th>c</th>\n",
       "      <td>30</td>\n",
       "    </tr>\n",
       "  </tbody>\n",
       "</table>\n",
       "</div>"
      ],
      "text/plain": [
       "   numbers\n",
       "b       20\n",
       "c       30"
      ]
     },
     "execution_count": 7,
     "metadata": {},
     "output_type": "execute_result"
    }
   ],
   "source": [
    "df.ix[df.index[1:3]]"
   ]
  },
  {
   "cell_type": "code",
   "execution_count": 8,
   "metadata": {
    "collapsed": false,
    "jupyter": {
     "outputs_hidden": false
    }
   },
   "outputs": [
    {
     "data": {
      "text/plain": [
       "numbers    100\n",
       "dtype: int64"
      ]
     },
     "execution_count": 8,
     "metadata": {},
     "output_type": "execute_result"
    }
   ],
   "source": [
    "df.sum()"
   ]
  },
  {
   "cell_type": "code",
   "execution_count": 9,
   "metadata": {
    "collapsed": false,
    "jupyter": {
     "outputs_hidden": false
    }
   },
   "outputs": [
    {
     "data": {
      "text/html": [
       "<div>\n",
       "<style scoped>\n",
       "    .dataframe tbody tr th:only-of-type {\n",
       "        vertical-align: middle;\n",
       "    }\n",
       "\n",
       "    .dataframe tbody tr th {\n",
       "        vertical-align: top;\n",
       "    }\n",
       "\n",
       "    .dataframe thead th {\n",
       "        text-align: right;\n",
       "    }\n",
       "</style>\n",
       "<table border=\"1\" class=\"dataframe\">\n",
       "  <thead>\n",
       "    <tr style=\"text-align: right;\">\n",
       "      <th></th>\n",
       "      <th>numbers</th>\n",
       "    </tr>\n",
       "  </thead>\n",
       "  <tbody>\n",
       "    <tr>\n",
       "      <th>a</th>\n",
       "      <td>100</td>\n",
       "    </tr>\n",
       "    <tr>\n",
       "      <th>b</th>\n",
       "      <td>400</td>\n",
       "    </tr>\n",
       "    <tr>\n",
       "      <th>c</th>\n",
       "      <td>900</td>\n",
       "    </tr>\n",
       "    <tr>\n",
       "      <th>d</th>\n",
       "      <td>1600</td>\n",
       "    </tr>\n",
       "  </tbody>\n",
       "</table>\n",
       "</div>"
      ],
      "text/plain": [
       "   numbers\n",
       "a      100\n",
       "b      400\n",
       "c      900\n",
       "d     1600"
      ]
     },
     "execution_count": 9,
     "metadata": {},
     "output_type": "execute_result"
    }
   ],
   "source": [
    "df.apply(lambda x:x**2)"
   ]
  },
  {
   "cell_type": "code",
   "execution_count": 10,
   "metadata": {
    "collapsed": false,
    "jupyter": {
     "outputs_hidden": false
    }
   },
   "outputs": [
    {
     "data": {
      "text/html": [
       "<div>\n",
       "<style scoped>\n",
       "    .dataframe tbody tr th:only-of-type {\n",
       "        vertical-align: middle;\n",
       "    }\n",
       "\n",
       "    .dataframe tbody tr th {\n",
       "        vertical-align: top;\n",
       "    }\n",
       "\n",
       "    .dataframe thead th {\n",
       "        text-align: right;\n",
       "    }\n",
       "</style>\n",
       "<table border=\"1\" class=\"dataframe\">\n",
       "  <thead>\n",
       "    <tr style=\"text-align: right;\">\n",
       "      <th></th>\n",
       "      <th>numbers</th>\n",
       "    </tr>\n",
       "  </thead>\n",
       "  <tbody>\n",
       "    <tr>\n",
       "      <th>a</th>\n",
       "      <td>100</td>\n",
       "    </tr>\n",
       "    <tr>\n",
       "      <th>b</th>\n",
       "      <td>400</td>\n",
       "    </tr>\n",
       "    <tr>\n",
       "      <th>c</th>\n",
       "      <td>900</td>\n",
       "    </tr>\n",
       "    <tr>\n",
       "      <th>d</th>\n",
       "      <td>1600</td>\n",
       "    </tr>\n",
       "  </tbody>\n",
       "</table>\n",
       "</div>"
      ],
      "text/plain": [
       "   numbers\n",
       "a      100\n",
       "b      400\n",
       "c      900\n",
       "d     1600"
      ]
     },
     "execution_count": 10,
     "metadata": {},
     "output_type": "execute_result"
    }
   ],
   "source": [
    "df**2"
   ]
  },
  {
   "cell_type": "code",
   "execution_count": 11,
   "metadata": {
    "collapsed": false,
    "jupyter": {
     "outputs_hidden": false
    }
   },
   "outputs": [
    {
     "data": {
      "text/html": [
       "<div>\n",
       "<table border=\"1\" class=\"dataframe\">\n",
       "  <thead>\n",
       "    <tr style=\"text-align: right;\">\n",
       "      <th></th>\n",
       "      <th>numbers</th>\n",
       "      <th>floats</th>\n",
       "    </tr>\n",
       "  </thead>\n",
       "  <tbody>\n",
       "    <tr>\n",
       "      <th>a</th>\n",
       "      <td>10</td>\n",
       "      <td>1.5</td>\n",
       "    </tr>\n",
       "    <tr>\n",
       "      <th>b</th>\n",
       "      <td>20</td>\n",
       "      <td>2.5</td>\n",
       "    </tr>\n",
       "    <tr>\n",
       "      <th>c</th>\n",
       "      <td>30</td>\n",
       "      <td>3.5</td>\n",
       "    </tr>\n",
       "    <tr>\n",
       "      <th>d</th>\n",
       "      <td>40</td>\n",
       "      <td>4.5</td>\n",
       "    </tr>\n",
       "  </tbody>\n",
       "</table>\n",
       "</div>"
      ],
      "text/plain": [
       "   numbers  floats\n",
       "a       10     1.5\n",
       "b       20     2.5\n",
       "c       30     3.5\n",
       "d       40     4.5"
      ]
     },
     "execution_count": 11,
     "metadata": {},
     "output_type": "execute_result"
    }
   ],
   "source": [
    "df['floats'] = (1.5,2.5,3.5,4.5)\n",
    "df"
   ]
  },
  {
   "cell_type": "code",
   "execution_count": 12,
   "metadata": {
    "collapsed": false,
    "jupyter": {
     "outputs_hidden": false
    }
   },
   "outputs": [
    {
     "data": {
      "text/plain": [
       "a    1.5\n",
       "b    2.5\n",
       "c    3.5\n",
       "d    4.5\n",
       "Name: floats, dtype: float64"
      ]
     },
     "execution_count": 12,
     "metadata": {},
     "output_type": "execute_result"
    }
   ],
   "source": [
    "df['floats']"
   ]
  },
  {
   "cell_type": "code",
   "execution_count": 13,
   "metadata": {
    "collapsed": false,
    "jupyter": {
     "outputs_hidden": false
    }
   },
   "outputs": [
    {
     "data": {
      "text/html": [
       "<div>\n",
       "<table border=\"1\" class=\"dataframe\">\n",
       "  <thead>\n",
       "    <tr style=\"text-align: right;\">\n",
       "      <th></th>\n",
       "      <th>numbers</th>\n",
       "      <th>floats</th>\n",
       "      <th>names</th>\n",
       "    </tr>\n",
       "  </thead>\n",
       "  <tbody>\n",
       "    <tr>\n",
       "      <th>a</th>\n",
       "      <td>10</td>\n",
       "      <td>1.5</td>\n",
       "      <td>Guido</td>\n",
       "    </tr>\n",
       "    <tr>\n",
       "      <th>b</th>\n",
       "      <td>20</td>\n",
       "      <td>2.5</td>\n",
       "      <td>Felix</td>\n",
       "    </tr>\n",
       "    <tr>\n",
       "      <th>c</th>\n",
       "      <td>30</td>\n",
       "      <td>3.5</td>\n",
       "      <td>Francesc</td>\n",
       "    </tr>\n",
       "    <tr>\n",
       "      <th>d</th>\n",
       "      <td>40</td>\n",
       "      <td>4.5</td>\n",
       "      <td>Yves</td>\n",
       "    </tr>\n",
       "  </tbody>\n",
       "</table>\n",
       "</div>"
      ],
      "text/plain": [
       "   numbers  floats     names\n",
       "a       10     1.5     Guido\n",
       "b       20     2.5     Felix\n",
       "c       30     3.5  Francesc\n",
       "d       40     4.5      Yves"
      ]
     },
     "execution_count": 13,
     "metadata": {},
     "output_type": "execute_result"
    }
   ],
   "source": [
    "df['names'] = pd.DataFrame(['Yves', 'Guido','Felix', 'Francesc'],index=['d','a','b','c'])\n",
    "df"
   ]
  },
  {
   "cell_type": "code",
   "execution_count": 14,
   "metadata": {
    "collapsed": false,
    "jupyter": {
     "outputs_hidden": false
    }
   },
   "outputs": [
    {
     "data": {
      "text/html": [
       "<div>\n",
       "<table border=\"1\" class=\"dataframe\">\n",
       "  <thead>\n",
       "    <tr style=\"text-align: right;\">\n",
       "      <th></th>\n",
       "      <th>numbers</th>\n",
       "      <th>floats</th>\n",
       "      <th>names</th>\n",
       "    </tr>\n",
       "  </thead>\n",
       "  <tbody>\n",
       "    <tr>\n",
       "      <th>0</th>\n",
       "      <td>10</td>\n",
       "      <td>1.50</td>\n",
       "      <td>Guido</td>\n",
       "    </tr>\n",
       "    <tr>\n",
       "      <th>1</th>\n",
       "      <td>20</td>\n",
       "      <td>2.50</td>\n",
       "      <td>Felix</td>\n",
       "    </tr>\n",
       "    <tr>\n",
       "      <th>2</th>\n",
       "      <td>30</td>\n",
       "      <td>3.50</td>\n",
       "      <td>Francesc</td>\n",
       "    </tr>\n",
       "    <tr>\n",
       "      <th>3</th>\n",
       "      <td>40</td>\n",
       "      <td>4.50</td>\n",
       "      <td>Yves</td>\n",
       "    </tr>\n",
       "    <tr>\n",
       "      <th>4</th>\n",
       "      <td>100</td>\n",
       "      <td>5.75</td>\n",
       "      <td>Henry</td>\n",
       "    </tr>\n",
       "  </tbody>\n",
       "</table>\n",
       "</div>"
      ],
      "text/plain": [
       "   numbers  floats     names\n",
       "0       10    1.50     Guido\n",
       "1       20    2.50     Felix\n",
       "2       30    3.50  Francesc\n",
       "3       40    4.50      Yves\n",
       "4      100    5.75     Henry"
      ]
     },
     "execution_count": 14,
     "metadata": {},
     "output_type": "execute_result"
    }
   ],
   "source": [
    "df.append({'numbers':100, 'floats': 5.75, 'names': 'Henry'}, ignore_index=True)\n",
    "\n",
    "#this is a temporary object. df is not changed"
   ]
  },
  {
   "cell_type": "code",
   "execution_count": 15,
   "metadata": {
    "collapsed": false,
    "jupyter": {
     "outputs_hidden": false
    }
   },
   "outputs": [],
   "source": [
    "df = df.append(pd.DataFrame({'numbers': 100, 'floats': 5.75, 'names': 'Henry'}, index =['z',]))\n",
    "\n",
    "#By appending a dataframe, the index is preserved"
   ]
  },
  {
   "cell_type": "code",
   "execution_count": 16,
   "metadata": {
    "collapsed": false,
    "jupyter": {
     "outputs_hidden": false
    }
   },
   "outputs": [
    {
     "data": {
      "text/html": [
       "<div>\n",
       "<table border=\"1\" class=\"dataframe\">\n",
       "  <thead>\n",
       "    <tr style=\"text-align: right;\">\n",
       "      <th></th>\n",
       "      <th>floats</th>\n",
       "      <th>names</th>\n",
       "      <th>numbers</th>\n",
       "    </tr>\n",
       "  </thead>\n",
       "  <tbody>\n",
       "    <tr>\n",
       "      <th>a</th>\n",
       "      <td>1.50</td>\n",
       "      <td>Guido</td>\n",
       "      <td>10</td>\n",
       "    </tr>\n",
       "    <tr>\n",
       "      <th>b</th>\n",
       "      <td>2.50</td>\n",
       "      <td>Felix</td>\n",
       "      <td>20</td>\n",
       "    </tr>\n",
       "    <tr>\n",
       "      <th>c</th>\n",
       "      <td>3.50</td>\n",
       "      <td>Francesc</td>\n",
       "      <td>30</td>\n",
       "    </tr>\n",
       "    <tr>\n",
       "      <th>d</th>\n",
       "      <td>4.50</td>\n",
       "      <td>Yves</td>\n",
       "      <td>40</td>\n",
       "    </tr>\n",
       "    <tr>\n",
       "      <th>z</th>\n",
       "      <td>5.75</td>\n",
       "      <td>Henry</td>\n",
       "      <td>100</td>\n",
       "    </tr>\n",
       "  </tbody>\n",
       "</table>\n",
       "</div>"
      ],
      "text/plain": [
       "   floats     names  numbers\n",
       "a    1.50     Guido       10\n",
       "b    2.50     Felix       20\n",
       "c    3.50  Francesc       30\n",
       "d    4.50      Yves       40\n",
       "z    5.75     Henry      100"
      ]
     },
     "execution_count": 16,
     "metadata": {},
     "output_type": "execute_result"
    }
   ],
   "source": [
    "df"
   ]
  },
  {
   "cell_type": "code",
   "execution_count": 17,
   "metadata": {
    "collapsed": false,
    "jupyter": {
     "outputs_hidden": false
    }
   },
   "outputs": [
    {
     "data": {
      "text/html": [
       "<div>\n",
       "<table border=\"1\" class=\"dataframe\">\n",
       "  <thead>\n",
       "    <tr style=\"text-align: right;\">\n",
       "      <th></th>\n",
       "      <th>floats</th>\n",
       "      <th>names</th>\n",
       "      <th>numbers</th>\n",
       "    </tr>\n",
       "  </thead>\n",
       "  <tbody>\n",
       "    <tr>\n",
       "      <th>a</th>\n",
       "      <td>1.50</td>\n",
       "      <td>Guido</td>\n",
       "      <td>10</td>\n",
       "    </tr>\n",
       "    <tr>\n",
       "      <th>b</th>\n",
       "      <td>2.50</td>\n",
       "      <td>Felix</td>\n",
       "      <td>20</td>\n",
       "    </tr>\n",
       "    <tr>\n",
       "      <th>c</th>\n",
       "      <td>3.50</td>\n",
       "      <td>Francesc</td>\n",
       "      <td>30</td>\n",
       "    </tr>\n",
       "    <tr>\n",
       "      <th>d</th>\n",
       "      <td>4.50</td>\n",
       "      <td>Yves</td>\n",
       "      <td>40</td>\n",
       "    </tr>\n",
       "    <tr>\n",
       "      <th>z</th>\n",
       "      <td>5.75</td>\n",
       "      <td>Henry</td>\n",
       "      <td>100</td>\n",
       "    </tr>\n",
       "  </tbody>\n",
       "</table>\n",
       "</div>"
      ],
      "text/plain": [
       "   floats     names  numbers\n",
       "a    1.50     Guido       10\n",
       "b    2.50     Felix       20\n",
       "c    3.50  Francesc       30\n",
       "d    4.50      Yves       40\n",
       "z    5.75     Henry      100"
      ]
     },
     "execution_count": 17,
     "metadata": {},
     "output_type": "execute_result"
    }
   ],
   "source": [
    "df.drop_duplicates(inplace=True)\n",
    "df"
   ]
  },
  {
   "cell_type": "markdown",
   "metadata": {},
   "source": [
    "## Dealing with missing data"
   ]
  },
  {
   "cell_type": "code",
   "execution_count": 18,
   "metadata": {
    "collapsed": false,
    "jupyter": {
     "outputs_hidden": false
    }
   },
   "outputs": [
    {
     "data": {
      "text/html": [
       "<div>\n",
       "<table border=\"1\" class=\"dataframe\">\n",
       "  <thead>\n",
       "    <tr style=\"text-align: right;\">\n",
       "      <th></th>\n",
       "      <th>floats</th>\n",
       "      <th>names</th>\n",
       "      <th>numbers</th>\n",
       "      <th>squares</th>\n",
       "    </tr>\n",
       "  </thead>\n",
       "  <tbody>\n",
       "    <tr>\n",
       "      <th>a</th>\n",
       "      <td>1.50</td>\n",
       "      <td>Guido</td>\n",
       "      <td>10</td>\n",
       "      <td>1</td>\n",
       "    </tr>\n",
       "    <tr>\n",
       "      <th>b</th>\n",
       "      <td>2.50</td>\n",
       "      <td>Felix</td>\n",
       "      <td>20</td>\n",
       "      <td>4</td>\n",
       "    </tr>\n",
       "    <tr>\n",
       "      <th>c</th>\n",
       "      <td>3.50</td>\n",
       "      <td>Francesc</td>\n",
       "      <td>30</td>\n",
       "      <td>9</td>\n",
       "    </tr>\n",
       "    <tr>\n",
       "      <th>d</th>\n",
       "      <td>4.50</td>\n",
       "      <td>Yves</td>\n",
       "      <td>40</td>\n",
       "      <td>16</td>\n",
       "    </tr>\n",
       "    <tr>\n",
       "      <th>z</th>\n",
       "      <td>5.75</td>\n",
       "      <td>Henry</td>\n",
       "      <td>100</td>\n",
       "      <td>NaN</td>\n",
       "    </tr>\n",
       "  </tbody>\n",
       "</table>\n",
       "</div>"
      ],
      "text/plain": [
       "   floats     names  numbers  squares\n",
       "a    1.50     Guido       10        1\n",
       "b    2.50     Felix       20        4\n",
       "c    3.50  Francesc       30        9\n",
       "d    4.50      Yves       40       16\n",
       "z    5.75     Henry      100      NaN"
      ]
     },
     "execution_count": 18,
     "metadata": {},
     "output_type": "execute_result"
    }
   ],
   "source": [
    "new_data_df = pd.DataFrame([1, 4, 9, 16, 25], index =['a', 'b', 'c', 'd', 'y'], columns =['squares',]) \n",
    "df.join(new_data_df) # temporary object"
   ]
  },
  {
   "cell_type": "code",
   "execution_count": 19,
   "metadata": {
    "collapsed": false,
    "jupyter": {
     "outputs_hidden": false
    }
   },
   "outputs": [],
   "source": [
    "new_data_df = pd.DataFrame([1, 4, 9, 16, 25], index =['a', 'b', 'c', 'd', 'y'], columns =['squares',]) \n",
    "df = df.join(new_data_df, how='outer') # temporary object"
   ]
  },
  {
   "cell_type": "code",
   "execution_count": 20,
   "metadata": {
    "collapsed": false,
    "jupyter": {
     "outputs_hidden": false
    }
   },
   "outputs": [
    {
     "data": {
      "text/plain": [
       "numbers    40\n",
       "squares    11\n",
       "dtype: float64"
      ]
     },
     "execution_count": 20,
     "metadata": {},
     "output_type": "execute_result"
    }
   ],
   "source": [
    "df[['numbers','squares']].mean()"
   ]
  },
  {
   "cell_type": "code",
   "execution_count": 21,
   "metadata": {
    "collapsed": false,
    "jupyter": {
     "outputs_hidden": false
    }
   },
   "outputs": [
    {
     "data": {
      "text/plain": [
       "numbers    35.355339\n",
       "squares     9.669540\n",
       "dtype: float64"
      ]
     },
     "execution_count": 21,
     "metadata": {},
     "output_type": "execute_result"
    }
   ],
   "source": [
    "df[['numbers','squares']].std()"
   ]
  },
  {
   "cell_type": "markdown",
   "metadata": {},
   "source": [
    "## Working with numerical data\n",
    "Generating a dummy dataset with nine rows and 4 columns of random data."
   ]
  },
  {
   "cell_type": "code",
   "execution_count": 22,
   "metadata": {
    "collapsed": false,
    "jupyter": {
     "outputs_hidden": false
    }
   },
   "outputs": [
    {
     "data": {
      "text/plain": [
       "array([[-0.139925, -0.6553  , -0.494234, -1.201656],\n",
       "       [-1.724084, -0.543004, -1.205985,  0.445805],\n",
       "       [-0.225742, -0.825168,  0.24778 , -1.765802],\n",
       "       [ 1.561295, -1.158412, -0.985166, -0.262847],\n",
       "       [-0.175999, -0.034417,  1.784506,  0.154799],\n",
       "       [-1.733556,  0.167132,  0.99757 , -1.035692],\n",
       "       [-0.904751,  1.636814,  1.549339, -0.325005],\n",
       "       [-0.696344,  0.361184, -0.458277, -0.32416 ],\n",
       "       [-0.775179, -0.727072,  0.242922, -1.259074]])"
      ]
     },
     "execution_count": 22,
     "metadata": {},
     "output_type": "execute_result"
    }
   ],
   "source": [
    "a = np.random.standard_normal((9,4))\n",
    "a.round(6)"
   ]
  },
  {
   "cell_type": "code",
   "execution_count": 23,
   "metadata": {
    "collapsed": false,
    "jupyter": {
     "outputs_hidden": false
    }
   },
   "outputs": [
    {
     "data": {
      "text/html": [
       "<div>\n",
       "<table border=\"1\" class=\"dataframe\">\n",
       "  <thead>\n",
       "    <tr style=\"text-align: right;\">\n",
       "      <th></th>\n",
       "      <th>0</th>\n",
       "      <th>1</th>\n",
       "      <th>2</th>\n",
       "      <th>3</th>\n",
       "    </tr>\n",
       "  </thead>\n",
       "  <tbody>\n",
       "    <tr>\n",
       "      <th>0</th>\n",
       "      <td>-0.139925</td>\n",
       "      <td>-0.655300</td>\n",
       "      <td>-0.494234</td>\n",
       "      <td>-1.201656</td>\n",
       "    </tr>\n",
       "    <tr>\n",
       "      <th>1</th>\n",
       "      <td>-1.724084</td>\n",
       "      <td>-0.543004</td>\n",
       "      <td>-1.205985</td>\n",
       "      <td>0.445805</td>\n",
       "    </tr>\n",
       "    <tr>\n",
       "      <th>2</th>\n",
       "      <td>-0.225742</td>\n",
       "      <td>-0.825168</td>\n",
       "      <td>0.247780</td>\n",
       "      <td>-1.765802</td>\n",
       "    </tr>\n",
       "    <tr>\n",
       "      <th>3</th>\n",
       "      <td>1.561295</td>\n",
       "      <td>-1.158412</td>\n",
       "      <td>-0.985166</td>\n",
       "      <td>-0.262847</td>\n",
       "    </tr>\n",
       "    <tr>\n",
       "      <th>4</th>\n",
       "      <td>-0.175999</td>\n",
       "      <td>-0.034417</td>\n",
       "      <td>1.784506</td>\n",
       "      <td>0.154799</td>\n",
       "    </tr>\n",
       "    <tr>\n",
       "      <th>5</th>\n",
       "      <td>-1.733556</td>\n",
       "      <td>0.167132</td>\n",
       "      <td>0.997570</td>\n",
       "      <td>-1.035692</td>\n",
       "    </tr>\n",
       "    <tr>\n",
       "      <th>6</th>\n",
       "      <td>-0.904751</td>\n",
       "      <td>1.636814</td>\n",
       "      <td>1.549339</td>\n",
       "      <td>-0.325005</td>\n",
       "    </tr>\n",
       "    <tr>\n",
       "      <th>7</th>\n",
       "      <td>-0.696344</td>\n",
       "      <td>0.361184</td>\n",
       "      <td>-0.458277</td>\n",
       "      <td>-0.324160</td>\n",
       "    </tr>\n",
       "    <tr>\n",
       "      <th>8</th>\n",
       "      <td>-0.775179</td>\n",
       "      <td>-0.727072</td>\n",
       "      <td>0.242922</td>\n",
       "      <td>-1.259074</td>\n",
       "    </tr>\n",
       "  </tbody>\n",
       "</table>\n",
       "</div>"
      ],
      "text/plain": [
       "          0         1         2         3\n",
       "0 -0.139925 -0.655300 -0.494234 -1.201656\n",
       "1 -1.724084 -0.543004 -1.205985  0.445805\n",
       "2 -0.225742 -0.825168  0.247780 -1.765802\n",
       "3  1.561295 -1.158412 -0.985166 -0.262847\n",
       "4 -0.175999 -0.034417  1.784506  0.154799\n",
       "5 -1.733556  0.167132  0.997570 -1.035692\n",
       "6 -0.904751  1.636814  1.549339 -0.325005\n",
       "7 -0.696344  0.361184 -0.458277 -0.324160\n",
       "8 -0.775179 -0.727072  0.242922 -1.259074"
      ]
     },
     "execution_count": 23,
     "metadata": {},
     "output_type": "execute_result"
    }
   ],
   "source": [
    "df = pd.DataFrame(a)\n",
    "df"
   ]
  },
  {
   "cell_type": "code",
   "execution_count": 24,
   "metadata": {
    "collapsed": false,
    "jupyter": {
     "outputs_hidden": false
    }
   },
   "outputs": [
    {
     "data": {
      "text/html": [
       "<div>\n",
       "<table border=\"1\" class=\"dataframe\">\n",
       "  <thead>\n",
       "    <tr style=\"text-align: right;\">\n",
       "      <th></th>\n",
       "      <th>No1</th>\n",
       "      <th>No2</th>\n",
       "      <th>No3</th>\n",
       "      <th>No4</th>\n",
       "    </tr>\n",
       "  </thead>\n",
       "  <tbody>\n",
       "    <tr>\n",
       "      <th>0</th>\n",
       "      <td>-0.139925</td>\n",
       "      <td>-0.655300</td>\n",
       "      <td>-0.494234</td>\n",
       "      <td>-1.201656</td>\n",
       "    </tr>\n",
       "    <tr>\n",
       "      <th>1</th>\n",
       "      <td>-1.724084</td>\n",
       "      <td>-0.543004</td>\n",
       "      <td>-1.205985</td>\n",
       "      <td>0.445805</td>\n",
       "    </tr>\n",
       "    <tr>\n",
       "      <th>2</th>\n",
       "      <td>-0.225742</td>\n",
       "      <td>-0.825168</td>\n",
       "      <td>0.247780</td>\n",
       "      <td>-1.765802</td>\n",
       "    </tr>\n",
       "    <tr>\n",
       "      <th>3</th>\n",
       "      <td>1.561295</td>\n",
       "      <td>-1.158412</td>\n",
       "      <td>-0.985166</td>\n",
       "      <td>-0.262847</td>\n",
       "    </tr>\n",
       "    <tr>\n",
       "      <th>4</th>\n",
       "      <td>-0.175999</td>\n",
       "      <td>-0.034417</td>\n",
       "      <td>1.784506</td>\n",
       "      <td>0.154799</td>\n",
       "    </tr>\n",
       "    <tr>\n",
       "      <th>5</th>\n",
       "      <td>-1.733556</td>\n",
       "      <td>0.167132</td>\n",
       "      <td>0.997570</td>\n",
       "      <td>-1.035692</td>\n",
       "    </tr>\n",
       "    <tr>\n",
       "      <th>6</th>\n",
       "      <td>-0.904751</td>\n",
       "      <td>1.636814</td>\n",
       "      <td>1.549339</td>\n",
       "      <td>-0.325005</td>\n",
       "    </tr>\n",
       "    <tr>\n",
       "      <th>7</th>\n",
       "      <td>-0.696344</td>\n",
       "      <td>0.361184</td>\n",
       "      <td>-0.458277</td>\n",
       "      <td>-0.324160</td>\n",
       "    </tr>\n",
       "    <tr>\n",
       "      <th>8</th>\n",
       "      <td>-0.775179</td>\n",
       "      <td>-0.727072</td>\n",
       "      <td>0.242922</td>\n",
       "      <td>-1.259074</td>\n",
       "    </tr>\n",
       "  </tbody>\n",
       "</table>\n",
       "</div>"
      ],
      "text/plain": [
       "        No1       No2       No3       No4\n",
       "0 -0.139925 -0.655300 -0.494234 -1.201656\n",
       "1 -1.724084 -0.543004 -1.205985  0.445805\n",
       "2 -0.225742 -0.825168  0.247780 -1.765802\n",
       "3  1.561295 -1.158412 -0.985166 -0.262847\n",
       "4 -0.175999 -0.034417  1.784506  0.154799\n",
       "5 -1.733556  0.167132  0.997570 -1.035692\n",
       "6 -0.904751  1.636814  1.549339 -0.325005\n",
       "7 -0.696344  0.361184 -0.458277 -0.324160\n",
       "8 -0.775179 -0.727072  0.242922 -1.259074"
      ]
     },
     "execution_count": 24,
     "metadata": {},
     "output_type": "execute_result"
    }
   ],
   "source": [
    "df.columns = [['No1','No2','No3','No4']]\n",
    "df"
   ]
  },
  {
   "cell_type": "code",
   "execution_count": 25,
   "metadata": {
    "collapsed": false,
    "jupyter": {
     "outputs_hidden": false
    }
   },
   "outputs": [
    {
     "data": {
      "text/plain": [
       "-1.1584119492805847"
      ]
     },
     "execution_count": 25,
     "metadata": {},
     "output_type": "execute_result"
    }
   ],
   "source": [
    "df['No2'][3]"
   ]
  },
  {
   "cell_type": "markdown",
   "metadata": {},
   "source": [
    "## Dates"
   ]
  },
  {
   "cell_type": "code",
   "execution_count": 26,
   "metadata": {
    "collapsed": false,
    "jupyter": {
     "outputs_hidden": false
    }
   },
   "outputs": [
    {
     "data": {
      "text/plain": [
       "DatetimeIndex(['2015-01-31', '2015-02-28', '2015-03-31', '2015-04-30',\n",
       "               '2015-05-31', '2015-06-30', '2015-07-31', '2015-08-31',\n",
       "               '2015-09-30'],\n",
       "              dtype='datetime64[ns]', freq='M')"
      ]
     },
     "execution_count": 26,
     "metadata": {},
     "output_type": "execute_result"
    }
   ],
   "source": [
    "dates = pd.date_range('2015-1-1', periods=9, freq='M')\n",
    "dates"
   ]
  },
  {
   "cell_type": "code",
   "execution_count": 27,
   "metadata": {
    "collapsed": false,
    "jupyter": {
     "outputs_hidden": false
    }
   },
   "outputs": [
    {
     "data": {
      "text/html": [
       "<div>\n",
       "<table border=\"1\" class=\"dataframe\">\n",
       "  <thead>\n",
       "    <tr style=\"text-align: right;\">\n",
       "      <th></th>\n",
       "      <th>No1</th>\n",
       "      <th>No2</th>\n",
       "      <th>No3</th>\n",
       "      <th>No4</th>\n",
       "    </tr>\n",
       "  </thead>\n",
       "  <tbody>\n",
       "    <tr>\n",
       "      <th>2015-01-31</th>\n",
       "      <td>-0.139925</td>\n",
       "      <td>-0.655300</td>\n",
       "      <td>-0.494234</td>\n",
       "      <td>-1.201656</td>\n",
       "    </tr>\n",
       "    <tr>\n",
       "      <th>2015-02-28</th>\n",
       "      <td>-1.724084</td>\n",
       "      <td>-0.543004</td>\n",
       "      <td>-1.205985</td>\n",
       "      <td>0.445805</td>\n",
       "    </tr>\n",
       "    <tr>\n",
       "      <th>2015-03-31</th>\n",
       "      <td>-0.225742</td>\n",
       "      <td>-0.825168</td>\n",
       "      <td>0.247780</td>\n",
       "      <td>-1.765802</td>\n",
       "    </tr>\n",
       "    <tr>\n",
       "      <th>2015-04-30</th>\n",
       "      <td>1.561295</td>\n",
       "      <td>-1.158412</td>\n",
       "      <td>-0.985166</td>\n",
       "      <td>-0.262847</td>\n",
       "    </tr>\n",
       "    <tr>\n",
       "      <th>2015-05-31</th>\n",
       "      <td>-0.175999</td>\n",
       "      <td>-0.034417</td>\n",
       "      <td>1.784506</td>\n",
       "      <td>0.154799</td>\n",
       "    </tr>\n",
       "    <tr>\n",
       "      <th>2015-06-30</th>\n",
       "      <td>-1.733556</td>\n",
       "      <td>0.167132</td>\n",
       "      <td>0.997570</td>\n",
       "      <td>-1.035692</td>\n",
       "    </tr>\n",
       "    <tr>\n",
       "      <th>2015-07-31</th>\n",
       "      <td>-0.904751</td>\n",
       "      <td>1.636814</td>\n",
       "      <td>1.549339</td>\n",
       "      <td>-0.325005</td>\n",
       "    </tr>\n",
       "    <tr>\n",
       "      <th>2015-08-31</th>\n",
       "      <td>-0.696344</td>\n",
       "      <td>0.361184</td>\n",
       "      <td>-0.458277</td>\n",
       "      <td>-0.324160</td>\n",
       "    </tr>\n",
       "    <tr>\n",
       "      <th>2015-09-30</th>\n",
       "      <td>-0.775179</td>\n",
       "      <td>-0.727072</td>\n",
       "      <td>0.242922</td>\n",
       "      <td>-1.259074</td>\n",
       "    </tr>\n",
       "  </tbody>\n",
       "</table>\n",
       "</div>"
      ],
      "text/plain": [
       "                 No1       No2       No3       No4\n",
       "2015-01-31 -0.139925 -0.655300 -0.494234 -1.201656\n",
       "2015-02-28 -1.724084 -0.543004 -1.205985  0.445805\n",
       "2015-03-31 -0.225742 -0.825168  0.247780 -1.765802\n",
       "2015-04-30  1.561295 -1.158412 -0.985166 -0.262847\n",
       "2015-05-31 -0.175999 -0.034417  1.784506  0.154799\n",
       "2015-06-30 -1.733556  0.167132  0.997570 -1.035692\n",
       "2015-07-31 -0.904751  1.636814  1.549339 -0.325005\n",
       "2015-08-31 -0.696344  0.361184 -0.458277 -0.324160\n",
       "2015-09-30 -0.775179 -0.727072  0.242922 -1.259074"
      ]
     },
     "execution_count": 27,
     "metadata": {},
     "output_type": "execute_result"
    }
   ],
   "source": [
    "df.index = dates\n",
    "df"
   ]
  },
  {
   "cell_type": "code",
   "execution_count": 28,
   "metadata": {
    "collapsed": false,
    "jupyter": {
     "outputs_hidden": false
    }
   },
   "outputs": [
    {
     "data": {
      "text/plain": [
       "array([[-0.139925, -0.6553  , -0.494234, -1.201656],\n",
       "       [-1.724084, -0.543004, -1.205985,  0.445805],\n",
       "       [-0.225742, -0.825168,  0.24778 , -1.765802],\n",
       "       [ 1.561295, -1.158412, -0.985166, -0.262847],\n",
       "       [-0.175999, -0.034417,  1.784506,  0.154799],\n",
       "       [-1.733556,  0.167132,  0.99757 , -1.035692],\n",
       "       [-0.904751,  1.636814,  1.549339, -0.325005],\n",
       "       [-0.696344,  0.361184, -0.458277, -0.32416 ],\n",
       "       [-0.775179, -0.727072,  0.242922, -1.259074]])"
      ]
     },
     "execution_count": 28,
     "metadata": {},
     "output_type": "execute_result"
    }
   ],
   "source": [
    "np.array(df).round(6)"
   ]
  },
  {
   "cell_type": "markdown",
   "metadata": {},
   "source": [
    "## Basic Analytics\n",
    "\n",
    "Column wise operations:"
   ]
  },
  {
   "cell_type": "code",
   "execution_count": 29,
   "metadata": {
    "collapsed": false,
    "jupyter": {
     "outputs_hidden": false
    }
   },
   "outputs": [
    {
     "data": {
      "text/plain": [
       "No1   -4.814286\n",
       "No2   -1.778243\n",
       "No3    1.678456\n",
       "No4   -5.573632\n",
       "dtype: float64"
      ]
     },
     "execution_count": 29,
     "metadata": {},
     "output_type": "execute_result"
    }
   ],
   "source": [
    "df.sum()"
   ]
  },
  {
   "cell_type": "code",
   "execution_count": 30,
   "metadata": {
    "collapsed": false,
    "jupyter": {
     "outputs_hidden": false
    }
   },
   "outputs": [
    {
     "data": {
      "text/plain": [
       "No1   -0.534921\n",
       "No2   -0.197583\n",
       "No3    0.186495\n",
       "No4   -0.619292\n",
       "dtype: float64"
      ]
     },
     "execution_count": 30,
     "metadata": {},
     "output_type": "execute_result"
    }
   ],
   "source": [
    "df.mean()"
   ]
  },
  {
   "cell_type": "code",
   "execution_count": 31,
   "metadata": {
    "collapsed": false,
    "jupyter": {
     "outputs_hidden": false
    }
   },
   "outputs": [
    {
     "data": {
      "text/html": [
       "<div>\n",
       "<table border=\"1\" class=\"dataframe\">\n",
       "  <thead>\n",
       "    <tr style=\"text-align: right;\">\n",
       "      <th></th>\n",
       "      <th>No1</th>\n",
       "      <th>No2</th>\n",
       "      <th>No3</th>\n",
       "      <th>No4</th>\n",
       "    </tr>\n",
       "  </thead>\n",
       "  <tbody>\n",
       "    <tr>\n",
       "      <th>2015-01-31</th>\n",
       "      <td>-0.139925</td>\n",
       "      <td>-0.655300</td>\n",
       "      <td>-0.494234</td>\n",
       "      <td>-1.201656</td>\n",
       "    </tr>\n",
       "    <tr>\n",
       "      <th>2015-02-28</th>\n",
       "      <td>-1.864010</td>\n",
       "      <td>-1.198304</td>\n",
       "      <td>-1.700219</td>\n",
       "      <td>-0.755851</td>\n",
       "    </tr>\n",
       "    <tr>\n",
       "      <th>2015-03-31</th>\n",
       "      <td>-2.089751</td>\n",
       "      <td>-2.023472</td>\n",
       "      <td>-1.452438</td>\n",
       "      <td>-2.521653</td>\n",
       "    </tr>\n",
       "    <tr>\n",
       "      <th>2015-04-30</th>\n",
       "      <td>-0.528456</td>\n",
       "      <td>-3.181884</td>\n",
       "      <td>-2.437604</td>\n",
       "      <td>-2.784500</td>\n",
       "    </tr>\n",
       "    <tr>\n",
       "      <th>2015-05-31</th>\n",
       "      <td>-0.704456</td>\n",
       "      <td>-3.216301</td>\n",
       "      <td>-0.653098</td>\n",
       "      <td>-2.629701</td>\n",
       "    </tr>\n",
       "    <tr>\n",
       "      <th>2015-06-30</th>\n",
       "      <td>-2.438012</td>\n",
       "      <td>-3.049169</td>\n",
       "      <td>0.344472</td>\n",
       "      <td>-3.665393</td>\n",
       "    </tr>\n",
       "    <tr>\n",
       "      <th>2015-07-31</th>\n",
       "      <td>-3.342763</td>\n",
       "      <td>-1.412355</td>\n",
       "      <td>1.893811</td>\n",
       "      <td>-3.990398</td>\n",
       "    </tr>\n",
       "    <tr>\n",
       "      <th>2015-08-31</th>\n",
       "      <td>-4.039107</td>\n",
       "      <td>-1.051171</td>\n",
       "      <td>1.435534</td>\n",
       "      <td>-4.314557</td>\n",
       "    </tr>\n",
       "    <tr>\n",
       "      <th>2015-09-30</th>\n",
       "      <td>-4.814286</td>\n",
       "      <td>-1.778243</td>\n",
       "      <td>1.678456</td>\n",
       "      <td>-5.573632</td>\n",
       "    </tr>\n",
       "  </tbody>\n",
       "</table>\n",
       "</div>"
      ],
      "text/plain": [
       "                 No1       No2       No3       No4\n",
       "2015-01-31 -0.139925 -0.655300 -0.494234 -1.201656\n",
       "2015-02-28 -1.864010 -1.198304 -1.700219 -0.755851\n",
       "2015-03-31 -2.089751 -2.023472 -1.452438 -2.521653\n",
       "2015-04-30 -0.528456 -3.181884 -2.437604 -2.784500\n",
       "2015-05-31 -0.704456 -3.216301 -0.653098 -2.629701\n",
       "2015-06-30 -2.438012 -3.049169  0.344472 -3.665393\n",
       "2015-07-31 -3.342763 -1.412355  1.893811 -3.990398\n",
       "2015-08-31 -4.039107 -1.051171  1.435534 -4.314557\n",
       "2015-09-30 -4.814286 -1.778243  1.678456 -5.573632"
      ]
     },
     "execution_count": 31,
     "metadata": {},
     "output_type": "execute_result"
    }
   ],
   "source": [
    "df.cumsum()"
   ]
  },
  {
   "cell_type": "code",
   "execution_count": 32,
   "metadata": {
    "collapsed": false,
    "jupyter": {
     "outputs_hidden": false
    }
   },
   "outputs": [
    {
     "data": {
      "text/html": [
       "<div>\n",
       "<table border=\"1\" class=\"dataframe\">\n",
       "  <thead>\n",
       "    <tr style=\"text-align: right;\">\n",
       "      <th></th>\n",
       "      <th>No1</th>\n",
       "      <th>No2</th>\n",
       "      <th>No3</th>\n",
       "      <th>No4</th>\n",
       "    </tr>\n",
       "  </thead>\n",
       "  <tbody>\n",
       "    <tr>\n",
       "      <th>count</th>\n",
       "      <td>9.000000</td>\n",
       "      <td>9.000000</td>\n",
       "      <td>9.000000</td>\n",
       "      <td>9.000000</td>\n",
       "    </tr>\n",
       "    <tr>\n",
       "      <th>mean</th>\n",
       "      <td>-0.534921</td>\n",
       "      <td>-0.197583</td>\n",
       "      <td>0.186495</td>\n",
       "      <td>-0.619292</td>\n",
       "    </tr>\n",
       "    <tr>\n",
       "      <th>std</th>\n",
       "      <td>0.990325</td>\n",
       "      <td>0.848757</td>\n",
       "      <td>1.076260</td>\n",
       "      <td>0.730646</td>\n",
       "    </tr>\n",
       "    <tr>\n",
       "      <th>min</th>\n",
       "      <td>-1.733556</td>\n",
       "      <td>-1.158412</td>\n",
       "      <td>-1.205985</td>\n",
       "      <td>-1.765802</td>\n",
       "    </tr>\n",
       "    <tr>\n",
       "      <th>25%</th>\n",
       "      <td>-0.904751</td>\n",
       "      <td>-0.727072</td>\n",
       "      <td>-0.494234</td>\n",
       "      <td>-1.201656</td>\n",
       "    </tr>\n",
       "    <tr>\n",
       "      <th>50%</th>\n",
       "      <td>-0.696344</td>\n",
       "      <td>-0.543004</td>\n",
       "      <td>0.242922</td>\n",
       "      <td>-0.325005</td>\n",
       "    </tr>\n",
       "    <tr>\n",
       "      <th>75%</th>\n",
       "      <td>-0.175999</td>\n",
       "      <td>0.167132</td>\n",
       "      <td>0.997570</td>\n",
       "      <td>-0.262847</td>\n",
       "    </tr>\n",
       "    <tr>\n",
       "      <th>max</th>\n",
       "      <td>1.561295</td>\n",
       "      <td>1.636814</td>\n",
       "      <td>1.784506</td>\n",
       "      <td>0.445805</td>\n",
       "    </tr>\n",
       "  </tbody>\n",
       "</table>\n",
       "</div>"
      ],
      "text/plain": [
       "            No1       No2       No3       No4\n",
       "count  9.000000  9.000000  9.000000  9.000000\n",
       "mean  -0.534921 -0.197583  0.186495 -0.619292\n",
       "std    0.990325  0.848757  1.076260  0.730646\n",
       "min   -1.733556 -1.158412 -1.205985 -1.765802\n",
       "25%   -0.904751 -0.727072 -0.494234 -1.201656\n",
       "50%   -0.696344 -0.543004  0.242922 -0.325005\n",
       "75%   -0.175999  0.167132  0.997570 -0.262847\n",
       "max    1.561295  1.636814  1.784506  0.445805"
      ]
     },
     "execution_count": 32,
     "metadata": {},
     "output_type": "execute_result"
    }
   ],
   "source": [
    "df.describe()"
   ]
  },
  {
   "cell_type": "code",
   "execution_count": 33,
   "metadata": {
    "collapsed": false,
    "jupyter": {
     "outputs_hidden": false
    }
   },
   "outputs": [
    {
     "data": {
      "text/html": [
       "<div>\n",
       "<table border=\"1\" class=\"dataframe\">\n",
       "  <thead>\n",
       "    <tr style=\"text-align: right;\">\n",
       "      <th></th>\n",
       "      <th>No1</th>\n",
       "      <th>No2</th>\n",
       "      <th>No3</th>\n",
       "      <th>No4</th>\n",
       "    </tr>\n",
       "  </thead>\n",
       "  <tbody>\n",
       "    <tr>\n",
       "      <th>2015-01-31</th>\n",
       "      <td>NaN</td>\n",
       "      <td>NaN</td>\n",
       "      <td>NaN</td>\n",
       "      <td>NaN</td>\n",
       "    </tr>\n",
       "    <tr>\n",
       "      <th>2015-02-28</th>\n",
       "      <td>NaN</td>\n",
       "      <td>NaN</td>\n",
       "      <td>NaN</td>\n",
       "      <td>0.667686</td>\n",
       "    </tr>\n",
       "    <tr>\n",
       "      <th>2015-03-31</th>\n",
       "      <td>NaN</td>\n",
       "      <td>NaN</td>\n",
       "      <td>0.497775</td>\n",
       "      <td>NaN</td>\n",
       "    </tr>\n",
       "    <tr>\n",
       "      <th>2015-04-30</th>\n",
       "      <td>1.249518</td>\n",
       "      <td>NaN</td>\n",
       "      <td>NaN</td>\n",
       "      <td>NaN</td>\n",
       "    </tr>\n",
       "    <tr>\n",
       "      <th>2015-05-31</th>\n",
       "      <td>NaN</td>\n",
       "      <td>NaN</td>\n",
       "      <td>1.335854</td>\n",
       "      <td>0.393445</td>\n",
       "    </tr>\n",
       "    <tr>\n",
       "      <th>2015-06-30</th>\n",
       "      <td>NaN</td>\n",
       "      <td>0.408818</td>\n",
       "      <td>0.998784</td>\n",
       "      <td>NaN</td>\n",
       "    </tr>\n",
       "    <tr>\n",
       "      <th>2015-07-31</th>\n",
       "      <td>NaN</td>\n",
       "      <td>1.279380</td>\n",
       "      <td>1.244724</td>\n",
       "      <td>NaN</td>\n",
       "    </tr>\n",
       "    <tr>\n",
       "      <th>2015-08-31</th>\n",
       "      <td>NaN</td>\n",
       "      <td>0.600986</td>\n",
       "      <td>NaN</td>\n",
       "      <td>NaN</td>\n",
       "    </tr>\n",
       "    <tr>\n",
       "      <th>2015-09-30</th>\n",
       "      <td>NaN</td>\n",
       "      <td>NaN</td>\n",
       "      <td>0.492871</td>\n",
       "      <td>NaN</td>\n",
       "    </tr>\n",
       "  </tbody>\n",
       "</table>\n",
       "</div>"
      ],
      "text/plain": [
       "                 No1       No2       No3       No4\n",
       "2015-01-31       NaN       NaN       NaN       NaN\n",
       "2015-02-28       NaN       NaN       NaN  0.667686\n",
       "2015-03-31       NaN       NaN  0.497775       NaN\n",
       "2015-04-30  1.249518       NaN       NaN       NaN\n",
       "2015-05-31       NaN       NaN  1.335854  0.393445\n",
       "2015-06-30       NaN  0.408818  0.998784       NaN\n",
       "2015-07-31       NaN  1.279380  1.244724       NaN\n",
       "2015-08-31       NaN  0.600986       NaN       NaN\n",
       "2015-09-30       NaN       NaN  0.492871       NaN"
      ]
     },
     "execution_count": 33,
     "metadata": {},
     "output_type": "execute_result"
    }
   ],
   "source": [
    "np.sqrt(df)"
   ]
  },
  {
   "cell_type": "code",
   "execution_count": 34,
   "metadata": {
    "collapsed": false,
    "jupyter": {
     "outputs_hidden": false
    }
   },
   "outputs": [
    {
     "data": {
      "text/plain": [
       "No1    1.249518\n",
       "No2    2.289184\n",
       "No3    4.570010\n",
       "No4    1.061131\n",
       "dtype: float64"
      ]
     },
     "execution_count": 34,
     "metadata": {},
     "output_type": "execute_result"
    }
   ],
   "source": [
    "np.sqrt(df).sum()"
   ]
  },
  {
   "cell_type": "code",
   "execution_count": 35,
   "metadata": {
    "collapsed": false,
    "jupyter": {
     "outputs_hidden": false
    }
   },
   "outputs": [
    {
     "data": {
      "text/plain": [
       "<matplotlib.axes._subplots.AxesSubplot at 0x208fcc9f0f0>"
      ]
     },
     "execution_count": 35,
     "metadata": {},
     "output_type": "execute_result"
    },
    {
     "data": {
      "image/png": "[encoded data removed]",
      "text/plain": [
       "<matplotlib.figure.Figure at 0x208fa5ad048>"
      ]
     },
     "metadata": {},
     "output_type": "display_data"
    }
   ],
   "source": [
    "%matplotlib inline\n",
    "df.cumsum().plot(lw=2.0)"
   ]
  },
  {
   "cell_type": "markdown",
   "metadata": {},
   "source": [
    "## Series Class"
   ]
  },
  {
   "cell_type": "code",
   "execution_count": 36,
   "metadata": {
    "collapsed": false,
    "jupyter": {
     "outputs_hidden": false
    }
   },
   "outputs": [
    {
     "data": {
      "text/plain": [
       "pandas.core.series.Series"
      ]
     },
     "execution_count": 36,
     "metadata": {},
     "output_type": "execute_result"
    }
   ],
   "source": [
    "type(df['No1'])"
   ]
  },
  {
   "cell_type": "code",
   "execution_count": 37,
   "metadata": {
    "collapsed": false,
    "jupyter": {
     "outputs_hidden": false
    }
   },
   "outputs": [
    {
     "data": {
      "text/plain": [
       "<matplotlib.text.Text at 0x208fd57b208>"
      ]
     },
     "execution_count": 37,
     "metadata": {},
     "output_type": "execute_result"
    },
    {
     "data": {
      "image/png": "[encoded data removed]",
      "text/plain": [
       "<matplotlib.figure.Figure at 0x208fccd6278>"
      ]
     },
     "metadata": {},
     "output_type": "display_data"
    }
   ],
   "source": [
    "import matplotlib.pyplot as plt\n",
    "df['No1'].cumsum().plot(style='r',lw=2.)\n",
    "plt.xlabel('date')\n",
    "plt.ylabel('value')"
   ]
  },
  {
   "cell_type": "markdown",
   "metadata": {},
   "source": [
    "## Group By Operations\n",
    "\n",
    "To have something to group by, we'll add a \"quarter\" variable."
   ]
  },
  {
   "cell_type": "code",
   "execution_count": 38,
   "metadata": {
    "collapsed": false,
    "jupyter": {
     "outputs_hidden": false
    }
   },
   "outputs": [
    {
     "data": {
      "text/html": [
       "<div>\n",
       "<table border=\"1\" class=\"dataframe\">\n",
       "  <thead>\n",
       "    <tr style=\"text-align: right;\">\n",
       "      <th></th>\n",
       "      <th>No1</th>\n",
       "      <th>No2</th>\n",
       "      <th>No3</th>\n",
       "      <th>No4</th>\n",
       "      <th>Quarter</th>\n",
       "    </tr>\n",
       "  </thead>\n",
       "  <tbody>\n",
       "    <tr>\n",
       "      <th>2015-01-31</th>\n",
       "      <td>-0.139925</td>\n",
       "      <td>-0.655300</td>\n",
       "      <td>-0.494234</td>\n",
       "      <td>-1.201656</td>\n",
       "      <td>Q1</td>\n",
       "    </tr>\n",
       "    <tr>\n",
       "      <th>2015-02-28</th>\n",
       "      <td>-1.724084</td>\n",
       "      <td>-0.543004</td>\n",
       "      <td>-1.205985</td>\n",
       "      <td>0.445805</td>\n",
       "      <td>Q1</td>\n",
       "    </tr>\n",
       "    <tr>\n",
       "      <th>2015-03-31</th>\n",
       "      <td>-0.225742</td>\n",
       "      <td>-0.825168</td>\n",
       "      <td>0.247780</td>\n",
       "      <td>-1.765802</td>\n",
       "      <td>Q1</td>\n",
       "    </tr>\n",
       "    <tr>\n",
       "      <th>2015-04-30</th>\n",
       "      <td>1.561295</td>\n",
       "      <td>-1.158412</td>\n",
       "      <td>-0.985166</td>\n",
       "      <td>-0.262847</td>\n",
       "      <td>Q2</td>\n",
       "    </tr>\n",
       "    <tr>\n",
       "      <th>2015-05-31</th>\n",
       "      <td>-0.175999</td>\n",
       "      <td>-0.034417</td>\n",
       "      <td>1.784506</td>\n",
       "      <td>0.154799</td>\n",
       "      <td>Q2</td>\n",
       "    </tr>\n",
       "    <tr>\n",
       "      <th>2015-06-30</th>\n",
       "      <td>-1.733556</td>\n",
       "      <td>0.167132</td>\n",
       "      <td>0.997570</td>\n",
       "      <td>-1.035692</td>\n",
       "      <td>Q2</td>\n",
       "    </tr>\n",
       "    <tr>\n",
       "      <th>2015-07-31</th>\n",
       "      <td>-0.904751</td>\n",
       "      <td>1.636814</td>\n",
       "      <td>1.549339</td>\n",
       "      <td>-0.325005</td>\n",
       "      <td>Q3</td>\n",
       "    </tr>\n",
       "    <tr>\n",
       "      <th>2015-08-31</th>\n",
       "      <td>-0.696344</td>\n",
       "      <td>0.361184</td>\n",
       "      <td>-0.458277</td>\n",
       "      <td>-0.324160</td>\n",
       "      <td>Q3</td>\n",
       "    </tr>\n",
       "    <tr>\n",
       "      <th>2015-09-30</th>\n",
       "      <td>-0.775179</td>\n",
       "      <td>-0.727072</td>\n",
       "      <td>0.242922</td>\n",
       "      <td>-1.259074</td>\n",
       "      <td>Q3</td>\n",
       "    </tr>\n",
       "  </tbody>\n",
       "</table>\n",
       "</div>"
      ],
      "text/plain": [
       "                 No1       No2       No3       No4 Quarter\n",
       "2015-01-31 -0.139925 -0.655300 -0.494234 -1.201656      Q1\n",
       "2015-02-28 -1.724084 -0.543004 -1.205985  0.445805      Q1\n",
       "2015-03-31 -0.225742 -0.825168  0.247780 -1.765802      Q1\n",
       "2015-04-30  1.561295 -1.158412 -0.985166 -0.262847      Q2\n",
       "2015-05-31 -0.175999 -0.034417  1.784506  0.154799      Q2\n",
       "2015-06-30 -1.733556  0.167132  0.997570 -1.035692      Q2\n",
       "2015-07-31 -0.904751  1.636814  1.549339 -0.325005      Q3\n",
       "2015-08-31 -0.696344  0.361184 -0.458277 -0.324160      Q3\n",
       "2015-09-30 -0.775179 -0.727072  0.242922 -1.259074      Q3"
      ]
     },
     "execution_count": 38,
     "metadata": {},
     "output_type": "execute_result"
    }
   ],
   "source": [
    "df['Quarter'] = ['Q1', 'Q1', 'Q1', 'Q2', 'Q2', 'Q2', 'Q3', 'Q3', 'Q3']\n",
    "df"
   ]
  },
  {
   "cell_type": "code",
   "execution_count": 39,
   "metadata": {
    "collapsed": false,
    "jupyter": {
     "outputs_hidden": false
    }
   },
   "outputs": [],
   "source": [
    "groups = df.groupby('Quarter')"
   ]
  },
  {
   "cell_type": "code",
   "execution_count": 40,
   "metadata": {
    "collapsed": false,
    "jupyter": {
     "outputs_hidden": false
    }
   },
   "outputs": [
    {
     "data": {
      "text/html": [
       "<div>\n",
       "<table border=\"1\" class=\"dataframe\">\n",
       "  <thead>\n",
       "    <tr style=\"text-align: right;\">\n",
       "      <th></th>\n",
       "      <th>No1</th>\n",
       "      <th>No2</th>\n",
       "      <th>No3</th>\n",
       "      <th>No4</th>\n",
       "    </tr>\n",
       "    <tr>\n",
       "      <th>Quarter</th>\n",
       "      <th></th>\n",
       "      <th></th>\n",
       "      <th></th>\n",
       "      <th></th>\n",
       "    </tr>\n",
       "  </thead>\n",
       "  <tbody>\n",
       "    <tr>\n",
       "      <th>Q1</th>\n",
       "      <td>-0.696584</td>\n",
       "      <td>-0.674491</td>\n",
       "      <td>-0.484146</td>\n",
       "      <td>-0.840551</td>\n",
       "    </tr>\n",
       "    <tr>\n",
       "      <th>Q2</th>\n",
       "      <td>-0.116087</td>\n",
       "      <td>-0.341899</td>\n",
       "      <td>0.598970</td>\n",
       "      <td>-0.381247</td>\n",
       "    </tr>\n",
       "    <tr>\n",
       "      <th>Q3</th>\n",
       "      <td>-0.792091</td>\n",
       "      <td>0.423642</td>\n",
       "      <td>0.444661</td>\n",
       "      <td>-0.636080</td>\n",
       "    </tr>\n",
       "  </tbody>\n",
       "</table>\n",
       "</div>"
      ],
      "text/plain": [
       "              No1       No2       No3       No4\n",
       "Quarter                                        \n",
       "Q1      -0.696584 -0.674491 -0.484146 -0.840551\n",
       "Q2      -0.116087 -0.341899  0.598970 -0.381247\n",
       "Q3      -0.792091  0.423642  0.444661 -0.636080"
      ]
     },
     "execution_count": 40,
     "metadata": {},
     "output_type": "execute_result"
    }
   ],
   "source": [
    "groups.mean()"
   ]
  },
  {
   "cell_type": "code",
   "execution_count": 41,
   "metadata": {
    "collapsed": false,
    "jupyter": {
     "outputs_hidden": false
    }
   },
   "outputs": [
    {
     "data": {
      "text/html": [
       "<div>\n",
       "<table border=\"1\" class=\"dataframe\">\n",
       "  <thead>\n",
       "    <tr style=\"text-align: right;\">\n",
       "      <th></th>\n",
       "      <th>No1</th>\n",
       "      <th>No2</th>\n",
       "      <th>No3</th>\n",
       "      <th>No4</th>\n",
       "    </tr>\n",
       "    <tr>\n",
       "      <th>Quarter</th>\n",
       "      <th></th>\n",
       "      <th></th>\n",
       "      <th></th>\n",
       "      <th></th>\n",
       "    </tr>\n",
       "  </thead>\n",
       "  <tbody>\n",
       "    <tr>\n",
       "      <th>Q1</th>\n",
       "      <td>-0.139925</td>\n",
       "      <td>-0.543004</td>\n",
       "      <td>0.247780</td>\n",
       "      <td>0.445805</td>\n",
       "    </tr>\n",
       "    <tr>\n",
       "      <th>Q2</th>\n",
       "      <td>1.561295</td>\n",
       "      <td>0.167132</td>\n",
       "      <td>1.784506</td>\n",
       "      <td>0.154799</td>\n",
       "    </tr>\n",
       "    <tr>\n",
       "      <th>Q3</th>\n",
       "      <td>-0.696344</td>\n",
       "      <td>1.636814</td>\n",
       "      <td>1.549339</td>\n",
       "      <td>-0.324160</td>\n",
       "    </tr>\n",
       "  </tbody>\n",
       "</table>\n",
       "</div>"
      ],
      "text/plain": [
       "              No1       No2       No3       No4\n",
       "Quarter                                        \n",
       "Q1      -0.139925 -0.543004  0.247780  0.445805\n",
       "Q2       1.561295  0.167132  1.784506  0.154799\n",
       "Q3      -0.696344  1.636814  1.549339 -0.324160"
      ]
     },
     "execution_count": 41,
     "metadata": {},
     "output_type": "execute_result"
    }
   ],
   "source": [
    "groups.max()"
   ]
  },
  {
   "cell_type": "code",
   "execution_count": 42,
   "metadata": {
    "collapsed": false,
    "jupyter": {
     "outputs_hidden": false
    }
   },
   "outputs": [
    {
     "data": {
      "text/plain": [
       "Quarter\n",
       "Q1    3\n",
       "Q2    3\n",
       "Q3    3\n",
       "dtype: int64"
      ]
     },
     "execution_count": 42,
     "metadata": {},
     "output_type": "execute_result"
    }
   ],
   "source": [
    "groups.size()"
   ]
  },
  {
   "cell_type": "markdown",
   "metadata": {},
   "source": [
    "### Grouping by multiple columns"
   ]
  },
  {
   "cell_type": "code",
   "execution_count": 43,
   "metadata": {
    "collapsed": true,
    "jupyter": {
     "outputs_hidden": true
    }
   },
   "outputs": [],
   "source": [
    "df['Odd_Even'] = ['Odd', 'Even', 'Odd', 'Even', 'Odd', 'Even', 'Odd', 'Even', 'Odd']"
   ]
  },
  {
   "cell_type": "code",
   "execution_count": 44,
   "metadata": {
    "collapsed": true,
    "jupyter": {
     "outputs_hidden": true
    }
   },
   "outputs": [],
   "source": [
    "groups = df.groupby(['Quarter','Odd_Even'])"
   ]
  },
  {
   "cell_type": "code",
   "execution_count": 45,
   "metadata": {
    "collapsed": false,
    "jupyter": {
     "outputs_hidden": false
    }
   },
   "outputs": [
    {
     "data": {
      "text/plain": [
       "Quarter  Odd_Even\n",
       "Q1       Even        1\n",
       "         Odd         2\n",
       "Q2       Even        2\n",
       "         Odd         1\n",
       "Q3       Even        1\n",
       "         Odd         2\n",
       "dtype: int64"
      ]
     },
     "execution_count": 45,
     "metadata": {},
     "output_type": "execute_result"
    }
   ],
   "source": [
    "groups.size()"
   ]
  },
  {
   "cell_type": "code",
   "execution_count": 46,
   "metadata": {
    "collapsed": false,
    "jupyter": {
     "outputs_hidden": false
    }
   },
   "outputs": [
    {
     "data": {
      "text/html": [
       "<div>\n",
       "<table border=\"1\" class=\"dataframe\">\n",
       "  <thead>\n",
       "    <tr style=\"text-align: right;\">\n",
       "      <th></th>\n",
       "      <th></th>\n",
       "      <th>No1</th>\n",
       "      <th>No2</th>\n",
       "      <th>No3</th>\n",
       "      <th>No4</th>\n",
       "    </tr>\n",
       "    <tr>\n",
       "      <th>Quarter</th>\n",
       "      <th>Odd_Even</th>\n",
       "      <th></th>\n",
       "      <th></th>\n",
       "      <th></th>\n",
       "      <th></th>\n",
       "    </tr>\n",
       "  </thead>\n",
       "  <tbody>\n",
       "    <tr>\n",
       "      <th rowspan=\"2\" valign=\"top\">Q1</th>\n",
       "      <th>Even</th>\n",
       "      <td>-1.724084</td>\n",
       "      <td>-0.543004</td>\n",
       "      <td>-1.205985</td>\n",
       "      <td>0.445805</td>\n",
       "    </tr>\n",
       "    <tr>\n",
       "      <th>Odd</th>\n",
       "      <td>-0.182834</td>\n",
       "      <td>-0.740234</td>\n",
       "      <td>-0.123227</td>\n",
       "      <td>-1.483729</td>\n",
       "    </tr>\n",
       "    <tr>\n",
       "      <th rowspan=\"2\" valign=\"top\">Q2</th>\n",
       "      <th>Even</th>\n",
       "      <td>-0.086131</td>\n",
       "      <td>-0.495640</td>\n",
       "      <td>0.006202</td>\n",
       "      <td>-0.649269</td>\n",
       "    </tr>\n",
       "    <tr>\n",
       "      <th>Odd</th>\n",
       "      <td>-0.175999</td>\n",
       "      <td>-0.034417</td>\n",
       "      <td>1.784506</td>\n",
       "      <td>0.154799</td>\n",
       "    </tr>\n",
       "    <tr>\n",
       "      <th rowspan=\"2\" valign=\"top\">Q3</th>\n",
       "      <th>Even</th>\n",
       "      <td>-0.696344</td>\n",
       "      <td>0.361184</td>\n",
       "      <td>-0.458277</td>\n",
       "      <td>-0.324160</td>\n",
       "    </tr>\n",
       "    <tr>\n",
       "      <th>Odd</th>\n",
       "      <td>-0.839965</td>\n",
       "      <td>0.454871</td>\n",
       "      <td>0.896131</td>\n",
       "      <td>-0.792040</td>\n",
       "    </tr>\n",
       "  </tbody>\n",
       "</table>\n",
       "</div>"
      ],
      "text/plain": [
       "                       No1       No2       No3       No4\n",
       "Quarter Odd_Even                                        \n",
       "Q1      Even     -1.724084 -0.543004 -1.205985  0.445805\n",
       "        Odd      -0.182834 -0.740234 -0.123227 -1.483729\n",
       "Q2      Even     -0.086131 -0.495640  0.006202 -0.649269\n",
       "        Odd      -0.175999 -0.034417  1.784506  0.154799\n",
       "Q3      Even     -0.696344  0.361184 -0.458277 -0.324160\n",
       "        Odd      -0.839965  0.454871  0.896131 -0.792040"
      ]
     },
     "execution_count": 46,
     "metadata": {},
     "output_type": "execute_result"
    }
   ],
   "source": [
    "groups.mean()"
   ]
  },
  {
   "cell_type": "markdown",
   "metadata": {},
   "source": [
    "## Financial Data"
   ]
  },
  {
   "cell_type": "code",
   "execution_count": 1,
   "metadata": {
    "collapsed": false,
    "jupyter": {
     "outputs_hidden": false
    }
   },
   "outputs": [],
   "source": [
    "from pandas_datareader import data as web"
   ]
  },
  {
   "cell_type": "code",
   "execution_count": 2,
   "metadata": {
    "collapsed": false,
    "jupyter": {
     "outputs_hidden": false
    }
   },
   "outputs": [
    {
     "name": "stdout",
     "output_type": "stream",
     "text": [
      "<class 'pandas.core.frame.DataFrame'>\n",
      "Index: 0 entries\n",
      "Data columns (total 5 columns):\n",
      "d=document                                                                                                                                 0 non-null object\n",
      "e=d.documentElement                                                                                                                        0 non-null object\n",
      "b=d.body                                                                                                                                   0 non-null object\n",
      "x=w.innerWidth||e.clientWidth||b.clientWidth                                                                                               0 non-null object\n",
      "y=w.innerHeight||e.clientHeight||b.clientHeight;url+=\"&w=\"+x+\"&h=\"+y;}window.location.replace(url);</script></head><body></body></html>    0 non-null object\n",
      "dtypes: object(5)\n",
      "memory usage: 0.0+ bytes\n"
     ]
    }
   ],
   "source": [
    "DAX = web.DataReader(name='^GDAXI', data_source='yahoo', start='2000-1-1')\n",
    "DAX.info()"
   ]
  },
  {
   "cell_type": "code",
   "execution_count": 50,
   "metadata": {
    "collapsed": false,
    "jupyter": {
     "outputs_hidden": false
    }
   },
   "outputs": [
    {
     "data": {
      "text/html": [
       "<div>\n",
       "<table border=\"1\" class=\"dataframe\">\n",
       "  <thead>\n",
       "    <tr style=\"text-align: right;\">\n",
       "      <th></th>\n",
       "      <th>Open</th>\n",
       "      <th>High</th>\n",
       "      <th>Low</th>\n",
       "      <th>Close</th>\n",
       "      <th>Volume</th>\n",
       "      <th>Adj Close</th>\n",
       "    </tr>\n",
       "    <tr>\n",
       "      <th>Date</th>\n",
       "      <th></th>\n",
       "      <th></th>\n",
       "      <th></th>\n",
       "      <th></th>\n",
       "      <th></th>\n",
       "      <th></th>\n",
       "    </tr>\n",
       "  </thead>\n",
       "  <tbody>\n",
       "    <tr>\n",
       "      <th>2016-08-12</th>\n",
       "      <td>10718.330078</td>\n",
       "      <td>10735.110352</td>\n",
       "      <td>10685.519531</td>\n",
       "      <td>10713.429688</td>\n",
       "      <td>58650500</td>\n",
       "      <td>10713.429688</td>\n",
       "    </tr>\n",
       "    <tr>\n",
       "      <th>2016-08-15</th>\n",
       "      <td>10719.139648</td>\n",
       "      <td>10802.320312</td>\n",
       "      <td>10712.129883</td>\n",
       "      <td>10739.209961</td>\n",
       "      <td>41626500</td>\n",
       "      <td>10739.209961</td>\n",
       "    </tr>\n",
       "    <tr>\n",
       "      <th>2016-08-16</th>\n",
       "      <td>10666.719727</td>\n",
       "      <td>10737.070312</td>\n",
       "      <td>10634.679688</td>\n",
       "      <td>10676.650391</td>\n",
       "      <td>61912700</td>\n",
       "      <td>10676.650391</td>\n",
       "    </tr>\n",
       "    <tr>\n",
       "      <th>2016-08-17</th>\n",
       "      <td>10694.549805</td>\n",
       "      <td>10696.759766</td>\n",
       "      <td>10516.049805</td>\n",
       "      <td>10537.669922</td>\n",
       "      <td>66557600</td>\n",
       "      <td>10537.669922</td>\n",
       "    </tr>\n",
       "    <tr>\n",
       "      <th>2016-08-18</th>\n",
       "      <td>10613.080078</td>\n",
       "      <td>10625.330078</td>\n",
       "      <td>10548.969727</td>\n",
       "      <td>10603.030273</td>\n",
       "      <td>53771500</td>\n",
       "      <td>10603.030273</td>\n",
       "    </tr>\n",
       "  </tbody>\n",
       "</table>\n",
       "</div>"
      ],
      "text/plain": [
       "                    Open          High           Low         Close    Volume  \\\n",
       "Date                                                                           \n",
       "2016-08-12  10718.330078  10735.110352  10685.519531  10713.429688  58650500   \n",
       "2016-08-15  10719.139648  10802.320312  10712.129883  10739.209961  41626500   \n",
       "2016-08-16  10666.719727  10737.070312  10634.679688  10676.650391  61912700   \n",
       "2016-08-17  10694.549805  10696.759766  10516.049805  10537.669922  66557600   \n",
       "2016-08-18  10613.080078  10625.330078  10548.969727  10603.030273  53771500   \n",
       "\n",
       "               Adj Close  \n",
       "Date                      \n",
       "2016-08-12  10713.429688  \n",
       "2016-08-15  10739.209961  \n",
       "2016-08-16  10676.650391  \n",
       "2016-08-17  10537.669922  \n",
       "2016-08-18  10603.030273  "
      ]
     },
     "execution_count": 50,
     "metadata": {},
     "output_type": "execute_result"
    }
   ],
   "source": [
    "DAX.tail()"
   ]
  },
  {
   "cell_type": "code",
   "execution_count": 51,
   "metadata": {
    "collapsed": false,
    "jupyter": {
     "outputs_hidden": false
    }
   },
   "outputs": [
    {
     "data": {
      "text/plain": [
       "<matplotlib.axes._subplots.AxesSubplot at 0x208fd6ef588>"
      ]
     },
     "execution_count": 51,
     "metadata": {},
     "output_type": "execute_result"
    },
    {
     "data": {
      "image/png": "[encoded data removed]",
      "text/plain": [
       "<matplotlib.figure.Figure at 0x208fd6efe80>"
      ]
     },
     "metadata": {},
     "output_type": "display_data"
    }
   ],
   "source": [
    "DAX['Close'].plot(figsize=(8,5))"
   ]
  },
  {
   "cell_type": "markdown",
   "metadata": {},
   "source": [
    "### Calculating log returns using a loop"
   ]
  },
  {
   "cell_type": "code",
   "execution_count": 52,
   "metadata": {
    "collapsed": false,
    "jupyter": {
     "outputs_hidden": false
    }
   },
   "outputs": [
    {
     "name": "stderr",
     "output_type": "stream",
     "text": [
      "C:\\Users\\tttri\\Anaconda3\\lib\\site-packages\\ipykernel\\__main__.py:3: SettingWithCopyWarning: \n",
      "A value is trying to be set on a copy of a slice from a DataFrame\n",
      "\n",
      "See the caveats in the documentation: http://pandas.pydata.org/pandas-docs/stable/indexing.html#indexing-view-versus-copy\n",
      "  app.launch_new_instance()\n"
     ]
    },
    {
     "name": "stdout",
     "output_type": "stream",
     "text": [
      "Wall time: 2min 51s\n"
     ]
    }
   ],
   "source": [
    "%%time\n",
    "DAX['Ret_Loop'] = 0.0\n",
    "for i in range(1, len(DAX)):\n",
    "    DAX['Ret_Loop'][i] = np.log(DAX['Close'][i]/DAX['Close'][i-1])"
   ]
  },
  {
   "cell_type": "markdown",
   "metadata": {},
   "source": [
    "### Calculating log returns using vectorized code"
   ]
  },
  {
   "cell_type": "code",
   "execution_count": 53,
   "metadata": {
    "collapsed": false,
    "jupyter": {
     "outputs_hidden": false
    }
   },
   "outputs": [
    {
     "name": "stdout",
     "output_type": "stream",
     "text": [
      "Wall time: 2.01 ms\n"
     ]
    }
   ],
   "source": [
    "%time DAX['Return'] = np.log(DAX['Close']/DAX['Close'].shift(1))"
   ]
  },
  {
   "cell_type": "code",
   "execution_count": 54,
   "metadata": {
    "collapsed": false,
    "jupyter": {
     "outputs_hidden": false
    }
   },
   "outputs": [
    {
     "data": {
      "text/html": [
       "<div>\n",
       "<table border=\"1\" class=\"dataframe\">\n",
       "  <thead>\n",
       "    <tr style=\"text-align: right;\">\n",
       "      <th></th>\n",
       "      <th>Close</th>\n",
       "      <th>Ret_Loop</th>\n",
       "      <th>Return</th>\n",
       "    </tr>\n",
       "    <tr>\n",
       "      <th>Date</th>\n",
       "      <th></th>\n",
       "      <th></th>\n",
       "      <th></th>\n",
       "    </tr>\n",
       "  </thead>\n",
       "  <tbody>\n",
       "    <tr>\n",
       "      <th>2016-08-12</th>\n",
       "      <td>10713.429688</td>\n",
       "      <td>-0.002741</td>\n",
       "      <td>-0.002741</td>\n",
       "    </tr>\n",
       "    <tr>\n",
       "      <th>2016-08-15</th>\n",
       "      <td>10739.209961</td>\n",
       "      <td>0.002403</td>\n",
       "      <td>0.002403</td>\n",
       "    </tr>\n",
       "    <tr>\n",
       "      <th>2016-08-16</th>\n",
       "      <td>10676.650391</td>\n",
       "      <td>-0.005842</td>\n",
       "      <td>-0.005842</td>\n",
       "    </tr>\n",
       "    <tr>\n",
       "      <th>2016-08-17</th>\n",
       "      <td>10537.669922</td>\n",
       "      <td>-0.013103</td>\n",
       "      <td>-0.013103</td>\n",
       "    </tr>\n",
       "    <tr>\n",
       "      <th>2016-08-18</th>\n",
       "      <td>10603.030273</td>\n",
       "      <td>0.006183</td>\n",
       "      <td>0.006183</td>\n",
       "    </tr>\n",
       "  </tbody>\n",
       "</table>\n",
       "</div>"
      ],
      "text/plain": [
       "                   Close  Ret_Loop    Return\n",
       "Date                                        \n",
       "2016-08-12  10713.429688 -0.002741 -0.002741\n",
       "2016-08-15  10739.209961  0.002403  0.002403\n",
       "2016-08-16  10676.650391 -0.005842 -0.005842\n",
       "2016-08-17  10537.669922 -0.013103 -0.013103\n",
       "2016-08-18  10603.030273  0.006183  0.006183"
      ]
     },
     "execution_count": 54,
     "metadata": {},
     "output_type": "execute_result"
    }
   ],
   "source": [
    "DAX[['Close','Ret_Loop','Return']].tail()"
   ]
  },
  {
   "cell_type": "code",
   "execution_count": 55,
   "metadata": {
    "collapsed": true,
    "jupyter": {
     "outputs_hidden": true
    }
   },
   "outputs": [],
   "source": [
    "del DAX['Ret_Loop']"
   ]
  },
  {
   "cell_type": "code",
   "execution_count": 56,
   "metadata": {
    "collapsed": false,
    "jupyter": {
     "outputs_hidden": false
    }
   },
   "outputs": [
    {
     "data": {
      "text/plain": [
       "array([<matplotlib.axes._subplots.AxesSubplot object at 0x00000208FD6EF4A8>,\n",
       "       <matplotlib.axes._subplots.AxesSubplot object at 0x00000208FD750080>], dtype=object)"
      ]
     },
     "execution_count": 56,
     "metadata": {},
     "output_type": "execute_result"
    },
    {
     "data": {
      "image/png": "[encoded data removed]",
      "text/plain": [
       "<matplotlib.figure.Figure at 0x208fe0617f0>"
      ]
     },
     "metadata": {},
     "output_type": "display_data"
    }
   ],
   "source": [
    "DAX[['Close','Return']].plot(subplots=True, style = 'b', figsize=(8,5))"
   ]
  },
  {
   "cell_type": "code",
   "execution_count": 57,
   "metadata": {
    "collapsed": false,
    "jupyter": {
     "outputs_hidden": false
    }
   },
   "outputs": [
    {
     "data": {
      "text/html": [
       "<div>\n",
       "<table border=\"1\" class=\"dataframe\">\n",
       "  <thead>\n",
       "    <tr style=\"text-align: right;\">\n",
       "      <th></th>\n",
       "      <th>Close</th>\n",
       "      <th>42d</th>\n",
       "      <th>252d</th>\n",
       "    </tr>\n",
       "    <tr>\n",
       "      <th>Date</th>\n",
       "      <th></th>\n",
       "      <th></th>\n",
       "      <th></th>\n",
       "    </tr>\n",
       "  </thead>\n",
       "  <tbody>\n",
       "    <tr>\n",
       "      <th>2016-08-12</th>\n",
       "      <td>10713.429688</td>\n",
       "      <td>10016.581892</td>\n",
       "      <td>10082.575835</td>\n",
       "    </tr>\n",
       "    <tr>\n",
       "      <th>2016-08-15</th>\n",
       "      <td>10739.209961</td>\n",
       "      <td>10044.885231</td>\n",
       "      <td>10081.874605</td>\n",
       "    </tr>\n",
       "    <tr>\n",
       "      <th>2016-08-16</th>\n",
       "      <td>10676.650391</td>\n",
       "      <td>10069.773089</td>\n",
       "      <td>10081.852779</td>\n",
       "    </tr>\n",
       "    <tr>\n",
       "      <th>2016-08-17</th>\n",
       "      <td>10537.669922</td>\n",
       "      <td>10083.479050</td>\n",
       "      <td>10082.271349</td>\n",
       "    </tr>\n",
       "    <tr>\n",
       "      <th>2016-08-18</th>\n",
       "      <td>10603.030273</td>\n",
       "      <td>10097.466913</td>\n",
       "      <td>10084.170201</td>\n",
       "    </tr>\n",
       "  </tbody>\n",
       "</table>\n",
       "</div>"
      ],
      "text/plain": [
       "                   Close           42d          252d\n",
       "Date                                                \n",
       "2016-08-12  10713.429688  10016.581892  10082.575835\n",
       "2016-08-15  10739.209961  10044.885231  10081.874605\n",
       "2016-08-16  10676.650391  10069.773089  10081.852779\n",
       "2016-08-17  10537.669922  10083.479050  10082.271349\n",
       "2016-08-18  10603.030273  10097.466913  10084.170201"
      ]
     },
     "execution_count": 57,
     "metadata": {},
     "output_type": "execute_result"
    }
   ],
   "source": [
    "DAX['42d'] = pd.rolling_mean(DAX['Close'], window = 42)\n",
    "DAX['252d'] = pd.rolling_mean(DAX['Close'], window = 252) \n",
    "DAX[['Close', '42d', '252d']].tail()"
   ]
  },
  {
   "cell_type": "code",
   "execution_count": 58,
   "metadata": {
    "collapsed": false,
    "jupyter": {
     "outputs_hidden": false
    }
   },
   "outputs": [
    {
     "data": {
      "text/plain": [
       "<matplotlib.axes._subplots.AxesSubplot at 0x208fd8fa358>"
      ]
     },
     "execution_count": 58,
     "metadata": {},
     "output_type": "execute_result"
    },
    {
     "data": {
      "image/png": "[encoded data removed]",
      "text/plain": [
       "<matplotlib.figure.Figure at 0x208fd8ff4e0>"
      ]
     },
     "metadata": {},
     "output_type": "display_data"
    }
   ],
   "source": [
    "DAX[['Close', '42d', '252d']].plot(figsize=(8,5))"
   ]
  },
  {
   "cell_type": "code",
   "execution_count": 59,
   "metadata": {
    "collapsed": true,
    "jupyter": {
     "outputs_hidden": true
    }
   },
   "outputs": [],
   "source": [
    "import math\n",
    "DAX['Mov_Vol'] = pd.rolling_std(DAX['Return'],window=252)*math.sqrt(252) # moving annual volatility"
   ]
  },
  {
   "cell_type": "code",
   "execution_count": 60,
   "metadata": {
    "collapsed": false,
    "jupyter": {
     "outputs_hidden": false
    }
   },
   "outputs": [
    {
     "data": {
      "text/plain": [
       "array([<matplotlib.axes._subplots.AxesSubplot object at 0x00000208FD8AE9E8>,\n",
       "       <matplotlib.axes._subplots.AxesSubplot object at 0x00000208FD9FE6D8>,\n",
       "       <matplotlib.axes._subplots.AxesSubplot object at 0x00000208FD986908>], dtype=object)"
      ]
     },
     "execution_count": 60,
     "metadata": {},
     "output_type": "execute_result"
    },
    {
     "data": {
      "image/png": "[encoded data removed]",
      "text/plain": [
       "<matplotlib.figure.Figure at 0x208fd895c18>"
      ]
     },
     "metadata": {},
     "output_type": "display_data"
    }
   ],
   "source": [
    "DAX[['Close','Mov_Vol','Return']].plot(subplots=True, style = 'b', figsize=(8,5))"
   ]
  },
  {
   "cell_type": "markdown",
   "metadata": {},
   "source": [
    "## Regression Analysis\n",
    "\n",
    "Using Linear Ordinary Least Squares (OLS) regression to compare EURO STOXX50 to VSTOXX, a volatility index."
   ]
  },
  {
   "cell_type": "code",
   "execution_count": 61,
   "metadata": {
    "collapsed": false,
    "jupyter": {
     "outputs_hidden": false
    }
   },
   "outputs": [],
   "source": [
    "from urllib import request"
   ]
  },
  {
   "cell_type": "code",
   "execution_count": 62,
   "metadata": {
    "collapsed": false,
    "jupyter": {
     "outputs_hidden": false
    }
   },
   "outputs": [
    {
     "data": {
      "text/plain": [
       "('./data/vs.txt', <http.client.HTTPMessage at 0x208fda7dc88>)"
      ]
     },
     "execution_count": 62,
     "metadata": {},
     "output_type": "execute_result"
    }
   ],
   "source": [
    "es_url = 'http://www.stoxx.com/download/historical_values/hbrbcpe.txt' \n",
    "vs_url = 'http://www.stoxx.com/download/historical_values/h_vstoxx.txt' \n",
    "\n",
    "request.urlretrieve(es_url, './data/es.txt')\n",
    "request.urlretrieve(vs_url, './data/vs.txt')"
   ]
  },
  {
   "cell_type": "code",
   "execution_count": 63,
   "metadata": {
    "collapsed": false,
    "jupyter": {
     "outputs_hidden": false
    }
   },
   "outputs": [
    {
     "data": {
      "text/plain": [
       "['PriceIndices-EUROCurrency\\n',\n",
       " 'Date;Blue-Chip;Blue-Chip;Broad;Broad;ExUK;ExEuroZone;Blue-Chip;Broad\\n',\n",
       " ';Europe;Euro-Zone;Europe;Euro-Zone;;;Nordic;Nordic\\n',\n",
       " ';SX5P;SX5E;SXXP;SXXE;SXXF;SXXA;DK5F;DKXF\\n',\n",
       " '31.12.1986;775.00;900.82;82.76;98.58;98.06;69.06;645.26;65.56\\n',\n",
       " '01.01.1987;775.00;900.82;82.76;98.58;98.06;69.06;645.26;65.56\\n',\n",
       " '02.01.1987;770.89;891.78;82.57;97.80;97.43;69.37;647.62;65.81\\n',\n",
       " '05.01.1987;771.89;898.33;82.82;98.60;98.19;69.16;649.94;65.82\\n',\n",
       " '06.01.1987;775.92;902.32;83.28;99.19;98.83;69.50;652.49;66.06\\n',\n",
       " '07.01.1987;781.21;899.15;83.78;98.96;98.62;70.59;651.97;66.20\\n',\n",
       " '08.01.1987;777.62;887.37;83.52;97.87;97.68;71.01;645.57;65.62\\n',\n",
       " '09.01.1987;769.80;868.31;83.03;96.31;96.22;71.40;638.03;65.14\\n',\n",
       " '12.01.1987;775.07;879.41;83.64;97.54;97.18;71.50;634.14;65.03\\n',\n",
       " '13.01.1987;770.00;872.74;83.00;96.78;96.38;70.97;622.44;63.87\\n',\n",
       " '14.01.1987;772.04;876.39;82.99;97.14;96.59;70.66;603.63;62.46\\n',\n",
       " '15.01.1987;779.12;884.37;83.77;98.10;97.60;71.28;620.01;63.89\\n',\n",
       " '16.01.1987;781.66;883.78;84.15;98.11;97.66;71.95;623.77;64.65\\n',\n",
       " '19.01.1987;773.43;876.15;83.39;97.33;96.92;71.22;630.57;65.25\\n',\n",
       " '20.01.1987;773.49;875.10;83.50;97.14;96.83;71.58;637.63;65.77\\n',\n",
       " '21.01.1987;771.09;872.47;83.35;97.02;96.74;71.40;639.38;66.06\\n',\n",
       " '22.01.1987;773.40;876.69;83.48;97.44;96.95;71.30;627.45;65.02\\n',\n",
       " '23.01.1987;778.26;883.62;84.12;98.28;97.67;71.76;628.49;64.95\\n',\n",
       " '26.01.1987;769.38;870.96;83.38;97.02;96.55;71.45;624.56;64.70\\n',\n",
       " '27.01.1987;772.16;868.19;83.64;96.77;96.25;72.12;614.25;63.67\\n',\n",
       " '28.01.1987;751.63;838.60;81.87;93.93;93.51;71.24;604.13;62.86\\n',\n",
       " '29.01.1987;757.13;847.38;82.31;94.83;94.46;71.31;613.07;63.66\\n',\n",
       " '30.01.1987;766.56;859.08;83.20;96.03;95.56;71.94;626.05;64.72\\n',\n",
       " '02.02.1987;763.91;849.03;83.03;95.14;94.80;72.36;631.84;65.20\\n',\n",
       " '03.02.1987;756.58;839.60;82.31;94.05;93.84;71.94;645.09;66.30\\n',\n",
       " '04.02.1987;762.34;838.53;82.72;93.88;93.64;72.82;643.82;66.30\\n',\n",
       " '05.02.1987;763.60;833.03;82.89;93.21;92.99;73.67;650.12;66.83\\n',\n",
       " '06.02.1987;775.28;842.23;83.87;93.98;93.68;74.80;645.00;66.36\\n',\n",
       " '09.02.1987;776.67;844.73;84.03;94.38;94.05;74.77;634.36;65.30\\n',\n",
       " '10.02.1987;764.71;837.91;82.91;93.67;93.27;73.33;631.17;64.96\\n',\n",
       " '11.02.1987;769.49;837.56;83.31;93.45;93.08;74.22;635.09;65.39\\n',\n",
       " '12.02.1987;767.61;840.53;83.22;93.73;93.39;73.84;638.59;65.61\\n',\n",
       " '13.02.1987;771.29;841.54;83.75;93.93;93.60;74.63;636.04;65.31\\n',\n",
       " '16.02.1987;774.88;844.11;84.22;94.36;93.89;75.13;634.48;65.09\\n',\n",
       " '17.02.1987;772.65;833.81;84.24;93.36;93.09;75.98;641.77;65.69\\n',\n",
       " '18.02.1987;777.76;834.15;84.73;93.20;92.95;77.00;644.41;66.03\\n',\n",
       " '19.02.1987;780.57;844.07;84.75;94.09;93.83;76.31;652.89;66.69\\n',\n",
       " '20.02.1987;784.80;845.11;85.26;94.39;93.95;76.98;656.82;67.06\\n',\n",
       " '23.02.1987;776.54;839.36;84.74;93.92;93.24;76.43;661.52;67.59\\n',\n",
       " '24.02.1987;780.12;837.90;84.96;93.94;93.28;76.81;655.78;67.03\\n',\n",
       " '25.02.1987;782.72;833.39;84.99;93.34;92.94;77.36;653.10;66.73\\n',\n",
       " '26.02.1987;786.75;838.23;85.39;93.75;93.36;77.75;661.47;67.48\\n',\n",
       " '27.02.1987;788.11;840.97;85.73;94.08;93.69;78.09;667.08;68.04\\n',\n",
       " '02.03.1987;791.40;842.70;86.22;94.30;93.76;78.79;670.83;68.41\\n',\n",
       " '03.03.1987;791.73;836.22;86.10;93.65;93.20;79.11;672.92;68.60\\n',\n",
       " '04.03.1987;802.08;848.78;86.98;94.83;94.33;79.73;679.90;69.01\\n',\n",
       " '05.03.1987;808.65;855.04;87.63;95.36;94.98;80.48;684.44;69.21\\n',\n",
       " '06.03.1987;807.23;854.82;87.65;95.24;94.85;80.62;682.95;69.16\\n',\n",
       " '09.03.1987;806.26;856.93;87.76;95.51;95.16;80.59;690.08;69.96\\n',\n",
       " '10.03.1987;803.60;850.99;87.49;94.82;94.55;80.67;689.43;69.82\\n',\n",
       " '11.03.1987;801.20;844.78;87.37;94.21;94.00;80.95;686.65;69.64\\n',\n",
       " '12.03.1987;805.20;851.62;87.83;94.83;94.55;81.28;688.07;69.81\\n',\n",
       " '13.03.1987;803.25;855.00;87.73;95.06;94.72;80.90;694.35;70.29\\n',\n",
       " '16.03.1987;800.09;855.21;87.47;95.29;94.89;80.25;692.96;70.02\\n',\n",
       " '17.03.1987;801.99;848.47;87.66;94.54;94.11;81.21;691.41;69.80\\n',\n",
       " '18.03.1987;808.55;854.69;88.34;95.22;94.85;81.89;702.27;70.74\\n',\n",
       " '19.03.1987;795.98;842.48;87.27;94.02;93.71;80.92;702.96;70.74\\n',\n",
       " '20.03.1987;801.40;848.13;87.83;94.60;94.04;81.47;701.77;70.72\\n',\n",
       " '23.03.1987;812.62;860.44;88.70;95.61;94.92;82.21;701.76;70.71\\n',\n",
       " '24.03.1987;820.67;866.76;89.49;96.28;95.70;83.09;709.98;71.47\\n',\n",
       " '25.03.1987;820.05;868.30;89.45;96.53;96.06;82.81;713.47;71.76\\n',\n",
       " '26.03.1987;823.77;874.75;89.74;97.16;96.60;82.82;718.59;72.21\\n',\n",
       " '27.03.1987;829.86;882.89;90.39;98.13;97.60;83.20;720.31;72.30\\n',\n",
       " '30.03.1987;817.03;877.30;89.01;97.66;97.04;81.09;708.72;71.36\\n',\n",
       " '31.03.1987;812.24;869.44;88.40;96.88;96.31;80.62;698.48;70.57\\n',\n",
       " '01.04.1987;816.48;883.95;88.66;98.21;97.36;80.01;695.02;70.45\\n',\n",
       " '02.04.1987;822.64;888.39;89.10;98.59;97.77;80.48;691.25;70.16\\n',\n",
       " '03.04.1987;821.49;888.97;89.06;98.80;98.10;80.25;697.22;70.74\\n',\n",
       " '06.04.1987;835.74;900.79;90.31;99.83;99.05;81.66;711.92;71.98\\n',\n",
       " '07.04.1987;833.65;896.33;89.88;99.20;98.50;81.41;711.52;71.93\\n',\n",
       " '08.04.1987;832.64;895.42;89.67;98.91;98.20;81.27;710.41;71.77\\n',\n",
       " '09.04.1987;827.98;895.62;89.40;98.94;98.24;80.74;710.98;71.81\\n',\n",
       " '10.04.1987;815.00;884.61;88.31;98.10;97.35;79.46;699.99;70.94\\n',\n",
       " '13.04.1987;803.03;875.19;87.49;97.38;96.62;78.57;697.49;70.78\\n',\n",
       " '14.04.1987;803.92;881.00;87.53;97.91;97.01;78.20;691.89;70.28\\n',\n",
       " '15.04.1987;811.41;888.71;88.20;98.57;97.68;78.88;700.41;70.90\\n',\n",
       " '16.04.1987;820.83;895.48;89.22;99.33;98.37;80.11;708.42;71.64\\n',\n",
       " '17.04.1987;820.71;896.06;89.24;99.36;98.40;80.11;708.45;71.69\\n',\n",
       " '20.04.1987;820.30;893.33;89.15;99.18;98.24;80.11;707.80;71.64\\n',\n",
       " '21.04.1987;817.57;889.55;88.82;98.84;97.90;79.78;706.29;71.50\\n',\n",
       " '22.04.1987;827.37;900.50;89.67;99.83;98.84;80.50;713.71;72.18\\n',\n",
       " '23.04.1987;827.65;896.53;89.82;99.64;98.72;80.93;718.86;72.57\\n',\n",
       " '24.04.1987;829.92;890.62;90.12;99.09;98.25;81.92;725.69;73.18\\n',\n",
       " '27.04.1987;817.51;871.69;89.01;97.12;96.54;81.52;717.13;72.58\\n',\n",
       " '28.04.1987;828.34;879.07;89.84;97.65;96.88;82.60;717.13;72.54\\n',\n",
       " '29.04.1987;835.30;884.37;90.42;98.09;97.28;83.29;721.19;73.01\\n',\n",
       " '30.04.1987;838.20;881.46;90.73;97.84;97.13;84.06;721.14;73.21\\n',\n",
       " '01.05.1987;842.31;883.32;91.14;98.07;97.38;84.60;724.25;73.51\\n',\n",
       " '04.05.1987;841.56;880.31;91.03;97.81;97.18;84.63;723.09;73.27\\n',\n",
       " '05.05.1987;840.05;875.43;90.72;97.16;96.58;84.60;722.74;73.03\\n',\n",
       " '06.05.1987;849.62;880.91;91.32;97.46;96.94;85.44;728.07;73.45\\n',\n",
       " '07.05.1987;851.95;882.84;91.37;97.63;97.16;85.39;728.11;73.64\\n',\n",
       " '08.05.1987;863.04;882.70;92.35;97.56;97.11;87.22;729.94;73.84\\n',\n",
       " '11.05.1987;871.07;887.34;93.12;98.07;97.64;88.21;728.38;73.80\\n',\n",
       " '12.05.1987;863.70;879.78;92.28;97.16;96.71;87.42;715.84;72.59\\n',\n",
       " '13.05.1987;870.57;882.77;92.97;97.53;97.02;88.37;711.84;72.25\\n',\n",
       " '14.05.1987;876.78;883.11;93.28;97.43;96.91;89.02;710.59;72.17\\n',\n",
       " '15.05.1987;864.62;866.11;91.97;95.40;94.97;88.31;704.01;71.53\\n',\n",
       " '18.05.1987;868.99;868.85;92.35;95.52;94.93;88.90;693.44;70.71\\n',\n",
       " '19.05.1987;873.36;865.65;92.53;95.20;94.60;89.49;698.09;70.98\\n',\n",
       " '20.05.1987;858.93;856.08;91.32;94.22;93.61;88.10;689.07;70.25\\n',\n",
       " '21.05.1987;853.49;854.02;90.87;93.95;93.48;87.52;697.59;70.90\\n',\n",
       " '22.05.1987;857.02;857.63;91.04;94.23;93.65;87.59;701.00;71.11\\n',\n",
       " '25.05.1987;856.65;856.95;91.04;94.20;93.65;87.61;704.04;71.33\\n',\n",
       " '26.05.1987;857.79;864.83;91.11;95.07;94.47;87.03;707.20;71.68\\n',\n",
       " '27.05.1987;855.42;869.49;90.89;95.68;95.02;86.13;709.46;71.80\\n',\n",
       " '28.05.1987;859.96;869.29;91.32;95.67;95.00;86.92;710.14;71.88\\n',\n",
       " '29.05.1987;869.99;866.41;92.05;95.31;94.65;88.54;708.26;71.75\\n',\n",
       " '01.06.1987;881.05;872.52;92.90;95.80;95.06;89.68;709.94;71.93\\n',\n",
       " '02.06.1987;873.23;863.11;92.10;94.74;94.02;89.09;705.35;71.56\\n',\n",
       " '03.06.1987;877.47;864.57;92.25;94.59;93.87;89.48;701.54;71.29\\n',\n",
       " '04.06.1987;875.91;869.42;92.02;94.94;94.31;88.79;710.48;72.19\\n',\n",
       " '05.06.1987;877.33;864.75;92.02;94.41;93.85;89.22;705.51;71.76\\n',\n",
       " '08.06.1987;878.08;866.08;92.01;94.49;93.88;89.14;705.85;71.83\\n',\n",
       " '09.06.1987;886.52;863.17;92.79;94.30;93.65;90.71;708.73;72.08\\n',\n",
       " '10.06.1987;879.74;860.80;92.15;93.81;93.12;89.96;708.06;71.99\\n',\n",
       " '11.06.1987;885.70;868.26;92.94;94.67;93.99;90.68;712.82;72.43\\n',\n",
       " '12.06.1987;892.38;869.28;93.70;94.79;94.12;91.96;719.57;73.05\\n',\n",
       " '15.06.1987;899.33;879.82;94.53;95.89;95.18;92.56;726.64;73.65\\n',\n",
       " '16.06.1987;902.37;885.41;95.05;96.69;95.97;92.85;726.76;73.68\\n',\n",
       " '17.06.1987;905.03;885.93;95.29;96.55;96.00;93.39;729.71;73.91\\n',\n",
       " '18.06.1987;897.52;885.19;94.70;96.35;95.86;92.49;729.62;73.94\\n',\n",
       " '19.06.1987;897.31;897.16;94.43;97.18;96.66;91.31;728.94;73.90\\n',\n",
       " '22.06.1987;899.00;908.73;94.36;98.19;97.79;90.35;724.00;73.49\\n',\n",
       " '23.06.1987;907.32;915.58;94.98;98.88;98.38;90.90;725.31;73.54\\n',\n",
       " '24.06.1987;904.50;901.60;94.88;97.59;97.12;91.79;722.52;73.28\\n',\n",
       " '25.06.1987;905.61;903.66;94.93;97.90;97.42;91.61;718.32;72.91\\n',\n",
       " '26.06.1987;911.11;909.42;95.51;98.54;98.03;92.14;720.12;73.01\\n',\n",
       " '29.06.1987;908.71;909.76;95.33;98.59;98.01;91.78;717.25;72.74\\n',\n",
       " '30.06.1987;906.57;905.30;95.19;98.11;97.63;91.92;714.90;72.49\\n',\n",
       " '01.07.1987;898.16;894.32;94.65;97.30;96.81;91.61;709.79;72.11\\n',\n",
       " '02.07.1987;908.65;904.15;95.70;98.24;97.66;92.73;714.14;72.47\\n',\n",
       " '03.07.1987;922.57;917.81;97.03;99.69;99.03;93.96;721.24;73.09\\n',\n",
       " '06.07.1987;928.07;918.19;97.51;99.55;98.86;94.94;722.40;73.13\\n',\n",
       " '07.07.1987;930.73;917.15;97.68;99.27;98.52;95.48;722.49;73.27\\n',\n",
       " '08.07.1987;931.95;923.20;97.94;99.92;99.20;95.42;732.08;73.97\\n',\n",
       " '09.07.1987;933.27;920.76;98.04;99.57;98.96;95.88;733.64;74.16\\n',\n",
       " '10.07.1987;935.20;921.82;98.32;99.73;99.10;96.27;733.48;74.20\\n',\n",
       " '13.07.1987;935.49;921.73;98.46;99.72;99.10;96.52;735.17;74.34\\n',\n",
       " '14.07.1987;942.60;925.93;99.01;100.21;99.56;97.12;739.64;74.75\\n',\n",
       " '15.07.1987;950.81;928.92;99.61;100.48;99.89;97.98;741.70;74.92\\n',\n",
       " '16.07.1987;958.93;932.15;100.34;100.80;100.24;99.06;743.78;75.08\\n',\n",
       " '17.07.1987;961.38;941.03;100.58;101.62;101.21;98.81;749.47;75.58\\n',\n",
       " '20.07.1987;957.95;945.38;100.24;102.04;101.71;97.84;749.18;75.57\\n',\n",
       " '21.07.1987;953.98;941.54;99.74;101.62;101.36;97.28;747.90;75.48\\n',\n",
       " '22.07.1987;941.55;937.13;98.67;101.33;101.12;95.58;744.46;75.12\\n',\n",
       " '23.07.1987;937.41;932.12;98.31;100.80;100.63;95.36;747.36;75.37\\n',\n",
       " '24.07.1987;937.80;933.19;98.54;101.00;100.75;95.62;750.08;75.59\\n',\n",
       " '27.07.1987;932.63;936.90;98.23;101.37;101.02;94.75;750.98;75.62\\n',\n",
       " '28.07.1987;943.51;941.84;99.26;101.96;101.74;96.13;759.34;76.31\\n',\n",
       " '29.07.1987;951.33;949.38;100.20;102.80;102.54;97.15;764.44;76.89\\n',\n",
       " '30.07.1987;951.77;957.80;100.44;103.76;103.47;96.79;766.19;77.24\\n',\n",
       " '31.07.1987;947.69;955.83;99.93;103.44;103.21;96.14;763.22;77.04\\n',\n",
       " '03.08.1987;946.30;959.68;99.43;103.67;103.37;95.04;758.23;76.65\\n',\n",
       " '04.08.1987;943.74;957.20;98.96;103.33;103.00;94.47;766.14;77.27\\n',\n",
       " '05.08.1987;943.24;955.55;98.96;103.06;102.86;94.68;774.55;77.89\\n',\n",
       " '06.08.1987;937.18;961.22;98.29;103.50;103.45;93.11;777.94;78.25\\n',\n",
       " '07.08.1987;933.31;963.12;97.58;103.55;103.54;91.79;776.01;78.18\\n',\n",
       " '10.08.1987;936.24;962.46;97.65;103.07;103.13;92.30;765.12;77.38\\n',\n",
       " '11.08.1987;935.44;952.68;97.89;102.08;102.37;93.54;770.37;77.67\\n',\n",
       " '12.08.1987;946.84;961.80;98.97;103.16;103.35;94.61;778.93;78.38\\n',\n",
       " '13.08.1987;945.45;959.80;98.90;103.08;103.19;94.55;779.29;78.38\\n',\n",
       " '14.08.1987;945.61;961.79;99.12;103.42;103.64;94.68;782.03;78.54\\n',\n",
       " '17.08.1987;937.27;959.11;98.42;103.24;103.44;93.55;782.44;78.74\\n',\n",
       " '18.08.1987;924.17;949.25;97.31;102.47;102.76;92.17;787.40;78.99\\n',\n",
       " '19.08.1987;915.03;940.09;96.42;101.55;101.85;91.32;787.30;79.12\\n',\n",
       " '20.08.1987;917.26;949.22;96.75;102.58;102.90;91.08;793.37;79.71\\n',\n",
       " '21.08.1987;921.27;950.03;97.39;102.82;103.25;92.04;798.18;80.15\\n',\n",
       " '24.08.1987;917.53;941.89;97.21;102.10;102.63;92.29;799.14;80.16\\n',\n",
       " '25.08.1987;920.05;941.91;97.42;102.02;102.42;92.74;790.00;79.56\\n',\n",
       " '26.08.1987;919.61;942.20;97.46;102.31;102.66;92.58;790.97;79.47\\n',\n",
       " '27.08.1987;919.19;943.30;97.60;102.69;102.91;92.52;786.13;79.13\\n',\n",
       " '28.08.1987;921.13;947.55;97.84;103.05;103.12;92.67;782.19;78.81\\n',\n",
       " '31.08.1987;921.71;951.06;97.98;103.39;103.37;92.63;778.91;78.52\\n',\n",
       " '01.09.1987;930.16;953.63;98.84;103.77;103.79;93.88;782.50;78.78\\n',\n",
       " '02.09.1987;923.13;947.24;98.27;103.22;103.37;93.30;779.42;78.53\\n',\n",
       " '03.09.1987;921.56;939.54;98.33;102.52;102.83;93.98;789.36;79.25\\n',\n",
       " '04.09.1987;917.69;930.39;98.24;101.89;102.44;94.33;796.89;79.96\\n',\n",
       " '07.09.1987;913.41;919.53;97.93;100.84;101.39;94.64;795.82;79.95\\n',\n",
       " '08.09.1987;908.33;919.47;97.56;100.69;101.19;94.10;801.47;80.48\\n',\n",
       " '09.09.1987;902.65;919.76;97.03;100.74;101.15;93.09;784.83;78.63\\n',\n",
       " '10.09.1987;909.48;928.08;97.53;101.35;101.83;93.49;798.77;79.94\\n',\n",
       " '11.09.1987;913.45;933.42;97.96;101.83;102.25;93.89;797.78;79.78\\n',\n",
       " '14.09.1987;919.44;940.81;98.32;102.31;102.60;94.13;798.32;79.76\\n',\n",
       " '15.09.1987;916.75;936.45;98.15;101.97;102.48;94.11;789.76;79.14\\n',\n",
       " '16.09.1987;918.56;930.91;98.22;101.54;102.03;94.59;784.85;78.85\\n',\n",
       " '17.09.1987;925.35;934.09;98.94;102.05;102.40;95.48;781.56;78.81\\n',\n",
       " '18.09.1987;927.30;928.50;99.21;101.66;102.07;96.27;779.27;78.88\\n',\n",
       " '21.09.1987;925.77;927.10;99.16;101.41;101.95;96.39;786.65;79.55\\n',\n",
       " '22.09.1987;922.64;922.49;98.96;101.02;101.63;96.35;790.38;79.83\\n',\n",
       " '23.09.1987;935.65;937.85;100.15;102.53;103.01;97.27;792.57;79.97\\n',\n",
       " '24.09.1987;923.80;931.48;99.07;101.92;102.41;95.81;788.56;79.48\\n',\n",
       " '25.09.1987;925.93;928.34;99.42;101.61;102.05;96.70;784.06;79.07\\n',\n",
       " '28.09.1987;936.30;934.00;100.42;102.23;102.65;98.00;778.11;78.63\\n',\n",
       " '29.09.1987;935.80;936.20;100.35;102.31;102.79;97.82;783.96;79.09\\n',\n",
       " '30.09.1987;934.44;930.71;100.16;101.80;102.38;97.88;789.87;79.64\\n',\n",
       " '01.10.1987;936.46;938.20;100.60;102.42;103.05;98.17;803.40;80.95\\n',\n",
       " '02.10.1987;942.65;944.20;101.24;103.14;103.79;98.74;807.30;81.27\\n',\n",
       " '05.10.1987;947.57;949.42;101.70;103.77;104.49;99.06;813.89;81.89\\n',\n",
       " '06.10.1987;941.91;945.26;101.18;103.43;104.13;98.40;814.46;82.09\\n',\n",
       " '07.10.1987;934.32;935.79;100.58;102.52;103.33;98.05;817.00;82.36\\n',\n",
       " '08.10.1987;938.24;940.33;101.12;102.95;103.75;98.69;821.44;82.96\\n',\n",
       " '09.10.1987;929.55;926.63;100.45;101.67;102.56;98.51;817.34;82.67\\n',\n",
       " '12.10.1987;915.62;919.64;99.30;100.63;101.49;97.29;807.71;81.90\\n',\n",
       " '13.10.1987;919.57;921.87;99.75;100.92;101.87;97.86;805.39;81.59\\n',\n",
       " '14.10.1987;911.31;916.83;99.10;100.37;101.50;97.14;811.10;82.18\\n',\n",
       " '15.10.1987;897.84;901.83;97.79;98.67;99.81;96.15;797.83;80.96\\n',\n",
       " '16.10.1987;890.93;894.23;97.04;98.00;99.03;95.34;788.80;80.03\\n',\n",
       " '19.10.1987;810.63;823.32;88.79;90.70;91.17;86.40;738.40;75.28\\n',\n",
       " '20.10.1987;736.76;783.33;81.65;87.00;87.28;76.50;685.31;68.68\\n',\n",
       " '21.10.1987;791.58;831.37;86.46;91.18;91.51;81.79;713.10;71.93\\n',\n",
       " '22.10.1987;756.19;799.94;82.75;88.37;88.38;77.37;698.36;70.43\\n',\n",
       " '23.10.1987;746.33;788.59;81.07;86.91;86.90;75.54;695.77;69.95\\n',\n",
       " '26.10.1987;701.30;734.34;75.63;81.46;81.14;70.15;656.39;66.63\\n',\n",
       " '27.10.1987;710.10;741.49;76.29;81.66;81.59;71.18;654.99;66.33\\n',\n",
       " '28.10.1987;683.57;701.32;73.16;77.44;77.41;68.98;623.03;63.33\\n',\n",
       " '29.10.1987;684.67;691.31;72.70;75.71;75.72;69.56;592.13;60.25\\n',\n",
       " '30.10.1987;719.78;730.75;76.32;79.71;79.74;72.83;627.08;63.34\\n',\n",
       " '02.11.1987;709.57;725.43;75.69;79.38;79.54;71.97;624.30;63.22\\n',\n",
       " '03.11.1987;688.03;712.87;73.65;78.21;78.19;69.23;612.78;62.13\\n',\n",
       " '04.11.1987;669.39;689.49;71.41;75.91;75.79;67.07;588.63;59.91\\n',\n",
       " '05.11.1987;670.90;682.12;71.50;75.15;74.97;67.84;582.57;59.17\\n',\n",
       " '06.11.1987;670.19;683.04;71.38;75.17;75.08;67.62;591.84;60.13\\n',\n",
       " '09.11.1987;643.72;654.09;68.96;72.68;72.57;65.28;568.74;58.06\\n',\n",
       " '10.11.1987;626.09;615.90;66.69;68.55;68.39;64.55;538.59;55.33\\n',\n",
       " '11.11.1987;645.11;632.36;68.76;70.03;70.09;67.08;536.87;55.25\\n',\n",
       " '12.11.1987;678.30;676.32;71.98;74.01;73.83;69.65;563.83;57.39\\n',\n",
       " '13.11.1987;671.29;674.57;71.73;73.82;74.05;69.36;589.91;59.72\\n',\n",
       " '16.11.1987;681.47;694.95;72.94;75.99;76.20;69.77;601.68;60.90\\n',\n",
       " '17.11.1987;666.88;678.12;71.62;74.54;74.64;68.57;591.21;60.04\\n',\n",
       " '18.11.1987;667.01;676.37;71.60;74.32;74.41;68.71;585.79;59.58\\n',\n",
       " '19.11.1987;657.61;669.38;70.61;73.58;73.57;67.53;570.84;58.21\\n',\n",
       " '20.11.1987;650.27;653.27;69.75;71.87;72.01;67.38;565.39;57.51\\n',\n",
       " '23.11.1987;654.41;658.18;70.23;72.40;72.42;67.80;582.86;58.82\\n',\n",
       " '24.11.1987;673.08;676.14;71.85;74.23;74.19;69.24;585.55;59.24\\n',\n",
       " '25.11.1987;665.87;675.26;71.41;74.20;74.15;68.47;589.69;59.63\\n',\n",
       " '26.11.1987;664.54;671.13;71.48;74.00;74.06;68.76;582.57;59.08\\n',\n",
       " '27.11.1987;663.35;675.21;71.51;74.39;74.34;68.50;579.58;58.96\\n',\n",
       " '30.11.1987;640.51;658.03;69.22;72.79;72.65;65.64;557.12;56.97\\n',\n",
       " '01.12.1987;638.76;654.90;68.96;72.28;72.19;65.59;554.21;56.59\\n',\n",
       " '02.12.1987;639.85;655.07;69.21;72.32;72.18;66.02;548.74;56.17\\n',\n",
       " '03.12.1987;636.72;650.92;68.86;71.84;71.72;65.78;556.91;56.69\\n',\n",
       " '04.12.1987;628.76;635.83;67.93;70.19;70.01;65.45;551.67;56.15\\n',\n",
       " '07.12.1987;629.56;634.13;67.98;69.75;69.65;65.91;558.21;56.56\\n',\n",
       " '08.12.1987;635.58;638.18;68.69;70.09;70.05;66.93;564.16;57.14\\n',\n",
       " '09.12.1987;640.50;640.49;69.14;70.30;70.27;67.58;563.36;57.15\\n',\n",
       " '10.12.1987;637.79;641.11;68.93;70.45;70.53;67.06;567.11;57.41\\n',\n",
       " '11.12.1987;639.54;636.25;69.23;69.90;69.85;68.06;554.24;56.21\\n',\n",
       " '14.12.1987;641.03;639.67;69.48;70.39;70.31;68.11;557.19;56.46\\n',\n",
       " '15.12.1987;646.98;648.78;70.29;71.32;71.22;68.82;563.01;57.00\\n',\n",
       " '16.12.1987;655.31;661.40;71.43;72.89;72.64;69.58;566.59;57.24\\n',\n",
       " '17.12.1987;657.94;663.47;71.95;73.15;72.97;70.32;580.80;58.44\\n',\n",
       " '18.12.1987;658.10;658.56;71.94;72.56;72.38;70.79;579.25;58.38\\n',\n",
       " '21.12.1987;668.95;665.50;72.92;73.17;73.08;72.07;583.07;58.74\\n',\n",
       " '22.12.1987;669.92;667.53;72.99;73.37;73.29;72.03;581.17;58.57\\n',\n",
       " '23.12.1987;678.30;672.74;73.73;73.89;73.77;72.95;581.47;58.51\\n',\n",
       " '24.12.1987;679.30;671.57;73.85;73.65;73.53;73.37;576.50;58.05\\n',\n",
       " '25.12.1987;679.30;671.57;73.84;73.61;73.50;73.37;576.50;58.05\\n',\n",
       " '28.12.1987;680.28;663.68;74.07;73.02;72.98;74.28;579.52;58.45\\n',\n",
       " '29.12.1987;658.14;651.88;71.74;71.66;71.64;71.17;567.13;57.34\\n',\n",
       " '30.12.1987;664.83;656.14;72.56;72.08;72.02;72.31;571.66;57.72\\n',\n",
       " '31.12.1987;651.26;648.13;71.10;71.22;71.23;70.36;565.36;57.11\\n',\n",
       " '01.01.1988;651.26;648.32;71.10;71.23;71.23;70.36;565.36;57.11\\n',\n",
       " '04.01.1988;649.07;633.30;70.86;69.65;69.67;71.23;562.56;56.86\\n',\n",
       " '05.01.1988;670.22;658.48;72.94;72.05;72.13;73.03;587.14;58.88\\n',\n",
       " '06.01.1988;676.42;665.43;73.40;72.77;72.92;73.26;591.15;59.36\\n',\n",
       " '07.01.1988;677.95;669.13;73.62;73.20;73.28;73.31;600.69;60.37\\n',\n",
       " '08.01.1988;679.60;674.72;73.71;73.66;73.75;73.10;597.41;60.23\\n',\n",
       " '11.01.1988;661.54;650.12;72.07;71.36;71.34;72.02;583.07;58.96\\n',\n",
       " '12.01.1988;656.34;649.16;71.72;71.33;71.39;71.41;586.58;59.08\\n',\n",
       " '13.01.1988;651.89;639.19;71.07;70.26;70.27;71.11;580.73;58.63\\n',\n",
       " '14.01.1988;654.70;642.68;71.32;70.48;70.49;71.39;580.36;58.64\\n',\n",
       " '15.01.1988;664.70;645.79;72.25;70.70;70.70;72.90;585.36;59.07\\n',\n",
       " '18.01.1988;674.27;661.85;73.21;72.38;72.44;73.25;596.75;60.16\\n',\n",
       " '19.01.1988;662.58;648.62;72.31;71.30;71.46;72.52;597.06;60.19\\n',\n",
       " '20.01.1988;654.36;638.35;71.52;70.24;70.49;71.94;597.48;60.25\\n',\n",
       " '21.01.1988;651.36;633.54;71.20;69.54;69.87;71.95;599.80;60.46\\n',\n",
       " '22.01.1988;656.89;635.91;71.70;69.73;70.15;72.70;610.95;61.36\\n',\n",
       " '25.01.1988;655.24;636.19;71.61;69.77;70.29;72.51;618.48;62.16\\n',\n",
       " '26.01.1988;656.28;640.18;71.72;70.07;70.52;72.46;623.71;62.54\\n',\n",
       " '27.01.1988;655.56;637.47;71.60;69.74;70.17;72.51;617.94;62.07\\n',\n",
       " '28.01.1988;657.59;633.50;71.74;69.19;69.72;73.22;621.65;62.44\\n',\n",
       " '29.01.1988;660.28;635.95;72.00;69.40;70.01;73.54;633.05;63.44\\n',\n",
       " '01.02.1988;659.42;639.49;71.79;69.62;70.27;72.96;631.44;63.32\\n',\n",
       " '02.02.1988;657.20;638.99;71.63;69.49;70.11;72.78;625.87;62.89\\n',\n",
       " '03.02.1988;658.57;644.82;71.84;69.96;70.58;72.78;634.58;63.51\\n',\n",
       " '04.02.1988;662.93;653.51;72.20;70.62;71.22;72.87;641.37;64.03\\n',\n",
       " '05.02.1988;660.05;655.59;71.95;70.92;71.57;72.16;648.12;64.52\\n',\n",
       " '08.02.1988;655.25;660.39;71.32;71.25;71.90;70.73;649.37;64.69\\n',\n",
       " '09.02.1988;650.01;652.07;70.80;70.42;71.01;70.48;640.72;63.84\\n',\n",
       " '10.02.1988;658.68;658.26;71.48;70.97;71.49;71.27;644.63;64.09\\n',\n",
       " '11.02.1988;668.68;673.00;72.40;72.37;72.84;71.78;652.55;64.84\\n',\n",
       " '12.02.1988;672.36;678.61;72.80;72.90;73.28;72.06;653.38;64.93\\n',\n",
       " '15.02.1988;676.67;686.68;73.37;73.85;74.23;72.32;657.93;65.41\\n',\n",
       " '16.02.1988;676.17;688.36;73.41;74.02;74.42;72.24;658.04;65.53\\n',\n",
       " '17.02.1988;682.55;696.79;74.13;74.94;75.23;72.80;656.51;65.49\\n',\n",
       " '18.02.1988;679.64;697.01;73.96;75.16;75.39;72.29;651.41;65.18\\n',\n",
       " '19.02.1988;675.97;695.96;73.87;75.20;75.39;72.10;648.67;64.91\\n',\n",
       " '22.02.1988;681.76;702.05;74.47;75.80;75.92;72.69;652.60;65.21\\n',\n",
       " '23.02.1988;684.10;704.53;74.82;76.15;76.25;73.05;653.03;65.30\\n',\n",
       " '24.02.1988;685.45;707.13;75.11;76.52;76.57;73.25;644.25;64.64\\n',\n",
       " '25.02.1988;693.10;712.17;75.82;76.99;77.07;74.16;647.39;64.88\\n',\n",
       " '26.02.1988;684.81;705.06;75.19;76.43;76.53;73.48;647.07;64.78\\n',\n",
       " '29.02.1988;687.18;708.88;75.45;76.97;76.93;73.50;649.38;64.91\\n',\n",
       " '01.03.1988;690.97;715.83;76.08;77.66;77.67;74.07;653.88;65.25\\n',\n",
       " '02.03.1988;699.25;717.62;76.97;77.84;78.00;75.55;662.40;66.21\\n',\n",
       " '03.03.1988;699.10;716.51;76.93;77.67;77.90;75.64;665.26;66.57\\n',\n",
       " '04.03.1988;698.49;711.09;77.19;77.28;77.56;76.43;667.21;66.70\\n',\n",
       " '07.03.1988;689.55;700.57;76.37;76.14;76.52;75.90;660.23;65.99\\n',\n",
       " '08.03.1988;699.67;709.99;77.38;77.18;77.42;76.88;660.41;66.06\\n',\n",
       " '09.03.1988;702.93;713.48;77.76;77.59;77.86;77.23;665.51;66.43\\n',\n",
       " '10.03.1988;712.21;719.48;78.75;78.24;78.60;78.48;682.87;67.98\\n',\n",
       " '11.03.1988;705.44;713.28;77.93;77.56;77.87;77.56;680.32;67.82\\n',\n",
       " '14.03.1988;706.69;714.18;78.04;77.63;77.93;77.70;677.39;67.62\\n',\n",
       " '15.03.1988;711.33;714.82;78.55;77.80;78.11;78.49;679.51;67.63\\n',\n",
       " '16.03.1988;710.12;721.60;78.54;78.56;78.73;77.83;677.10;67.48\\n',\n",
       " '17.03.1988;694.65;706.85;76.89;77.00;77.11;76.12;659.38;65.77\\n',\n",
       " '18.03.1988;730.81;743.45;80.74;80.96;81.01;79.83;689.36;68.71\\n',\n",
       " '21.03.1988;724.90;740.41;80.09;80.53;80.48;79.00;686.96;68.50\\n',\n",
       " '22.03.1988;718.18;729.93;79.42;79.38;79.37;78.75;678.66;67.77\\n',\n",
       " '23.03.1988;717.83;731.40;79.44;79.61;79.61;78.60;682.03;68.06\\n',\n",
       " '24.03.1988;707.85;729.04;78.53;79.56;79.60;76.97;683.67;68.27\\n',\n",
       " '25.03.1988;698.59;719.87;77.75;78.79;78.70;76.18;673.78;67.54\\n',\n",
       " '28.03.1988;683.47;700.50;76.06;76.62;76.43;74.91;660.13;66.32\\n',\n",
       " '29.03.1988;689.91;706.16;76.70;77.08;76.97;75.71;661.13;66.29\\n',\n",
       " '30.03.1988;687.40;706.39;76.55;77.09;77.00;75.42;665.81;66.78\\n',\n",
       " '31.03.1988;682.68;701.56;76.07;76.77;76.62;74.81;662.23;66.63\\n',\n",
       " '01.04.1988;682.80;701.37;76.06;76.73;76.59;74.82;662.07;66.60\\n',\n",
       " '04.04.1988;682.58;699.45;76.03;76.67;76.55;74.82;662.03;66.63\\n',\n",
       " '05.04.1988;680.03;696.84;75.72;76.37;76.30;74.51;663.48;66.69\\n',\n",
       " '06.04.1988;690.85;707.35;76.83;77.44;77.41;75.64;677.37;67.96\\n',\n",
       " '07.04.1988;696.76;712.88;77.44;78.00;77.99;76.29;688.14;68.88\\n',\n",
       " '08.04.1988;700.47;712.36;77.72;77.82;77.81;76.95;689.38;69.01\\n',\n",
       " '11.04.1988;712.86;723.06;78.89;79.00;78.95;78.11;704.10;70.27\\n',\n",
       " '12.04.1988;713.32;728.31;79.05;79.54;79.41;77.94;707.51;70.60\\n',\n",
       " '13.04.1988;714.11;731.26;79.31;79.86;79.77;78.14;712.17;70.99\\n',\n",
       " '14.04.1988;705.69;725.77;78.72;79.42;79.39;77.43;707.09;70.43\\n',\n",
       " '15.04.1988;698.00;712.42;77.69;77.85;77.76;76.88;679.13;67.82\\n',\n",
       " '18.04.1988;698.72;711.60;77.67;77.61;77.45;77.05;671.42;67.04\\n',\n",
       " '19.04.1988;704.94;716.63;78.29;78.06;77.83;77.81;673.91;67.18\\n',\n",
       " '20.04.1988;699.47;711.86;77.82;77.66;77.46;77.28;675.16;67.39\\n',\n",
       " '21.04.1988;698.80;708.23;77.70;77.25;77.07;77.41;675.48;67.37\\n',\n",
       " '22.04.1988;697.63;711.58;77.64;77.66;77.37;76.95;678.02;67.67\\n',\n",
       " '25.04.1988;699.06;714.45;77.97;78.04;77.79;77.23;690.50;68.63\\n',\n",
       " '26.04.1988;703.75;716.27;78.59;78.30;78.11;78.16;698.60;69.35\\n',\n",
       " '27.04.1988;703.11;714.72;78.72;78.24;78.18;78.44;705.46;70.01\\n',\n",
       " '28.04.1988;702.97;717.48;78.81;78.53;78.41;78.36;702.46;69.78\\n',\n",
       " '29.04.1988;700.02;710.55;78.49;77.93;77.79;78.28;696.53;69.35\\n',\n",
       " '02.05.1988;699.53;709.88;78.50;77.96;77.82;78.27;699.76;69.67\\n',\n",
       " '03.05.1988;698.03;705.58;78.22;77.52;77.43;78.14;703.48;69.87\\n',\n",
       " '04.05.1988;698.21;710.63;78.30;78.06;77.91;77.82;701.32;69.86\\n',\n",
       " '05.05.1988;694.14;708.49;78.02;77.93;77.66;77.41;692.54;69.08\\n',\n",
       " '06.05.1988;696.34;707.04;78.23;77.81;77.53;77.91;693.25;69.07\\n',\n",
       " '09.05.1988;688.54;694.64;77.51;76.70;76.46;77.52;688.17;68.55\\n',\n",
       " '10.05.1988;687.11;691.69;77.30;76.36;76.16;77.42;687.88;68.55\\n',\n",
       " '11.05.1988;676.00;682.60;76.08;75.41;75.24;76.00;682.90;68.29\\n',\n",
       " '12.05.1988;677.63;680.10;76.17;75.02;74.93;76.48;684.00;68.40\\n',\n",
       " '13.05.1988;678.34;678.99;76.21;74.84;74.67;76.70;682.29;68.12\\n',\n",
       " '16.05.1988;687.92;693.32;77.23;76.19;76.08;77.44;693.98;69.26\\n',\n",
       " '17.05.1988;694.17;699.73;77.85;76.92;76.83;77.95;700.47;69.79\\n',\n",
       " '18.05.1988;690.59;697.68;77.65;76.85;76.77;77.65;707.99;70.61\\n',\n",
       " '19.05.1988;682.23;686.38;76.83;75.83;75.87;77.02;706.48;70.60\\n',\n",
       " '20.05.1988;685.43;691.00;77.31;76.39;76.41;77.43;712.33;71.07\\n',\n",
       " '23.05.1988;682.29;688.63;77.00;76.09;76.15;77.11;714.60;71.21\\n',\n",
       " '24.05.1988;685.98;689.83;77.46;76.22;76.20;77.83;712.80;71.26\\n',\n",
       " '25.05.1988;690.29;698.42;78.09;77.18;77.11;78.18;722.28;72.18\\n',\n",
       " '26.05.1988;689.45;697.56;78.03;77.11;77.07;78.14;723.84;72.39\\n',\n",
       " '27.05.1988;686.78;696.04;77.98;77.03;76.99;78.11;725.89;72.58\\n',\n",
       " '30.05.1988;690.85;702.31;78.25;77.51;77.47;78.19;726.30;72.65\\n',\n",
       " '31.05.1988;695.15;711.12;78.85;78.54;78.57;78.42;740.33;73.85\\n',\n",
       " '01.06.1988;702.30;724.44;79.39;79.65;79.60;78.47;741.60;73.92\\n',\n",
       " '02.06.1988;717.78;742.44;80.92;81.63;81.55;79.60;752.11;75.01\\n',\n",
       " '03.06.1988;708.04;732.45;79.61;80.34;80.25;78.30;736.03;73.43\\n',\n",
       " '06.06.1988;714.36;736.99;80.05;80.84;80.77;78.67;737.14;73.49\\n',\n",
       " '07.06.1988;710.29;733.47;79.82;80.59;80.51;78.46;739.62;73.76\\n',\n",
       " '08.06.1988;713.03;736.43;80.23;80.78;80.70;79.05;742.12;74.03\\n',\n",
       " '09.06.1988;721.79;749.58;81.06;81.97;81.79;79.58;746.54;74.47\\n',\n",
       " '10.06.1988;723.02;749.26;81.27;82.00;81.79;79.93;745.05;74.39\\n',\n",
       " '13.06.1988;721.39;746.51;81.10;81.81;81.65;79.78;743.39;74.28\\n',\n",
       " '14.06.1988;727.10;750.26;81.74;82.22;82.09;80.62;750.46;75.01\\n',\n",
       " '15.06.1988;729.44;752.49;82.07;82.52;82.43;80.96;756.64;75.56\\n',\n",
       " '16.06.1988;724.31;745.17;81.49;81.79;81.77;80.52;752.97;75.17\\n',\n",
       " '17.06.1988;723.46;747.38;81.46;81.99;82.01;80.30;749.01;74.88\\n',\n",
       " '20.06.1988;721.91;745.56;81.32;81.82;81.84;80.19;746.50;74.74\\n',\n",
       " '21.06.1988;727.19;748.29;81.65;81.95;81.95;80.69;743.28;74.50\\n',\n",
       " '22.06.1988;735.29;754.23;82.47;82.54;82.59;81.70;751.07;75.07\\n',\n",
       " '23.06.1988;736.48;759.34;82.91;83.30;83.39;81.85;761.32;75.91\\n',\n",
       " '24.06.1988;735.13;763.67;82.60;83.54;83.46;81.07;759.50;75.70\\n',\n",
       " '27.06.1988;727.07;762.99;81.81;83.51;83.49;79.65;760.53;75.81\\n',\n",
       " '28.06.1988;728.19;756.75;81.87;82.92;82.83;80.25;751.44;74.94\\n',\n",
       " '29.06.1988;731.79;760.82;82.13;83.23;83.17;80.48;755.20;75.26\\n',\n",
       " '30.06.1988;729.80;760.54;81.95;83.23;83.10;80.14;753.48;75.17\\n',\n",
       " '01.07.1988;733.70;769.63;82.32;84.01;83.87;80.15;762.02;75.82\\n',\n",
       " '04.07.1988;731.08;771.49;81.96;84.18;84.03;79.36;763.03;75.84\\n',\n",
       " '05.07.1988;738.22;775.35;82.64;84.41;84.27;80.41;764.15;76.02\\n',\n",
       " '06.07.1988;749.96;787.97;83.79;85.59;85.46;81.51;774.43;76.88\\n',\n",
       " '07.07.1988;743.09;783.36;83.18;85.17;85.05;80.76;773.47;76.77\\n',\n",
       " '08.07.1988;747.00;783.07;83.61;85.22;85.11;81.51;775.98;76.82\\n',\n",
       " '11.07.1988;746.52;780.72;83.54;84.96;84.89;81.60;769.89;76.38\\n',\n",
       " '12.07.1988;738.32;771.99;82.77;84.23;84.25;80.80;770.14;76.35\\n',\n",
       " '13.07.1988;739.03;766.99;82.72;83.65;83.64;81.20;764.01;75.79\\n',\n",
       " '14.07.1988;739.35;770.82;82.92;84.13;84.10;81.16;767.44;76.15\\n',\n",
       " '15.07.1988;740.89;774.77;83.09;84.54;84.50;81.13;770.97;76.45\\n',\n",
       " '18.07.1988;738.70;772.11;82.93;84.24;84.24;81.08;771.51;76.52\\n',\n",
       " '19.07.1988;737.23;767.36;82.67;83.60;83.62;81.14;766.50;76.13\\n',\n",
       " '20.07.1988;744.35;771.81;83.37;83.94;83.97;82.15;769.75;76.41\\n',\n",
       " '21.07.1988;744.77;772.11;83.42;83.87;83.94;82.31;776.20;76.97\\n',\n",
       " '22.07.1988;737.08;765.79;82.80;83.39;83.45;81.58;772.61;76.72\\n',\n",
       " '25.07.1988;736.90;765.03;82.70;83.25;83.29;81.50;772.60;76.63\\n',\n",
       " '26.07.1988;738.96;772.58;82.94;84.00;83.89;81.31;773.38;76.75\\n',\n",
       " '27.07.1988;742.13;775.46;83.35;84.34;84.25;81.77;779.29;77.29\\n',\n",
       " '28.07.1988;740.13;771.12;83.32;83.95;83.88;82.06;780.59;77.42\\n',\n",
       " '29.07.1988;746.71;780.03;83.82;84.76;84.58;82.28;785.32;77.67\\n',\n",
       " '01.08.1988;752.00;786.65;84.42;85.40;85.16;82.85;797.14;78.56\\n',\n",
       " '02.08.1988;750.41;786.91;84.26;85.46;85.25;82.49;795.08;78.54\\n',\n",
       " '03.08.1988;750.95;785.35;84.45;85.38;85.21;82.92;794.55;78.45\\n',\n",
       " '04.08.1988;751.61;784.49;84.67;85.29;85.21;83.39;795.22;78.55\\n',\n",
       " '05.08.1988;756.01;790.72;85.09;85.83;85.78;83.70;795.74;78.65\\n',\n",
       " '08.08.1988;754.03;786.05;84.79;85.32;85.22;83.58;780.53;77.40\\n',\n",
       " '09.08.1988;754.51;788.65;84.78;85.57;85.43;83.36;777.57;77.16\\n',\n",
       " '10.08.1988;742.01;774.91;83.38;84.12;84.00;82.01;759.14;75.54\\n',\n",
       " '11.08.1988;736.51;766.11;82.80;83.30;83.12;81.64;753.47;74.91\\n',\n",
       " '12.08.1988;742.49;773.27;83.46;83.95;83.80;82.32;764.68;75.81\\n',\n",
       " '15.08.1988;734.44;770.05;82.71;83.68;83.46;81.16;756.53;75.12\\n',\n",
       " '16.08.1988;734.22;766.83;82.88;83.50;83.25;81.62;757.05;75.18\\n',\n",
       " '17.08.1988;741.36;775.41;83.47;84.29;84.05;82.04;761.69;75.64\\n',\n",
       " '18.08.1988;743.10;777.71;83.72;84.59;84.33;82.25;768.05;76.27\\n',\n",
       " '19.08.1988;742.57;774.53;83.76;84.41;84.19;82.46;768.49;76.29\\n',\n",
       " '22.08.1988;740.09;773.60;83.40;84.23;84.08;81.96;770.70;76.37\\n',\n",
       " '23.08.1988;733.17;767.15;82.59;83.61;83.40;80.99;760.98;75.61\\n',\n",
       " '24.08.1988;733.28;769.97;82.59;83.86;83.62;80.78;762.37;75.64\\n',\n",
       " '25.08.1988;720.66;762.04;81.22;83.17;82.92;78.83;750.19;74.62\\n',\n",
       " '26.08.1988;716.54;760.86;80.70;83.02;82.78;78.01;743.36;74.05\\n',\n",
       " '29.08.1988;715.07;757.41;80.45;82.60;82.31;77.89;740.83;73.65\\n',\n",
       " '30.08.1988;715.93;759.76;80.34;82.81;82.52;77.51;744.15;73.84\\n',\n",
       " '31.08.1988;716.95;761.63;80.41;82.97;82.67;77.51;750.03;74.50\\n',\n",
       " '01.09.1988;710.96;757.92;79.62;82.54;82.26;76.42;747.69;74.19\\n',\n",
       " '02.09.1988;710.94;755.50;79.53;82.20;81.94;76.54;741.39;73.76\\n',\n",
       " '05.09.1988;718.94;762.97;80.34;82.86;82.62;77.47;747.54;74.24\\n',\n",
       " '06.09.1988;720.49;764.79;80.58;82.99;82.69;77.81;751.03;74.38\\n',\n",
       " '07.09.1988;719.58;767.95;80.54;83.25;82.91;77.50;750.74;74.34\\n',\n",
       " '08.09.1988;721.63;773.44;80.64;83.77;83.41;77.23;758.74;75.20\\n',\n",
       " '09.09.1988;716.75;768.47;79.99;83.22;82.81;76.50;755.04;74.78\\n',\n",
       " '12.09.1988;722.38;776.16;80.45;83.87;83.45;76.79;761.65;75.28\\n',\n",
       " '13.09.1988;726.93;779.82;80.86;84.09;83.67;77.37;762.03;75.46\\n',\n",
       " '14.09.1988;734.37;789.70;81.57;85.03;84.54;77.87;766.28;75.88\\n',\n",
       " '15.09.1988;737.47;794.24;81.93;85.49;84.98;78.14;768.06;76.01\\n',\n",
       " '16.09.1988;735.72;793.88;81.87;85.56;85.02;77.97;764.35;75.82\\n',\n",
       " '19.09.1988;735.71;798.40;82.02;86.14;85.64;77.75;774.23;76.67\\n',\n",
       " '20.09.1988;738.03;797.96;82.33;86.09;85.62;78.37;778.37;77.02\\n',\n",
       " '21.09.1988;743.71;803.58;83.11;86.77;86.35;79.23;788.70;77.99\\n',\n",
       " '22.09.1988;743.47;805.49;83.03;86.87;86.56;78.99;801.45;79.08\\n',\n",
       " '23.09.1988;742.73;802.23;83.03;86.65;86.39;79.18;800.65;79.12\\n',\n",
       " '26.09.1988;745.42;805.86;83.26;86.97;86.75;79.33;802.54;79.29\\n',\n",
       " '27.09.1988;748.20;802.73;83.54;86.67;86.44;80.10;800.32;79.15\\n',\n",
       " '28.09.1988;748.87;801.46;83.73;86.71;86.40;80.44;793.26;78.67\\n',\n",
       " '29.09.1988;755.01;807.99;84.42;87.48;87.08;81.06;797.87;78.97\\n',\n",
       " '30.09.1988;754.73;809.03;84.47;87.64;87.24;80.99;799.43;79.14\\n',\n",
       " '03.10.1988;750.43;809.23;84.03;87.70;87.28;80.14;801.37;79.33\\n',\n",
       " '04.10.1988;752.27;812.20;84.12;87.91;87.43;80.12;802.12;79.46\\n',\n",
       " '05.10.1988;756.65;814.60;84.71;88.19;87.72;80.97;805.02;79.79\\n',\n",
       " '06.10.1988;760.21;816.70;85.14;88.52;88.05;81.49;808.66;80.00\\n',\n",
       " '07.10.1988;762.42;818.72;85.44;88.70;88.27;81.89;809.43;80.08\\n',\n",
       " '10.10.1988;766.75;823.99;85.91;89.18;88.76;82.35;816.80;80.70\\n',\n",
       " '11.10.1988;761.83;817.84;85.57;88.73;88.35;82.11;815.58;80.59\\n',\n",
       " '12.10.1988;754.97;812.66;84.96;88.32;88.01;81.32;813.27;80.41\\n',\n",
       " '13.10.1988;761.13;819.84;85.50;88.95;88.44;81.78;805.62;79.78\\n',\n",
       " '14.10.1988;765.57;823.39;86.00;89.35;88.88;82.36;814.16;80.45\\n',\n",
       " '17.10.1988;769.28;825.53;86.39;89.60;89.04;82.88;815.11;80.62\\n',\n",
       " '18.10.1988;772.08;833.38;86.57;90.31;89.63;82.58;812.83;80.48\\n',\n",
       " '19.10.1988;775.61;837.60;86.93;90.66;89.98;82.95;812.31;80.48\\n',\n",
       " '20.10.1988;774.29;832.50;86.87;90.33;89.70;83.14;815.19;80.64\\n',\n",
       " '21.10.1988;771.36;832.21;86.63;90.44;89.91;82.59;819.13;81.01\\n',\n",
       " '24.10.1988;768.28;831.32;86.35;90.55;90.02;81.96;823.45;81.36\\n',\n",
       " '25.10.1988;769.89;832.41;86.40;90.64;90.09;81.98;823.17;81.45\\n',\n",
       " '26.10.1988;779.73;846.50;87.43;92.04;91.46;82.69;832.96;82.56\\n',\n",
       " '27.10.1988;772.70;836.33;86.67;90.92;90.41;82.25;826.79;81.90\\n',\n",
       " '28.10.1988;776.63;841.45;87.08;91.32;90.81;82.66;831.43;82.26\\n',\n",
       " '31.10.1988;774.19;837.84;86.97;91.10;90.61;82.65;838.19;82.86\\n',\n",
       " '01.11.1988;779.60;842.83;87.42;91.49;91.06;83.14;843.68;83.26\\n',\n",
       " '02.11.1988;775.18;838.65;87.05;91.20;90.84;82.71;845.81;83.47\\n',\n",
       " '03.11.1988;773.24;837.14;86.78;91.01;90.62;82.37;841.79;83.13\\n',\n",
       " '04.11.1988;774.37;838.31;87.00;91.22;90.87;82.59;856.20;84.23\\n',\n",
       " '07.11.1988;767.47;830.56;86.29;90.56;90.20;81.84;846.58;83.48\\n',\n",
       " '08.11.1988;774.34;836.86;86.98;91.14;90.73;82.64;851.39;84.05\\n',\n",
       " '09.11.1988;768.61;833.03;86.45;90.87;90.48;81.88;848.52;83.83\\n',\n",
       " '10.11.1988;767.30;830.49;86.29;90.60;90.14;81.81;844.11;83.50\\n',\n",
       " '11.11.1988;761.11;826.42;85.47;90.10;89.59;80.71;831.79;82.59\\n',\n",
       " '14.11.1988;757.55;821.69;84.93;89.35;88.83;80.38;822.56;81.60\\n',\n",
       " '15.11.1988;757.09;819.76;85.04;89.27;88.79;80.65;823.86;81.68\\n',\n",
       " '16.11.1988;758.02;822.09;85.22;89.55;89.08;80.73;828.64;82.05\\n',\n",
       " '17.11.1988;760.90;819.30;85.39;89.23;88.74;81.32;822.83;81.66\\n',\n",
       " '18.11.1988;761.04;825.01;85.37;89.66;88.65;80.92;829.44;82.18\\n',\n",
       " '21.11.1988;756.31;822.15;84.82;89.26;88.14;80.25;831.75;82.36\\n',\n",
       " '22.11.1988;757.82;822.15;85.00;89.18;88.13;80.65;835.32;82.71\\n',\n",
       " '23.11.1988;764.23;828.60;85.70;89.79;88.82;81.41;847.60;83.87\\n',\n",
       " '24.11.1988;766.03;829.94;85.71;89.92;89.04;81.32;843.99;83.61\\n',\n",
       " '25.11.1988;760.11;827.28;84.94;89.67;88.82;80.12;836.02;83.02\\n',\n",
       " '28.11.1988;758.05;822.20;84.58;89.14;88.34;79.90;837.00;83.09\\n',\n",
       " '29.11.1988;760.27;823.08;84.83;89.17;88.41;80.35;843.67;83.51\\n',\n",
       " '30.11.1988;764.98;828.32;85.33;89.56;88.81;80.94;855.03;84.59\\n',\n",
       " '01.12.1988;762.41;828.11;85.03;89.53;88.81;80.39;862.43;85.32\\n',\n",
       " '02.12.1988;758.86;825.56;84.65;89.31;88.61;79.87;866.41;85.79\\n',\n",
       " '05.12.1988;758.27;823.66;84.56;89.08;88.45;79.91;873.60;86.39\\n',\n",
       " '06.12.1988;761.90;827.01;84.94;89.35;88.81;80.39;889.19;87.78\\n',\n",
       " '07.12.1988;767.12;834.37;85.35;90.00;89.38;80.57;894.84;88.20\\n',\n",
       " '08.12.1988;764.77;833.25;84.95;89.89;89.26;79.93;891.17;87.81\\n',\n",
       " '09.12.1988;769.72;843.45;85.28;90.86;90.19;79.70;899.92;88.69\\n',\n",
       " '12.12.1988;762.67;836.02;84.52;90.03;89.39;79.01;889.80;87.75\\n',\n",
       " '13.12.1988;763.09;835.75;84.54;89.99;89.34;79.08;893.61;87.85\\n',\n",
       " '14.12.1988;761.56;832.87;84.28;89.69;89.04;78.87;894.17;87.89\\n',\n",
       " '15.12.1988;762.50;832.27;84.43;89.52;88.83;79.29;893.18;87.83\\n',\n",
       " '16.12.1988;767.52;839.18;85.03;90.17;89.44;79.84;901.47;88.57\\n',\n",
       " '19.12.1988;771.09;846.69;85.33;90.69;89.81;79.94;898.78;88.34\\n',\n",
       " '20.12.1988;776.60;854.39;85.93;91.54;90.66;80.32;907.25;89.14\\n',\n",
       " '21.12.1988;774.34;853.69;85.89;91.59;90.79;80.20;919.52;90.64\\n',\n",
       " '22.12.1988;761.63;843.38;84.49;90.45;89.57;78.58;902.58;89.04\\n',\n",
       " '23.12.1988;775.45;856.46;86.07;91.98;91.11;80.19;917.19;90.46\\n',\n",
       " '26.12.1988;775.37;856.06;86.06;91.96;91.10;80.20;915.33;90.28\\n',\n",
       " '27.12.1988;778.58;861.08;86.26;92.37;91.45;80.22;918.89;90.55\\n',\n",
       " '28.12.1988;779.77;859.15;86.53;92.22;91.40;80.86;926.33;91.20\\n',\n",
       " '29.12.1988;783.33;861.22;87.04;92.47;91.71;81.57;929.51;91.81\\n',\n",
       " '30.12.1988;781.29;861.36;86.85;92.51;91.68;81.18;922.41;91.32\\n',\n",
       " '02.01.1989;783.33;866.04;87.04;92.92;92.01;81.18;909.56;90.62\\n',\n",
       " '03.01.1989;787.65;872.11;87.38;93.55;92.75;81.26;925.76;92.11\\n',\n",
       " '04.01.1989;792.62;876.29;87.93;93.90;93.11;81.98;933.74;92.66\\n',\n",
       " '05.01.1989;797.61;883.29;88.38;94.52;93.80;82.29;955.63;94.48\\n',\n",
       " '06.01.1989;800.79;884.13;88.72;94.71;93.96;82.75;956.54;94.59\\n',\n",
       " '09.01.1989;806.98;886.05;89.36;95.10;94.39;83.62;969.21;95.61\\n',\n",
       " '10.01.1989;806.20;881.16;89.35;94.67;94.05;83.99;977.38;96.27\\n',\n",
       " '11.01.1989;807.51;881.55;89.65;94.90;94.22;84.36;971.26;95.75\\n',\n",
       " '12.01.1989;810.86;884.53;90.19;95.34;94.60;84.98;972.26;95.77\\n',\n",
       " '13.01.1989;811.42;885.25;90.56;95.53;94.79;85.51;973.40;95.64\\n',\n",
       " '16.01.1989;813.47;885.24;90.87;95.67;94.89;85.99;971.65;95.60\\n',\n",
       " '17.01.1989;811.13;881.70;90.65;95.29;94.54;85.90;977.87;96.35\\n',\n",
       " '18.01.1989;817.60;880.40;91.29;95.30;94.61;87.11;982.77;96.98\\n',\n",
       " '19.01.1989;823.44;888.68;91.93;96.02;95.29;87.68;997.34;98.23\\n',\n",
       " '20.01.1989;821.16;885.46;91.77;95.77;95.02;87.60;990.63;97.66\\n',\n",
       " '23.01.1989;819.64;880.02;91.66;95.20;94.55;87.91;986.86;97.31\\n',\n",
       " '24.01.1989;824.60;885.82;92.40;96.04;95.30;88.56;990.24;97.65\\n',\n",
       " '25.01.1989;830.27;892.57;92.75;96.62;95.87;88.70;998.60;98.20\\n',\n",
       " '26.01.1989;831.76;887.82;93.10;96.34;95.63;89.62;1004.35;98.60\\n',\n",
       " '27.01.1989;842.34;891.09;94.16;96.64;95.84;91.37;1000.71;98.34\\n',\n",
       " '30.01.1989;848.93;887.65;94.78;96.30;95.63;92.87;1010.42;99.11\\n',\n",
       " '31.01.1989;847.86;880.79;94.71;95.76;95.11;93.22;1011.46;99.33\\n',\n",
       " '01.02.1989;842.93;875.47;94.12;95.11;94.56;92.70;1011.14;99.28\\n',\n",
       " '02.02.1989;843.40;878.08;94.27;95.38;94.75;92.74;1012.04;99.35\\n',\n",
       " '03.02.1989;850.98;884.09;95.30;95.98;95.32;94.15;1016.18;99.68\\n',\n",
       " '06.02.1989;844.28;885.49;94.77;96.23;95.55;92.92;1011.50;99.37\\n',\n",
       " '07.02.1989;847.71;883.82;95.12;95.92;95.19;93.87;1001.41;98.71\\n',\n",
       " '08.02.1989;857.33;891.81;96.15;96.63;95.93;95.18;1011.09;99.64\\n',\n",
       " '09.02.1989;852.92;889.28;95.77;96.52;95.85;94.56;1015.55;99.98\\n',\n",
       " '10.02.1989;847.83;888.10;95.25;96.43;95.78;93.65;1017.70;100.22\\n',\n",
       " '13.02.1989;839.08;876.81;94.26;95.33;94.77;92.77;1013.07;99.77\\n',\n",
       " '14.02.1989;843.25;878.70;94.60;95.38;94.82;93.37;1012.23;99.62\\n',\n",
       " '15.02.1989;838.92;870.83;94.09;94.45;94.00;93.25;1007.17;99.30\\n',\n",
       " '16.02.1989;837.46;872.89;93.98;94.70;94.28;92.80;1010.80;99.50\\n',\n",
       " '17.02.1989;835.99;869.54;93.99;94.45;94.05;93.05;1012.22;99.51\\n',\n",
       " '20.02.1989;842.58;876.73;94.68;95.01;94.60;93.87;1017.76;100.07\\n',\n",
       " '21.02.1989;838.27;874.70;94.32;94.94;94.52;93.23;1020.71;100.20\\n',\n",
       " '22.02.1989;827.57;867.41;93.31;94.31;94.02;91.89;1029.21;100.83\\n',\n",
       " '23.02.1989;817.99;856.70;92.36;93.20;92.91;91.10;1014.98;99.60\\n',\n",
       " '24.02.1989;824.07;864.05;93.12;94.00;93.68;91.82;1021.82;100.23\\n',\n",
       " '27.02.1989;802.50;845.09;90.83;92.01;91.57;89.26;993.22;97.51\\n',\n",
       " '28.02.1989;808.13;852.86;91.49;92.79;92.35;89.80;999.32;97.92\\n',\n",
       " '01.03.1989;814.95;859.83;92.12;93.34;92.91;90.50;1007.32;98.69\\n',\n",
       " '02.03.1989;819.74;860.68;92.70;93.56;93.13;91.40;1008.98;99.00\\n',\n",
       " '03.03.1989;827.77;871.10;93.57;94.61;94.15;92.10;1014.08;99.52\\n',\n",
       " '06.03.1989;837.76;879.28;94.43;95.29;94.89;93.12;1024.03;100.68\\n',\n",
       " '07.03.1989;841.38;878.31;94.66;95.14;94.87;93.70;1035.29;101.70\\n',\n",
       " '08.03.1989;837.95;872.83;94.43;94.71;94.43;93.67;1034.30;101.56\\n',\n",
       " '09.03.1989;838.11;873.66;94.40;94.85;94.56;93.48;1032.71;101.39\\n',\n",
       " '10.03.1989;837.21;870.96;94.46;94.67;94.38;93.75;1028.40;101.08\\n',\n",
       " '13.03.1989;842.91;872.52;94.94;94.85;94.52;94.51;1028.98;101.06\\n',\n",
       " '14.03.1989;849.49;876.31;95.56;95.18;94.84;95.40;1037.60;101.57\\n',\n",
       " '15.03.1989;853.06;881.84;95.91;95.72;95.28;95.56;1039.72;101.74\\n',\n",
       " '16.03.1989;850.67;882.90;95.63;95.79;95.31;94.97;1038.19;101.65\\n',\n",
       " '17.03.1989;843.29;879.88;94.90;95.57;95.20;93.77;1045.13;102.27\\n',\n",
       " '20.03.1989;818.37;853.38;92.08;92.81;92.46;90.91;1013.33;99.18\\n',\n",
       " '21.03.1989;841.18;874.93;94.54;95.06;94.57;93.55;1029.12;100.96\\n',\n",
       " '22.03.1989;836.37;874.77;94.20;95.19;94.71;92.77;1034.93;101.38\\n',\n",
       " '23.03.1989;838.80;875.44;94.44;95.37;94.87;93.07;1036.18;101.49\\n',\n",
       " '24.03.1989;839.02;875.90;94.49;95.43;94.96;93.10;1038.04;101.65\\n',\n",
       " '27.03.1989;837.80;873.69;94.37;95.21;94.75;93.09;1039.40;101.78\\n',\n",
       " '28.03.1989;838.38;875.62;94.43;95.43;94.96;93.00;1044.76;102.09\\n',\n",
       " '29.03.1989;841.83;880.18;94.89;95.96;95.56;93.38;1056.79;103.12\\n',\n",
       " '30.03.1989;836.83;882.00;94.40;96.12;95.67;92.30;1060.60;103.40\\n',\n",
       " '31.03.1989;844.24;883.82;95.08;96.35;95.87;93.40;1061.81;103.46\\n',\n",
       " '03.04.1989;846.70;891.11;95.31;97.18;96.70;93.08;1066.89;103.91\\n',\n",
       " '04.04.1989;848.60;892.13;95.80;97.54;97.08;93.68;1074.35;104.62\\n',\n",
       " '05.04.1989;847.37;893.29;95.74;97.82;97.33;93.31;1076.26;104.74\\n',\n",
       " '06.04.1989;841.75;889.88;95.07;97.48;97.06;92.34;1073.31;104.57\\n',\n",
       " '07.04.1989;840.11;891.20;95.02;97.75;97.30;92.00;1070.11;104.43\\n',\n",
       " '10.04.1989;840.12;895.58;94.98;98.26;97.69;91.44;1056.36;103.43\\n',\n",
       " '11.04.1989;843.73;899.74;95.40;98.75;98.13;91.80;1053.44;103.35\\n',\n",
       " '12.04.1989;843.72;902.61;95.37;98.91;98.21;91.58;1056.11;103.55\\n',\n",
       " '13.04.1989;842.58;902.29;95.28;98.91;98.28;91.42;1052.35;103.26\\n',\n",
       " '14.04.1989;847.57;904.91;95.88;99.31;98.50;92.20;1042.89;102.46\\n',\n",
       " '17.04.1989;849.98;909.40;96.23;99.84;98.99;92.38;1048.98;103.21\\n',\n",
       " '18.04.1989;854.01;911.73;96.71;100.13;99.19;93.04;1039.23;102.62\\n',\n",
       " '19.04.1989;856.21;911.97;96.96;100.14;99.22;93.51;1049.76;103.33\\n',\n",
       " '20.04.1989;848.47;908.91;96.12;99.82;98.91;92.18;1047.35;103.11\\n',\n",
       " '21.04.1989;849.15;908.90;96.17;99.94;98.97;92.18;1048.31;103.24\\n',\n",
       " '24.04.1989;848.91;909.26;96.20;99.94;99.00;92.23;1054.45;103.69\\n',\n",
       " '25.04.1989;847.65;904.67;96.18;99.54;98.63;92.57;1059.41;104.09\\n',\n",
       " '26.04.1989;849.72;901.26;96.50;99.20;98.41;93.50;1071.55;104.90\\n',\n",
       " '27.04.1989;854.14;901.96;96.92;99.23;98.48;94.27;1072.50;104.90\\n',\n",
       " '28.04.1989;854.50;901.71;97.08;99.37;98.67;94.46;1075.35;105.25\\n',\n",
       " '01.05.1989;853.65;900.64;97.04;99.27;98.60;94.47;1077.08;105.39\\n',\n",
       " '02.05.1989;849.95;899.12;96.71;99.12;98.40;93.97;1076.12;105.46\\n',\n",
       " '03.05.1989;849.38;897.81;96.80;99.11;98.39;94.16;1075.70;105.72\\n',\n",
       " '04.05.1989;851.16;896.80;97.02;99.03;98.30;94.66;1076.24;105.81\\n',\n",
       " '05.05.1989;857.17;904.73;97.62;99.70;98.93;95.17;1080.39;106.36\\n',\n",
       " '08.05.1989;851.48;900.19;97.09;99.35;98.53;94.49;1077.30;106.01\\n',\n",
       " '09.05.1989;852.25;898.80;97.21;99.29;98.50;94.77;1078.15;106.13\\n',\n",
       " '10.05.1989;849.49;896.60;96.96;99.14;98.29;94.44;1074.21;105.83\\n',\n",
       " '11.05.1989;848.13;893.82;96.83;98.99;98.18;94.33;1076.55;105.94\\n',\n",
       " '12.05.1989;852.15;892.69;97.33;98.93;98.15;95.34;1080.83;106.33\\n',\n",
       " '15.05.1989;854.50;891.69;97.51;98.81;98.06;95.81;1081.88;106.41\\n',\n",
       " '16.05.1989;852.38;891.42;97.36;98.76;98.10;95.56;1089.68;107.14\\n',\n",
       " '17.05.1989;854.44;890.49;97.52;98.57;97.89;96.04;1092.46;107.35\\n',\n",
       " '18.05.1989;861.06;896.03;98.28;98.99;98.26;97.12;1095.08;107.62\\n',\n",
       " '19.05.1989;864.47;898.16;98.90;99.10;98.43;98.20;1101.52;108.08\\n',\n",
       " '22.05.1989;860.47;902.16;98.22;99.46;98.78;96.57;1111.62;108.90\\n',\n",
       " '23.05.1989;857.30;904.47;97.95;99.91;99.19;95.62;1109.28;108.91\\n',\n",
       " '24.05.1989;853.72;905.75;97.49;99.87;99.00;94.77;1101.73;107.91\\n',\n",
       " '25.05.1989;857.81;913.38;98.05;100.58;99.71;95.18;1104.06;108.07\\n',\n",
       " '26.05.1989;857.32;914.44;98.33;100.79;99.89;95.52;1102.85;108.08\\n',\n",
       " '29.05.1989;860.64;920.33;98.57;101.19;100.32;95.63;1111.86;108.62\\n',\n",
       " '30.05.1989;859.11;923.35;98.29;101.36;100.58;94.92;1116.61;109.21\\n',\n",
       " '31.05.1989;854.79;923.42;97.88;101.52;100.79;93.98;1112.13;108.62\\n',\n",
       " '01.06.1989;853.81;924.65;97.87;101.67;101.07;93.83;1115.87;108.82\\n',\n",
       " '02.06.1989;851.86;926.05;97.77;101.69;101.21;93.62;1113.36;108.59\\n',\n",
       " '05.06.1989;854.38;930.43;97.82;102.16;101.70;93.27;1117.01;109.01\\n',\n",
       " '06.06.1989;857.25;929.08;98.07;101.94;101.52;93.96;1121.22;109.43\\n',\n",
       " '07.06.1989;862.32;934.15;98.54;102.35;101.94;94.49;1123.13;109.41\\n',\n",
       " '08.06.1989;871.53;939.58;99.46;102.96;102.62;95.69;1139.63;110.66\\n',\n",
       " '09.06.1989;872.89;940.86;99.57;103.16;102.85;95.71;1145.27;111.29\\n',\n",
       " '12.06.1989;873.02;944.70;99.27;103.34;103.02;94.96;1147.38;111.78\\n',\n",
       " '13.06.1989;868.95;944.87;98.89;103.52;103.21;94.05;1158.14;112.83\\n',\n",
       " '14.06.1989;872.28;947.36;99.15;103.65;103.44;94.44;1168.77;113.74\\n',\n",
       " '15.06.1989;869.10;942.49;98.86;103.29;103.17;94.21;1169.80;113.90\\n',\n",
       " '16.06.1989;869.73;942.76;99.17;103.43;103.41;94.68;1178.24;114.78\\n',\n",
       " '19.06.1989;875.01;948.98;99.56;104.01;103.85;94.89;1165.63;113.77\\n',\n",
       " '20.06.1989;882.64;958.23;100.29;104.81;104.55;95.56;1168.26;113.89\\n',\n",
       " '21.06.1989;882.12;956.75;100.13;104.61;104.39;95.43;1159.47;112.92\\n',\n",
       " '22.06.1989;883.77;958.90;100.55;105.11;104.93;95.77;1165.74;113.54\\n',\n",
       " '23.06.1989;880.31;958.27;100.16;105.03;104.88;95.08;1165.24;113.38\\n',\n",
       " '26.06.1989;883.77;962.70;100.21;105.26;105.06;94.98;1173.80;113.97\\n',\n",
       " '27.06.1989;890.71;959.94;100.82;104.90;104.71;96.50;1176.29;114.11\\n',\n",
       " '28.06.1989;896.17;966.26;101.39;105.45;105.40;97.08;1186.34;115.02\\n',\n",
       " '29.06.1989;887.26;963.40;100.57;105.15;105.15;95.77;1182.23;115.11\\n',\n",
       " '30.06.1989;873.14;953.51;99.11;104.05;104.05;93.98;1173.82;114.30\\n',\n",
       " '03.07.1989;880.49;958.48;99.82;104.40;104.37;95.03;1163.26;113.46\\n',\n",
       " '04.07.1989;885.25;963.44;100.33;104.82;104.84;95.62;1170.71;114.24\\n',\n",
       " '05.07.1989;882.58;955.98;100.03;104.18;104.41;95.66;1175.38;114.77\\n',\n",
       " '06.07.1989;881.61;956.83;100.01;104.21;104.41;95.58;1183.90;115.49\\n',\n",
       " '07.07.1989;890.25;961.77;100.77;104.70;104.89;96.59;1184.82;115.73\\n',\n",
       " '10.07.1989;893.16;965.66;101.02;105.13;105.30;96.66;1186.09;116.06\\n',\n",
       " '11.07.1989;911.42;971.49;102.39;105.66;105.90;98.82;1200.56;117.44\\n',\n",
       " '12.07.1989;909.13;971.05;102.59;105.75;106.13;99.12;1213.44;118.62\\n',\n",
       " '13.07.1989;913.49;977.72;103.09;106.40;106.68;99.47;1222.04;119.22\\n',\n",
       " '14.07.1989;919.64;981.20;103.51;106.60;106.83;100.11;1221.13;119.21\\n',\n",
       " '17.07.1989;919.19;979.47;103.32;106.32;106.50;99.99;1208.27;117.67\\n',\n",
       " '18.07.1989;921.01;981.30;103.52;106.40;106.63;100.31;1210.20;117.83\\n',\n",
       " '19.07.1989;925.39;985.74;104.09;106.85;107.07;101.00;1218.97;118.52\\n',\n",
       " '20.07.1989;930.59;991.39;104.59;107.35;107.57;101.48;1221.91;118.84\\n',\n",
       " '21.07.1989;930.46;993.41;104.57;107.64;107.87;101.18;1225.11;119.04\\n',\n",
       " '24.07.1989;923.13;983.60;103.68;106.92;107.30;100.12;1221.29;118.28\\n',\n",
       " '25.07.1989;926.79;988.98;103.99;107.33;107.65;100.35;1225.16;118.45\\n',\n",
       " '26.07.1989;929.60;994.46;104.47;107.96;108.25;100.68;1230.14;118.83\\n',\n",
       " '27.07.1989;935.80;997.27;105.05;108.29;108.59;101.50;1231.25;119.03\\n',\n",
       " '28.07.1989;941.28;996.93;105.57;108.32;108.74;102.47;1237.99;119.41\\n',\n",
       " '31.07.1989;939.45;997.91;105.53;108.42;108.86;102.31;1242.96;119.74\\n',\n",
       " '01.08.1989;940.71;1006.38;105.49;109.27;109.59;101.44;1246.83;119.94\\n',\n",
       " '02.08.1989;941.83;1008.28;105.68;109.39;109.73;101.69;1247.71;120.19\\n',\n",
       " '03.08.1989;937.87;1004.65;105.27;109.18;109.54;101.09;1237.93;119.53\\n',\n",
       " '04.08.1989;948.57;1016.58;106.31;110.24;110.50;102.10;1246.76;120.25\\n',\n",
       " '07.08.1989;953.88;1018.24;106.84;110.59;110.88;102.81;1239.54;119.88\\n',\n",
       " '08.08.1989;956.89;1020.41;107.21;110.95;111.14;103.18;1232.65;119.13\\n',\n",
       " '09.08.1989;961.97;1022.62;107.67;111.27;111.52;103.78;1233.54;119.00\\n',\n",
       " '10.08.1989;956.73;1018.51;107.23;110.95;111.20;103.22;1234.72;118.94\\n',\n",
       " '11.08.1989;960.63;1022.34;107.55;111.28;111.53;103.53;1236.24;119.06\\n',\n",
       " '14.08.1989;952.92;1019.54;106.97;111.18;111.41;102.50;1239.40;119.30\\n',\n",
       " '15.08.1989;945.89;1012.02;106.29;110.39;110.65;101.92;1239.03;119.20\\n',\n",
       " '16.08.1989;954.49;1018.81;107.28;111.08;111.47;103.19;1260.99;120.97\\n',\n",
       " '17.08.1989;956.52;1020.37;107.58;111.34;111.64;103.53;1259.22;121.14\\n',\n",
       " '18.08.1989;954.10;1017.81;107.74;111.18;111.49;103.98;1254.49;120.92\\n',\n",
       " '21.08.1989;959.52;1024.69;108.21;111.84;112.02;104.27;1244.89;120.18\\n',\n",
       " '22.08.1989;956.94;1021.30;107.93;111.71;111.82;103.86;1224.39;118.26\\n',\n",
       " '23.08.1989;959.35;1020.27;108.20;111.79;111.99;104.30;1222.79;118.28\\n',\n",
       " '24.08.1989;965.40;1026.17;108.71;112.40;112.60;104.72;1234.70;119.01\\n',\n",
       " '25.08.1989;972.95;1036.91;109.35;113.42;113.62;104.99;1255.19;120.68\\n',\n",
       " '28.08.1989;972.55;1034.95;109.32;113.32;113.58;105.03;1261.65;120.99\\n',\n",
       " '29.08.1989;967.65;1031.44;108.69;112.85;113.08;104.25;1250.75;120.18\\n',\n",
       " '30.08.1989;968.09;1034.36;108.84;113.40;113.33;104.04;1242.84;119.65\\n',\n",
       " '31.08.1989;972.04;1038.10;109.29;113.85;113.80;104.48;1247.18;120.07\\n',\n",
       " '01.09.1989;974.58;1040.88;109.60;114.00;113.83;104.93;1239.35;119.48\\n',\n",
       " '04.09.1989;980.90;1048.98;110.38;114.94;114.74;105.57;1227.96;118.79\\n',\n",
       " '05.09.1989;984.39;1056.54;110.61;115.57;115.28;105.42;1231.40;118.80\\n',\n",
       " '06.09.1989;975.02;1048.36;109.57;114.88;114.59;104.04;1219.17;117.72\\n',\n",
       " '07.09.1989;983.21;1055.11;110.38;115.38;115.03;105.15;1222.19;117.94\\n',\n",
       " '08.09.1989;985.67;1058.95;110.57;115.75;115.35;105.17;1230.26;118.46\\n',\n",
       " '11.09.1989;980.44;1054.81;110.17;115.43;115.10;104.70;1229.11;118.41\\n',\n",
       " '12.09.1989;977.08;1052.11;110.09;115.35;114.94;104.61;1226.04;118.36\\n',\n",
       " '13.09.1989;975.23;1049.45;109.99;115.11;114.64;104.65;1222.37;118.16\\n',\n",
       " '14.09.1989;969.07;1048.53;109.45;115.04;114.48;103.65;1214.70;117.58\\n',\n",
       " '15.09.1989;966.34;1047.16;109.29;115.02;114.48;103.38;1222.29;118.03\\n',\n",
       " '18.09.1989;971.17;1050.93;109.66;115.51;114.95;103.63;1214.29;117.40\\n',\n",
       " '19.09.1989;967.70;1047.17;109.26;115.16;114.64;103.17;1201.23;116.41\\n',\n",
       " '20.09.1989;968.81;1045.66;109.48;115.23;114.70;103.55;1201.20;116.40\\n',\n",
       " '21.09.1989;971.32;1045.93;109.73;115.35;114.77;103.91;1204.15;116.48\\n',\n",
       " '22.09.1989;971.39;1051.84;109.84;116.06;115.36;103.46;1197.32;115.98\\n',\n",
       " '25.09.1989;968.92;1050.59;109.62;116.11;115.30;102.98;1177.28;114.47\\n',\n",
       " '26.09.1989;961.52;1045.46;108.95;115.74;114.84;102.04;1173.09;113.73\\n',\n",
       " '27.09.1989;954.07;1042.05;108.30;115.40;114.50;101.09;1177.65;113.92\\n',\n",
       " '28.09.1989;947.41;1041.53;107.73;115.54;114.79;99.86;1189.39;114.75\\n',\n",
       " '29.09.1989;943.57;1032.57;107.48;114.73;114.10;100.14;1191.29;114.80\\n',\n",
       " '02.10.1989;941.29;1027.48;107.17;114.18;113.55;100.05;1189.69;114.73\\n',\n",
       " '03.10.1989;952.96;1039.75;108.16;115.18;114.47;101.03;1195.98;115.17\\n',\n",
       " '04.10.1989;952.09;1042.40;107.89;115.33;114.70;100.36;1203.60;115.66\\n',\n",
       " '05.10.1989;950.09;1041.49;107.50;115.23;114.70;99.70;1202.58;115.64\\n',\n",
       " '06.10.1989;954.73;1047.81;107.81;115.81;115.27;99.75;1210.51;116.37\\n',\n",
       " '09.10.1989;948.96;1055.47;107.07;116.72;116.11;97.46;1217.01;116.96\\n',\n",
       " '10.10.1989;941.93;1054.76;106.18;116.74;116.07;95.71;1218.43;117.27\\n',\n",
       " '11.10.1989;937.11;1043.02;105.78;115.85;115.26;95.77;1220.69;117.51\\n',\n",
       " '12.10.1989;939.56;1042.72;106.02;115.73;115.12;96.35;1213.11;116.80\\n',\n",
       " '13.10.1989;936.15;1035.84;105.59;115.05;114.46;96.15;1209.26;116.60\\n',\n",
       " '16.10.1989;882.35;960.81;99.01;106.34;105.67;91.63;1122.62;108.64\\n',\n",
       " '17.10.1989;887.18;981.08;100.00;108.89;108.35;91.13;1154.11;111.41\\n',\n",
       " '18.10.1989;895.18;983.38;100.92;109.16;108.65;92.67;1159.06;111.95\\n',\n",
       " '19.10.1989;909.71;1001.41;102.44;110.90;110.46;93.97;1174.24;113.48\\n',\n",
       " '20.10.1989;908.01;999.85;102.42;111.06;110.68;93.78;1187.73;114.75\\n',\n",
       " '23.10.1989;910.59;1001.27;102.70;111.10;110.65;94.29;1183.36;114.38\\n',\n",
       " '24.10.1989;892.73;983.84;101.06;109.56;109.11;92.56;1171.95;113.11\\n',\n",
       " '25.10.1989;888.56;973.82;100.62;108.43;107.94;92.78;1155.14;111.73\\n',\n",
       " '26.10.1989;882.26;971.67;100.09;108.19;107.86;91.96;1162.38;112.28\\n',\n",
       " '27.10.1989;858.48;959.03;97.57;106.77;106.54;88.41;1155.76;111.60\\n',\n",
       " '30.10.1989;869.19;965.83;98.44;107.16;106.83;89.73;1149.82;110.92\\n',\n",
       " '31.10.1989;875.91;970.43;99.25;107.73;107.31;90.77;1143.79;110.63\\n',\n",
       " '01.11.1989;879.79;972.43;99.63;107.85;107.43;91.41;1152.71;111.28\\n',\n",
       " '02.11.1989;877.07;969.91;99.41;107.89;107.46;90.93;1162.19;112.14\\n',\n",
       " '03.11.1989;876.23;961.72;99.36;107.21;106.79;91.49;1155.98;111.88\\n',\n",
       " '06.11.1989;877.43;958.61;99.27;106.62;106.25;91.88;1157.61;111.96\\n',\n",
       " '07.11.1989;872.41;947.37;98.66;105.31;105.00;91.94;1147.26;111.11\\n',\n",
       " '08.11.1989;882.12;954.83;99.70;106.05;105.85;93.27;1156.01;111.80\\n',\n",
       " '09.11.1989;884.22;960.36;100.03;106.66;106.44;93.32;1162.11;112.41\\n',\n",
       " '10.11.1989;893.63;970.55;100.82;107.64;107.31;93.94;1162.54;112.67\\n',\n",
       " '13.11.1989;899.51;982.49;101.32;108.67;108.15;93.92;1161.59;112.53\\n',\n",
       " '14.11.1989;895.33;977.94;100.91;108.25;107.66;93.52;1147.96;111.78\\n',\n",
       " '15.11.1989;889.24;973.50;100.06;107.65;107.10;92.43;1133.83;110.91\\n',\n",
       " '16.11.1989;898.16;985.33;100.72;108.61;107.95;92.81;1142.86;111.38\\n',\n",
       " '17.11.1989;899.43;985.81;100.91;108.86;108.14;92.94;1126.52;110.31\\n',\n",
       " '20.11.1989;891.84;989.62;100.27;109.26;108.59;91.29;1133.71;110.84\\n',\n",
       " '21.11.1989;889.22;984.76;99.88;108.85;108.11;90.93;1119.60;109.55\\n',\n",
       " '22.11.1989;891.71;990.51;100.10;109.37;108.52;90.85;1105.53;108.24\\n',\n",
       " '23.11.1989;900.68;996.73;100.84;109.92;109.12;91.77;1112.38;108.71\\n',\n",
       " '24.11.1989;905.57;1005.91;101.21;110.86;109.96;91.61;1107.94;108.47\\n',\n",
       " '27.11.1989;905.20;1010.00;101.14;111.27;110.28;91.06;1105.40;108.11\\n',\n",
       " '28.11.1989;907.97;1009.79;101.60;111.28;110.38;91.95;1118.98;108.91\\n',\n",
       " '29.11.1989;911.44;1013.96;101.93;111.59;110.76;92.31;1130.14;109.81\\n',\n",
       " '30.11.1989;921.74;1023.52;102.91;112.37;111.52;93.48;1136.96;110.66\\n',\n",
       " '01.12.1989;932.33;1034.12;103.75;113.32;112.35;94.21;1133.60;110.62\\n',\n",
       " '04.12.1989;934.80;1045.01;104.00;114.39;113.18;93.67;1129.46;110.11\\n',\n",
       " '05.12.1989;936.43;1040.50;104.28;114.11;112.90;94.49;1128.40;110.08\\n',\n",
       " '06.12.1989;943.68;1048.90;105.07;114.95;113.64;95.24;1138.44;110.93\\n',\n",
       " '07.12.1989;945.91;1051.22;105.25;115.28;113.95;95.25;1139.41;111.04\\n',\n",
       " '08.12.1989;950.94;1050.31;105.60;115.26;113.90;95.97;1144.31;111.35\\n',\n",
       " '11.12.1989;947.80;1048.34;105.39;115.08;113.73;95.73;1144.03;111.48\\n',\n",
       " '12.12.1989;945.95;1048.03;105.21;115.08;113.61;95.37;1140.27;110.99\\n',\n",
       " '13.12.1989;951.07;1046.28;105.39;114.83;113.49;95.97;1151.57;111.96\\n',\n",
       " '14.12.1989;945.25;1043.37;105.16;114.71;113.44;95.63;1165.46;112.94\\n',\n",
       " '15.12.1989;945.28;1045.44;105.25;115.14;113.88;95.39;1174.82;113.71\\n',\n",
       " '18.12.1989;942.15;1042.84;104.88;114.72;113.32;95.08;1155.39;112.50\\n',\n",
       " '19.12.1989;938.72;1038.30;104.53;114.29;112.96;94.80;1154.22;111.96\\n',\n",
       " '20.12.1989;949.45;1050.06;105.47;115.27;113.84;95.70;1158.50;112.27\\n',\n",
       " '21.12.1989;950.50;1057.82;105.64;116.03;114.47;95.31;1158.27;112.10\\n',\n",
       " '22.12.1989;950.28;1060.00;105.72;116.33;114.67;95.17;1156.10;112.02\\n',\n",
       " '25.12.1989;950.28;1060.00;105.72;116.32;114.66;95.17;1155.32;111.99\\n',\n",
       " '26.12.1989;952.19;1063.68;105.92;116.71;114.99;95.19;1153.47;111.91\\n',\n",
       " '27.12.1989;967.80;1082.78;106.92;117.95;116.17;95.95;1166.24;112.81\\n',\n",
       " '28.12.1989;973.62;1095.22;107.50;119.10;117.33;95.98;1180.40;114.23\\n',\n",
       " '29.12.1989;980.22;1098.49;108.15;119.34;117.58;97.04;1188.29;115.12\\n',\n",
       " '01.01.1990;980.22;1098.49;108.16;119.36;117.59;97.03;1187.56;115.08\\n',\n",
       " '02.01.1990;986.56;1101.34;108.63;119.63;117.69;97.70;1179.85;114.44\\n',\n",
       " '03.01.1990;1000.35;1112.82;110.04;120.85;119.00;99.29;1189.88;115.58\\n',\n",
       " '04.01.1990;996.34;1113.02;110.02;121.05;119.36;99.05;1201.30;116.56\\n',\n",
       " '05.01.1990;985.96;1099.52;109.02;119.79;118.12;98.31;1201.57;116.40\\n',\n",
       " '08.01.1990;988.13;1104.62;109.19;120.08;118.46;98.37;1213.92;117.51\\n',\n",
       " '09.01.1990;993.28;1108.79;109.71;120.29;118.81;99.18;1231.59;118.89\\n',\n",
       " '10.01.1990;986.13;1099.88;109.08;119.56;118.24;98.64;1229.15;119.13\\n',\n",
       " '11.01.1990;993.33;1111.34;109.77;120.62;119.26;98.98;1235.02;120.00\\n',\n",
       " '12.01.1990;983.38;1100.32;108.82;119.73;118.46;97.98;1227.37;119.30\\n',\n",
       " '15.01.1990;978.66;1094.09;108.31;119.04;117.76;97.65;1219.29;118.80\\n',\n",
       " '16.01.1990;967.27;1076.85;107.10;117.42;116.21;96.82;1212.30;118.12\\n',\n",
       " '17.01.1990;972.72;1085.63;107.66;118.24;117.02;97.14;1222.89;118.98\\n',\n",
       " '18.01.1990;959.42;1071.44;106.50;116.94;115.76;96.12;1210.35;118.07\\n',\n",
       " '19.01.1990;959.96;1069.32;106.45;116.73;115.57;96.22;1194.66;117.09\\n',\n",
       " '22.01.1990;955.71;1070.13;106.04;116.84;115.61;95.31;1189.21;116.80\\n',\n",
       " '23.01.1990;950.85;1072.00;105.41;116.68;115.36;94.23;1176.21;115.61\\n',\n",
       " '24.01.1990;934.21;1048.74;103.69;114.37;113.12;93.08;1155.37;113.84\\n',\n",
       " '25.01.1990;946.87;1061.73;104.62;115.37;114.12;93.93;1170.70;114.96\\n',\n",
       " '26.01.1990;950.61;1061.64;104.80;115.07;113.81;94.59;1170.15;114.95\\n',\n",
       " '29.01.1990;954.53;1063.84;105.18;115.38;114.10;95.04;1170.92;115.09\\n',\n",
       " '30.01.1990;958.18;1067.73;105.66;115.79;114.57;95.58;1185.28;116.36\\n',\n",
       " '31.01.1990;964.17;1069.92;106.08;115.97;114.73;96.24;1191.28;116.80\\n',\n",
       " '01.02.1990;973.37;1081.45;106.77;116.98;115.72;96.61;1205.32;118.13\\n',\n",
       " '02.02.1990;986.42;1099.38;107.72;118.37;117.06;97.12;1211.35;118.69\\n',\n",
       " '05.02.1990;992.83;1111.72;108.38;119.60;118.31;97.23;1218.88;119.68\\n',\n",
       " '06.02.1990;986.22;1108.79;107.77;119.32;118.07;96.29;1214.85;119.82\\n',\n",
       " '07.02.1990;973.28;1093.94;106.64;117.93;116.72;95.43;1202.02;118.86\\n',\n",
       " '08.02.1990;983.59;1102.05;107.41;118.45;117.30;96.45;1208.65;119.49\\n',\n",
       " '09.02.1990;977.12;1091.27;106.82;117.54;116.48;96.16;1204.65;119.18\\n',\n",
       " '12.02.1990;964.68;1075.59;105.47;115.98;114.92;95.01;1182.37;117.33\\n',\n",
       " '13.02.1990;962.31;1067.00;104.97;114.93;113.93;95.07;1166.99;116.04\\n',\n",
       " '14.02.1990;964.36;1067.95;105.08;114.85;113.86;95.36;1165.77;116.19\\n',\n",
       " '15.02.1990;971.51;1072.31;105.63;115.34;114.26;95.97;1150.22;115.11\\n',\n",
       " '16.02.1990;981.08;1088.18;106.62;116.86;115.67;96.44;1157.18;115.74\\n',\n",
       " '19.02.1990;969.42;1073.87;105.68;115.85;114.71;95.57;1136.90;114.14\\n',\n",
       " '20.02.1990;956.06;1053.49;104.42;114.02;113.03;94.87;1124.68;113.12\\n',\n",
       " '21.02.1990;948.95;1046.70;103.59;113.00;112.01;94.23;1116.90;112.58\\n',\n",
       " '22.02.1990;954.62;1053.05;104.13;113.66;112.73;94.65;1140.55;114.28\\n',\n",
       " '23.02.1990;941.35;1038.72;102.94;112.40;111.55;93.54;1137.52;114.12\\n',\n",
       " '26.02.1990;939.56;1031.27;102.38;111.27;110.43;93.52;1133.91;112.80\\n',\n",
       " '27.02.1990;946.41;1045.13;103.23;112.75;111.88;93.76;1151.16;114.37\\n',\n",
       " '28.02.1990;949.90;1048.91;103.54;113.19;112.18;93.93;1150.12;114.20\\n',\n",
       " '01.03.1990;940.72;1039.54;102.67;112.42;111.49;92.98;1148.08;114.00\\n',\n",
       " '02.03.1990;951.14;1057.33;103.47;113.85;112.80;93.14;1145.46;113.97\\n',\n",
       " '05.03.1990;944.60;1064.82;102.93;114.62;113.50;91.33;1147.47;114.41\\n',\n",
       " '06.03.1990;942.11;1062.78;102.85;114.42;113.37;91.36;1151.60;115.23\\n',\n",
       " '07.03.1990;949.97;1074.51;103.59;115.43;114.32;91.84;1150.16;115.53\\n',\n",
       " '08.03.1990;955.15;1082.32;104.17;116.20;114.99;92.23;1154.34;115.93\\n',\n",
       " '09.03.1990;950.97;1087.35;103.87;116.90;115.65;90.95;1160.47;116.59\\n',\n",
       " '12.03.1990;945.69;1082.45;103.48;116.58;115.32;90.50;1155.96;116.42\\n',\n",
       " '13.03.1990;947.80;1088.53;103.68;117.04;115.66;90.43;1146.40;115.65\\n',\n",
       " '14.03.1990;949.38;1092.00;103.96;117.36;115.92;90.68;1147.99;115.98\\n',\n",
       " '15.03.1990;955.60;1101.47;104.54;118.28;116.64;90.93;1143.69;115.64\\n',\n",
       " '16.03.1990;962.51;1105.71;105.20;118.70;117.07;91.81;1144.36;115.87\\n',\n",
       " '19.03.1990;955.90;1108.72;104.57;119.17;117.38;90.11;1139.42;115.26\\n',\n",
       " '20.03.1990;958.71;1103.16;104.72;118.54;116.77;91.03;1136.41;114.80\\n',\n",
       " '21.03.1990;960.73;1114.30;104.96;119.50;117.61;90.57;1144.76;115.34\\n',\n",
       " '22.03.1990;956.34;1104.94;104.44;118.37;116.56;90.63;1143.77;115.12\\n',\n",
       " '23.03.1990;963.17;1107.65;105.06;118.56;116.70;91.69;1143.53;115.31\\n',\n",
       " '26.03.1990;971.48;1114.94;105.83;119.31;117.33;92.47;1145.96;115.63\\n',\n",
       " '27.03.1990;964.96;1108.58;105.24;118.69;116.72;91.91;1146.71;115.75\\n',\n",
       " '28.03.1990;966.36;1108.04;105.33;118.63;116.64;92.14;1143.27;115.26\\n',\n",
       " '29.03.1990;967.21;1113.82;105.33;119.24;117.20;91.54;1138.26;114.74\\n',\n",
       " '30.03.1990;965.38;1115.39;105.28;119.46;117.34;91.22;1129.10;113.80\\n',\n",
       " '02.04.1990;953.19;1102.63;104.28;118.53;116.36;90.17;1123.06;113.13\\n',\n",
       " '03.04.1990;963.83;1117.39;105.34;119.93;117.64;90.88;1121.28;113.08\\n',\n",
       " '04.04.1990;963.74;1117.46;105.31;120.05;117.73;90.71;1121.97;112.75\\n',\n",
       " '05.04.1990;966.97;1120.48;105.66;120.37;118.07;91.09;1121.39;112.63\\n',\n",
       " '06.04.1990;966.34;1126.63;105.64;121.09;118.76;90.34;1130.02;113.19\\n',\n",
       " '09.04.1990;963.36;1120.33;105.34;120.54;118.37;90.29;1129.22;113.11\\n',\n",
       " '10.04.1990;959.35;1119.32;105.03;120.44;118.25;89.77;1123.74;112.53\\n',\n",
       " '11.04.1990;959.33;1122.83;105.14;120.98;118.59;89.45;1116.31;111.75\\n',\n",
       " '12.04.1990;962.86;1127.94;105.37;121.44;118.98;89.46;1112.20;111.55\\n',\n",
       " '13.04.1990;962.51;1127.36;105.32;121.37;118.93;89.42;1112.01;111.53\\n',\n",
       " '16.04.1990;963.77;1130.41;105.52;121.74;119.28;89.47;1114.44;111.80\\n',\n",
       " '17.04.1990;962.24;1133.43;105.50;122.12;119.61;89.04;1117.45;111.85\\n',\n",
       " '18.04.1990;955.42;1124.96;105.03;121.44;119.06;88.78;1125.00;112.38\\n',\n",
       " '19.04.1990;952.11;1120.75;104.63;120.91;118.57;88.51;1122.11;111.95\\n',\n",
       " '20.04.1990;955.48;1127.18;105.10;121.48;119.21;88.89;1135.28;113.40\\n',\n",
       " '23.04.1990;942.98;1108.59;104.04;119.77;117.83;88.48;1135.65;113.30\\n',\n",
       " '24.04.1990;939.75;1106.22;103.79;119.49;117.46;88.23;1120.90;111.97\\n',\n",
       " '25.04.1990;934.34;1104.51;103.25;119.43;117.35;87.24;1114.44;111.04\\n',\n",
       " '26.04.1990;927.15;1095.66;102.73;118.82;116.86;86.79;1121.33;111.47\\n',\n",
       " '27.04.1990;919.24;1091.63;101.97;118.39;116.47;85.73;1116.19;111.08\\n',\n",
       " '30.04.1990;918.08;1087.94;101.75;117.98;116.05;85.69;1113.73;110.86\\n',\n",
       " '01.05.1990;922.20;1088.04;102.04;117.96;116.01;86.27;1110.24;110.60\\n',\n",
       " '02.05.1990;931.47;1098.06;102.92;118.87;116.85;87.13;1114.73;111.07\\n',\n",
       " '03.05.1990;938.53;1111.77;103.47;120.09;118.03;87.02;1117.30;111.35\\n',\n",
       " '04.05.1990;949.36;1118.26;104.42;120.79;118.73;88.22;1119.94;111.39\\n',\n",
       " '07.05.1990;955.11;1128.43;104.95;121.76;119.53;88.31;1128.11;112.07\\n',\n",
       " '08.05.1990;955.04;1123.19;105.10;121.48;119.31;88.87;1126.98;112.07\\n',\n",
       " '09.05.1990;950.00;1119.61;104.76;121.32;119.44;88.35;1138.76;113.10\\n',\n",
       " '10.05.1990;948.42;1116.00;104.66;121.02;119.55;88.46;1147.40;114.01\\n',\n",
       " '11.05.1990;949.44;1110.37;104.80;120.61;119.44;89.15;1158.43;115.18\\n',\n",
       " '14.05.1990;959.93;1111.93;105.66;120.63;119.56;90.82;1176.60;116.72\\n',\n",
       " '15.05.1990;957.22;1109.35;105.63;120.65;119.54;90.74;1175.01;116.68\\n',\n",
       " '16.05.1990;956.24;1107.71;105.62;120.55;119.40;90.82;1164.00;116.02\\n',\n",
       " '17.05.1990;973.44;1113.09;107.14;120.88;119.80;93.50;1172.48;116.74\\n',\n",
       " '18.05.1990;968.92;1109.49;106.87;120.66;119.67;93.18;1175.52;117.11\\n',\n",
       " '21.05.1990;964.70;1098.29;106.63;119.50;118.64;93.85;1180.37;117.48\\n',\n",
       " '22.05.1990;977.06;1106.66;107.68;119.92;119.21;95.51;1193.24;118.96\\n',\n",
       " '23.05.1990;975.86;1111.21;107.65;120.41;119.70;94.97;1197.33;119.13\\n',\n",
       " '24.05.1990;975.18;1110.43;107.47;120.44;119.67;94.60;1197.25;119.12\\n',\n",
       " '25.05.1990;967.39;1102.43;106.93;119.74;119.05;94.21;1204.31;119.40\\n',\n",
       " '28.05.1990;966.53;1099.45;106.82;119.43;118.87;94.30;1211.77;119.90\\n',\n",
       " '29.05.1990;978.24;1111.82;108.04;120.65;120.13;95.52;1211.16;120.09\\n',\n",
       " '30.05.1990;994.00;1117.22;109.44;121.17;120.67;97.77;1219.86;120.55\\n',\n",
       " '31.05.1990;994.01;1116.83;109.32;121.07;120.61;97.64;1232.16;121.44\\n',\n",
       " '01.06.1990;995.89;1116.17;109.68;121.02;120.66;98.39;1238.28;121.87\\n',\n",
       " '04.06.1990;999.20;1120.10;110.00;121.45;121.04;98.60;1238.48;121.82\\n',\n",
       " '05.06.1990;1004.98;1123.85;110.41;121.81;121.52;99.06;1253.90;123.09\\n',\n",
       " '06.06.1990;990.76;1108.59;109.36;120.59;120.34;98.19;1244.26;122.32\\n',\n",
       " '07.06.1990;992.79;1107.05;109.70;120.50;120.21;98.94;1243.28;122.07\\n',\n",
       " '08.06.1990;986.78;1099.46;109.10;119.76;119.53;98.47;1243.73;122.07\\n',\n",
       " '11.06.1990;979.82;1094.01;108.45;119.13;118.94;97.82;1236.62;121.37\\n',\n",
       " '12.06.1990;985.73;1092.18;109.09;118.94;118.94;99.26;1243.73;121.94\\n',\n",
       " '13.06.1990;994.34;1094.42;109.76;118.87;118.96;100.65;1244.92;122.01\\n',\n",
       " '14.06.1990;997.92;1097.85;110.01;119.28;119.33;100.75;1249.27;122.34\\n',\n",
       " '15.06.1990;991.85;1089.21;109.30;118.37;118.50;100.24;1245.93;122.06\\n',\n",
       " '18.06.1990;981.99;1084.24;108.43;117.92;118.03;98.95;1236.01;120.97\\n',\n",
       " '19.06.1990;989.96;1098.50;109.12;118.97;119.02;99.29;1239.36;121.34\\n',\n",
       " '20.06.1990;995.78;1102.64;109.53;119.23;119.33;99.85;1245.70;122.03\\n',\n",
       " '21.06.1990;997.98;1105.72;109.61;119.41;119.52;99.83;1246.10;122.20\\n',\n",
       " '22.06.1990;1003.68;1112.61;110.18;120.09;120.17;100.29;1244.92;122.08\\n',\n",
       " '25.06.1990;1011.54;1118.94;110.75;120.53;120.61;101.00;1247.19;122.25\\n',\n",
       " '26.06.1990;1013.66;1123.46;111.18;121.07;121.15;101.31;1246.14;121.95\\n',\n",
       " '27.06.1990;1007.37;1122.16;110.65;120.91;121.01;100.43;1249.74;122.38\\n',\n",
       " '28.06.1990;1004.26;1122.46;110.33;120.84;120.97;99.86;1251.47;122.53\\n',\n",
       " '29.06.1990;1006.62;1120.33;110.57;120.60;120.74;100.56;1248.38;122.45\\n',\n",
       " '02.07.1990;1010.96;1124.08;110.87;120.93;121.06;100.84;1248.72;122.41\\n',\n",
       " '03.07.1990;1012.12;1121.50;111.10;120.85;121.13;101.38;1255.59;122.95\\n',\n",
       " '04.07.1990;1009.23;1120.64;110.95;120.79;121.27;101.13;1266.75;123.99\\n',\n",
       " '05.07.1990;1000.43;1113.32;110.17;120.16;120.68;100.20;1268.02;124.05\\n',\n",
       " '06.07.1990;1006.00;1114.14;110.54;120.14;120.74;100.95;1265.48;123.95\\n',\n",
       " '09.07.1990;1006.91;1110.41;110.63;120.00;120.61;101.28;1266.88;123.56\\n',\n",
       " '10.07.1990;1001.82;1100.56;110.10;119.14;119.79;101.07;1265.51;123.58\\n',\n",
       " '11.07.1990;1010.99;1109.54;110.84;119.84;120.44;101.84;1266.99;123.89\\n',\n",
       " '12.07.1990;1024.55;1118.71;112.12;120.75;121.32;103.48;1269.79;124.46\\n',\n",
       " '13.07.1990;1021.21;1121.30;111.56;120.70;121.23;102.42;1271.59;124.40\\n',\n",
       " '16.07.1990;1030.61;1127.62;112.43;121.32;121.78;103.53;1276.93;125.18\\n',\n",
       " '17.07.1990;1033.66;1133.76;113.03;121.92;122.26;104.13;1279.46;125.51\\n',\n",
       " '18.07.1990;1026.80;1133.35;112.47;121.94;122.10;103.01;1273.57;125.01\\n',\n",
       " '19.07.1990;1027.81;1134.74;112.57;122.21;122.39;102.94;1277.37;125.40\\n',\n",
       " '20.07.1990;1031.02;1136.18;112.81;122.39;122.54;103.23;1282.43;125.91\\n',\n",
       " '23.07.1990;1011.65;1120.62;111.15;120.94;121.23;101.36;1270.09;124.98\\n',\n",
       " '24.07.1990;1010.22;1120.90;111.04;120.89;121.01;101.20;1262.69;124.27\\n',\n",
       " '25.07.1990;1008.76;1122.36;110.76;120.91;121.01;100.63;1261.12;124.30\\n',\n",
       " '26.07.1990;1004.00;1120.59;110.41;120.70;120.81;100.14;1264.02;124.59\\n',\n",
       " '27.07.1990;999.36;1112.67;110.18;120.08;120.26;100.29;1267.49;124.80\\n',\n",
       " '30.07.1990;994.56;1107.72;109.59;119.37;119.59;99.83;1260.72;124.44\\n',\n",
       " '31.07.1990;1000.87;1116.48;110.24;120.23;120.47;100.25;1268.48;125.22\\n',\n",
       " '01.08.1990;1000.02;1108.96;109.89;119.31;119.66;100.47;1272.61;125.49\\n',\n",
       " '02.08.1990;990.74;1097.11;108.23;117.57;117.93;98.90;1256.31;124.02\\n',\n",
       " '03.08.1990;975.55;1073.07;106.73;115.28;115.85;98.17;1255.64;123.92\\n',\n",
       " '06.08.1990;933.99;1021.50;102.05;109.52;109.96;94.58;1193.73;118.49\\n',\n",
       " '07.08.1990;949.06;1038.87;103.31;111.04;111.38;95.57;1199.51;118.73\\n',\n",
       " '08.08.1990;938.60;1016.70;102.12;108.83;109.29;95.40;1178.62;116.93\\n',\n",
       " '09.08.1990;946.18;1023.96;102.78;109.49;110.10;96.05;1190.19;118.06\\n',\n",
       " '10.08.1990;942.43;1021.27;102.43;109.31;109.86;95.54;1184.48;117.33\\n',\n",
       " '13.08.1990;925.70;996.97;100.68;106.78;107.52;94.55;1169.26;115.95\\n',\n",
       " '14.08.1990;935.95;1003.60;101.55;107.30;108.20;95.77;1184.10;117.20\\n',\n",
       " '15.08.1990;933.00;1001.34;101.14;107.05;108.02;95.21;1180.13;116.91\\n',\n",
       " '16.08.1990;934.29;1007.38;101.36;107.67;108.62;95.04;1185.49;117.30\\n',\n",
       " '17.08.1990;916.62;976.71;99.25;104.72;105.83;93.75;1158.13;114.92\\n',\n",
       " '20.08.1990;902.18;952.64;97.44;102.05;103.24;92.80;1137.61;112.65\\n',\n",
       " '21.08.1990;876.17;920.64;94.59;98.72;99.93;90.42;1110.90;110.18\\n',\n",
       " '22.08.1990;881.09;930.22;94.94;99.37;100.42;90.48;1099.04;108.73\\n',\n",
       " '23.08.1990;862.27;903.54;93.00;96.69;97.56;89.27;1060.02;105.36\\n',\n",
       " '24.08.1990;874.24;919.56;94.27;98.40;99.33;90.10;1075.44;106.44\\n',\n",
       " '27.08.1990;896.15;964.12;96.78;103.06;103.83;90.49;1112.72;109.91\\n',\n",
       " '28.08.1990;897.36;955.84;97.35;102.76;103.48;91.91;1116.11;110.40\\n',\n",
       " '29.08.1990;901.81;962.32;97.46;103.07;103.75;91.83;1118.51;110.58\\n',\n",
       " '30.08.1990;908.54;969.57;98.27;103.97;104.66;92.53;1129.49;111.54\\n',\n",
       " '31.08.1990;902.81;962.15;97.75;103.38;104.12;92.10;1124.33;111.51\\n',\n",
       " '03.09.1990;902.32;958.14;97.30;102.50;103.41;92.08;1121.70;111.42\\n',\n",
       " '04.09.1990;889.71;940.34;95.81;100.51;101.47;91.08;1107.05;110.27\\n',\n",
       " '05.09.1990;890.18;940.26;95.88;100.58;101.52;91.15;1106.43;109.98\\n',\n",
       " '06.09.1990;883.47;935.87;95.02;99.78;100.76;90.23;1103.82;109.68\\n',\n",
       " '07.09.1990;883.55;937.84;94.99;99.92;100.86;90.04;1107.41;109.88\\n',\n",
       " '10.09.1990;893.57;956.25;95.93;101.72;102.41;90.11;1112.13;110.43\\n',\n",
       " '11.09.1990;887.59;947.76;95.44;100.83;101.62;90.03;1106.92;110.06\\n',\n",
       " '12.09.1990;894.49;954.82;96.08;101.39;102.27;90.74;1117.98;111.13\\n',\n",
       " '13.09.1990;891.45;952.68;95.72;101.22;102.04;90.20;1109.01;110.20\\n',\n",
       " '14.09.1990;874.48;934.09;94.17;99.44;100.44;88.87;1102.78;109.62\\n',\n",
       " '17.09.1990;870.28;924.31;93.48;98.26;99.39;88.67;1091.35;108.82\\n',\n",
       " '18.09.1990;855.94;907.31;92.16;96.54;97.79;87.75;1070.30;107.03\\n',\n",
       " '19.09.1990;853.13;904.25;91.61;95.92;97.16;87.28;1073.03;107.13\\n',\n",
       " '20.09.1990;839.19;890.88;89.97;94.45;95.81;85.46;1068.86;106.50\\n',\n",
       " '21.09.1990;834.85;886.52;89.13;93.67;94.90;84.56;1041.69;103.83\\n',\n",
       " '24.09.1990;823.59;871.40;87.77;91.99;93.05;83.54;1017.20;101.51\\n',\n",
       " '25.09.1990;812.81;850.99;86.60;89.87;90.87;83.30;996.85;99.50\\n',\n",
       " '26.09.1990;817.34;860.78;87.10;90.82;91.61;83.36;988.19;98.16\\n',\n",
       " '27.09.1990;819.91;860.35;87.57;91.11;91.84;84.00;972.30;96.80\\n',\n",
       " '28.09.1990;807.74;845.96;86.39;89.81;90.44;82.94;953.76;95.04\\n',\n",
       " '01.10.1990;831.68;875.40;88.51;92.44;92.99;84.55;988.33;97.86\\n',\n",
       " '02.10.1990;850.07;896.69;90.40;94.59;95.25;86.18;1024.26;100.84\\n',\n",
       " '03.10.1990;853.01;891.71;90.45;94.23;94.78;86.64;1006.37;99.29\\n',\n",
       " '04.10.1990;847.00;881.17;89.94;93.45;94.14;86.40;1017.71;100.11\\n',\n",
       " '05.10.1990;860.95;866.85;91.18;92.15;92.92;90.18;1005.43;98.94\\n',\n",
       " '08.10.1990;888.30;893.92;93.58;94.22;94.84;92.91;1020.44;99.88\\n',\n",
       " '09.10.1990;863.62;877.90;91.48;92.94;93.67;90.00;1018.31;99.35\\n',\n",
       " '10.10.1990;853.42;866.26;90.48;91.75;92.53;89.18;1010.28;98.49\\n',\n",
       " '11.10.1990;850.86;869.63;90.48;92.14;92.85;88.79;1012.03;98.43\\n',\n",
       " '12.10.1990;858.24;884.94;91.09;93.41;93.94;88.73;1007.92;98.05\\n',\n",
       " '15.10.1990;857.57;891.48;91.16;94.12;94.51;88.18;1010.76;98.07\\n',\n",
       " '16.10.1990;851.07;889.95;90.67;94.01;94.37;87.32;1003.79;97.38\\n',\n",
       " '17.10.1990;845.39;886.78;90.25;93.74;93.99;86.73;981.62;95.94\\n',\n",
       " '18.10.1990;854.01;901.35;91.05;95.13;95.27;86.96;985.50;96.18\\n',\n",
       " '19.10.1990;860.72;910.29;91.73;95.97;96.15;87.47;993.32;97.08\\n',\n",
       " '22.10.1990;859.13;904.12;91.64;95.54;95.89;87.74;1018.98;99.18\\n',\n",
       " '23.10.1990;874.86;925.33;93.10;97.50;97.70;88.69;1025.75;99.71\\n',\n",
       " '24.10.1990;873.30;924.52;93.28;97.77;97.97;88.79;1019.59;99.45\\n',\n",
       " ...]"
      ]
     },
     "execution_count": 63,
     "metadata": {},
     "output_type": "execute_result"
    }
   ],
   "source": [
    "lines = open('./data/es.txt', 'r').readlines()\n",
    "lines = [line.replace(' ', '') for line in lines]\n",
    "lines"
   ]
  },
  {
   "cell_type": "code",
   "execution_count": 64,
   "metadata": {
    "collapsed": false,
    "jupyter": {
     "outputs_hidden": false
    }
   },
   "outputs": [
    {
     "data": {
      "text/plain": [
       "['PriceIndices-EUROCurrency\\n',\n",
       " 'Date;Blue-Chip;Blue-Chip;Broad;Broad;ExUK;ExEuroZone;Blue-Chip;Broad\\n',\n",
       " ';Europe;Euro-Zone;Europe;Euro-Zone;;;Nordic;Nordic\\n',\n",
       " ';SX5P;SX5E;SXXP;SXXE;SXXF;SXXA;DK5F;DKXF\\n',\n",
       " '31.12.1986;775.00;900.82;82.76;98.58;98.06;69.06;645.26;65.56\\n']"
      ]
     },
     "execution_count": 64,
     "metadata": {},
     "output_type": "execute_result"
    }
   ],
   "source": [
    "lines[:5]"
   ]
  },
  {
   "cell_type": "code",
   "execution_count": 65,
   "metadata": {
    "collapsed": false,
    "jupyter": {
     "outputs_hidden": false
    }
   },
   "outputs": [
    {
     "name": "stdout",
     "output_type": "stream",
     "text": [
      "317.10;267.23;5268.36;363.19\n",
      "\n",
      "322.55;272.18;5360.52;370.94\n",
      "\n",
      "322.69;272.95;5360.52;370.94\n",
      "\n",
      "327.57;277.68;5479.59;378.69;\n",
      "\n",
      "329.94;278.87;5585.35;386.99;\n",
      "\n",
      "326.77;272.38;5522.25;380.09;\n",
      "\n",
      "332.62;277.08;5722.57;396.12;\n",
      "\n"
     ]
    }
   ],
   "source": [
    "for line in lines[ 3883: 3890]: print(line[ 41:])"
   ]
  },
  {
   "cell_type": "markdown",
   "metadata": {},
   "source": [
    "To make the data set easier to import, we do the following: \n",
    "* Generate a new text file. \n",
    "* Delete unneeded header lines. \n",
    "* Write an appropriate new header line to the new file. \n",
    "* Add a helper column, DEL (to catch the trailing semicolons). \n",
    "* Write all data rows to the new file."
   ]
  },
  {
   "cell_type": "code",
   "execution_count": 66,
   "metadata": {
    "collapsed": false,
    "jupyter": {
     "outputs_hidden": false
    }
   },
   "outputs": [],
   "source": [
    "new_file = open('./data/es50.txt','w') # opens a new file\n",
    "new_file.writelines('date' + lines[3][:-1] + ';DEL' + lines[3][-1]) # writes the corrected 3rd line of the file as a new line\n",
    "# the ';DEL' column is a helper column to catch the trailing semi-colons\n",
    "new_file.writelines(lines[4:]) # writes the remaining lines of the original file\n",
    "new_file.close()"
   ]
  },
  {
   "cell_type": "code",
   "execution_count": 67,
   "metadata": {
    "collapsed": false,
    "jupyter": {
     "outputs_hidden": false
    }
   },
   "outputs": [
    {
     "data": {
      "text/plain": [
       "['date;SX5P;SX5E;SXXP;SXXE;SXXF;SXXA;DK5F;DKXF;DEL\\n',\n",
       " '31.12.1986;775.00;900.82;82.76;98.58;98.06;69.06;645.26;65.56\\n',\n",
       " '01.01.1987;775.00;900.82;82.76;98.58;98.06;69.06;645.26;65.56\\n',\n",
       " '02.01.1987;770.89;891.78;82.57;97.80;97.43;69.37;647.62;65.81\\n',\n",
       " '05.01.1987;771.89;898.33;82.82;98.60;98.19;69.16;649.94;65.82\\n']"
      ]
     },
     "execution_count": 67,
     "metadata": {},
     "output_type": "execute_result"
    }
   ],
   "source": [
    "new_lines = open('./data/es50.txt','r').readlines()\n",
    "new_lines[:5]"
   ]
  },
  {
   "cell_type": "code",
   "execution_count": 68,
   "metadata": {
    "collapsed": false,
    "jupyter": {
     "outputs_hidden": false
    }
   },
   "outputs": [],
   "source": [
    "es = pd.read_csv('./data/es50.txt', index_col=0,parse_dates=True,sep=';',dayfirst=True)"
   ]
  },
  {
   "cell_type": "code",
   "execution_count": 69,
   "metadata": {
    "collapsed": false,
    "jupyter": {
     "outputs_hidden": false
    }
   },
   "outputs": [
    {
     "data": {
      "text/html": [
       "<div>\n",
       "<table border=\"1\" class=\"dataframe\">\n",
       "  <thead>\n",
       "    <tr style=\"text-align: right;\">\n",
       "      <th></th>\n",
       "      <th>SX5P</th>\n",
       "      <th>SX5E</th>\n",
       "      <th>SXXP</th>\n",
       "      <th>SXXE</th>\n",
       "      <th>SXXF</th>\n",
       "      <th>SXXA</th>\n",
       "      <th>DK5F</th>\n",
       "      <th>DKXF</th>\n",
       "      <th>DEL</th>\n",
       "    </tr>\n",
       "    <tr>\n",
       "      <th>date</th>\n",
       "      <th></th>\n",
       "      <th></th>\n",
       "      <th></th>\n",
       "      <th></th>\n",
       "      <th></th>\n",
       "      <th></th>\n",
       "      <th></th>\n",
       "      <th></th>\n",
       "      <th></th>\n",
       "    </tr>\n",
       "  </thead>\n",
       "  <tbody>\n",
       "    <tr>\n",
       "      <th>2016-04-26</th>\n",
       "      <td>2923</td>\n",
       "      <td>3121</td>\n",
       "      <td>347</td>\n",
       "      <td>330</td>\n",
       "      <td>412</td>\n",
       "      <td>354</td>\n",
       "      <td>9395</td>\n",
       "      <td>588</td>\n",
       "      <td>NaN</td>\n",
       "    </tr>\n",
       "    <tr>\n",
       "      <th>2016-04-27</th>\n",
       "      <td>2927</td>\n",
       "      <td>3130</td>\n",
       "      <td>348</td>\n",
       "      <td>332</td>\n",
       "      <td>413</td>\n",
       "      <td>354</td>\n",
       "      <td>9424</td>\n",
       "      <td>589</td>\n",
       "      <td>NaN</td>\n",
       "    </tr>\n",
       "    <tr>\n",
       "      <th>2016-04-28</th>\n",
       "      <td>2932</td>\n",
       "      <td>3125</td>\n",
       "      <td>349</td>\n",
       "      <td>332</td>\n",
       "      <td>414</td>\n",
       "      <td>355</td>\n",
       "      <td>9459</td>\n",
       "      <td>592</td>\n",
       "      <td>NaN</td>\n",
       "    </tr>\n",
       "    <tr>\n",
       "      <th>2016-04-29</th>\n",
       "      <td>2856</td>\n",
       "      <td>3028</td>\n",
       "      <td>341</td>\n",
       "      <td>324</td>\n",
       "      <td>405</td>\n",
       "      <td>349</td>\n",
       "      <td>9278</td>\n",
       "      <td>582</td>\n",
       "      <td>NaN</td>\n",
       "    </tr>\n",
       "    <tr>\n",
       "      <th>2016-05-02</th>\n",
       "      <td>2852</td>\n",
       "      <td>3033</td>\n",
       "      <td>341</td>\n",
       "      <td>324</td>\n",
       "      <td>405</td>\n",
       "      <td>348</td>\n",
       "      <td>9238</td>\n",
       "      <td>579</td>\n",
       "      <td>NaN</td>\n",
       "    </tr>\n",
       "  </tbody>\n",
       "</table>\n",
       "</div>"
      ],
      "text/plain": [
       "            SX5P  SX5E  SXXP  SXXE  SXXF  SXXA  DK5F  DKXF  DEL\n",
       "date                                                           \n",
       "2016-04-26  2923  3121   347   330   412   354  9395   588  NaN\n",
       "2016-04-27  2927  3130   348   332   413   354  9424   589  NaN\n",
       "2016-04-28  2932  3125   349   332   414   355  9459   592  NaN\n",
       "2016-04-29  2856  3028   341   324   405   349  9278   582  NaN\n",
       "2016-05-02  2852  3033   341   324   405   348  9238   579  NaN"
      ]
     },
     "execution_count": 69,
     "metadata": {},
     "output_type": "execute_result"
    }
   ],
   "source": [
    "np.round(es.tail())"
   ]
  },
  {
   "cell_type": "code",
   "execution_count": 70,
   "metadata": {
    "collapsed": false,
    "jupyter": {
     "outputs_hidden": false
    }
   },
   "outputs": [
    {
     "name": "stdout",
     "output_type": "stream",
     "text": [
      "<class 'pandas.core.frame.DataFrame'>\n",
      "DatetimeIndex: 7562 entries, 1986-12-31 to 2016-05-02\n",
      "Data columns (total 8 columns):\n",
      "SX5P    7562 non-null float64\n",
      "SX5E    7562 non-null float64\n",
      "SXXP    7562 non-null float64\n",
      "SXXE    7562 non-null float64\n",
      "SXXF    7562 non-null float64\n",
      "SXXA    7562 non-null float64\n",
      "DK5F    7562 non-null float64\n",
      "DKXF    7562 non-null float64\n",
      "dtypes: float64(8)\n",
      "memory usage: 531.7 KB\n"
     ]
    }
   ],
   "source": [
    "del es['DEL']\n",
    "es.info()"
   ]
  },
  {
   "cell_type": "markdown",
   "metadata": {},
   "source": [
    "Another way to import the data:"
   ]
  },
  {
   "cell_type": "code",
   "execution_count": 71,
   "metadata": {
    "collapsed": false,
    "jupyter": {
     "outputs_hidden": false
    }
   },
   "outputs": [
    {
     "data": {
      "text/html": [
       "<div>\n",
       "<table border=\"1\" class=\"dataframe\">\n",
       "  <thead>\n",
       "    <tr style=\"text-align: right;\">\n",
       "      <th></th>\n",
       "      <th>SX5P</th>\n",
       "      <th>SX5E</th>\n",
       "      <th>SXXP</th>\n",
       "      <th>SXXE</th>\n",
       "      <th>SXXF</th>\n",
       "      <th>SXXA</th>\n",
       "      <th>DK5F</th>\n",
       "      <th>DKXF</th>\n",
       "    </tr>\n",
       "  </thead>\n",
       "  <tbody>\n",
       "    <tr>\n",
       "      <th>2016-04-26</th>\n",
       "      <td>2922.57</td>\n",
       "      <td>3121.29</td>\n",
       "      <td>347.31</td>\n",
       "      <td>330.30</td>\n",
       "      <td>411.75</td>\n",
       "      <td>353.79</td>\n",
       "      <td>9395.03</td>\n",
       "      <td>587.73</td>\n",
       "    </tr>\n",
       "    <tr>\n",
       "      <th>2016-04-27</th>\n",
       "      <td>2927.31</td>\n",
       "      <td>3130.43</td>\n",
       "      <td>348.32</td>\n",
       "      <td>331.69</td>\n",
       "      <td>413.25</td>\n",
       "      <td>354.41</td>\n",
       "      <td>9424.15</td>\n",
       "      <td>589.23</td>\n",
       "    </tr>\n",
       "    <tr>\n",
       "      <th>2016-04-28</th>\n",
       "      <td>2932.00</td>\n",
       "      <td>3125.43</td>\n",
       "      <td>348.90</td>\n",
       "      <td>331.76</td>\n",
       "      <td>413.78</td>\n",
       "      <td>355.47</td>\n",
       "      <td>9459.04</td>\n",
       "      <td>591.95</td>\n",
       "    </tr>\n",
       "    <tr>\n",
       "      <th>2016-04-29</th>\n",
       "      <td>2856.28</td>\n",
       "      <td>3028.21</td>\n",
       "      <td>341.48</td>\n",
       "      <td>323.70</td>\n",
       "      <td>404.71</td>\n",
       "      <td>348.87</td>\n",
       "      <td>9278.19</td>\n",
       "      <td>581.67</td>\n",
       "    </tr>\n",
       "    <tr>\n",
       "      <th>2016-05-02</th>\n",
       "      <td>2852.10</td>\n",
       "      <td>3032.60</td>\n",
       "      <td>341.24</td>\n",
       "      <td>324.22</td>\n",
       "      <td>404.91</td>\n",
       "      <td>347.90</td>\n",
       "      <td>9238.16</td>\n",
       "      <td>578.79</td>\n",
       "    </tr>\n",
       "  </tbody>\n",
       "</table>\n",
       "</div>"
      ],
      "text/plain": [
       "               SX5P     SX5E    SXXP    SXXE    SXXF    SXXA     DK5F    DKXF\n",
       "2016-04-26  2922.57  3121.29  347.31  330.30  411.75  353.79  9395.03  587.73\n",
       "2016-04-27  2927.31  3130.43  348.32  331.69  413.25  354.41  9424.15  589.23\n",
       "2016-04-28  2932.00  3125.43  348.90  331.76  413.78  355.47  9459.04  591.95\n",
       "2016-04-29  2856.28  3028.21  341.48  323.70  404.71  348.87  9278.19  581.67\n",
       "2016-05-02  2852.10  3032.60  341.24  324.22  404.91  347.90  9238.16  578.79"
      ]
     },
     "execution_count": 71,
     "metadata": {},
     "output_type": "execute_result"
    }
   ],
   "source": [
    "cols = ['SX5P', 'SX5E', 'SXXP', 'SXXE', 'SXXF', 'SXXA', 'DK5F', 'DKXF'] \n",
    "es = pd.read_csv(es_url, index_col = 0, parse_dates = True, sep =';', dayfirst = True, header = None, skiprows = 4, names = cols)\n",
    "es.tail()"
   ]
  },
  {
   "cell_type": "code",
   "execution_count": 72,
   "metadata": {
    "collapsed": false,
    "jupyter": {
     "outputs_hidden": false
    }
   },
   "outputs": [
    {
     "name": "stdout",
     "output_type": "stream",
     "text": [
      "<class 'pandas.core.frame.DataFrame'>\n",
      "DatetimeIndex: 4357 entries, 1999-01-04 to 2016-02-12\n",
      "Data columns (total 9 columns):\n",
      "V2TX    4357 non-null float64\n",
      "V6I1    3906 non-null float64\n",
      "V6I2    4357 non-null float64\n",
      "V6I3    4296 non-null float64\n",
      "V6I4    4357 non-null float64\n",
      "V6I5    4357 non-null float64\n",
      "V6I6    4340 non-null float64\n",
      "V6I7    4357 non-null float64\n",
      "V6I8    4343 non-null float64\n",
      "dtypes: float64(9)\n",
      "memory usage: 340.4 KB\n"
     ]
    }
   ],
   "source": [
    "vs = pd.read_csv('./data/vs.txt', index_col = 0, header = 2, parse_dates = True, sep =',', dayfirst = True) \n",
    "vs.info()"
   ]
  },
  {
   "cell_type": "markdown",
   "metadata": {},
   "source": [
    "### Implementing the regression analysis\n",
    "We only need one column from each data set and the dates have to line up. To do that, we start the data on 1/1/99."
   ]
  },
  {
   "cell_type": "code",
   "execution_count": 73,
   "metadata": {
    "collapsed": false,
    "jupyter": {
     "outputs_hidden": false
    }
   },
   "outputs": [
    {
     "data": {
      "text/html": [
       "<div>\n",
       "<table border=\"1\" class=\"dataframe\">\n",
       "  <thead>\n",
       "    <tr style=\"text-align: right;\">\n",
       "      <th></th>\n",
       "      <th>EUROSTOXX</th>\n",
       "      <th>VSTOXX</th>\n",
       "    </tr>\n",
       "  </thead>\n",
       "  <tbody>\n",
       "    <tr>\n",
       "      <th>1999-01-04</th>\n",
       "      <td>3543.10</td>\n",
       "      <td>18.2033</td>\n",
       "    </tr>\n",
       "    <tr>\n",
       "      <th>1999-01-05</th>\n",
       "      <td>3604.67</td>\n",
       "      <td>29.6912</td>\n",
       "    </tr>\n",
       "    <tr>\n",
       "      <th>1999-01-06</th>\n",
       "      <td>3685.36</td>\n",
       "      <td>25.1670</td>\n",
       "    </tr>\n",
       "    <tr>\n",
       "      <th>1999-01-07</th>\n",
       "      <td>3627.87</td>\n",
       "      <td>32.5205</td>\n",
       "    </tr>\n",
       "    <tr>\n",
       "      <th>1999-01-08</th>\n",
       "      <td>3616.57</td>\n",
       "      <td>33.2296</td>\n",
       "    </tr>\n",
       "  </tbody>\n",
       "</table>\n",
       "</div>"
      ],
      "text/plain": [
       "            EUROSTOXX   VSTOXX\n",
       "1999-01-04    3543.10  18.2033\n",
       "1999-01-05    3604.67  29.6912\n",
       "1999-01-06    3685.36  25.1670\n",
       "1999-01-07    3627.87  32.5205\n",
       "1999-01-08    3616.57  33.2296"
      ]
     },
     "execution_count": 73,
     "metadata": {},
     "output_type": "execute_result"
    }
   ],
   "source": [
    "import datetime as dt \n",
    "data = pd.DataFrame({'EUROSTOXX': es['SX5E'][es.index > dt.datetime(1999, 1, 1)]}) \n",
    "data = data.join(pd.DataFrame({'VSTOXX': vs['V2TX'][vs.index > dt.datetime(1999, 1, 1)]}))\n",
    "data.head()"
   ]
  },
  {
   "cell_type": "code",
   "execution_count": 74,
   "metadata": {
    "collapsed": false,
    "jupyter": {
     "outputs_hidden": false
    }
   },
   "outputs": [
    {
     "name": "stdout",
     "output_type": "stream",
     "text": [
      "<class 'pandas.core.frame.DataFrame'>\n",
      "DatetimeIndex: 4443 entries, 1999-01-04 to 2016-05-02\n",
      "Data columns (total 2 columns):\n",
      "EUROSTOXX    4443 non-null float64\n",
      "VSTOXX       4443 non-null float64\n",
      "dtypes: float64(2)\n",
      "memory usage: 104.1 KB\n"
     ]
    }
   ],
   "source": [
    "data = data.fillna(method='ffill')\n",
    "data.info()"
   ]
  },
  {
   "cell_type": "code",
   "execution_count": 75,
   "metadata": {
    "collapsed": false,
    "jupyter": {
     "outputs_hidden": false
    }
   },
   "outputs": [
    {
     "data": {
      "text/html": [
       "<div>\n",
       "<table border=\"1\" class=\"dataframe\">\n",
       "  <thead>\n",
       "    <tr style=\"text-align: right;\">\n",
       "      <th></th>\n",
       "      <th>EUROSTOXX</th>\n",
       "      <th>VSTOXX</th>\n",
       "    </tr>\n",
       "  </thead>\n",
       "  <tbody>\n",
       "    <tr>\n",
       "      <th>2016-04-26</th>\n",
       "      <td>3121.29</td>\n",
       "      <td>35.6846</td>\n",
       "    </tr>\n",
       "    <tr>\n",
       "      <th>2016-04-27</th>\n",
       "      <td>3130.43</td>\n",
       "      <td>35.6846</td>\n",
       "    </tr>\n",
       "    <tr>\n",
       "      <th>2016-04-28</th>\n",
       "      <td>3125.43</td>\n",
       "      <td>35.6846</td>\n",
       "    </tr>\n",
       "    <tr>\n",
       "      <th>2016-04-29</th>\n",
       "      <td>3028.21</td>\n",
       "      <td>35.6846</td>\n",
       "    </tr>\n",
       "    <tr>\n",
       "      <th>2016-05-02</th>\n",
       "      <td>3032.60</td>\n",
       "      <td>35.6846</td>\n",
       "    </tr>\n",
       "  </tbody>\n",
       "</table>\n",
       "</div>"
      ],
      "text/plain": [
       "            EUROSTOXX   VSTOXX\n",
       "2016-04-26    3121.29  35.6846\n",
       "2016-04-27    3130.43  35.6846\n",
       "2016-04-28    3125.43  35.6846\n",
       "2016-04-29    3028.21  35.6846\n",
       "2016-05-02    3032.60  35.6846"
      ]
     },
     "execution_count": 75,
     "metadata": {},
     "output_type": "execute_result"
    }
   ],
   "source": [
    "data.tail()"
   ]
  },
  {
   "cell_type": "code",
   "execution_count": 76,
   "metadata": {
    "collapsed": false,
    "jupyter": {
     "outputs_hidden": false
    }
   },
   "outputs": [
    {
     "data": {
      "text/plain": [
       "array([<matplotlib.axes._subplots.AxesSubplot object at 0x000002088007F978>,\n",
       "       <matplotlib.axes._subplots.AxesSubplot object at 0x0000020880B1E630>], dtype=object)"
      ]
     },
     "execution_count": 76,
     "metadata": {},
     "output_type": "execute_result"
    },
    {
     "data": {
      "image/png": "[encoded data removed]",
      "text/plain": [
       "<matplotlib.figure.Figure at 0x208fda81c18>"
      ]
     },
     "metadata": {},
     "output_type": "display_data"
    }
   ],
   "source": [
    "data.plot(subplots=True, grid=True , style='b', figsize=(8,6))"
   ]
  },
  {
   "cell_type": "code",
   "execution_count": 77,
   "metadata": {
    "collapsed": false,
    "jupyter": {
     "outputs_hidden": false
    }
   },
   "outputs": [
    {
     "data": {
      "text/html": [
       "<div>\n",
       "<table border=\"1\" class=\"dataframe\">\n",
       "  <thead>\n",
       "    <tr style=\"text-align: right;\">\n",
       "      <th></th>\n",
       "      <th>EUROSTOXX</th>\n",
       "      <th>VSTOXX</th>\n",
       "    </tr>\n",
       "  </thead>\n",
       "  <tbody>\n",
       "    <tr>\n",
       "      <th>1999-01-05</th>\n",
       "      <td>0.017228</td>\n",
       "      <td>0.489248</td>\n",
       "    </tr>\n",
       "    <tr>\n",
       "      <th>1999-01-06</th>\n",
       "      <td>0.022138</td>\n",
       "      <td>-0.165317</td>\n",
       "    </tr>\n",
       "    <tr>\n",
       "      <th>1999-01-07</th>\n",
       "      <td>-0.015723</td>\n",
       "      <td>0.256337</td>\n",
       "    </tr>\n",
       "    <tr>\n",
       "      <th>1999-01-08</th>\n",
       "      <td>-0.003120</td>\n",
       "      <td>0.021570</td>\n",
       "    </tr>\n",
       "    <tr>\n",
       "      <th>1999-01-11</th>\n",
       "      <td>-0.019593</td>\n",
       "      <td>0.103173</td>\n",
       "    </tr>\n",
       "  </tbody>\n",
       "</table>\n",
       "</div>"
      ],
      "text/plain": [
       "            EUROSTOXX    VSTOXX\n",
       "1999-01-05   0.017228  0.489248\n",
       "1999-01-06   0.022138 -0.165317\n",
       "1999-01-07  -0.015723  0.256337\n",
       "1999-01-08  -0.003120  0.021570\n",
       "1999-01-11  -0.019593  0.103173"
      ]
     },
     "execution_count": 77,
     "metadata": {},
     "output_type": "execute_result"
    }
   ],
   "source": [
    "rets = np.log(data / data.shift(1))\n",
    "rets.head()\n",
    "\n",
    "# Drop bad data\n",
    "rets = rets.replace([np.inf, -np.inf], np.nan)\n",
    "rets = rets.dropna()\n",
    "rets.head()"
   ]
  },
  {
   "cell_type": "markdown",
   "metadata": {},
   "source": [
    "Using the EURO STOXX50 as the independent variable, we create a regression  for the VSTOXX returns:"
   ]
  },
  {
   "cell_type": "code",
   "execution_count": 78,
   "metadata": {
    "collapsed": false,
    "jupyter": {
     "outputs_hidden": false
    }
   },
   "outputs": [
    {
     "data": {
      "text/plain": [
       "\n",
       "-------------------------Summary of Regression Analysis-------------------------\n",
       "\n",
       "Formula: Y ~ <x> + <intercept>\n",
       "\n",
       "Number of Observations:         4439\n",
       "Number of Degrees of Freedom:   2\n",
       "\n",
       "R-squared:         0.5376\n",
       "Adj R-squared:     0.5375\n",
       "\n",
       "Rmse:              0.0394\n",
       "\n",
       "F-stat (1, 4437):  5157.9648, p-value:     0.0000\n",
       "\n",
       "Degrees of Freedom: model 1, resid 4437\n",
       "\n",
       "-----------------------Summary of Estimated Coefficients------------------------\n",
       "      Variable       Coef    Std Err     t-stat    p-value    CI 2.5%   CI 97.5%\n",
       "--------------------------------------------------------------------------------\n",
       "             x    -2.8169     0.0392     -71.82     0.0000    -2.8937    -2.7400\n",
       "     intercept     0.0000     0.0006       0.08     0.9338    -0.0011     0.0012\n",
       "---------------------------------End of Summary---------------------------------"
      ]
     },
     "execution_count": 78,
     "metadata": {},
     "output_type": "execute_result"
    }
   ],
   "source": [
    "xdat = rets['EUROSTOXX']\n",
    "ydat = rets['VSTOXX']\n",
    "\n",
    "model = pd.ols(y=ydat,x=xdat)\n",
    "model"
   ]
  },
  {
   "cell_type": "markdown",
   "metadata": {},
   "source": [
    "### Plot the regression"
   ]
  },
  {
   "cell_type": "code",
   "execution_count": 79,
   "metadata": {
    "collapsed": false,
    "jupyter": {
     "outputs_hidden": false
    }
   },
   "outputs": [
    {
     "data": {
      "text/plain": [
       "<matplotlib.text.Text at 0x2088209b0b8>"
      ]
     },
     "execution_count": 79,
     "metadata": {},
     "output_type": "execute_result"
    },
    {
     "data": {
      "image/png": "[encoded data removed]",
      "text/plain": [
       "<matplotlib.figure.Figure at 0x2088208a198>"
      ]
     },
     "metadata": {},
     "output_type": "display_data"
    }
   ],
   "source": [
    "plt.plot(xdat,ydat,'r.')\n",
    "ax = plt.axis() # grab axis values\n",
    "x = np.linspace(ax[0],ax[1]+0.01)\n",
    "plt.plot(x, model.beta[1] + model.beta[0]*x,'b',lw=2)\n",
    "plt.grid(True)\n",
    "plt.axis('tight')\n",
    "plt.xlabel('EURO STOXX 50 Returns')\n",
    "plt.ylabel('VSTOXX Returns')"
   ]
  },
  {
   "cell_type": "code",
   "execution_count": 80,
   "metadata": {
    "collapsed": false,
    "jupyter": {
     "outputs_hidden": false
    }
   },
   "outputs": [
    {
     "data": {
      "text/html": [
       "<div>\n",
       "<table border=\"1\" class=\"dataframe\">\n",
       "  <thead>\n",
       "    <tr style=\"text-align: right;\">\n",
       "      <th></th>\n",
       "      <th>EUROSTOXX</th>\n",
       "      <th>VSTOXX</th>\n",
       "    </tr>\n",
       "  </thead>\n",
       "  <tbody>\n",
       "    <tr>\n",
       "      <th>EUROSTOXX</th>\n",
       "      <td>1.000000</td>\n",
       "      <td>-0.733192</td>\n",
       "    </tr>\n",
       "    <tr>\n",
       "      <th>VSTOXX</th>\n",
       "      <td>-0.733192</td>\n",
       "      <td>1.000000</td>\n",
       "    </tr>\n",
       "  </tbody>\n",
       "</table>\n",
       "</div>"
      ],
      "text/plain": [
       "           EUROSTOXX    VSTOXX\n",
       "EUROSTOXX   1.000000 -0.733192\n",
       "VSTOXX     -0.733192  1.000000"
      ]
     },
     "execution_count": 80,
     "metadata": {},
     "output_type": "execute_result"
    }
   ],
   "source": [
    "rets.corr()"
   ]
  },
  {
   "cell_type": "code",
   "execution_count": 81,
   "metadata": {
    "collapsed": false,
    "jupyter": {
     "outputs_hidden": false
    }
   },
   "outputs": [
    {
     "data": {
      "text/plain": [
       "<matplotlib.axes._subplots.AxesSubplot at 0x208820a8d68>"
      ]
     },
     "execution_count": 81,
     "metadata": {},
     "output_type": "execute_result"
    },
    {
     "data": {
      "image/png": "[encoded data removed]",
      "text/plain": [
       "<matplotlib.figure.Figure at 0x20882072780>"
      ]
     },
     "metadata": {},
     "output_type": "display_data"
    }
   ],
   "source": [
    "pd.rolling_corr(rets['EUROSTOXX'], rets['VSTOXX'], window=252).plot(grid=True, style='b')"
   ]
  },
  {
   "cell_type": "markdown",
   "metadata": {},
   "source": [
    "## High Frequency Data\n",
    "The Norwegian online broker Netfonds provides tick data for a multitude of stocks, in particular for American names. The web-based API has basically the following format: \n",
    "\n",
    "For some reason AAPL.O is not working. Switched to NKE and it works."
   ]
  },
  {
   "cell_type": "code",
   "execution_count": 152,
   "metadata": {
    "collapsed": true,
    "jupyter": {
     "outputs_hidden": true
    }
   },
   "outputs": [],
   "source": [
    "# http://hopey.netfonds.no/tradedump.php?date=20160818&paper=AAPL.O&csv_format=txt\n",
    "# http://hopey.netfonds.no/posdump.php?date=20120423&paper=AAPL.O&csv_format=txt\n",
    "\n",
    "# url1 = 'http://www.netfonds.no/quotes/paperhistory.php?'\n",
    "url1 = 'http://www.netfonds.no/quotes/posdump.php?'\n",
    "url2 = 'date=%s%s%s&paper=NKE.N&csv_format=csv' \n",
    "url = url1 + url2\n",
    "year = '2016'\n",
    "month = '08'\n",
    "days = ['15','16','17','18']"
   ]
  },
  {
   "cell_type": "code",
   "execution_count": 153,
   "metadata": {
    "collapsed": false,
    "jupyter": {
     "outputs_hidden": false
    }
   },
   "outputs": [
    {
     "name": "stdout",
     "output_type": "stream",
     "text": [
      "http://www.netfonds.no/quotes/posdump.php?date=20160815&paper=NKE.N&csv_format=csv\n",
      "http://www.netfonds.no/quotes/posdump.php?date=20160816&paper=NKE.N&csv_format=csv\n",
      "http://www.netfonds.no/quotes/posdump.php?date=20160817&paper=NKE.N&csv_format=csv\n",
      "http://www.netfonds.no/quotes/posdump.php?date=20160818&paper=NKE.N&csv_format=csv\n"
     ]
    }
   ],
   "source": [
    "for day in days:\n",
    "    print(url % (year, month, day))"
   ]
  },
  {
   "cell_type": "code",
   "execution_count": 155,
   "metadata": {
    "collapsed": false,
    "jupyter": {
     "outputs_hidden": false
    }
   },
   "outputs": [
    {
     "data": {
      "text/html": [
       "<div>\n",
       "<table border=\"1\" class=\"dataframe\">\n",
       "  <thead>\n",
       "    <tr style=\"text-align: right;\">\n",
       "      <th></th>\n",
       "      <th>bid</th>\n",
       "      <th>bdepth</th>\n",
       "      <th>bdeptht</th>\n",
       "      <th>offer</th>\n",
       "      <th>offer</th>\n",
       "      <th>odepth</th>\n",
       "    </tr>\n",
       "    <tr>\n",
       "      <th>time</th>\n",
       "      <th></th>\n",
       "      <th></th>\n",
       "      <th></th>\n",
       "      <th></th>\n",
       "      <th></th>\n",
       "      <th></th>\n",
       "    </tr>\n",
       "  </thead>\n",
       "  <tbody>\n",
       "    <tr>\n",
       "      <th>2016-08-15 10:00:01</th>\n",
       "      <td>55.98</td>\n",
       "      <td>100</td>\n",
       "      <td>100</td>\n",
       "      <td>57.23</td>\n",
       "      <td>100</td>\n",
       "      <td>100</td>\n",
       "    </tr>\n",
       "    <tr>\n",
       "      <th>2016-08-15 10:00:09</th>\n",
       "      <td>55.57</td>\n",
       "      <td>200</td>\n",
       "      <td>200</td>\n",
       "      <td>57.68</td>\n",
       "      <td>100</td>\n",
       "      <td>100</td>\n",
       "    </tr>\n",
       "    <tr>\n",
       "      <th>2016-08-15 10:01:01</th>\n",
       "      <td>55.78</td>\n",
       "      <td>100</td>\n",
       "      <td>100</td>\n",
       "      <td>57.48</td>\n",
       "      <td>100</td>\n",
       "      <td>100</td>\n",
       "    </tr>\n",
       "    <tr>\n",
       "      <th>2016-08-15 10:36:59</th>\n",
       "      <td>55.78</td>\n",
       "      <td>100</td>\n",
       "      <td>100</td>\n",
       "      <td>56.69</td>\n",
       "      <td>100</td>\n",
       "      <td>100</td>\n",
       "    </tr>\n",
       "    <tr>\n",
       "      <th>2016-08-15 14:07:12</th>\n",
       "      <td>56.45</td>\n",
       "      <td>300</td>\n",
       "      <td>300</td>\n",
       "      <td>56.69</td>\n",
       "      <td>100</td>\n",
       "      <td>100</td>\n",
       "    </tr>\n",
       "  </tbody>\n",
       "</table>\n",
       "</div>"
      ],
      "text/plain": [
       "                       bid  bdepth  bdeptht  offer  offer  odepth\n",
       "time                                                             \n",
       "2016-08-15 10:00:01  55.98     100      100  57.23    100     100\n",
       "2016-08-15 10:00:09  55.57     200      200  57.68    100     100\n",
       "2016-08-15 10:01:01  55.78     100      100  57.48    100     100\n",
       "2016-08-15 10:36:59  55.78     100      100  56.69    100     100\n",
       "2016-08-15 14:07:12  56.45     300      300  56.69    100     100"
      ]
     },
     "execution_count": 155,
     "metadata": {},
     "output_type": "execute_result"
    }
   ],
   "source": [
    "NKE = pd.DataFrame() \n",
    "for day in days: \n",
    "    NKE = NKE.append(pd.read_csv( url % (year, month, day), index_col = 0, header = 0, parse_dates = True)) \n",
    "\n",
    "NKE.columns=['bid','bdepth','bdeptht','offer','offer','odepth']\n",
    "# shorter colummn names\n",
    "\n",
    "NKE.head()"
   ]
  },
  {
   "cell_type": "code",
   "execution_count": 156,
   "metadata": {
    "collapsed": false,
    "jupyter": {
     "outputs_hidden": false
    }
   },
   "outputs": [
    {
     "name": "stdout",
     "output_type": "stream",
     "text": [
      "<class 'pandas.core.frame.DataFrame'>\n",
      "DatetimeIndex: 36901 entries, 2016-08-15 10:00:01 to 2016-08-18 22:15:17\n",
      "Data columns (total 6 columns):\n",
      "bid        36901 non-null float64\n",
      "bdepth     36901 non-null int64\n",
      "bdeptht    36901 non-null int64\n",
      "offer      36901 non-null offer    float64\n",
      "offer      int64\n",
      "dtype: object\n",
      "offer      36901 non-null offer    float64\n",
      "offer      int64\n",
      "dtype: object\n",
      "odepth     36901 non-null int64\n",
      "dtypes: float64(2), int64(4)\n",
      "memory usage: 2.0 MB\n"
     ]
    }
   ],
   "source": [
    "NKE.info()"
   ]
  },
  {
   "cell_type": "code",
   "execution_count": 157,
   "metadata": {
    "collapsed": false,
    "jupyter": {
     "outputs_hidden": false
    }
   },
   "outputs": [
    {
     "data": {
      "text/plain": [
       "<matplotlib.axes._subplots.AxesSubplot at 0x208824b1a58>"
      ]
     },
     "execution_count": 157,
     "metadata": {},
     "output_type": "execute_result"
    },
    {
     "data": {
      "image/png": "[encoded data removed]",
      "text/plain": [
       "<matplotlib.figure.Figure at 0x2088248b5c0>"
      ]
     },
     "metadata": {},
     "output_type": "display_data"
    }
   ],
   "source": [
    "NKE['bid'].plot()"
   ]
  },
  {
   "cell_type": "code",
   "execution_count": 162,
   "metadata": {
    "collapsed": false,
    "jupyter": {
     "outputs_hidden": false
    }
   },
   "outputs": [
    {
     "data": {
      "text/plain": [
       "array([<matplotlib.axes._subplots.AxesSubplot object at 0x0000020883A729E8>,\n",
       "       <matplotlib.axes._subplots.AxesSubplot object at 0x0000020883EA2F98>], dtype=object)"
      ]
     },
     "execution_count": 162,
     "metadata": {},
     "output_type": "execute_result"
    },
    {
     "data": {
      "image/png": "[encoded data removed]",
      "text/plain": [
       "<matplotlib.figure.Figure at 0x20883cee898>"
      ]
     },
     "metadata": {},
     "output_type": "display_data"
    }
   ],
   "source": [
    "to_plot = NKE[['bid', 'bdeptht']][\n",
    "    (NKE.index>dt.datetime(2016, 8, 15, 14, 0)) \n",
    "    & (NKE.index < dt.datetime(2016, 8, 15, 23, 59))] \n",
    "# adjust dates to given data set \n",
    "to_plot.plot(subplots = True, style ='b', figsize =( 8, 5))"
   ]
  },
  {
   "cell_type": "code",
   "execution_count": 163,
   "metadata": {
    "collapsed": false,
    "jupyter": {
     "outputs_hidden": false
    }
   },
   "outputs": [
    {
     "data": {
      "text/html": [
       "<div>\n",
       "<table border=\"1\" class=\"dataframe\">\n",
       "  <thead>\n",
       "    <tr style=\"text-align: right;\">\n",
       "      <th></th>\n",
       "      <th>bid</th>\n",
       "      <th>bdepth</th>\n",
       "      <th>bdeptht</th>\n",
       "      <th>offer</th>\n",
       "      <th>offer</th>\n",
       "      <th>odepth</th>\n",
       "    </tr>\n",
       "    <tr>\n",
       "      <th>time</th>\n",
       "      <th></th>\n",
       "      <th></th>\n",
       "      <th></th>\n",
       "      <th></th>\n",
       "      <th></th>\n",
       "      <th></th>\n",
       "    </tr>\n",
       "  </thead>\n",
       "  <tbody>\n",
       "    <tr>\n",
       "      <th>2016-08-15 10:00:00</th>\n",
       "      <td>55.78</td>\n",
       "      <td>133.33</td>\n",
       "      <td>133.33</td>\n",
       "      <td>57.46</td>\n",
       "      <td>100</td>\n",
       "      <td>100</td>\n",
       "    </tr>\n",
       "    <tr>\n",
       "      <th>2016-08-15 10:05:00</th>\n",
       "      <td>NaN</td>\n",
       "      <td>NaN</td>\n",
       "      <td>NaN</td>\n",
       "      <td>NaN</td>\n",
       "      <td>NaN</td>\n",
       "      <td>NaN</td>\n",
       "    </tr>\n",
       "    <tr>\n",
       "      <th>2016-08-15 10:10:00</th>\n",
       "      <td>NaN</td>\n",
       "      <td>NaN</td>\n",
       "      <td>NaN</td>\n",
       "      <td>NaN</td>\n",
       "      <td>NaN</td>\n",
       "      <td>NaN</td>\n",
       "    </tr>\n",
       "    <tr>\n",
       "      <th>2016-08-15 10:15:00</th>\n",
       "      <td>NaN</td>\n",
       "      <td>NaN</td>\n",
       "      <td>NaN</td>\n",
       "      <td>NaN</td>\n",
       "      <td>NaN</td>\n",
       "      <td>NaN</td>\n",
       "    </tr>\n",
       "    <tr>\n",
       "      <th>2016-08-15 10:20:00</th>\n",
       "      <td>NaN</td>\n",
       "      <td>NaN</td>\n",
       "      <td>NaN</td>\n",
       "      <td>NaN</td>\n",
       "      <td>NaN</td>\n",
       "      <td>NaN</td>\n",
       "    </tr>\n",
       "  </tbody>\n",
       "</table>\n",
       "</div>"
      ],
      "text/plain": [
       "                       bid  bdepth  bdeptht  offer  offer  odepth\n",
       "time                                                             \n",
       "2016-08-15 10:00:00  55.78  133.33   133.33  57.46    100     100\n",
       "2016-08-15 10:05:00    NaN     NaN      NaN    NaN    NaN     NaN\n",
       "2016-08-15 10:10:00    NaN     NaN      NaN    NaN    NaN     NaN\n",
       "2016-08-15 10:15:00    NaN     NaN      NaN    NaN    NaN     NaN\n",
       "2016-08-15 10:20:00    NaN     NaN      NaN    NaN    NaN     NaN"
      ]
     },
     "execution_count": 163,
     "metadata": {},
     "output_type": "execute_result"
    }
   ],
   "source": [
    "NKE_resam = NKE.resample(rule ='5min', how ='mean') \n",
    "np.round(NKE_resam.head(), 2)"
   ]
  },
  {
   "cell_type": "code",
   "execution_count": 164,
   "metadata": {
    "collapsed": false,
    "jupyter": {
     "outputs_hidden": false
    }
   },
   "outputs": [
    {
     "data": {
      "text/plain": [
       "<matplotlib.axes._subplots.AxesSubplot at 0x208840b5ac8>"
      ]
     },
     "execution_count": 164,
     "metadata": {},
     "output_type": "execute_result"
    },
    {
     "data": {
      "image/png": "[encoded data removed]",
      "text/plain": [
       "<matplotlib.figure.Figure at 0x208841e22e8>"
      ]
     },
     "metadata": {},
     "output_type": "display_data"
    }
   ],
   "source": [
    "NKE_resam['bid'].fillna(method='ffill').plot()"
   ]
  },
  {
   "cell_type": "code",
   "execution_count": null,
   "metadata": {
    "collapsed": true,
    "jupyter": {
     "outputs_hidden": true
    }
   },
   "outputs": [],
   "source": []
  }
 ],
 "metadata": {
  "anaconda-cloud": {},
  "kernelspec": {
   "display_name": "Python 3",
   "language": "python",
   "name": "python3"
  },
  "language_info": {
   "codemirror_mode": {
    "name": "ipython",
    "version": 3
   },
   "file_extension": ".py",
   "mimetype": "text/x-python",
   "name": "python",
   "nbconvert_exporter": "python",
   "pygments_lexer": "ipython3",
   "version": "3.7.9"
  }
 },
 "nbformat": 4,
 "nbformat_minor": 4
}
