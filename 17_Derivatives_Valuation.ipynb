{
 "cells": [
  {
   "cell_type": "markdown",
   "metadata": {},
   "source": [
    "# 17. Derivatives Valuation\n",
    "From Python for Finance"
   ]
  },
  {
   "cell_type": "code",
   "execution_count": 1,
   "metadata": {
    "collapsed": false
   },
   "outputs": [],
   "source": [
    "import sys\n",
    "sys.path.append(\".//Valuations//\")\n",
    "from Valuations import *\n",
    "\n",
    "import datetime as dt"
   ]
  },
  {
   "cell_type": "code",
   "execution_count": 2,
   "metadata": {
    "collapsed": true
   },
   "outputs": [],
   "source": [
    "me_gbm = market_environment('me_gbm', dt.datetime(2015, 1, 1))\n",
    "me_gbm.add_constant('initial_value', 36.)\n",
    "me_gbm.add_constant('volatility', 0.2)\n",
    "me_gbm.add_constant('final_date', dt.datetime(2015, 12, 31))\n",
    "me_gbm.add_constant('currency', 'EUR')\n",
    "me_gbm.add_constant('frequency', 'M')\n",
    "me_gbm.add_constant('paths', 10000)"
   ]
  },
  {
   "cell_type": "code",
   "execution_count": 3,
   "metadata": {
    "collapsed": true
   },
   "outputs": [],
   "source": [
    "csr = constant_short_rate('csr', 0.06)\n",
    "me_gbm.add_curve('discount_curve', csr)\n",
    "gbm = geometric_brownian_motion('gbm', me_gbm)"
   ]
  },
  {
   "cell_type": "code",
   "execution_count": 4,
   "metadata": {
    "collapsed": false
   },
   "outputs": [],
   "source": [
    "me_call = market_environment('me_call', me_gbm.pricing_date)\n",
    "me_call.add_constant('strike', 40.)\n",
    "me_call.add_constant('maturity',dt.datetime(2015,12, 31))\n",
    "me_call.add_constant('currency','EUR')"
   ]
  },
  {
   "cell_type": "code",
   "execution_count": 5,
   "metadata": {
    "collapsed": true
   },
   "outputs": [],
   "source": [
    "payoff_func = 'np.maximum(maturity_value - strike,0)'"
   ]
  },
  {
   "cell_type": "code",
   "execution_count": 6,
   "metadata": {
    "collapsed": true
   },
   "outputs": [],
   "source": [
    "from valuation_mcs_european import valuation_mcs_european"
   ]
  },
  {
   "cell_type": "code",
   "execution_count": 7,
   "metadata": {
    "collapsed": true
   },
   "outputs": [],
   "source": [
    "eur_call = valuation_mcs_european('eur_call', underlying=gbm, mar_env=me_call, payoff_func=payoff_func)"
   ]
  },
  {
   "cell_type": "code",
   "execution_count": 8,
   "metadata": {
    "collapsed": false
   },
   "outputs": [
    {
     "name": "stdout",
     "output_type": "stream",
     "text": [
      "Wall time: 0 ns\n"
     ]
    },
    {
     "name": "stderr",
     "output_type": "stream",
     "text": [
      ".//Valuations\\functions.py:18: VisibleDeprecationWarning: using a non-integer number instead of an integer will result in an error in the future\n",
      "  ran = np.random.standard_normal((shape[0], shape[1], shape[2] / 2))\n"
     ]
    },
    {
     "data": {
      "text/plain": [
       "2.60704"
      ]
     },
     "execution_count": 8,
     "metadata": {},
     "output_type": "execute_result"
    }
   ],
   "source": [
    "%time\n",
    "eur_call.present_value()"
   ]
  },
  {
   "cell_type": "code",
   "execution_count": 9,
   "metadata": {
    "collapsed": false
   },
   "outputs": [
    {
     "name": "stdout",
     "output_type": "stream",
     "text": [
      "Wall time: 11.5 ms\n"
     ]
    },
    {
     "name": "stderr",
     "output_type": "stream",
     "text": [
      ".//Valuations\\functions.py:18: VisibleDeprecationWarning: using a non-integer number instead of an integer will result in an error in the future\n",
      "  ran = np.random.standard_normal((shape[0], shape[1], shape[2] / 2))\n"
     ]
    },
    {
     "data": {
      "text/plain": [
       "0.57809999999999995"
      ]
     },
     "execution_count": 9,
     "metadata": {},
     "output_type": "execute_result"
    }
   ],
   "source": [
    "%time eur_call.delta()"
   ]
  },
  {
   "cell_type": "code",
   "execution_count": 10,
   "metadata": {
    "collapsed": false
   },
   "outputs": [
    {
     "name": "stdout",
     "output_type": "stream",
     "text": [
      "Wall time: 23.6 ms\n"
     ]
    },
    {
     "name": "stderr",
     "output_type": "stream",
     "text": [
      ".//Valuations\\functions.py:18: VisibleDeprecationWarning: using a non-integer number instead of an integer will result in an error in the future\n",
      "  ran = np.random.standard_normal((shape[0], shape[1], shape[2] / 2))\n"
     ]
    },
    {
     "data": {
      "text/plain": [
       "19.053699999999999"
      ]
     },
     "execution_count": 10,
     "metadata": {},
     "output_type": "execute_result"
    }
   ],
   "source": [
    "%time eur_call.vega()"
   ]
  },
  {
   "cell_type": "code",
   "execution_count": 11,
   "metadata": {
    "collapsed": false
   },
   "outputs": [
    {
     "name": "stderr",
     "output_type": "stream",
     "text": [
      ".//Valuations\\functions.py:18: VisibleDeprecationWarning: using a non-integer number instead of an integer will result in an error in the future\n",
      "  ran = np.random.standard_normal((shape[0], shape[1], shape[2] / 2))\n"
     ]
    },
    {
     "name": "stdout",
     "output_type": "stream",
     "text": [
      "Wall time: 350 ms\n"
     ]
    }
   ],
   "source": [
    "%%time\n",
    "s_list = np.arange(34., 46.1, 2.)\n",
    "p_list = []; d_list = []; v_list = []\n",
    "for s in s_list:\n",
    "    eur_call.update(initial_value=s)\n",
    "    p_list.append(eur_call.present_value(fixed_seed=True))\n",
    "    d_list.append(eur_call.delta())\n",
    "    v_list.append(eur_call.vega())"
   ]
  },
  {
   "cell_type": "code",
   "execution_count": 12,
   "metadata": {
    "collapsed": false
   },
   "outputs": [],
   "source": [
    "%matplotlib inline"
   ]
  },
  {
   "cell_type": "code",
   "execution_count": 13,
   "metadata": {
    "collapsed": false
   },
   "outputs": [
    {
     "data": {
      "image/png": "[encoded data removed]",
      "text/plain": [
       "<matplotlib.figure.Figure at 0x1f72e4adbe0>"
      ]
     },
     "metadata": {},
     "output_type": "display_data"
    }
   ],
   "source": [
    "plot_option_stats(s_list, p_list, d_list, v_list)"
   ]
  },
  {
   "cell_type": "markdown",
   "metadata": {},
   "source": [
    "### Mixture of regular and asian payoff"
   ]
  },
  {
   "cell_type": "code",
   "execution_count": 14,
   "metadata": {
    "collapsed": true
   },
   "outputs": [],
   "source": [
    "payoff_func = 'np.maximum(0.33 * (maturity_value + max_value) - 40, 0)'\n",
    "# payoff dependent on the simulated maturity value and the maximum value\n",
    "\n",
    "eur_as_call = valuation_mcs_european('eur_as_call', underlying=gbm, mar_env=me_call, payoff_func=payoff_func)"
   ]
  },
  {
   "cell_type": "code",
   "execution_count": 15,
   "metadata": {
    "collapsed": false
   },
   "outputs": [
    {
     "name": "stderr",
     "output_type": "stream",
     "text": [
      ".//Valuations\\functions.py:18: VisibleDeprecationWarning: using a non-integer number instead of an integer will result in an error in the future\n",
      "  ran = np.random.standard_normal((shape[0], shape[1], shape[2] / 2))\n"
     ]
    },
    {
     "name": "stdout",
     "output_type": "stream",
     "text": [
      "Wall time: 243 ms\n"
     ]
    }
   ],
   "source": [
    "%%time\n",
    "s_list = np.arange(34., 46.1, 2.)\n",
    "p_list = []; d_list = []; v_list = []\n",
    "for s in s_list:\n",
    "    eur_as_call.update(s)\n",
    "    p_list.append(eur_as_call.present_value(fixed_seed=True))\n",
    "    d_list.append(eur_as_call.delta())\n",
    "    v_list.append(eur_as_call.vega())"
   ]
  },
  {
   "cell_type": "code",
   "execution_count": 16,
   "metadata": {
    "collapsed": false
   },
   "outputs": [
    {
     "data": {
      "image/png": "[encoded data removed]",
      "text/plain": [
       "<matplotlib.figure.Figure at 0x1f72e4adf98>"
      ]
     },
     "metadata": {},
     "output_type": "display_data"
    }
   ],
   "source": [
    "plot_option_stats(s_list, p_list, d_list, v_list)"
   ]
  },
  {
   "cell_type": "markdown",
   "metadata": {},
   "source": [
    "## American Exercise"
   ]
  },
  {
   "cell_type": "code",
   "execution_count": 17,
   "metadata": {
    "collapsed": true
   },
   "outputs": [],
   "source": [
    "me_gbm = market_environment('me_gbm', dt.datetime(2015, 1, 1))\n",
    "me_gbm.add_constant('initial_value', 36.)\n",
    "me_gbm.add_constant('volatility', 0.2)\n",
    "me_gbm.add_constant('final_date', dt.datetime(2016, 12, 31))\n",
    "me_gbm.add_constant('currency', 'EUR')\n",
    "me_gbm.add_constant('frequency', 'W') # weekly frequency\n",
    "me_gbm.add_constant('paths', 50000)"
   ]
  },
  {
   "cell_type": "code",
   "execution_count": 18,
   "metadata": {
    "collapsed": true
   },
   "outputs": [],
   "source": [
    "csr = constant_short_rate('csr', 0.06)\n",
    "me_gbm.add_curve('discount_curve', csr)\n",
    "gbm = geometric_brownian_motion('gbm', me_gbm) "
   ]
  },
  {
   "cell_type": "code",
   "execution_count": 19,
   "metadata": {
    "collapsed": false
   },
   "outputs": [],
   "source": [
    "payoff_func = 'np.maximum(strike - instrument_values, 0)'"
   ]
  },
  {
   "cell_type": "code",
   "execution_count": 20,
   "metadata": {
    "collapsed": true
   },
   "outputs": [],
   "source": [
    "me_am_put = market_environment('me_am_put', dt.datetime(2015, 1, 1))\n",
    "me_am_put.add_constant('maturity', dt.datetime(2016, 12, 31))\n",
    "me_am_put.add_constant('strike', 40.)\n",
    "me_am_put.add_constant('currency', 'EUR')"
   ]
  },
  {
   "cell_type": "code",
   "execution_count": 21,
   "metadata": {
    "collapsed": true
   },
   "outputs": [],
   "source": [
    "am_put = valuation_mcs_american('am_put', underlying=gbm, mar_env=me_am_put, payoff_func=payoff_func)"
   ]
  },
  {
   "cell_type": "code",
   "execution_count": 22,
   "metadata": {
    "collapsed": false
   },
   "outputs": [
    {
     "name": "stderr",
     "output_type": "stream",
     "text": [
      ".//Valuations\\functions.py:18: VisibleDeprecationWarning: using a non-integer number instead of an integer will result in an error in the future\n",
      "  ran = np.random.standard_normal((shape[0], shape[1], shape[2] / 2))\n"
     ]
    },
    {
     "name": "stdout",
     "output_type": "stream",
     "text": [
      "Wall time: 2.08 s\n"
     ]
    },
    {
     "data": {
      "text/plain": [
       "4.5368110000000001"
      ]
     },
     "execution_count": 22,
     "metadata": {},
     "output_type": "execute_result"
    }
   ],
   "source": [
    "%time am_put.present_value(fixed_seed=True, bf=5)"
   ]
  },
  {
   "cell_type": "markdown",
   "metadata": {
    "collapsed": true
   },
   "source": [
    "Replicating some values of the original paper referenced in the text."
   ]
  },
  {
   "cell_type": "code",
   "execution_count": 23,
   "metadata": {
    "collapsed": true
   },
   "outputs": [],
   "source": [
    "maturity=dt.datetime(2015,12,31)\n",
    "volatility = 0.2\n",
    "initial_value=36.\n",
    "am_put.update(initial_value=initial_value,\n",
    "                         volatility=volatility, \n",
    "                         maturity=maturity)"
   ]
  },
  {
   "cell_type": "code",
   "execution_count": 24,
   "metadata": {
    "collapsed": false
   },
   "outputs": [
    {
     "name": "stderr",
     "output_type": "stream",
     "text": [
      ".//Valuations\\functions.py:18: VisibleDeprecationWarning: using a non-integer number instead of an integer will result in an error in the future\n",
      "  ran = np.random.standard_normal((shape[0], shape[1], shape[2] / 2))\n"
     ]
    },
    {
     "data": {
      "text/plain": [
       "4.315747"
      ]
     },
     "execution_count": 24,
     "metadata": {},
     "output_type": "execute_result"
    }
   ],
   "source": [
    "am_put.present_value(bf=5)"
   ]
  },
  {
   "cell_type": "code",
   "execution_count": 25,
   "metadata": {
    "collapsed": false
   },
   "outputs": [
    {
     "name": "stderr",
     "output_type": "stream",
     "text": [
      ".//Valuations\\functions.py:18: VisibleDeprecationWarning: using a non-integer number instead of an integer will result in an error in the future\n",
      "  ran = np.random.standard_normal((shape[0], shape[1], shape[2] / 2))\n"
     ]
    },
    {
     "name": "stdout",
     "output_type": "stream",
     "text": [
      "Wall time: 28.1 s\n"
     ]
    }
   ],
   "source": [
    "%%time\n",
    "ls_table = []\n",
    "for initial_value in (36., 38., 40., 42., 44.):\n",
    "    for volatility in (0.2, 0.4):\n",
    "        for maturity in (dt.datetime(2015, 12, 31),\n",
    "                         dt.datetime(2016, 12, 31)):\n",
    "            am_put.update(initial_value=initial_value,\n",
    "                         volatility=volatility, \n",
    "                         maturity=maturity)\n",
    "            ls_table.append([initial_value, \n",
    "                             volatility,\n",
    "                             maturity,\n",
    "                             am_put.present_value(fixed_seed=True, bf=5)])"
   ]
  },
  {
   "cell_type": "code",
   "execution_count": 28,
   "metadata": {
    "collapsed": false
   },
   "outputs": [
    {
     "data": {
      "text/html": [
       "<div>\n",
       "<table border=\"1\" class=\"dataframe\">\n",
       "  <thead>\n",
       "    <tr style=\"text-align: right;\">\n",
       "      <th></th>\n",
       "      <th>initial_value</th>\n",
       "      <th>volatility</th>\n",
       "      <th>maturity</th>\n",
       "      <th>pv</th>\n",
       "    </tr>\n",
       "  </thead>\n",
       "  <tbody>\n",
       "    <tr>\n",
       "      <th>0</th>\n",
       "      <td>36.0</td>\n",
       "      <td>0.2</td>\n",
       "      <td>2015-12-31</td>\n",
       "      <td>4.333828</td>\n",
       "    </tr>\n",
       "    <tr>\n",
       "      <th>1</th>\n",
       "      <td>36.0</td>\n",
       "      <td>0.2</td>\n",
       "      <td>2016-12-31</td>\n",
       "      <td>4.535917</td>\n",
       "    </tr>\n",
       "    <tr>\n",
       "      <th>2</th>\n",
       "      <td>36.0</td>\n",
       "      <td>0.4</td>\n",
       "      <td>2015-12-31</td>\n",
       "      <td>6.248458</td>\n",
       "    </tr>\n",
       "    <tr>\n",
       "      <th>3</th>\n",
       "      <td>36.0</td>\n",
       "      <td>0.4</td>\n",
       "      <td>2016-12-31</td>\n",
       "      <td>7.123320</td>\n",
       "    </tr>\n",
       "    <tr>\n",
       "      <th>4</th>\n",
       "      <td>38.0</td>\n",
       "      <td>0.2</td>\n",
       "      <td>2015-12-31</td>\n",
       "      <td>3.035230</td>\n",
       "    </tr>\n",
       "    <tr>\n",
       "      <th>5</th>\n",
       "      <td>38.0</td>\n",
       "      <td>0.2</td>\n",
       "      <td>2016-12-31</td>\n",
       "      <td>3.366188</td>\n",
       "    </tr>\n",
       "    <tr>\n",
       "      <th>6</th>\n",
       "      <td>38.0</td>\n",
       "      <td>0.4</td>\n",
       "      <td>2015-12-31</td>\n",
       "      <td>5.290799</td>\n",
       "    </tr>\n",
       "    <tr>\n",
       "      <th>7</th>\n",
       "      <td>38.0</td>\n",
       "      <td>0.4</td>\n",
       "      <td>2016-12-31</td>\n",
       "      <td>6.252597</td>\n",
       "    </tr>\n",
       "    <tr>\n",
       "      <th>8</th>\n",
       "      <td>40.0</td>\n",
       "      <td>0.2</td>\n",
       "      <td>2015-12-31</td>\n",
       "      <td>2.089921</td>\n",
       "    </tr>\n",
       "    <tr>\n",
       "      <th>9</th>\n",
       "      <td>40.0</td>\n",
       "      <td>0.2</td>\n",
       "      <td>2016-12-31</td>\n",
       "      <td>2.503005</td>\n",
       "    </tr>\n",
       "    <tr>\n",
       "      <th>10</th>\n",
       "      <td>40.0</td>\n",
       "      <td>0.4</td>\n",
       "      <td>2015-12-31</td>\n",
       "      <td>4.464839</td>\n",
       "    </tr>\n",
       "    <tr>\n",
       "      <th>11</th>\n",
       "      <td>40.0</td>\n",
       "      <td>0.4</td>\n",
       "      <td>2016-12-31</td>\n",
       "      <td>5.473408</td>\n",
       "    </tr>\n",
       "    <tr>\n",
       "      <th>12</th>\n",
       "      <td>42.0</td>\n",
       "      <td>0.2</td>\n",
       "      <td>2015-12-31</td>\n",
       "      <td>1.406978</td>\n",
       "    </tr>\n",
       "    <tr>\n",
       "      <th>13</th>\n",
       "      <td>42.0</td>\n",
       "      <td>0.2</td>\n",
       "      <td>2016-12-31</td>\n",
       "      <td>1.857887</td>\n",
       "    </tr>\n",
       "    <tr>\n",
       "      <th>14</th>\n",
       "      <td>42.0</td>\n",
       "      <td>0.4</td>\n",
       "      <td>2015-12-31</td>\n",
       "      <td>3.780267</td>\n",
       "    </tr>\n",
       "    <tr>\n",
       "      <th>15</th>\n",
       "      <td>42.0</td>\n",
       "      <td>0.4</td>\n",
       "      <td>2016-12-31</td>\n",
       "      <td>4.823823</td>\n",
       "    </tr>\n",
       "    <tr>\n",
       "      <th>16</th>\n",
       "      <td>44.0</td>\n",
       "      <td>0.2</td>\n",
       "      <td>2015-12-31</td>\n",
       "      <td>0.941623</td>\n",
       "    </tr>\n",
       "    <tr>\n",
       "      <th>17</th>\n",
       "      <td>44.0</td>\n",
       "      <td>0.2</td>\n",
       "      <td>2016-12-31</td>\n",
       "      <td>1.374116</td>\n",
       "    </tr>\n",
       "    <tr>\n",
       "      <th>18</th>\n",
       "      <td>44.0</td>\n",
       "      <td>0.4</td>\n",
       "      <td>2015-12-31</td>\n",
       "      <td>3.170841</td>\n",
       "    </tr>\n",
       "    <tr>\n",
       "      <th>19</th>\n",
       "      <td>44.0</td>\n",
       "      <td>0.4</td>\n",
       "      <td>2016-12-31</td>\n",
       "      <td>4.248479</td>\n",
       "    </tr>\n",
       "  </tbody>\n",
       "</table>\n",
       "</div>"
      ],
      "text/plain": [
       "    initial_value  volatility   maturity        pv\n",
       "0            36.0         0.2 2015-12-31  4.333828\n",
       "1            36.0         0.2 2016-12-31  4.535917\n",
       "2            36.0         0.4 2015-12-31  6.248458\n",
       "3            36.0         0.4 2016-12-31  7.123320\n",
       "4            38.0         0.2 2015-12-31  3.035230\n",
       "5            38.0         0.2 2016-12-31  3.366188\n",
       "6            38.0         0.4 2015-12-31  5.290799\n",
       "7            38.0         0.4 2016-12-31  6.252597\n",
       "8            40.0         0.2 2015-12-31  2.089921\n",
       "9            40.0         0.2 2016-12-31  2.503005\n",
       "10           40.0         0.4 2015-12-31  4.464839\n",
       "11           40.0         0.4 2016-12-31  5.473408\n",
       "12           42.0         0.2 2015-12-31  1.406978\n",
       "13           42.0         0.2 2016-12-31  1.857887\n",
       "14           42.0         0.4 2015-12-31  3.780267\n",
       "15           42.0         0.4 2016-12-31  4.823823\n",
       "16           44.0         0.2 2015-12-31  0.941623\n",
       "17           44.0         0.2 2016-12-31  1.374116\n",
       "18           44.0         0.4 2015-12-31  3.170841\n",
       "19           44.0         0.4 2016-12-31  4.248479"
      ]
     },
     "execution_count": 28,
     "metadata": {},
     "output_type": "execute_result"
    }
   ],
   "source": [
    "pd.DataFrame(ls_table, columns=['initial_value', 'volatility','maturity','pv'])"
   ]
  },
  {
   "cell_type": "code",
   "execution_count": 29,
   "metadata": {
    "collapsed": false
   },
   "outputs": [
    {
     "name": "stderr",
     "output_type": "stream",
     "text": [
      ".//Valuations\\functions.py:18: VisibleDeprecationWarning: using a non-integer number instead of an integer will result in an error in the future\n",
      "  ran = np.random.standard_normal((shape[0], shape[1], shape[2] / 2))\n"
     ]
    },
    {
     "data": {
      "text/plain": [
       "-0.45469999999999999"
      ]
     },
     "execution_count": 29,
     "metadata": {},
     "output_type": "execute_result"
    }
   ],
   "source": [
    "am_put.update(initial_value=36.)\n",
    "am_put.delta()"
   ]
  },
  {
   "cell_type": "code",
   "execution_count": 30,
   "metadata": {
    "collapsed": false
   },
   "outputs": [
    {
     "name": "stderr",
     "output_type": "stream",
     "text": [
      ".//Valuations\\functions.py:18: VisibleDeprecationWarning: using a non-integer number instead of an integer will result in an error in the future\n",
      "  ran = np.random.standard_normal((shape[0], shape[1], shape[2] / 2))\n"
     ]
    },
    {
     "data": {
      "text/plain": [
       "12.047800000000001"
      ]
     },
     "execution_count": 30,
     "metadata": {},
     "output_type": "execute_result"
    }
   ],
   "source": [
    "am_put.vega()"
   ]
  },
  {
   "cell_type": "code",
   "execution_count": null,
   "metadata": {
    "collapsed": true
   },
   "outputs": [],
   "source": []
  }
 ],
 "metadata": {
  "anaconda-cloud": {},
  "kernelspec": {
   "display_name": "Python [default]",
   "language": "python",
   "name": "python3"
  },
  "language_info": {
   "codemirror_mode": {
    "name": "ipython",
    "version": 3
   },
   "file_extension": ".py",
   "mimetype": "text/x-python",
   "name": "python",
   "nbconvert_exporter": "python",
   "pygments_lexer": "ipython3",
   "version": "3.6.0"
  }
 },
 "nbformat": 4,
 "nbformat_minor": 1
}
