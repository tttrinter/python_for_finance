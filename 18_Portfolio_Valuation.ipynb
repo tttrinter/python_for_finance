{
 "cells": [
  {
   "cell_type": "markdown",
   "metadata": {},
   "source": [
    "# 18. Portfolio Valuation\n",
    "From Python for Finance"
   ]
  },
  {
   "cell_type": "code",
   "execution_count": 1,
   "metadata": {
    "collapsed": true
   },
   "outputs": [],
   "source": [
    "import sys\n",
    "sys.path.append(\".//Valuations//\")\n",
    "from Valuations import *\n",
    "\n",
    "import datetime as dt"
   ]
  },
  {
   "cell_type": "code",
   "execution_count": 2,
   "metadata": {
    "collapsed": true
   },
   "outputs": [],
   "source": [
    "me_gbm = market_environment('me_gbm', dt.datetime(2015, 1, 1))\n",
    "me_gbm.add_constant('initial_value', 36.)\n",
    "me_gbm.add_constant('volatility', 0.2)\n",
    "# me_gbm.add_constant('final_date', dt.datetime(2016, 12, 31))\n",
    "me_gbm.add_constant('currency', 'EUR')\n",
    "me_gbm.add_constant('frequency', 'W') # weekly frequency\n",
    "me_gbm.add_constant('paths', 50000)\n",
    "me_gbm.add_constant('model','gbm')"
   ]
  },
  {
   "cell_type": "code",
   "execution_count": 3,
   "metadata": {
    "collapsed": true
   },
   "outputs": [],
   "source": [
    "from derivatives_position import derivatives_position"
   ]
  },
  {
   "cell_type": "code",
   "execution_count": 4,
   "metadata": {
    "collapsed": true
   },
   "outputs": [],
   "source": [
    "me_am_put = market_environment('me_am_put', dt.datetime(2015,1,1))\n",
    "me_am_put.add_constant('maturity', dt.datetime(2015,12,31))\n",
    "me_am_put.add_constant('strike', 40.)\n",
    "me_am_put.add_constant('currency','EUR')"
   ]
  },
  {
   "cell_type": "code",
   "execution_count": 5,
   "metadata": {
    "collapsed": true
   },
   "outputs": [],
   "source": [
    "payoff_func = 'np.maximum(strike - instrument_values, 0)'"
   ]
  },
  {
   "cell_type": "code",
   "execution_count": 6,
   "metadata": {
    "collapsed": true
   },
   "outputs": [],
   "source": [
    "am_put_pos = derivatives_position(name='am_put_pos',\n",
    "                                 quantity=3,\n",
    "                                 underlying='gbm',\n",
    "                                 mar_env=me_am_put,\n",
    "                                 otype='American',\n",
    "                                 payoff_func=payoff_func)"
   ]
  },
  {
   "cell_type": "code",
   "execution_count": 7,
   "metadata": {
    "collapsed": false
   },
   "outputs": [
    {
     "name": "stdout",
     "output_type": "stream",
     "text": [
      "Name: am_put_pos\n",
      "Quantity: 3\n",
      "Underlying: gbm\n",
      "Market Environment:\n",
      "\n",
      "**Constants**\n",
      "maturity: 2015-12-31 00:00:00\n",
      "strike: 40.0\n",
      "currency: EUR\n",
      "\n",
      "**Lists**\n",
      "\n",
      "**Curves**\n",
      "Option Type: American\n",
      "Payoff Function: np.maximum(strike - instrument_values, 0)\n"
     ]
    }
   ],
   "source": [
    "am_put_pos.get_info()"
   ]
  },
  {
   "cell_type": "markdown",
   "metadata": {},
   "source": [
    "## Portfolio Use Case"
   ]
  },
  {
   "cell_type": "code",
   "execution_count": 8,
   "metadata": {
    "collapsed": true
   },
   "outputs": [],
   "source": [
    "me_jd = market_environment('me_jd', me_gbm.pricing_date)"
   ]
  },
  {
   "cell_type": "code",
   "execution_count": 9,
   "metadata": {
    "collapsed": true
   },
   "outputs": [],
   "source": [
    "#discounting object for the valuation\n",
    "csr = constant_short_rate('csr', 0.06)"
   ]
  },
  {
   "cell_type": "code",
   "execution_count": 10,
   "metadata": {
    "collapsed": false
   },
   "outputs": [],
   "source": [
    "#add jump diffusion-specific parameters\n",
    "me_jd.add_constant('lambda', 0.3)\n",
    "me_jd.add_constant('mu', -0.75)\n",
    "me_jd.add_constant('delta', 0.1)\n",
    "me_jd.add_environment(me_gbm)\n",
    "me_jd.add_constant('model', 'jd')\n",
    "me_jd.add_curve('discount_curve', csr)"
   ]
  },
  {
   "cell_type": "markdown",
   "metadata": {},
   "source": [
    "Add a European call based on this simulation object"
   ]
  },
  {
   "cell_type": "code",
   "execution_count": 11,
   "metadata": {
    "collapsed": true
   },
   "outputs": [],
   "source": [
    "me_eur_call = market_environment('me_eur_call', me_jd.pricing_date)"
   ]
  },
  {
   "cell_type": "code",
   "execution_count": 12,
   "metadata": {
    "collapsed": true
   },
   "outputs": [],
   "source": [
    "me_eur_call.add_constant('maturity', dt.datetime(2015, 6, 30))\n",
    "me_eur_call.add_constant('strike', 38.)\n",
    "me_eur_call.add_constant('currency', 'EUR')"
   ]
  },
  {
   "cell_type": "code",
   "execution_count": 13,
   "metadata": {
    "collapsed": true
   },
   "outputs": [],
   "source": [
    "payoff_func = 'np.maximum(maturity_value - strike, 0)'"
   ]
  },
  {
   "cell_type": "code",
   "execution_count": 14,
   "metadata": {
    "collapsed": true
   },
   "outputs": [],
   "source": [
    "eur_call_pos = derivatives_position(name='eur_call_pos',\n",
    "                                   quantity=5, \n",
    "                                   underlying='jd',\n",
    "                                   mar_env=me_eur_call,\n",
    "                                   otype='European',\n",
    "                                   payoff_func=payoff_func)"
   ]
  },
  {
   "cell_type": "code",
   "execution_count": 15,
   "metadata": {
    "collapsed": true
   },
   "outputs": [],
   "source": [
    "underlyings = {'gbm': me_gbm, 'jd': me_jd}\n",
    "positions ={'am_put_pos': am_put_pos, 'eur_call_pos': eur_call_pos}"
   ]
  },
  {
   "cell_type": "code",
   "execution_count": 16,
   "metadata": {
    "collapsed": true
   },
   "outputs": [],
   "source": [
    "val_env = market_environment('general', me_gbm.pricing_date)\n",
    "val_env.add_constant('frequency', 'W')\n",
    "#monthly frequency\n",
    "val_env.add_constant('paths', 25000)\n",
    "val_env.add_constant('starting_date', val_env.pricing_date)\n",
    "val_env.add_constant('final_date', val_env.pricing_date)\n",
    "val_env.add_curve('discount_curve', csr)"
   ]
  },
  {
   "cell_type": "code",
   "execution_count": 17,
   "metadata": {
    "collapsed": false
   },
   "outputs": [],
   "source": [
    "from derivatives_portfolio import derivatives_portfolio"
   ]
  },
  {
   "cell_type": "code",
   "execution_count": 18,
   "metadata": {
    "collapsed": false
   },
   "outputs": [],
   "source": [
    "portfolio = derivatives_portfolio(name='portfolio',\n",
    "                                 positions=positions,\n",
    "                                 val_env=val_env,\n",
    "                                 assets=underlyings, \n",
    "                                 fixed_seed=True)"
   ]
  },
  {
   "cell_type": "code",
   "execution_count": 19,
   "metadata": {
    "collapsed": false
   },
   "outputs": [
    {
     "name": "stderr",
     "output_type": "stream",
     "text": [
      ".//Valuations\\functions.py:18: VisibleDeprecationWarning: using a non-integer number instead of an integer will result in an error in the future\n",
      "  ran = np.random.standard_normal((shape[0], shape[1], shape[2] / 2))\n"
     ]
    },
    {
     "data": {
      "text/html": [
       "<div>\n",
       "<table border=\"1\" class=\"dataframe\">\n",
       "  <thead>\n",
       "    <tr style=\"text-align: right;\">\n",
       "      <th></th>\n",
       "      <th>name</th>\n",
       "      <th>quant.</th>\n",
       "      <th>value</th>\n",
       "      <th>curr.</th>\n",
       "      <th>pos_value</th>\n",
       "      <th>pos_delta</th>\n",
       "      <th>pos_vega</th>\n",
       "    </tr>\n",
       "  </thead>\n",
       "  <tbody>\n",
       "    <tr>\n",
       "      <th>0</th>\n",
       "      <td>am_put_pos</td>\n",
       "      <td>3</td>\n",
       "      <td>4.307780</td>\n",
       "      <td>EUR</td>\n",
       "      <td>12.923340</td>\n",
       "      <td>-2.0382</td>\n",
       "      <td>25.7007</td>\n",
       "    </tr>\n",
       "    <tr>\n",
       "      <th>1</th>\n",
       "      <td>eur_call_pos</td>\n",
       "      <td>5</td>\n",
       "      <td>3.129377</td>\n",
       "      <td>EUR</td>\n",
       "      <td>15.646885</td>\n",
       "      <td>3.4610</td>\n",
       "      <td>54.0450</td>\n",
       "    </tr>\n",
       "  </tbody>\n",
       "</table>\n",
       "</div>"
      ],
      "text/plain": [
       "           name  quant.     value curr.  pos_value  pos_delta  pos_vega\n",
       "0    am_put_pos       3  4.307780   EUR  12.923340    -2.0382   25.7007\n",
       "1  eur_call_pos       5  3.129377   EUR  15.646885     3.4610   54.0450"
      ]
     },
     "execution_count": 19,
     "metadata": {},
     "output_type": "execute_result"
    }
   ],
   "source": [
    "portfolio.get_statistics()"
   ]
  },
  {
   "cell_type": "code",
   "execution_count": 20,
   "metadata": {
    "collapsed": false
   },
   "outputs": [
    {
     "name": "stderr",
     "output_type": "stream",
     "text": [
      ".//Valuations\\functions.py:18: VisibleDeprecationWarning: using a non-integer number instead of an integer will result in an error in the future\n",
      "  ran = np.random.standard_normal((shape[0], shape[1], shape[2] / 2))\n"
     ]
    },
    {
     "data": {
      "text/plain": [
       "pos_value    28.635208\n",
       "pos_delta     1.332500\n",
       "pos_vega     79.745700\n",
       "dtype: float64"
      ]
     },
     "execution_count": 20,
     "metadata": {},
     "output_type": "execute_result"
    }
   ],
   "source": [
    "portfolio.get_statistics()[['pos_value', 'pos_delta','pos_vega']].sum()"
   ]
  },
  {
   "cell_type": "code",
   "execution_count": 21,
   "metadata": {
    "collapsed": false
   },
   "outputs": [],
   "source": [
    "# portfolio.get_positions()"
   ]
  },
  {
   "cell_type": "code",
   "execution_count": 22,
   "metadata": {
    "collapsed": false
   },
   "outputs": [
    {
     "name": "stderr",
     "output_type": "stream",
     "text": [
      ".//Valuations\\functions.py:18: VisibleDeprecationWarning: using a non-integer number instead of an integer will result in an error in the future\n",
      "  ran = np.random.standard_normal((shape[0], shape[1], shape[2] / 2))\n"
     ]
    },
    {
     "data": {
      "text/plain": [
       "4.3294410000000001"
      ]
     },
     "execution_count": 22,
     "metadata": {},
     "output_type": "execute_result"
    }
   ],
   "source": [
    "portfolio.valuation_objects['am_put_pos'].present_value()"
   ]
  },
  {
   "cell_type": "code",
   "execution_count": 23,
   "metadata": {
    "collapsed": false
   },
   "outputs": [
    {
     "name": "stderr",
     "output_type": "stream",
     "text": [
      ".//Valuations\\functions.py:18: VisibleDeprecationWarning: using a non-integer number instead of an integer will result in an error in the future\n",
      "  ran = np.random.standard_normal((shape[0], shape[1], shape[2] / 2))\n"
     ]
    },
    {
     "data": {
      "text/plain": [
       "0.6966"
      ]
     },
     "execution_count": 23,
     "metadata": {},
     "output_type": "execute_result"
    }
   ],
   "source": [
    "portfolio.valuation_objects['eur_call_pos'].delta()"
   ]
  },
  {
   "cell_type": "code",
   "execution_count": 24,
   "metadata": {
    "collapsed": false
   },
   "outputs": [
    {
     "name": "stderr",
     "output_type": "stream",
     "text": [
      ".//Valuations\\functions.py:18: VisibleDeprecationWarning: using a non-integer number instead of an integer will result in an error in the future\n",
      "  ran = np.random.standard_normal((shape[0], shape[1], shape[2] / 2))\n"
     ]
    }
   ],
   "source": [
    "path_no = 777\n",
    "path_gbm = portfolio.underlying_objects['gbm'].get_instrument_values()[:,path_no]\n",
    "path_jd = portfolio.underlying_objects['jd'].get_instrument_values()[:,path_no]"
   ]
  },
  {
   "cell_type": "code",
   "execution_count": 25,
   "metadata": {
    "collapsed": false
   },
   "outputs": [
    {
     "data": {
      "text/plain": [
       "55"
      ]
     },
     "execution_count": 25,
     "metadata": {},
     "output_type": "execute_result"
    }
   ],
   "source": [
    "len(path_jd)\n",
    "# len(portfolio.time_grid)"
   ]
  },
  {
   "cell_type": "code",
   "execution_count": 26,
   "metadata": {
    "collapsed": false
   },
   "outputs": [
    {
     "data": {
      "text/plain": [
       "array([ 36.        ,  36.6472399 ,  37.30120936,  37.89171578,\n",
       "        38.62002781,  37.55952733,  38.32647074,  36.56100782,\n",
       "        36.1191368 ,  35.63653655,  36.10547049,  36.44299715,\n",
       "        34.29451949,  34.16786785,  35.21898735,  35.2009067 ,\n",
       "        35.87377682,  35.72108271,  34.09846095,  34.73253501,\n",
       "        35.41700983,  36.93772611,  36.21148071,  36.82766347,\n",
       "        36.16568236,  37.09373559,  38.30577478,  38.96055035,\n",
       "        39.91478292,  37.35269231,  38.36361815,  39.61530462,\n",
       "        37.93326504,  37.86980579,  35.85363052,  35.70271643,\n",
       "        35.56570205,  35.1080441 ,  35.55135554,  35.49068341,\n",
       "        35.86051727,  36.19828598,  37.20752907,  37.41460989,\n",
       "        37.5092042 ,  38.66793306,  38.6292196 ,  38.84845621,\n",
       "        38.43094613,  37.8098343 ,  38.41960714,  37.60801897,\n",
       "        37.18433868,  36.55527007])"
      ]
     },
     "execution_count": 26,
     "metadata": {},
     "output_type": "execute_result"
    }
   ],
   "source": [
    "path_gbm[:54]"
   ]
  },
  {
   "cell_type": "code",
   "execution_count": 27,
   "metadata": {
    "collapsed": true
   },
   "outputs": [],
   "source": [
    "import matplotlib.pyplot as plt\n",
    "%matplotlib inline"
   ]
  },
  {
   "cell_type": "code",
   "execution_count": 28,
   "metadata": {
    "collapsed": false
   },
   "outputs": [
    {
     "data": {
      "image/png": "[encoded data removed]",
      "text/plain": [
       "<matplotlib.figure.Figure at 0x1ce1a66a518>"
      ]
     },
     "metadata": {},
     "output_type": "display_data"
    }
   ],
   "source": [
    "plt.figure(figsize=(7,4))\n",
    "plt.plot(portfolio.time_grid[:54], path_gbm[:54],'r',label='gbm')\n",
    "plt.plot(portfolio.time_grid[:54], path_jd[:54],'b',label='jd')\n",
    "plt.xticks(rotation=30)\n",
    "plt.legend(loc=0); plt.grid(True)"
   ]
  },
  {
   "cell_type": "markdown",
   "metadata": {},
   "source": [
    "## Correlated"
   ]
  },
  {
   "cell_type": "code",
   "execution_count": 29,
   "metadata": {
    "collapsed": true
   },
   "outputs": [],
   "source": [
    "correlations = [['gbm', 'jd', 0.9]]"
   ]
  },
  {
   "cell_type": "code",
   "execution_count": 30,
   "metadata": {
    "collapsed": false
   },
   "outputs": [
    {
     "name": "stderr",
     "output_type": "stream",
     "text": [
      ".//Valuations\\functions.py:18: VisibleDeprecationWarning: using a non-integer number instead of an integer will result in an error in the future\n",
      "  ran = np.random.standard_normal((shape[0], shape[1], shape[2] / 2))\n"
     ]
    }
   ],
   "source": [
    "port_corr = derivatives_portfolio(name='portfolio',\n",
    "                                 positions=positions, \n",
    "                                 val_env=val_env,\n",
    "                                 assets=underlyings,\n",
    "                                 correlations=correlations,\n",
    "                                 fixed_seed=True)"
   ]
  },
  {
   "cell_type": "code",
   "execution_count": 31,
   "metadata": {
    "collapsed": false
   },
   "outputs": [
    {
     "name": "stderr",
     "output_type": "stream",
     "text": [
      ".//Valuations\\functions.py:18: VisibleDeprecationWarning: using a non-integer number instead of an integer will result in an error in the future\n",
      "  ran = np.random.standard_normal((shape[0], shape[1], shape[2] / 2))\n"
     ]
    },
    {
     "data": {
      "text/html": [
       "<div>\n",
       "<table border=\"1\" class=\"dataframe\">\n",
       "  <thead>\n",
       "    <tr style=\"text-align: right;\">\n",
       "      <th></th>\n",
       "      <th>name</th>\n",
       "      <th>quant.</th>\n",
       "      <th>value</th>\n",
       "      <th>curr.</th>\n",
       "      <th>pos_value</th>\n",
       "      <th>pos_delta</th>\n",
       "      <th>pos_vega</th>\n",
       "    </tr>\n",
       "  </thead>\n",
       "  <tbody>\n",
       "    <tr>\n",
       "      <th>0</th>\n",
       "      <td>am_put_pos</td>\n",
       "      <td>3</td>\n",
       "      <td>4.325536</td>\n",
       "      <td>EUR</td>\n",
       "      <td>12.976608</td>\n",
       "      <td>-2.1108</td>\n",
       "      <td>25.4409</td>\n",
       "    </tr>\n",
       "    <tr>\n",
       "      <th>1</th>\n",
       "      <td>eur_call_pos</td>\n",
       "      <td>5</td>\n",
       "      <td>3.099159</td>\n",
       "      <td>EUR</td>\n",
       "      <td>15.495795</td>\n",
       "      <td>3.6165</td>\n",
       "      <td>53.7795</td>\n",
       "    </tr>\n",
       "  </tbody>\n",
       "</table>\n",
       "</div>"
      ],
      "text/plain": [
       "           name  quant.     value curr.  pos_value  pos_delta  pos_vega\n",
       "0    am_put_pos       3  4.325536   EUR  12.976608    -2.1108   25.4409\n",
       "1  eur_call_pos       5  3.099159   EUR  15.495795     3.6165   53.7795"
      ]
     },
     "execution_count": 31,
     "metadata": {},
     "output_type": "execute_result"
    }
   ],
   "source": [
    "port_corr.get_statistics()"
   ]
  },
  {
   "cell_type": "code",
   "execution_count": 32,
   "metadata": {
    "collapsed": false
   },
   "outputs": [
    {
     "name": "stderr",
     "output_type": "stream",
     "text": [
      ".//Valuations\\functions.py:18: VisibleDeprecationWarning: using a non-integer number instead of an integer will result in an error in the future\n",
      "  ran = np.random.standard_normal((shape[0], shape[1], shape[2] / 2))\n"
     ]
    }
   ],
   "source": [
    "path_gbm = port_corr.underlying_objects['gbm'].get_instrument_values()[:,path_no]\n",
    "path_jd = port_corr.underlying_objects['jd'].get_instrument_values()[:,path_no]"
   ]
  },
  {
   "cell_type": "code",
   "execution_count": 33,
   "metadata": {
    "collapsed": false
   },
   "outputs": [
    {
     "data": {
      "image/png": "[encoded data removed]",
      "text/plain": [
       "<matplotlib.figure.Figure at 0x1ce1b0eb780>"
      ]
     },
     "metadata": {},
     "output_type": "display_data"
    }
   ],
   "source": [
    "plt.figure(figsize=(7,4))\n",
    "plt.plot(portfolio.time_grid[:54], path_gbm[:54],'r',label='gbm')\n",
    "plt.plot(portfolio.time_grid[:54], path_jd[:54],'b',label='jd')\n",
    "plt.xticks(rotation=30)\n",
    "plt.legend(loc=0); plt.grid(True)"
   ]
  },
  {
   "cell_type": "markdown",
   "metadata": {},
   "source": [
    "### *Frequency distribution of the portfolio present value*"
   ]
  },
  {
   "cell_type": "code",
   "execution_count": 34,
   "metadata": {
    "collapsed": false
   },
   "outputs": [
    {
     "name": "stderr",
     "output_type": "stream",
     "text": [
      ".//Valuations\\functions.py:18: VisibleDeprecationWarning: using a non-integer number instead of an integer will result in an error in the future\n",
      "  ran = np.random.standard_normal((shape[0], shape[1], shape[2] / 2))\n"
     ]
    },
    {
     "data": {
      "text/plain": [
       "array([  0.        ,  42.52248965,  26.45713042, ...,   0.46261546,\n",
       "         8.264662  ,   9.95561037])"
      ]
     },
     "execution_count": 34,
     "metadata": {},
     "output_type": "execute_result"
    }
   ],
   "source": [
    "pv1 = 5 * port_corr.valuation_objects['eur_call_pos'].present_value(full=True)[1]\n",
    "pv1"
   ]
  },
  {
   "cell_type": "code",
   "execution_count": 35,
   "metadata": {
    "collapsed": false
   },
   "outputs": [
    {
     "data": {
      "text/plain": [
       "array([ 16.73787947,   9.98136021,  20.24840709, ...,  21.51549915,\n",
       "        17.26377034,   0.        ])"
      ]
     },
     "execution_count": 35,
     "metadata": {},
     "output_type": "execute_result"
    }
   ],
   "source": [
    "pv2 = 3 * port_corr.valuation_objects['am_put_pos'].present_value(full=True)[1]\n",
    "pv2"
   ]
  },
  {
   "cell_type": "code",
   "execution_count": 45,
   "metadata": {
    "collapsed": false
   },
   "outputs": [
    {
     "data": {
      "text/plain": [
       "<matplotlib.legend.Legend at 0x1ce20795fd0>"
      ]
     },
     "execution_count": 45,
     "metadata": {},
     "output_type": "execute_result"
    },
    {
     "data": {
      "image/png": "[encoded data removed]",
      "text/plain": [
       "<matplotlib.figure.Figure at 0x1ce2052ff28>"
      ]
     },
     "metadata": {},
     "output_type": "display_data"
    }
   ],
   "source": [
    "plt.hist([pv1,pv2], bins=25, label=['European Call','American Put'])\n",
    "plt.axvline(pv1.mean(), color='r',ls='dashed',lw=1.5, label='call mean = {:4.2f}'.format(pv1.mean()))\n",
    "plt.axvline(pv2.mean(), color='r',ls='dotted',lw=1.5, label='put mean = {:4.2f}'.format(pv2.mean()))\n",
    "plt.xlim(0,80)\n",
    "plt.ylim(0,10000)\n",
    "plt.grid()\n",
    "plt.legend()"
   ]
  },
  {
   "cell_type": "code",
   "execution_count": 47,
   "metadata": {
    "collapsed": false
   },
   "outputs": [
    {
     "data": {
      "text/plain": [
       "<matplotlib.legend.Legend at 0x1ce207ad9b0>"
      ]
     },
     "execution_count": 47,
     "metadata": {},
     "output_type": "execute_result"
    },
    {
     "data": {
      "image/png": "[encoded data removed]",
      "text/plain": [
       "<matplotlib.figure.Figure at 0x1ce2089ceb8>"
      ]
     },
     "metadata": {},
     "output_type": "display_data"
    }
   ],
   "source": [
    "pvs = pv1 + pv2\n",
    "plt.hist(pvs, bins=50, label='portfolio')\n",
    "plt.axvline(pvs.mean(), color='r', ls='dashed',lw=1.5, label='mean = {:4.3f}'.format(pvs.mean()))\n",
    "plt.xlim(0,80)\n",
    "plt.ylim(0,7000)\n",
    "plt.grid();plt.legend()"
   ]
  },
  {
   "cell_type": "code",
   "execution_count": 48,
   "metadata": {
    "collapsed": false
   },
   "outputs": [
    {
     "data": {
      "text/plain": [
       "18.292574905390854"
      ]
     },
     "execution_count": 48,
     "metadata": {},
     "output_type": "execute_result"
    }
   ],
   "source": [
    "pvs.std()"
   ]
  },
  {
   "cell_type": "markdown",
   "metadata": {},
   "source": [
    "### Portfolio without correlation"
   ]
  },
  {
   "cell_type": "code",
   "execution_count": 53,
   "metadata": {
    "collapsed": false
   },
   "outputs": [
    {
     "name": "stderr",
     "output_type": "stream",
     "text": [
      ".//Valuations\\functions.py:18: VisibleDeprecationWarning: using a non-integer number instead of an integer will result in an error in the future\n",
      "  ran = np.random.standard_normal((shape[0], shape[1], shape[2] / 2))\n"
     ]
    },
    {
     "data": {
      "text/plain": [
       "22.847041568689392"
      ]
     },
     "execution_count": 53,
     "metadata": {},
     "output_type": "execute_result"
    }
   ],
   "source": [
    "pv1 = 5 * portfolio.valuation_objects['eur_call_pos'].present_value(full=True)[1]\n",
    "pv2 = 3 * portfolio.valuation_objects['am_put_pos'].present_value(full=True)[1]\n",
    "(pv1+pv2).std()"
   ]
  },
  {
   "cell_type": "code",
   "execution_count": null,
   "metadata": {
    "collapsed": true
   },
   "outputs": [],
   "source": []
  }
 ],
 "metadata": {
  "anaconda-cloud": {},
  "kernelspec": {
   "display_name": "Python 3",
   "language": "python",
   "name": "python3"
  },
  "language_info": {
   "codemirror_mode": {
    "name": "ipython",
    "version": 3
   },
   "file_extension": ".py",
   "mimetype": "text/x-python",
   "name": "python",
   "nbconvert_exporter": "python",
   "pygments_lexer": "ipython3",
   "version": "3.6.5"
  }
 },
 "nbformat": 4,
 "nbformat_minor": 2
}
