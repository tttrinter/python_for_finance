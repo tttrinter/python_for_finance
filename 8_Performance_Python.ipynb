{
 "cells": [
  {
   "cell_type": "markdown",
   "metadata": {},
   "source": [
    "# Performance Python\n",
    "Chapter 8 of Python for Finance. \n",
    "\n",
    "Hilpisch, Yves. Python for Finance: Analyze Big Financial Data (Kindle Locations 8343-8347). O'Reilly Media. Kindle Edition. "
   ]
  },
  {
   "cell_type": "markdown",
   "metadata": {},
   "source": [
    "Throughout this chapter, we compare the performance of different implementations of the same algorithms. \n",
    "To make the comparison a bit easier, we define a convenience function that allows us to systematically compare the performance of different functions executed on the same or different data sets:"
   ]
  },
  {
   "cell_type": "code",
   "execution_count": 19,
   "metadata": {
    "collapsed": false
   },
   "outputs": [],
   "source": [
    "def perf_comp_data(func_list, data_list, rep = 3, number = 1): \n",
    "    ''' Function to compare the performance of different functions. \n",
    "    Parameters = = = = = = = = = = \n",
    "    func_list : list list with function names as strings \n",
    "    data_list : list list with data set names as strings \n",
    "    rep : int \n",
    "    number : int number of executions for every function ''' \n",
    "    \n",
    "    from timeit import repeat \n",
    "    \n",
    "    res_list = {} \n",
    "    for name in enumerate(func_list): \n",
    "        stmt = name[1] + '(' + data_list[name[0]] + ')' \n",
    "        setup = \"from __main__ import \" + name[1] + ', ' + data_list[name[0]] \n",
    "        results = repeat(stmt = stmt, setup = setup, repeat = rep, number = number) \n",
    "        res_list[name[1]] = sum(results) / rep \n",
    "    \n",
    "    res_sort = sorted(res_list.items(), key = lambda kv: (kv[1],kv[0])) \n",
    "    for item in res_sort:\n",
    "        rel = item[1] / res_sort[0][1]\n",
    "        print('function: ' + item[0] + ', av. time sec: %9.5f, ' % item[1]  + 'relative: %6.1f' % rel)"
   ]
  },
  {
   "cell_type": "markdown",
   "metadata": {},
   "source": [
    "Evaluating this complicated numerical expression on an array of 500,000 numbers:\n",
    "\n",
    "$$ \\sqrt{\\left|\\cos(x)\\right|} + \\sin(2+3x)$$\n",
    "\n",
    "We'll evaluate this expression over the array of 500,000 numbers using the following approaches:\n",
    "* Standard Python function with explicit looping \n",
    "* Iterator approach with implicit looping \n",
    "* Iterator approach with implicit looping and using eval \n",
    "* NumPy vectorized implementation \n",
    "* Single-threaded implementation using numexpr \n",
    "* Multithreaded implementation using numexpr"
   ]
  },
  {
   "cell_type": "code",
   "execution_count": 2,
   "metadata": {
    "collapsed": true
   },
   "outputs": [],
   "source": [
    "from math import * \n",
    "def f(x): \n",
    "    return abs(cos(x))** 0.5 + sin(2 + 3 * x)"
   ]
  },
  {
   "cell_type": "code",
   "execution_count": 3,
   "metadata": {
    "collapsed": false
   },
   "outputs": [],
   "source": [
    "I = 500000\n",
    "a_py = range(I)"
   ]
  },
  {
   "cell_type": "code",
   "execution_count": 4,
   "metadata": {
    "collapsed": false
   },
   "outputs": [
    {
     "data": {
      "text/plain": [
       "50"
      ]
     },
     "execution_count": 4,
     "metadata": {},
     "output_type": "execute_result"
    }
   ],
   "source": [
    "a_py[50]"
   ]
  },
  {
   "cell_type": "markdown",
   "metadata": {},
   "source": [
    "### Using a loop"
   ]
  },
  {
   "cell_type": "code",
   "execution_count": 5,
   "metadata": {
    "collapsed": true
   },
   "outputs": [],
   "source": [
    "def f1(a):\n",
    "    res=[]\n",
    "    for x in a:\n",
    "        res.append(f(x))\n",
    "    return res"
   ]
  },
  {
   "cell_type": "markdown",
   "metadata": {},
   "source": [
    "### Iterators and the ```eval``` function"
   ]
  },
  {
   "cell_type": "code",
   "execution_count": 6,
   "metadata": {
    "collapsed": true
   },
   "outputs": [],
   "source": [
    "def f2(a):\n",
    "    return [f(x) for x in a]"
   ]
  },
  {
   "cell_type": "code",
   "execution_count": 7,
   "metadata": {
    "collapsed": true
   },
   "outputs": [],
   "source": [
    "def f3(a):\n",
    "    ex = 'abs(cos(x))**0.5+sin(2+3*x)'\n",
    "    return [eval(ex) for x in a]"
   ]
  },
  {
   "cell_type": "markdown",
   "metadata": {},
   "source": [
    "### Using Numpy"
   ]
  },
  {
   "cell_type": "code",
   "execution_count": 8,
   "metadata": {
    "collapsed": true
   },
   "outputs": [],
   "source": [
    "import numpy as np\n",
    "a_np = np.arange(I)"
   ]
  },
  {
   "cell_type": "code",
   "execution_count": 9,
   "metadata": {
    "collapsed": true
   },
   "outputs": [],
   "source": [
    "def f4(a):\n",
    "    return (np.abs(np.cos(a))**0.5+np.sin(2+3*a))"
   ]
  },
  {
   "cell_type": "markdown",
   "metadata": {},
   "source": [
    "### Using ```numexpr```\n",
    "Looking at single and multiple threads"
   ]
  },
  {
   "cell_type": "code",
   "execution_count": 10,
   "metadata": {
    "collapsed": true
   },
   "outputs": [],
   "source": [
    "import numexpr as ne"
   ]
  },
  {
   "cell_type": "code",
   "execution_count": 11,
   "metadata": {
    "collapsed": true
   },
   "outputs": [],
   "source": [
    "def f5(a):\n",
    "    ex = 'abs(cos(a))**0.5+sin(2+3*a)'\n",
    "    ne.set_num_threads(1)\n",
    "    return ne.evaluate(ex)"
   ]
  },
  {
   "cell_type": "code",
   "execution_count": 12,
   "metadata": {
    "collapsed": true
   },
   "outputs": [],
   "source": [
    "def f6(a):\n",
    "    ex = 'abs(cos(a))**0.5+sin(2+3*a)'\n",
    "    ne.set_num_threads(16)\n",
    "    return ne.evaluate(ex)"
   ]
  },
  {
   "cell_type": "code",
   "execution_count": 13,
   "metadata": {
    "collapsed": false
   },
   "outputs": [
    {
     "name": "stdout",
     "output_type": "stream",
     "text": [
      "Wall time: 12.6 s\n"
     ]
    }
   ],
   "source": [
    "%%time \n",
    "r1 = f1(a_py) \n",
    "r2 = f2(a_py) \n",
    "r3 = f3(a_py) \n",
    "r4 = f4(a_np) \n",
    "r5 = f5(a_np) \n",
    "r6 = f6(a_np)"
   ]
  },
  {
   "cell_type": "code",
   "execution_count": 14,
   "metadata": {
    "collapsed": false
   },
   "outputs": [
    {
     "name": "stdout",
     "output_type": "stream",
     "text": [
      "r2: True\n",
      "r3: True\n",
      "r4: True\n",
      "r5: True\n",
      "r6: True\n"
     ]
    }
   ],
   "source": [
    "print('r2: {}'.format(np.allclose(r1,r2)))\n",
    "print('r3: {}'.format(np.allclose(r1,r3)))\n",
    "print('r4: {}'.format(np.allclose(r1,r4)))\n",
    "print('r5: {}'.format(np.allclose(r1,r5)))\n",
    "print('r6: {}'.format(np.allclose(r1,r6)))"
   ]
  },
  {
   "cell_type": "markdown",
   "metadata": {},
   "source": [
    "Comparing the execution time of all 6 different approaches:"
   ]
  },
  {
   "cell_type": "code",
   "execution_count": 15,
   "metadata": {
    "collapsed": false
   },
   "outputs": [
    {
     "name": "stdout",
     "output_type": "stream",
     "text": [
      "function: f6, av. time sec:   0.00801, relative:    1.0\n",
      "function: f5, av. time sec:   0.01295, relative:    1.6\n",
      "function: f4, av. time sec:   0.02394, relative:    3.0\n",
      "function: f2, av. time sec:   0.49121, relative:   61.3\n",
      "function: f1, av. time sec:   0.55778, relative:   69.6\n",
      "function: f3, av. time sec:  11.68514, relative: 1458.6\n"
     ]
    }
   ],
   "source": [
    "func_list = ['f1', 'f2', 'f3', 'f4', 'f5', 'f6']\n",
    "data_list = ['a_py', 'a_py', 'a_py', 'a_np', 'a_np', 'a_np']\n",
    "perf_comp_data(func_list, data_list)"
   ]
  },
  {
   "cell_type": "markdown",
   "metadata": {
    "collapsed": true
   },
   "source": [
    "## Memory layout and performance"
   ]
  },
  {
   "cell_type": "code",
   "execution_count": 16,
   "metadata": {
    "collapsed": false
   },
   "outputs": [
    {
     "data": {
      "text/plain": [
       "array([[ 0.,  0.,  0.],\n",
       "       [ 0.,  0.,  0.],\n",
       "       [ 0.,  0.,  0.]])"
      ]
     },
     "execution_count": 16,
     "metadata": {},
     "output_type": "execute_result"
    }
   ],
   "source": [
    "import numpy as np\n",
    "np.zeros((3,3), dtype=np.float64, order='C')"
   ]
  },
  {
   "cell_type": "markdown",
   "metadata": {},
   "source": [
    "When creating numpy arrays, the choice of order (C-like or Fortran-like) makes a difference in performance:"
   ]
  },
  {
   "cell_type": "code",
   "execution_count": 17,
   "metadata": {
    "collapsed": false
   },
   "outputs": [],
   "source": [
    "x = np.random.standard_normal((3,1500000))\n",
    "C = np.array(x, order='C')\n",
    "F = np.array(x, order='F')\n",
    "x = 0.0"
   ]
  },
  {
   "cell_type": "markdown",
   "metadata": {},
   "source": [
    "### Calculation speed with the C-Like order"
   ]
  },
  {
   "cell_type": "code",
   "execution_count": 18,
   "metadata": {
    "collapsed": false
   },
   "outputs": [
    {
     "name": "stdout",
     "output_type": "stream",
     "text": [
      "100 loops, best of 3: 10.9 ms per loop\n"
     ]
    }
   ],
   "source": [
    "%timeit C.sum(axis=0)"
   ]
  },
  {
   "cell_type": "code",
   "execution_count": 19,
   "metadata": {
    "collapsed": false
   },
   "outputs": [
    {
     "name": "stdout",
     "output_type": "stream",
     "text": [
      "100 loops, best of 3: 6.26 ms per loop\n"
     ]
    }
   ],
   "source": [
    "%timeit C.sum(axis=1)"
   ]
  },
  {
   "cell_type": "code",
   "execution_count": 20,
   "metadata": {
    "collapsed": false
   },
   "outputs": [
    {
     "name": "stdout",
     "output_type": "stream",
     "text": [
      "10 loops, best of 3: 47.5 ms per loop\n"
     ]
    }
   ],
   "source": [
    "%timeit C.std(axis=0)"
   ]
  },
  {
   "cell_type": "code",
   "execution_count": 21,
   "metadata": {
    "collapsed": false
   },
   "outputs": [
    {
     "name": "stdout",
     "output_type": "stream",
     "text": [
      "10 loops, best of 3: 32.3 ms per loop\n"
     ]
    }
   ],
   "source": [
    "%timeit C.std(axis=1)"
   ]
  },
  {
   "cell_type": "markdown",
   "metadata": {},
   "source": [
    "### Calculation speed with the Fortran-like order"
   ]
  },
  {
   "cell_type": "code",
   "execution_count": 22,
   "metadata": {
    "collapsed": false
   },
   "outputs": [
    {
     "name": "stdout",
     "output_type": "stream",
     "text": [
      "10 loops, best of 3: 36.1 ms per loop\n"
     ]
    }
   ],
   "source": [
    "%timeit F.sum(axis=0)"
   ]
  },
  {
   "cell_type": "code",
   "execution_count": 23,
   "metadata": {
    "collapsed": false
   },
   "outputs": [
    {
     "name": "stdout",
     "output_type": "stream",
     "text": [
      "10 loops, best of 3: 40.8 ms per loop\n"
     ]
    }
   ],
   "source": [
    "%timeit F.sum(axis=1)"
   ]
  },
  {
   "cell_type": "code",
   "execution_count": 24,
   "metadata": {
    "collapsed": false
   },
   "outputs": [
    {
     "name": "stdout",
     "output_type": "stream",
     "text": [
      "10 loops, best of 3: 120 ms per loop\n"
     ]
    }
   ],
   "source": [
    "%timeit F.std(axis=0)"
   ]
  },
  {
   "cell_type": "code",
   "execution_count": 25,
   "metadata": {
    "collapsed": false
   },
   "outputs": [
    {
     "name": "stdout",
     "output_type": "stream",
     "text": [
      "1 loop, best of 3: 215 ms per loop\n"
     ]
    }
   ],
   "source": [
    "%timeit F.std(axis=1)"
   ]
  },
  {
   "cell_type": "markdown",
   "metadata": {},
   "source": [
    "The Fortran layout is slower for both operations and axes. That's why order='C' is the default."
   ]
  },
  {
   "cell_type": "markdown",
   "metadata": {},
   "source": [
    "## Parallel Computing"
   ]
  },
  {
   "cell_type": "markdown",
   "metadata": {},
   "source": [
    "### Monte Carlo pricing of options\n",
    "\n",
    "Looking at Black-Scholes-Merton stochastic differential equation:\n",
    "$$ dS_t = rS_tdt + \\sigma S_tdZ_t $$\n",
    "\n",
    "The Monte Carlo estimator formula:\n",
    "$$ C_0 = e^{rT} \\frac{1}{I}\\sum_{I}{max(S_T(i)-K,0)} $$"
   ]
  },
  {
   "cell_type": "code",
   "execution_count": 15,
   "metadata": {
    "collapsed": true
   },
   "outputs": [],
   "source": [
    "def bsm_mcs_valuation(strike): \n",
    "    ''' Dynamic Black-Scholes-Merton Monte Carlo estimator for European calls. \n",
    "    Parameters = = = = = = = = = = \n",
    "    strike: float strike price of the option \n",
    "    Results = = = = = = = \n",
    "    value: float estimate for present value of call option ''' \n",
    "    import numpy as np \n",
    "    \n",
    "    S0 = 100.; T = 1.0; r = 0.05; vola = 0.2 \n",
    "    M = 50; I = 20000 \n",
    "    dt = T / M \n",
    "    rand = np.random.standard_normal(( M + 1, I)) \n",
    "    S = np.zeros(( M + 1, I)); S[ 0] = S0 \n",
    "    \n",
    "    for t in range(1, M + 1): \n",
    "        S[t] = S[t-1] * np.exp((r - 0.5 * vola ** 2) * dt + vola * np.sqrt(dt) * rand[t]) \n",
    "    \n",
    "    value = (np.exp(-r * T) * np.sum(np.maximum( S[-1] - strike, 0)) / I) \n",
    "        \n",
    "    return value"
   ]
  },
  {
   "cell_type": "code",
   "execution_count": 27,
   "metadata": {
    "collapsed": false
   },
   "outputs": [],
   "source": [
    "strike = 110.; S0 = 100.; T = 1.0; r = 0.05; vola = 0.2 \n",
    "M = 50; I = 20000 \n",
    "dt = T / M \n",
    "rand = np.random.standard_normal((M + 1, I)) \n",
    "S = np.zeros((M + 1, I)); S[ 0] = S0 \n",
    "\n",
    "# This will create I \"random walks\" with 50 steps for the monte carlo simulation \n",
    "for t in range(1, M + 1): \n",
    "    S[t] = S[t-1] * np.exp((r - 0.5 * vola ** 2) * dt + vola * np.sqrt(dt) * rand[t]) \n",
    "\n",
    "value = (np.exp(-r * T) * np.sum( np.maximum(S[-1] - strike, 0)) / I) "
   ]
  },
  {
   "cell_type": "code",
   "execution_count": 28,
   "metadata": {
    "collapsed": false
   },
   "outputs": [
    {
     "data": {
      "text/plain": [
       "[<matplotlib.lines.Line2D at 0x20d61874390>,\n",
       " <matplotlib.lines.Line2D at 0x20d61874550>,\n",
       " <matplotlib.lines.Line2D at 0x20d618747f0>,\n",
       " <matplotlib.lines.Line2D at 0x20d618749e8>,\n",
       " <matplotlib.lines.Line2D at 0x20d61874be0>,\n",
       " <matplotlib.lines.Line2D at 0x20d61874dd8>,\n",
       " <matplotlib.lines.Line2D at 0x20d61874fd0>,\n",
       " <matplotlib.lines.Line2D at 0x20d617f9d30>,\n",
       " <matplotlib.lines.Line2D at 0x20d6187d400>,\n",
       " <matplotlib.lines.Line2D at 0x20d6187d5f8>,\n",
       " <matplotlib.lines.Line2D at 0x20d6187d7f0>,\n",
       " <matplotlib.lines.Line2D at 0x20d6187d9e8>,\n",
       " <matplotlib.lines.Line2D at 0x20d6187dbe0>,\n",
       " <matplotlib.lines.Line2D at 0x20d6187ddd8>,\n",
       " <matplotlib.lines.Line2D at 0x20d6187d208>,\n",
       " <matplotlib.lines.Line2D at 0x20d6187f208>,\n",
       " <matplotlib.lines.Line2D at 0x20d6187f400>,\n",
       " <matplotlib.lines.Line2D at 0x20d6187f5f8>,\n",
       " <matplotlib.lines.Line2D at 0x20d6187f7f0>,\n",
       " <matplotlib.lines.Line2D at 0x20d6187f9e8>,\n",
       " <matplotlib.lines.Line2D at 0x20d6187fbe0>,\n",
       " <matplotlib.lines.Line2D at 0x20d6187dfd0>,\n",
       " <matplotlib.lines.Line2D at 0x20d6187ffd0>,\n",
       " <matplotlib.lines.Line2D at 0x20d61884208>,\n",
       " <matplotlib.lines.Line2D at 0x20d61884400>,\n",
       " <matplotlib.lines.Line2D at 0x20d618845f8>,\n",
       " <matplotlib.lines.Line2D at 0x20d618847f0>,\n",
       " <matplotlib.lines.Line2D at 0x20d618849e8>,\n",
       " <matplotlib.lines.Line2D at 0x20d6187fdd8>,\n",
       " <matplotlib.lines.Line2D at 0x20d61884dd8>,\n",
       " <matplotlib.lines.Line2D at 0x20d61884fd0>,\n",
       " <matplotlib.lines.Line2D at 0x20d61887208>,\n",
       " <matplotlib.lines.Line2D at 0x20d61887400>,\n",
       " <matplotlib.lines.Line2D at 0x20d618875f8>,\n",
       " <matplotlib.lines.Line2D at 0x20d618877f0>,\n",
       " <matplotlib.lines.Line2D at 0x20d61884be0>,\n",
       " <matplotlib.lines.Line2D at 0x20d61887be0>,\n",
       " <matplotlib.lines.Line2D at 0x20d61887dd8>,\n",
       " <matplotlib.lines.Line2D at 0x20d61887fd0>,\n",
       " <matplotlib.lines.Line2D at 0x20d6188b208>,\n",
       " <matplotlib.lines.Line2D at 0x20d6188b400>,\n",
       " <matplotlib.lines.Line2D at 0x20d6188b5f8>,\n",
       " <matplotlib.lines.Line2D at 0x20d618879e8>,\n",
       " <matplotlib.lines.Line2D at 0x20d6188b9e8>,\n",
       " <matplotlib.lines.Line2D at 0x20d6188bbe0>,\n",
       " <matplotlib.lines.Line2D at 0x20d6188bdd8>,\n",
       " <matplotlib.lines.Line2D at 0x20d6188bfd0>,\n",
       " <matplotlib.lines.Line2D at 0x20d6188e208>,\n",
       " <matplotlib.lines.Line2D at 0x20d6188e400>,\n",
       " <matplotlib.lines.Line2D at 0x20d6188b7f0>,\n",
       " <matplotlib.lines.Line2D at 0x20d6188e7f0>,\n",
       " <matplotlib.lines.Line2D at 0x20d6188e9e8>,\n",
       " <matplotlib.lines.Line2D at 0x20d6188ebe0>,\n",
       " <matplotlib.lines.Line2D at 0x20d6188edd8>,\n",
       " <matplotlib.lines.Line2D at 0x20d6188efd0>,\n",
       " <matplotlib.lines.Line2D at 0x20d61893208>,\n",
       " <matplotlib.lines.Line2D at 0x20d6188e5f8>,\n",
       " <matplotlib.lines.Line2D at 0x20d618935f8>,\n",
       " <matplotlib.lines.Line2D at 0x20d618937f0>,\n",
       " <matplotlib.lines.Line2D at 0x20d618939e8>,\n",
       " <matplotlib.lines.Line2D at 0x20d61893be0>,\n",
       " <matplotlib.lines.Line2D at 0x20d61893dd8>,\n",
       " <matplotlib.lines.Line2D at 0x20d61893fd0>,\n",
       " <matplotlib.lines.Line2D at 0x20d61893400>,\n",
       " <matplotlib.lines.Line2D at 0x20d61895400>,\n",
       " <matplotlib.lines.Line2D at 0x20d618955f8>,\n",
       " <matplotlib.lines.Line2D at 0x20d618957f0>,\n",
       " <matplotlib.lines.Line2D at 0x20d618959e8>,\n",
       " <matplotlib.lines.Line2D at 0x20d61895be0>,\n",
       " <matplotlib.lines.Line2D at 0x20d61895dd8>,\n",
       " <matplotlib.lines.Line2D at 0x20d61895208>,\n",
       " <matplotlib.lines.Line2D at 0x20d6189a208>,\n",
       " <matplotlib.lines.Line2D at 0x20d6189a400>,\n",
       " <matplotlib.lines.Line2D at 0x20d6189a5f8>,\n",
       " <matplotlib.lines.Line2D at 0x20d6189a7f0>,\n",
       " <matplotlib.lines.Line2D at 0x20d6189a9e8>,\n",
       " <matplotlib.lines.Line2D at 0x20d6189abe0>,\n",
       " <matplotlib.lines.Line2D at 0x20d61895fd0>,\n",
       " <matplotlib.lines.Line2D at 0x20d6189afd0>,\n",
       " <matplotlib.lines.Line2D at 0x20d6189d208>,\n",
       " <matplotlib.lines.Line2D at 0x20d6189d400>,\n",
       " <matplotlib.lines.Line2D at 0x20d6189d5f8>,\n",
       " <matplotlib.lines.Line2D at 0x20d6189d7f0>,\n",
       " <matplotlib.lines.Line2D at 0x20d6189d9e8>,\n",
       " <matplotlib.lines.Line2D at 0x20d6189add8>,\n",
       " <matplotlib.lines.Line2D at 0x20d6189ddd8>,\n",
       " <matplotlib.lines.Line2D at 0x20d6189dfd0>,\n",
       " <matplotlib.lines.Line2D at 0x20d618a0208>,\n",
       " <matplotlib.lines.Line2D at 0x20d618a0400>,\n",
       " <matplotlib.lines.Line2D at 0x20d618a05f8>,\n",
       " <matplotlib.lines.Line2D at 0x20d618a07f0>,\n",
       " <matplotlib.lines.Line2D at 0x20d6189dbe0>,\n",
       " <matplotlib.lines.Line2D at 0x20d618a0be0>,\n",
       " <matplotlib.lines.Line2D at 0x20d618a0dd8>,\n",
       " <matplotlib.lines.Line2D at 0x20d618a0fd0>,\n",
       " <matplotlib.lines.Line2D at 0x20d618a5208>,\n",
       " <matplotlib.lines.Line2D at 0x20d618a5400>,\n",
       " <matplotlib.lines.Line2D at 0x20d618a55f8>,\n",
       " <matplotlib.lines.Line2D at 0x20d618a09e8>,\n",
       " <matplotlib.lines.Line2D at 0x20d618a59e8>,\n",
       " <matplotlib.lines.Line2D at 0x20d618a5be0>,\n",
       " <matplotlib.lines.Line2D at 0x20d618a5dd8>,\n",
       " <matplotlib.lines.Line2D at 0x20d618a5fd0>,\n",
       " <matplotlib.lines.Line2D at 0x20d618a7208>,\n",
       " <matplotlib.lines.Line2D at 0x20d618a7400>,\n",
       " <matplotlib.lines.Line2D at 0x20d618a57f0>,\n",
       " <matplotlib.lines.Line2D at 0x20d618a77f0>,\n",
       " <matplotlib.lines.Line2D at 0x20d618a79e8>,\n",
       " <matplotlib.lines.Line2D at 0x20d618a7be0>,\n",
       " <matplotlib.lines.Line2D at 0x20d618a7dd8>,\n",
       " <matplotlib.lines.Line2D at 0x20d618a7fd0>,\n",
       " <matplotlib.lines.Line2D at 0x20d618ac208>,\n",
       " <matplotlib.lines.Line2D at 0x20d618a75f8>,\n",
       " <matplotlib.lines.Line2D at 0x20d618ac5f8>,\n",
       " <matplotlib.lines.Line2D at 0x20d618ac7f0>,\n",
       " <matplotlib.lines.Line2D at 0x20d618ac9e8>,\n",
       " <matplotlib.lines.Line2D at 0x20d618acbe0>,\n",
       " <matplotlib.lines.Line2D at 0x20d618acdd8>,\n",
       " <matplotlib.lines.Line2D at 0x20d618acfd0>,\n",
       " <matplotlib.lines.Line2D at 0x20d618ac400>,\n",
       " <matplotlib.lines.Line2D at 0x20d618af400>,\n",
       " <matplotlib.lines.Line2D at 0x20d618af5f8>,\n",
       " <matplotlib.lines.Line2D at 0x20d618af7f0>,\n",
       " <matplotlib.lines.Line2D at 0x20d618af9e8>,\n",
       " <matplotlib.lines.Line2D at 0x20d618afbe0>,\n",
       " <matplotlib.lines.Line2D at 0x20d618afdd8>,\n",
       " <matplotlib.lines.Line2D at 0x20d618af208>,\n",
       " <matplotlib.lines.Line2D at 0x20d618b3208>,\n",
       " <matplotlib.lines.Line2D at 0x20d618b3400>,\n",
       " <matplotlib.lines.Line2D at 0x20d618b35f8>,\n",
       " <matplotlib.lines.Line2D at 0x20d618b37f0>,\n",
       " <matplotlib.lines.Line2D at 0x20d618b39e8>,\n",
       " <matplotlib.lines.Line2D at 0x20d618b3be0>,\n",
       " <matplotlib.lines.Line2D at 0x20d618affd0>,\n",
       " <matplotlib.lines.Line2D at 0x20d618b3fd0>,\n",
       " <matplotlib.lines.Line2D at 0x20d618b6208>,\n",
       " <matplotlib.lines.Line2D at 0x20d618b6400>,\n",
       " <matplotlib.lines.Line2D at 0x20d618b65f8>,\n",
       " <matplotlib.lines.Line2D at 0x20d618b67f0>,\n",
       " <matplotlib.lines.Line2D at 0x20d618b69e8>,\n",
       " <matplotlib.lines.Line2D at 0x20d618b3dd8>,\n",
       " <matplotlib.lines.Line2D at 0x20d618b6dd8>,\n",
       " <matplotlib.lines.Line2D at 0x20d618b6fd0>,\n",
       " <matplotlib.lines.Line2D at 0x20d618bb208>,\n",
       " <matplotlib.lines.Line2D at 0x20d618bb400>,\n",
       " <matplotlib.lines.Line2D at 0x20d618bb5f8>,\n",
       " <matplotlib.lines.Line2D at 0x20d618bb7f0>,\n",
       " <matplotlib.lines.Line2D at 0x20d618b6be0>,\n",
       " <matplotlib.lines.Line2D at 0x20d618bbbe0>,\n",
       " <matplotlib.lines.Line2D at 0x20d618bbdd8>,\n",
       " <matplotlib.lines.Line2D at 0x20d618bbfd0>,\n",
       " <matplotlib.lines.Line2D at 0x20d618bd208>,\n",
       " <matplotlib.lines.Line2D at 0x20d618bd400>,\n",
       " <matplotlib.lines.Line2D at 0x20d618bd5f8>,\n",
       " <matplotlib.lines.Line2D at 0x20d618bb9e8>,\n",
       " <matplotlib.lines.Line2D at 0x20d618bd9e8>,\n",
       " <matplotlib.lines.Line2D at 0x20d618bdbe0>,\n",
       " <matplotlib.lines.Line2D at 0x20d618bddd8>,\n",
       " <matplotlib.lines.Line2D at 0x20d618bdfd0>,\n",
       " <matplotlib.lines.Line2D at 0x20d618c1208>,\n",
       " <matplotlib.lines.Line2D at 0x20d618c1400>,\n",
       " <matplotlib.lines.Line2D at 0x20d618bd7f0>,\n",
       " <matplotlib.lines.Line2D at 0x20d618c17f0>,\n",
       " <matplotlib.lines.Line2D at 0x20d618c19e8>,\n",
       " <matplotlib.lines.Line2D at 0x20d618c1be0>,\n",
       " <matplotlib.lines.Line2D at 0x20d618c1dd8>,\n",
       " <matplotlib.lines.Line2D at 0x20d618c1fd0>,\n",
       " <matplotlib.lines.Line2D at 0x20d618c6208>,\n",
       " <matplotlib.lines.Line2D at 0x20d618c15f8>,\n",
       " <matplotlib.lines.Line2D at 0x20d618c65f8>,\n",
       " <matplotlib.lines.Line2D at 0x20d618c67f0>,\n",
       " <matplotlib.lines.Line2D at 0x20d618c69e8>,\n",
       " <matplotlib.lines.Line2D at 0x20d618c6be0>,\n",
       " <matplotlib.lines.Line2D at 0x20d618c6dd8>,\n",
       " <matplotlib.lines.Line2D at 0x20d618c6fd0>,\n",
       " <matplotlib.lines.Line2D at 0x20d618c6400>,\n",
       " <matplotlib.lines.Line2D at 0x20d618c8400>,\n",
       " <matplotlib.lines.Line2D at 0x20d618c85f8>,\n",
       " <matplotlib.lines.Line2D at 0x20d618c87f0>,\n",
       " <matplotlib.lines.Line2D at 0x20d618c89e8>,\n",
       " <matplotlib.lines.Line2D at 0x20d618c8be0>,\n",
       " <matplotlib.lines.Line2D at 0x20d618c8dd8>,\n",
       " <matplotlib.lines.Line2D at 0x20d618c8208>,\n",
       " <matplotlib.lines.Line2D at 0x20d618cd208>,\n",
       " <matplotlib.lines.Line2D at 0x20d618cd400>,\n",
       " <matplotlib.lines.Line2D at 0x20d618cd5f8>,\n",
       " <matplotlib.lines.Line2D at 0x20d618cd7f0>,\n",
       " <matplotlib.lines.Line2D at 0x20d618cd9e8>,\n",
       " <matplotlib.lines.Line2D at 0x20d618cdbe0>,\n",
       " <matplotlib.lines.Line2D at 0x20d618c8fd0>,\n",
       " <matplotlib.lines.Line2D at 0x20d618cdfd0>,\n",
       " <matplotlib.lines.Line2D at 0x20d618cf208>,\n",
       " <matplotlib.lines.Line2D at 0x20d618cf400>,\n",
       " <matplotlib.lines.Line2D at 0x20d618cf5f8>,\n",
       " <matplotlib.lines.Line2D at 0x20d618cf7f0>,\n",
       " <matplotlib.lines.Line2D at 0x20d618cf9e8>,\n",
       " <matplotlib.lines.Line2D at 0x20d618cddd8>,\n",
       " <matplotlib.lines.Line2D at 0x20d618cfdd8>,\n",
       " <matplotlib.lines.Line2D at 0x20d618cffd0>,\n",
       " <matplotlib.lines.Line2D at 0x20d618d4208>,\n",
       " <matplotlib.lines.Line2D at 0x20d618d4400>,\n",
       " <matplotlib.lines.Line2D at 0x20d618d45f8>,\n",
       " <matplotlib.lines.Line2D at 0x20d618d47f0>,\n",
       " <matplotlib.lines.Line2D at 0x20d618cfbe0>,\n",
       " <matplotlib.lines.Line2D at 0x20d618d4be0>,\n",
       " <matplotlib.lines.Line2D at 0x20d618d4dd8>,\n",
       " <matplotlib.lines.Line2D at 0x20d618d4fd0>,\n",
       " <matplotlib.lines.Line2D at 0x20d618d7208>,\n",
       " <matplotlib.lines.Line2D at 0x20d61809518>,\n",
       " <matplotlib.lines.Line2D at 0x20d61804c88>,\n",
       " <matplotlib.lines.Line2D at 0x20d618d49e8>,\n",
       " <matplotlib.lines.Line2D at 0x20d617f5550>,\n",
       " <matplotlib.lines.Line2D at 0x20d617f9080>,\n",
       " <matplotlib.lines.Line2D at 0x20d617f95f8>,\n",
       " <matplotlib.lines.Line2D at 0x20d618015c0>,\n",
       " <matplotlib.lines.Line2D at 0x20d61801160>,\n",
       " <matplotlib.lines.Line2D at 0x20d617ef438>,\n",
       " <matplotlib.lines.Line2D at 0x20d618044e0>,\n",
       " <matplotlib.lines.Line2D at 0x20d617e5320>,\n",
       " <matplotlib.lines.Line2D at 0x20d617e5128>,\n",
       " <matplotlib.lines.Line2D at 0x20d618d74a8>,\n",
       " <matplotlib.lines.Line2D at 0x20d618d7668>,\n",
       " <matplotlib.lines.Line2D at 0x20d618d7828>,\n",
       " <matplotlib.lines.Line2D at 0x20d618d79e8>,\n",
       " <matplotlib.lines.Line2D at 0x20d617ef048>,\n",
       " <matplotlib.lines.Line2D at 0x20d618d7d68>,\n",
       " <matplotlib.lines.Line2D at 0x20d618d7f28>,\n",
       " <matplotlib.lines.Line2D at 0x20d618d9128>,\n",
       " <matplotlib.lines.Line2D at 0x20d618d92e8>,\n",
       " <matplotlib.lines.Line2D at 0x20d618d94a8>,\n",
       " <matplotlib.lines.Line2D at 0x20d618d9668>,\n",
       " <matplotlib.lines.Line2D at 0x20d618d7ba8>,\n",
       " <matplotlib.lines.Line2D at 0x20d618d99e8>,\n",
       " <matplotlib.lines.Line2D at 0x20d618d9ba8>,\n",
       " <matplotlib.lines.Line2D at 0x20d618d9d68>,\n",
       " <matplotlib.lines.Line2D at 0x20d618d9f28>,\n",
       " <matplotlib.lines.Line2D at 0x20d618dc128>,\n",
       " <matplotlib.lines.Line2D at 0x20d618dc320>,\n",
       " <matplotlib.lines.Line2D at 0x20d618d9828>,\n",
       " <matplotlib.lines.Line2D at 0x20d618dc710>,\n",
       " <matplotlib.lines.Line2D at 0x20d618dc908>,\n",
       " <matplotlib.lines.Line2D at 0x20d618dcb00>,\n",
       " <matplotlib.lines.Line2D at 0x20d618dccf8>,\n",
       " <matplotlib.lines.Line2D at 0x20d618dcef0>,\n",
       " <matplotlib.lines.Line2D at 0x20d618e0128>,\n",
       " <matplotlib.lines.Line2D at 0x20d618dc518>,\n",
       " <matplotlib.lines.Line2D at 0x20d618e0518>,\n",
       " <matplotlib.lines.Line2D at 0x20d618e0710>,\n",
       " <matplotlib.lines.Line2D at 0x20d618e0908>,\n",
       " <matplotlib.lines.Line2D at 0x20d618e0b00>,\n",
       " <matplotlib.lines.Line2D at 0x20d618e0cf8>,\n",
       " <matplotlib.lines.Line2D at 0x20d618e0ef0>,\n",
       " <matplotlib.lines.Line2D at 0x20d618e0320>,\n",
       " <matplotlib.lines.Line2D at 0x20d618e4320>,\n",
       " <matplotlib.lines.Line2D at 0x20d618e4518>,\n",
       " <matplotlib.lines.Line2D at 0x20d618e4710>,\n",
       " <matplotlib.lines.Line2D at 0x20d618e4908>,\n",
       " <matplotlib.lines.Line2D at 0x20d618e4b00>,\n",
       " <matplotlib.lines.Line2D at 0x20d618e4cf8>,\n",
       " <matplotlib.lines.Line2D at 0x20d618e4128>,\n",
       " <matplotlib.lines.Line2D at 0x20d618e8128>,\n",
       " <matplotlib.lines.Line2D at 0x20d618e8320>,\n",
       " <matplotlib.lines.Line2D at 0x20d618e8518>,\n",
       " <matplotlib.lines.Line2D at 0x20d618e8710>,\n",
       " <matplotlib.lines.Line2D at 0x20d618e8908>,\n",
       " <matplotlib.lines.Line2D at 0x20d618e8b00>,\n",
       " <matplotlib.lines.Line2D at 0x20d618e4ef0>,\n",
       " <matplotlib.lines.Line2D at 0x20d618e8ef0>,\n",
       " <matplotlib.lines.Line2D at 0x20d618eb128>,\n",
       " <matplotlib.lines.Line2D at 0x20d618eb320>,\n",
       " <matplotlib.lines.Line2D at 0x20d618eb518>,\n",
       " <matplotlib.lines.Line2D at 0x20d618eb710>,\n",
       " <matplotlib.lines.Line2D at 0x20d618eb908>,\n",
       " <matplotlib.lines.Line2D at 0x20d618e8cf8>,\n",
       " <matplotlib.lines.Line2D at 0x20d618ebcf8>,\n",
       " <matplotlib.lines.Line2D at 0x20d618ebef0>,\n",
       " <matplotlib.lines.Line2D at 0x20d618ee128>,\n",
       " <matplotlib.lines.Line2D at 0x20d618ee320>,\n",
       " <matplotlib.lines.Line2D at 0x20d618ee518>,\n",
       " <matplotlib.lines.Line2D at 0x20d618ee710>,\n",
       " <matplotlib.lines.Line2D at 0x20d618ebb00>,\n",
       " <matplotlib.lines.Line2D at 0x20d618eeb00>,\n",
       " <matplotlib.lines.Line2D at 0x20d618eecf8>,\n",
       " <matplotlib.lines.Line2D at 0x20d618eeef0>,\n",
       " <matplotlib.lines.Line2D at 0x20d618f3128>,\n",
       " <matplotlib.lines.Line2D at 0x20d618f3320>,\n",
       " <matplotlib.lines.Line2D at 0x20d618f3518>,\n",
       " <matplotlib.lines.Line2D at 0x20d618ee908>,\n",
       " <matplotlib.lines.Line2D at 0x20d618f3908>,\n",
       " <matplotlib.lines.Line2D at 0x20d618f3b00>,\n",
       " <matplotlib.lines.Line2D at 0x20d618f3cf8>,\n",
       " <matplotlib.lines.Line2D at 0x20d618f3ef0>,\n",
       " <matplotlib.lines.Line2D at 0x20d618f5128>,\n",
       " <matplotlib.lines.Line2D at 0x20d618f5320>,\n",
       " <matplotlib.lines.Line2D at 0x20d618f3710>,\n",
       " <matplotlib.lines.Line2D at 0x20d618f5710>,\n",
       " <matplotlib.lines.Line2D at 0x20d618f5908>,\n",
       " <matplotlib.lines.Line2D at 0x20d618f5b00>,\n",
       " <matplotlib.lines.Line2D at 0x20d618f5cf8>,\n",
       " <matplotlib.lines.Line2D at 0x20d618f5ef0>,\n",
       " <matplotlib.lines.Line2D at 0x20d618f9128>,\n",
       " <matplotlib.lines.Line2D at 0x20d618f5518>,\n",
       " <matplotlib.lines.Line2D at 0x20d618f9518>,\n",
       " <matplotlib.lines.Line2D at 0x20d618f9710>,\n",
       " <matplotlib.lines.Line2D at 0x20d618f9908>,\n",
       " <matplotlib.lines.Line2D at 0x20d618f9b00>,\n",
       " <matplotlib.lines.Line2D at 0x20d618f9cf8>,\n",
       " <matplotlib.lines.Line2D at 0x20d618f9ef0>,\n",
       " <matplotlib.lines.Line2D at 0x20d618f9320>,\n",
       " <matplotlib.lines.Line2D at 0x20d618fd320>,\n",
       " <matplotlib.lines.Line2D at 0x20d618fd518>,\n",
       " <matplotlib.lines.Line2D at 0x20d618fd710>,\n",
       " <matplotlib.lines.Line2D at 0x20d618fd908>,\n",
       " <matplotlib.lines.Line2D at 0x20d618fdb00>,\n",
       " <matplotlib.lines.Line2D at 0x20d618fdcf8>,\n",
       " <matplotlib.lines.Line2D at 0x20d618fd128>,\n",
       " <matplotlib.lines.Line2D at 0x20d61901128>,\n",
       " <matplotlib.lines.Line2D at 0x20d61901320>,\n",
       " <matplotlib.lines.Line2D at 0x20d61901518>,\n",
       " <matplotlib.lines.Line2D at 0x20d61901710>,\n",
       " <matplotlib.lines.Line2D at 0x20d61901908>,\n",
       " <matplotlib.lines.Line2D at 0x20d61901b00>,\n",
       " <matplotlib.lines.Line2D at 0x20d618fdef0>,\n",
       " <matplotlib.lines.Line2D at 0x20d61901ef0>,\n",
       " <matplotlib.lines.Line2D at 0x20d61904128>,\n",
       " <matplotlib.lines.Line2D at 0x20d61904320>,\n",
       " <matplotlib.lines.Line2D at 0x20d61904518>,\n",
       " <matplotlib.lines.Line2D at 0x20d61904710>,\n",
       " <matplotlib.lines.Line2D at 0x20d61904908>,\n",
       " <matplotlib.lines.Line2D at 0x20d61901cf8>,\n",
       " <matplotlib.lines.Line2D at 0x20d61904cf8>,\n",
       " <matplotlib.lines.Line2D at 0x20d61904ef0>,\n",
       " <matplotlib.lines.Line2D at 0x20d61908128>,\n",
       " <matplotlib.lines.Line2D at 0x20d61908320>,\n",
       " <matplotlib.lines.Line2D at 0x20d61908518>,\n",
       " <matplotlib.lines.Line2D at 0x20d61908710>,\n",
       " <matplotlib.lines.Line2D at 0x20d61904b00>,\n",
       " <matplotlib.lines.Line2D at 0x20d61908b00>,\n",
       " <matplotlib.lines.Line2D at 0x20d61908cf8>,\n",
       " <matplotlib.lines.Line2D at 0x20d61908ef0>,\n",
       " <matplotlib.lines.Line2D at 0x20d6190c128>,\n",
       " <matplotlib.lines.Line2D at 0x20d6190c320>,\n",
       " <matplotlib.lines.Line2D at 0x20d6190c518>,\n",
       " <matplotlib.lines.Line2D at 0x20d61908908>,\n",
       " <matplotlib.lines.Line2D at 0x20d6190c908>,\n",
       " <matplotlib.lines.Line2D at 0x20d6190cb00>,\n",
       " <matplotlib.lines.Line2D at 0x20d6190ccf8>,\n",
       " <matplotlib.lines.Line2D at 0x20d6190cef0>,\n",
       " <matplotlib.lines.Line2D at 0x20d6190f128>,\n",
       " <matplotlib.lines.Line2D at 0x20d6190f320>,\n",
       " <matplotlib.lines.Line2D at 0x20d6190c710>,\n",
       " <matplotlib.lines.Line2D at 0x20d6190f710>,\n",
       " <matplotlib.lines.Line2D at 0x20d6190f908>,\n",
       " <matplotlib.lines.Line2D at 0x20d6190fb00>,\n",
       " <matplotlib.lines.Line2D at 0x20d6190fcf8>,\n",
       " <matplotlib.lines.Line2D at 0x20d6190fef0>,\n",
       " <matplotlib.lines.Line2D at 0x20d61913128>,\n",
       " <matplotlib.lines.Line2D at 0x20d6190f518>,\n",
       " <matplotlib.lines.Line2D at 0x20d61913518>,\n",
       " <matplotlib.lines.Line2D at 0x20d61913710>,\n",
       " <matplotlib.lines.Line2D at 0x20d61913908>,\n",
       " <matplotlib.lines.Line2D at 0x20d61913b00>,\n",
       " <matplotlib.lines.Line2D at 0x20d61913cf8>,\n",
       " <matplotlib.lines.Line2D at 0x20d61913ef0>,\n",
       " <matplotlib.lines.Line2D at 0x20d61913320>,\n",
       " <matplotlib.lines.Line2D at 0x20d61916320>,\n",
       " <matplotlib.lines.Line2D at 0x20d61916518>,\n",
       " <matplotlib.lines.Line2D at 0x20d61916710>,\n",
       " <matplotlib.lines.Line2D at 0x20d61916908>,\n",
       " <matplotlib.lines.Line2D at 0x20d61916b00>,\n",
       " <matplotlib.lines.Line2D at 0x20d61916cf8>,\n",
       " <matplotlib.lines.Line2D at 0x20d61916128>,\n",
       " <matplotlib.lines.Line2D at 0x20d6191b128>,\n",
       " <matplotlib.lines.Line2D at 0x20d6191b320>,\n",
       " <matplotlib.lines.Line2D at 0x20d6191b518>,\n",
       " <matplotlib.lines.Line2D at 0x20d6191b710>,\n",
       " <matplotlib.lines.Line2D at 0x20d6191b908>,\n",
       " <matplotlib.lines.Line2D at 0x20d6191bb00>,\n",
       " <matplotlib.lines.Line2D at 0x20d61916ef0>,\n",
       " <matplotlib.lines.Line2D at 0x20d6191bef0>,\n",
       " <matplotlib.lines.Line2D at 0x20d6191d128>,\n",
       " <matplotlib.lines.Line2D at 0x20d6191d320>,\n",
       " <matplotlib.lines.Line2D at 0x20d6191d518>,\n",
       " <matplotlib.lines.Line2D at 0x20d6191d710>,\n",
       " <matplotlib.lines.Line2D at 0x20d6191d908>,\n",
       " <matplotlib.lines.Line2D at 0x20d6191bcf8>,\n",
       " <matplotlib.lines.Line2D at 0x20d6191dcf8>,\n",
       " <matplotlib.lines.Line2D at 0x20d6191def0>,\n",
       " <matplotlib.lines.Line2D at 0x20d61921128>,\n",
       " <matplotlib.lines.Line2D at 0x20d61921320>,\n",
       " <matplotlib.lines.Line2D at 0x20d61921518>,\n",
       " <matplotlib.lines.Line2D at 0x20d61921710>,\n",
       " <matplotlib.lines.Line2D at 0x20d6191db00>,\n",
       " <matplotlib.lines.Line2D at 0x20d61921b00>,\n",
       " <matplotlib.lines.Line2D at 0x20d61921cf8>,\n",
       " <matplotlib.lines.Line2D at 0x20d61921ef0>,\n",
       " <matplotlib.lines.Line2D at 0x20d61925128>,\n",
       " <matplotlib.lines.Line2D at 0x20d61925320>,\n",
       " <matplotlib.lines.Line2D at 0x20d61925518>,\n",
       " <matplotlib.lines.Line2D at 0x20d61921908>,\n",
       " <matplotlib.lines.Line2D at 0x20d61925908>,\n",
       " <matplotlib.lines.Line2D at 0x20d61925b00>,\n",
       " <matplotlib.lines.Line2D at 0x20d61925cf8>,\n",
       " <matplotlib.lines.Line2D at 0x20d61925ef0>,\n",
       " <matplotlib.lines.Line2D at 0x20d61929128>,\n",
       " <matplotlib.lines.Line2D at 0x20d61929320>,\n",
       " <matplotlib.lines.Line2D at 0x20d61925710>,\n",
       " <matplotlib.lines.Line2D at 0x20d61929710>,\n",
       " <matplotlib.lines.Line2D at 0x20d61929908>,\n",
       " <matplotlib.lines.Line2D at 0x20d61929b00>,\n",
       " <matplotlib.lines.Line2D at 0x20d61929cf8>,\n",
       " <matplotlib.lines.Line2D at 0x20d61929ef0>,\n",
       " <matplotlib.lines.Line2D at 0x20d6192c128>,\n",
       " <matplotlib.lines.Line2D at 0x20d61929518>,\n",
       " <matplotlib.lines.Line2D at 0x20d6192c518>,\n",
       " <matplotlib.lines.Line2D at 0x20d6192c710>,\n",
       " <matplotlib.lines.Line2D at 0x20d6192c908>,\n",
       " <matplotlib.lines.Line2D at 0x20d6192cb00>,\n",
       " <matplotlib.lines.Line2D at 0x20d6192ccf8>,\n",
       " <matplotlib.lines.Line2D at 0x20d6192cef0>,\n",
       " <matplotlib.lines.Line2D at 0x20d6192c320>,\n",
       " <matplotlib.lines.Line2D at 0x20d6192f320>,\n",
       " <matplotlib.lines.Line2D at 0x20d6192f518>,\n",
       " <matplotlib.lines.Line2D at 0x20d6192f710>,\n",
       " <matplotlib.lines.Line2D at 0x20d6192f908>,\n",
       " <matplotlib.lines.Line2D at 0x20d6192fb00>,\n",
       " <matplotlib.lines.Line2D at 0x20d6192fcf8>,\n",
       " <matplotlib.lines.Line2D at 0x20d6192f128>,\n",
       " <matplotlib.lines.Line2D at 0x20d61934128>,\n",
       " <matplotlib.lines.Line2D at 0x20d61934320>,\n",
       " <matplotlib.lines.Line2D at 0x20d61934518>,\n",
       " <matplotlib.lines.Line2D at 0x20d61934710>,\n",
       " <matplotlib.lines.Line2D at 0x20d61934908>,\n",
       " <matplotlib.lines.Line2D at 0x20d61934b00>,\n",
       " <matplotlib.lines.Line2D at 0x20d6192fef0>,\n",
       " <matplotlib.lines.Line2D at 0x20d61934ef0>,\n",
       " <matplotlib.lines.Line2D at 0x20d61937128>,\n",
       " <matplotlib.lines.Line2D at 0x20d61937320>,\n",
       " <matplotlib.lines.Line2D at 0x20d61937518>,\n",
       " <matplotlib.lines.Line2D at 0x20d61937710>,\n",
       " <matplotlib.lines.Line2D at 0x20d61937908>,\n",
       " <matplotlib.lines.Line2D at 0x20d61934cf8>,\n",
       " <matplotlib.lines.Line2D at 0x20d61937cf8>,\n",
       " <matplotlib.lines.Line2D at 0x20d61937ef0>,\n",
       " <matplotlib.lines.Line2D at 0x20d6193b128>,\n",
       " <matplotlib.lines.Line2D at 0x20d6193b320>,\n",
       " <matplotlib.lines.Line2D at 0x20d6193b518>,\n",
       " <matplotlib.lines.Line2D at 0x20d6193b710>,\n",
       " <matplotlib.lines.Line2D at 0x20d61937b00>,\n",
       " <matplotlib.lines.Line2D at 0x20d6193bb00>,\n",
       " <matplotlib.lines.Line2D at 0x20d6193bcf8>,\n",
       " <matplotlib.lines.Line2D at 0x20d6193bef0>,\n",
       " <matplotlib.lines.Line2D at 0x20d6193e128>,\n",
       " <matplotlib.lines.Line2D at 0x20d6193e320>,\n",
       " <matplotlib.lines.Line2D at 0x20d6193e518>,\n",
       " <matplotlib.lines.Line2D at 0x20d6193b908>,\n",
       " <matplotlib.lines.Line2D at 0x20d6193e908>,\n",
       " <matplotlib.lines.Line2D at 0x20d6193eb00>,\n",
       " <matplotlib.lines.Line2D at 0x20d6193ecf8>,\n",
       " <matplotlib.lines.Line2D at 0x20d6193eef0>,\n",
       " <matplotlib.lines.Line2D at 0x20d61943128>,\n",
       " <matplotlib.lines.Line2D at 0x20d61943320>,\n",
       " <matplotlib.lines.Line2D at 0x20d6193e710>,\n",
       " <matplotlib.lines.Line2D at 0x20d61943710>,\n",
       " <matplotlib.lines.Line2D at 0x20d61943908>,\n",
       " <matplotlib.lines.Line2D at 0x20d61943b00>,\n",
       " <matplotlib.lines.Line2D at 0x20d61943cf8>,\n",
       " <matplotlib.lines.Line2D at 0x20d61943ef0>,\n",
       " <matplotlib.lines.Line2D at 0x20d61946128>,\n",
       " <matplotlib.lines.Line2D at 0x20d61943518>,\n",
       " <matplotlib.lines.Line2D at 0x20d61946518>,\n",
       " <matplotlib.lines.Line2D at 0x20d61946710>,\n",
       " <matplotlib.lines.Line2D at 0x20d61946908>,\n",
       " <matplotlib.lines.Line2D at 0x20d61946b00>,\n",
       " <matplotlib.lines.Line2D at 0x20d61946cf8>,\n",
       " <matplotlib.lines.Line2D at 0x20d61946ef0>,\n",
       " <matplotlib.lines.Line2D at 0x20d61946320>,\n",
       " <matplotlib.lines.Line2D at 0x20d61949320>,\n",
       " <matplotlib.lines.Line2D at 0x20d61949518>,\n",
       " <matplotlib.lines.Line2D at 0x20d61949710>,\n",
       " <matplotlib.lines.Line2D at 0x20d61949908>,\n",
       " <matplotlib.lines.Line2D at 0x20d61949b00>,\n",
       " <matplotlib.lines.Line2D at 0x20d61949cf8>,\n",
       " <matplotlib.lines.Line2D at 0x20d61949128>,\n",
       " <matplotlib.lines.Line2D at 0x20d6194e128>,\n",
       " <matplotlib.lines.Line2D at 0x20d6194e320>,\n",
       " <matplotlib.lines.Line2D at 0x20d6194e518>,\n",
       " <matplotlib.lines.Line2D at 0x20d6194e710>,\n",
       " <matplotlib.lines.Line2D at 0x20d6194e908>,\n",
       " <matplotlib.lines.Line2D at 0x20d6194eb00>,\n",
       " <matplotlib.lines.Line2D at 0x20d61949ef0>,\n",
       " <matplotlib.lines.Line2D at 0x20d6194eef0>,\n",
       " <matplotlib.lines.Line2D at 0x20d61950128>,\n",
       " <matplotlib.lines.Line2D at 0x20d61950320>,\n",
       " <matplotlib.lines.Line2D at 0x20d61950518>,\n",
       " <matplotlib.lines.Line2D at 0x20d61950710>,\n",
       " <matplotlib.lines.Line2D at 0x20d61950908>,\n",
       " <matplotlib.lines.Line2D at 0x20d6194ecf8>,\n",
       " <matplotlib.lines.Line2D at 0x20d61950cf8>,\n",
       " <matplotlib.lines.Line2D at 0x20d61950ef0>,\n",
       " <matplotlib.lines.Line2D at 0x20d61954128>,\n",
       " <matplotlib.lines.Line2D at 0x20d61954320>,\n",
       " <matplotlib.lines.Line2D at 0x20d61954518>,\n",
       " <matplotlib.lines.Line2D at 0x20d61954710>,\n",
       " <matplotlib.lines.Line2D at 0x20d61950b00>,\n",
       " <matplotlib.lines.Line2D at 0x20d61954b00>,\n",
       " <matplotlib.lines.Line2D at 0x20d61954cf8>,\n",
       " <matplotlib.lines.Line2D at 0x20d61954ef0>,\n",
       " <matplotlib.lines.Line2D at 0x20d61957128>,\n",
       " <matplotlib.lines.Line2D at 0x20d61957320>,\n",
       " <matplotlib.lines.Line2D at 0x20d61957518>,\n",
       " <matplotlib.lines.Line2D at 0x20d61954908>,\n",
       " <matplotlib.lines.Line2D at 0x20d61957908>,\n",
       " <matplotlib.lines.Line2D at 0x20d61957b00>,\n",
       " <matplotlib.lines.Line2D at 0x20d61957cf8>,\n",
       " <matplotlib.lines.Line2D at 0x20d61957ef0>,\n",
       " <matplotlib.lines.Line2D at 0x20d6195c128>,\n",
       " <matplotlib.lines.Line2D at 0x20d6195c320>,\n",
       " <matplotlib.lines.Line2D at 0x20d61957710>,\n",
       " <matplotlib.lines.Line2D at 0x20d6195c710>,\n",
       " <matplotlib.lines.Line2D at 0x20d6195c908>,\n",
       " <matplotlib.lines.Line2D at 0x20d6195cb00>,\n",
       " <matplotlib.lines.Line2D at 0x20d6195ccf8>,\n",
       " <matplotlib.lines.Line2D at 0x20d6195cef0>,\n",
       " <matplotlib.lines.Line2D at 0x20d6195f128>,\n",
       " <matplotlib.lines.Line2D at 0x20d6195c518>,\n",
       " <matplotlib.lines.Line2D at 0x20d6195f518>,\n",
       " <matplotlib.lines.Line2D at 0x20d6195f710>,\n",
       " <matplotlib.lines.Line2D at 0x20d6195f908>,\n",
       " <matplotlib.lines.Line2D at 0x20d6195fb00>,\n",
       " <matplotlib.lines.Line2D at 0x20d6195fcf8>,\n",
       " <matplotlib.lines.Line2D at 0x20d6195fef0>,\n",
       " <matplotlib.lines.Line2D at 0x20d6195f320>,\n",
       " <matplotlib.lines.Line2D at 0x20d61963320>,\n",
       " <matplotlib.lines.Line2D at 0x20d61963518>,\n",
       " <matplotlib.lines.Line2D at 0x20d61963710>,\n",
       " <matplotlib.lines.Line2D at 0x20d61963908>,\n",
       " <matplotlib.lines.Line2D at 0x20d61963b00>,\n",
       " <matplotlib.lines.Line2D at 0x20d61963cf8>,\n",
       " <matplotlib.lines.Line2D at 0x20d61963128>,\n",
       " <matplotlib.lines.Line2D at 0x20d61965128>,\n",
       " <matplotlib.lines.Line2D at 0x20d61965320>,\n",
       " <matplotlib.lines.Line2D at 0x20d61965518>,\n",
       " <matplotlib.lines.Line2D at 0x20d61965710>,\n",
       " <matplotlib.lines.Line2D at 0x20d61965908>,\n",
       " <matplotlib.lines.Line2D at 0x20d61965b00>,\n",
       " <matplotlib.lines.Line2D at 0x20d61963ef0>,\n",
       " <matplotlib.lines.Line2D at 0x20d61965ef0>,\n",
       " <matplotlib.lines.Line2D at 0x20d6196b128>,\n",
       " <matplotlib.lines.Line2D at 0x20d6196b320>,\n",
       " <matplotlib.lines.Line2D at 0x20d6196b518>,\n",
       " <matplotlib.lines.Line2D at 0x20d6196b710>,\n",
       " <matplotlib.lines.Line2D at 0x20d6196b908>,\n",
       " <matplotlib.lines.Line2D at 0x20d61965cf8>,\n",
       " <matplotlib.lines.Line2D at 0x20d6196bcf8>,\n",
       " <matplotlib.lines.Line2D at 0x20d6196bef0>,\n",
       " <matplotlib.lines.Line2D at 0x20d6196e128>,\n",
       " <matplotlib.lines.Line2D at 0x20d6196e320>,\n",
       " <matplotlib.lines.Line2D at 0x20d6196e518>,\n",
       " <matplotlib.lines.Line2D at 0x20d6196e710>,\n",
       " <matplotlib.lines.Line2D at 0x20d6196bb00>,\n",
       " <matplotlib.lines.Line2D at 0x20d6196eb00>,\n",
       " <matplotlib.lines.Line2D at 0x20d6196ecf8>,\n",
       " <matplotlib.lines.Line2D at 0x20d6196eef0>,\n",
       " <matplotlib.lines.Line2D at 0x20d61970128>,\n",
       " <matplotlib.lines.Line2D at 0x20d61970320>,\n",
       " <matplotlib.lines.Line2D at 0x20d61970518>,\n",
       " <matplotlib.lines.Line2D at 0x20d6196e908>,\n",
       " <matplotlib.lines.Line2D at 0x20d61970908>,\n",
       " <matplotlib.lines.Line2D at 0x20d61970b00>,\n",
       " <matplotlib.lines.Line2D at 0x20d61970cf8>,\n",
       " <matplotlib.lines.Line2D at 0x20d61970ef0>,\n",
       " <matplotlib.lines.Line2D at 0x20d61976128>,\n",
       " <matplotlib.lines.Line2D at 0x20d61976320>,\n",
       " <matplotlib.lines.Line2D at 0x20d61970710>,\n",
       " <matplotlib.lines.Line2D at 0x20d61976710>,\n",
       " <matplotlib.lines.Line2D at 0x20d61976908>,\n",
       " <matplotlib.lines.Line2D at 0x20d61976b00>,\n",
       " <matplotlib.lines.Line2D at 0x20d61976cf8>,\n",
       " <matplotlib.lines.Line2D at 0x20d61976ef0>,\n",
       " <matplotlib.lines.Line2D at 0x20d61978128>,\n",
       " <matplotlib.lines.Line2D at 0x20d61976518>,\n",
       " <matplotlib.lines.Line2D at 0x20d61978518>,\n",
       " <matplotlib.lines.Line2D at 0x20d61978710>,\n",
       " <matplotlib.lines.Line2D at 0x20d61978908>,\n",
       " <matplotlib.lines.Line2D at 0x20d61978b00>,\n",
       " <matplotlib.lines.Line2D at 0x20d61978cf8>,\n",
       " <matplotlib.lines.Line2D at 0x20d61978ef0>,\n",
       " <matplotlib.lines.Line2D at 0x20d61978320>,\n",
       " <matplotlib.lines.Line2D at 0x20d6197c320>,\n",
       " <matplotlib.lines.Line2D at 0x20d6197c518>,\n",
       " <matplotlib.lines.Line2D at 0x20d6197c710>,\n",
       " <matplotlib.lines.Line2D at 0x20d6197c908>,\n",
       " <matplotlib.lines.Line2D at 0x20d6197cb00>,\n",
       " <matplotlib.lines.Line2D at 0x20d6197ccf8>,\n",
       " <matplotlib.lines.Line2D at 0x20d6197c128>,\n",
       " <matplotlib.lines.Line2D at 0x20d6197f128>,\n",
       " <matplotlib.lines.Line2D at 0x20d6197f320>,\n",
       " <matplotlib.lines.Line2D at 0x20d6197f518>,\n",
       " <matplotlib.lines.Line2D at 0x20d6197f710>,\n",
       " <matplotlib.lines.Line2D at 0x20d6197f908>,\n",
       " <matplotlib.lines.Line2D at 0x20d6197fb00>,\n",
       " <matplotlib.lines.Line2D at 0x20d6197cef0>,\n",
       " <matplotlib.lines.Line2D at 0x20d6197fef0>,\n",
       " <matplotlib.lines.Line2D at 0x20d61984128>,\n",
       " <matplotlib.lines.Line2D at 0x20d61984320>,\n",
       " <matplotlib.lines.Line2D at 0x20d61984518>,\n",
       " <matplotlib.lines.Line2D at 0x20d61984710>,\n",
       " <matplotlib.lines.Line2D at 0x20d61984908>,\n",
       " <matplotlib.lines.Line2D at 0x20d6197fcf8>,\n",
       " <matplotlib.lines.Line2D at 0x20d61984cf8>,\n",
       " <matplotlib.lines.Line2D at 0x20d61984ef0>,\n",
       " <matplotlib.lines.Line2D at 0x20d61987128>,\n",
       " <matplotlib.lines.Line2D at 0x20d61987320>,\n",
       " <matplotlib.lines.Line2D at 0x20d61987518>,\n",
       " <matplotlib.lines.Line2D at 0x20d61987710>,\n",
       " <matplotlib.lines.Line2D at 0x20d61984b00>,\n",
       " <matplotlib.lines.Line2D at 0x20d61987b00>,\n",
       " <matplotlib.lines.Line2D at 0x20d61987cf8>,\n",
       " <matplotlib.lines.Line2D at 0x20d61987ef0>,\n",
       " <matplotlib.lines.Line2D at 0x20d6198b128>,\n",
       " <matplotlib.lines.Line2D at 0x20d6198b320>,\n",
       " <matplotlib.lines.Line2D at 0x20d6198b518>,\n",
       " <matplotlib.lines.Line2D at 0x20d61987908>,\n",
       " <matplotlib.lines.Line2D at 0x20d6198b908>,\n",
       " <matplotlib.lines.Line2D at 0x20d6198bb00>,\n",
       " <matplotlib.lines.Line2D at 0x20d6198bcf8>,\n",
       " <matplotlib.lines.Line2D at 0x20d6198bef0>,\n",
       " <matplotlib.lines.Line2D at 0x20d6198d128>,\n",
       " <matplotlib.lines.Line2D at 0x20d6198d320>,\n",
       " <matplotlib.lines.Line2D at 0x20d6198b710>,\n",
       " <matplotlib.lines.Line2D at 0x20d6198d710>,\n",
       " <matplotlib.lines.Line2D at 0x20d6198d908>,\n",
       " <matplotlib.lines.Line2D at 0x20d6198db00>,\n",
       " <matplotlib.lines.Line2D at 0x20d6198dcf8>,\n",
       " <matplotlib.lines.Line2D at 0x20d6198def0>,\n",
       " <matplotlib.lines.Line2D at 0x20d61992128>,\n",
       " <matplotlib.lines.Line2D at 0x20d6198d518>,\n",
       " <matplotlib.lines.Line2D at 0x20d61992518>,\n",
       " <matplotlib.lines.Line2D at 0x20d61992710>,\n",
       " <matplotlib.lines.Line2D at 0x20d61992908>,\n",
       " <matplotlib.lines.Line2D at 0x20d61992b00>,\n",
       " <matplotlib.lines.Line2D at 0x20d61992cf8>,\n",
       " <matplotlib.lines.Line2D at 0x20d61992ef0>,\n",
       " <matplotlib.lines.Line2D at 0x20d61992320>,\n",
       " <matplotlib.lines.Line2D at 0x20d61996320>,\n",
       " <matplotlib.lines.Line2D at 0x20d61996518>,\n",
       " <matplotlib.lines.Line2D at 0x20d61996710>,\n",
       " <matplotlib.lines.Line2D at 0x20d61996908>,\n",
       " <matplotlib.lines.Line2D at 0x20d61996b00>,\n",
       " <matplotlib.lines.Line2D at 0x20d61996cf8>,\n",
       " <matplotlib.lines.Line2D at 0x20d61996128>,\n",
       " <matplotlib.lines.Line2D at 0x20d61998128>,\n",
       " <matplotlib.lines.Line2D at 0x20d61998320>,\n",
       " <matplotlib.lines.Line2D at 0x20d61998518>,\n",
       " <matplotlib.lines.Line2D at 0x20d61998710>,\n",
       " <matplotlib.lines.Line2D at 0x20d61998908>,\n",
       " <matplotlib.lines.Line2D at 0x20d61998b00>,\n",
       " <matplotlib.lines.Line2D at 0x20d61996ef0>,\n",
       " <matplotlib.lines.Line2D at 0x20d61998ef0>,\n",
       " <matplotlib.lines.Line2D at 0x20d6199e128>,\n",
       " <matplotlib.lines.Line2D at 0x20d6199e320>,\n",
       " <matplotlib.lines.Line2D at 0x20d6199e518>,\n",
       " <matplotlib.lines.Line2D at 0x20d6199e710>,\n",
       " <matplotlib.lines.Line2D at 0x20d6199e908>,\n",
       " <matplotlib.lines.Line2D at 0x20d61998cf8>,\n",
       " <matplotlib.lines.Line2D at 0x20d6199ecf8>,\n",
       " <matplotlib.lines.Line2D at 0x20d6199eef0>,\n",
       " <matplotlib.lines.Line2D at 0x20d619a1128>,\n",
       " <matplotlib.lines.Line2D at 0x20d619a1320>,\n",
       " <matplotlib.lines.Line2D at 0x20d619a1518>,\n",
       " <matplotlib.lines.Line2D at 0x20d619a1710>,\n",
       " <matplotlib.lines.Line2D at 0x20d6199eb00>,\n",
       " <matplotlib.lines.Line2D at 0x20d619a1b00>,\n",
       " <matplotlib.lines.Line2D at 0x20d619a1cf8>,\n",
       " <matplotlib.lines.Line2D at 0x20d619a1ef0>,\n",
       " <matplotlib.lines.Line2D at 0x20d619a4128>,\n",
       " <matplotlib.lines.Line2D at 0x20d619a4320>,\n",
       " <matplotlib.lines.Line2D at 0x20d619a4518>,\n",
       " <matplotlib.lines.Line2D at 0x20d619a1908>,\n",
       " <matplotlib.lines.Line2D at 0x20d619a4908>,\n",
       " <matplotlib.lines.Line2D at 0x20d619a4b00>,\n",
       " <matplotlib.lines.Line2D at 0x20d619a4cf8>,\n",
       " <matplotlib.lines.Line2D at 0x20d619a4ef0>,\n",
       " <matplotlib.lines.Line2D at 0x20d619a7128>,\n",
       " <matplotlib.lines.Line2D at 0x20d619a7320>,\n",
       " <matplotlib.lines.Line2D at 0x20d619a4710>,\n",
       " <matplotlib.lines.Line2D at 0x20d619a7710>,\n",
       " <matplotlib.lines.Line2D at 0x20d619a7908>,\n",
       " <matplotlib.lines.Line2D at 0x20d619a7b00>,\n",
       " <matplotlib.lines.Line2D at 0x20d619a7cf8>,\n",
       " <matplotlib.lines.Line2D at 0x20d619a7ef0>,\n",
       " <matplotlib.lines.Line2D at 0x20d619ac128>,\n",
       " <matplotlib.lines.Line2D at 0x20d619a7518>,\n",
       " <matplotlib.lines.Line2D at 0x20d619ac518>,\n",
       " <matplotlib.lines.Line2D at 0x20d619ac710>,\n",
       " <matplotlib.lines.Line2D at 0x20d619ac908>,\n",
       " <matplotlib.lines.Line2D at 0x20d619acb00>,\n",
       " <matplotlib.lines.Line2D at 0x20d619accf8>,\n",
       " <matplotlib.lines.Line2D at 0x20d619acef0>,\n",
       " <matplotlib.lines.Line2D at 0x20d619ac320>,\n",
       " <matplotlib.lines.Line2D at 0x20d619af320>,\n",
       " <matplotlib.lines.Line2D at 0x20d619af518>,\n",
       " <matplotlib.lines.Line2D at 0x20d619af710>,\n",
       " <matplotlib.lines.Line2D at 0x20d619af908>,\n",
       " <matplotlib.lines.Line2D at 0x20d619afb00>,\n",
       " <matplotlib.lines.Line2D at 0x20d619afcf8>,\n",
       " <matplotlib.lines.Line2D at 0x20d619af128>,\n",
       " <matplotlib.lines.Line2D at 0x20d619b2128>,\n",
       " <matplotlib.lines.Line2D at 0x20d619b2320>,\n",
       " <matplotlib.lines.Line2D at 0x20d619b2518>,\n",
       " <matplotlib.lines.Line2D at 0x20d619b2710>,\n",
       " <matplotlib.lines.Line2D at 0x20d619b2908>,\n",
       " <matplotlib.lines.Line2D at 0x20d619b2b00>,\n",
       " <matplotlib.lines.Line2D at 0x20d619afef0>,\n",
       " <matplotlib.lines.Line2D at 0x20d619b2ef0>,\n",
       " <matplotlib.lines.Line2D at 0x20d619b6128>,\n",
       " <matplotlib.lines.Line2D at 0x20d619b6320>,\n",
       " <matplotlib.lines.Line2D at 0x20d619b6518>,\n",
       " <matplotlib.lines.Line2D at 0x20d619b6710>,\n",
       " <matplotlib.lines.Line2D at 0x20d619b6908>,\n",
       " <matplotlib.lines.Line2D at 0x20d619b2cf8>,\n",
       " <matplotlib.lines.Line2D at 0x20d619b6cf8>,\n",
       " <matplotlib.lines.Line2D at 0x20d619b6ef0>,\n",
       " <matplotlib.lines.Line2D at 0x20d619ba128>,\n",
       " <matplotlib.lines.Line2D at 0x20d619ba320>,\n",
       " <matplotlib.lines.Line2D at 0x20d619ba518>,\n",
       " <matplotlib.lines.Line2D at 0x20d619ba710>,\n",
       " <matplotlib.lines.Line2D at 0x20d619b6b00>,\n",
       " <matplotlib.lines.Line2D at 0x20d619bab00>,\n",
       " <matplotlib.lines.Line2D at 0x20d619bacf8>,\n",
       " <matplotlib.lines.Line2D at 0x20d619baef0>,\n",
       " <matplotlib.lines.Line2D at 0x20d619be128>,\n",
       " <matplotlib.lines.Line2D at 0x20d619be320>,\n",
       " <matplotlib.lines.Line2D at 0x20d619be518>,\n",
       " <matplotlib.lines.Line2D at 0x20d619ba908>,\n",
       " <matplotlib.lines.Line2D at 0x20d619be908>,\n",
       " <matplotlib.lines.Line2D at 0x20d619beb00>,\n",
       " <matplotlib.lines.Line2D at 0x20d619becf8>,\n",
       " <matplotlib.lines.Line2D at 0x20d619beef0>,\n",
       " <matplotlib.lines.Line2D at 0x20d619c0128>,\n",
       " <matplotlib.lines.Line2D at 0x20d619c0320>,\n",
       " <matplotlib.lines.Line2D at 0x20d619be710>,\n",
       " <matplotlib.lines.Line2D at 0x20d619c0710>,\n",
       " <matplotlib.lines.Line2D at 0x20d619c0908>,\n",
       " <matplotlib.lines.Line2D at 0x20d619c0b00>,\n",
       " <matplotlib.lines.Line2D at 0x20d619c0cf8>,\n",
       " <matplotlib.lines.Line2D at 0x20d619c0ef0>,\n",
       " <matplotlib.lines.Line2D at 0x20d619c5128>,\n",
       " <matplotlib.lines.Line2D at 0x20d619c0518>,\n",
       " <matplotlib.lines.Line2D at 0x20d619c5518>,\n",
       " <matplotlib.lines.Line2D at 0x20d619c5710>,\n",
       " <matplotlib.lines.Line2D at 0x20d619c5908>,\n",
       " <matplotlib.lines.Line2D at 0x20d619c5b00>,\n",
       " <matplotlib.lines.Line2D at 0x20d619c5cf8>,\n",
       " <matplotlib.lines.Line2D at 0x20d619c5ef0>,\n",
       " <matplotlib.lines.Line2D at 0x20d619c5320>,\n",
       " <matplotlib.lines.Line2D at 0x20d619c9320>,\n",
       " <matplotlib.lines.Line2D at 0x20d619c9518>,\n",
       " <matplotlib.lines.Line2D at 0x20d619c9710>,\n",
       " <matplotlib.lines.Line2D at 0x20d619c9908>,\n",
       " <matplotlib.lines.Line2D at 0x20d619c9b00>,\n",
       " <matplotlib.lines.Line2D at 0x20d619c9cf8>,\n",
       " <matplotlib.lines.Line2D at 0x20d619c9128>,\n",
       " <matplotlib.lines.Line2D at 0x20d619cc128>,\n",
       " <matplotlib.lines.Line2D at 0x20d619cc320>,\n",
       " <matplotlib.lines.Line2D at 0x20d619cc518>,\n",
       " <matplotlib.lines.Line2D at 0x20d619cc710>,\n",
       " <matplotlib.lines.Line2D at 0x20d619cc908>,\n",
       " <matplotlib.lines.Line2D at 0x20d619ccb00>,\n",
       " <matplotlib.lines.Line2D at 0x20d619c9ef0>,\n",
       " <matplotlib.lines.Line2D at 0x20d619ccef0>,\n",
       " <matplotlib.lines.Line2D at 0x20d619cf128>,\n",
       " <matplotlib.lines.Line2D at 0x20d619cf320>,\n",
       " <matplotlib.lines.Line2D at 0x20d619cf518>,\n",
       " <matplotlib.lines.Line2D at 0x20d619cf710>,\n",
       " <matplotlib.lines.Line2D at 0x20d619cf908>,\n",
       " <matplotlib.lines.Line2D at 0x20d619cccf8>,\n",
       " <matplotlib.lines.Line2D at 0x20d619cfcf8>,\n",
       " <matplotlib.lines.Line2D at 0x20d619cfef0>,\n",
       " <matplotlib.lines.Line2D at 0x20d619d3128>,\n",
       " <matplotlib.lines.Line2D at 0x20d619d3320>,\n",
       " <matplotlib.lines.Line2D at 0x20d619d3518>,\n",
       " <matplotlib.lines.Line2D at 0x20d619d3710>,\n",
       " <matplotlib.lines.Line2D at 0x20d619cfb00>,\n",
       " <matplotlib.lines.Line2D at 0x20d619d3b00>,\n",
       " <matplotlib.lines.Line2D at 0x20d619d3cf8>,\n",
       " <matplotlib.lines.Line2D at 0x20d619d3ef0>,\n",
       " <matplotlib.lines.Line2D at 0x20d619d7128>,\n",
       " <matplotlib.lines.Line2D at 0x20d619d7320>,\n",
       " <matplotlib.lines.Line2D at 0x20d619d7518>,\n",
       " <matplotlib.lines.Line2D at 0x20d619d3908>,\n",
       " <matplotlib.lines.Line2D at 0x20d619d7908>,\n",
       " <matplotlib.lines.Line2D at 0x20d619d7b00>,\n",
       " <matplotlib.lines.Line2D at 0x20d619d7cf8>,\n",
       " <matplotlib.lines.Line2D at 0x20d619d7ef0>,\n",
       " <matplotlib.lines.Line2D at 0x20d619da128>,\n",
       " <matplotlib.lines.Line2D at 0x20d619da320>,\n",
       " <matplotlib.lines.Line2D at 0x20d619d7710>,\n",
       " <matplotlib.lines.Line2D at 0x20d619da710>,\n",
       " <matplotlib.lines.Line2D at 0x20d619da908>,\n",
       " <matplotlib.lines.Line2D at 0x20d619dab00>,\n",
       " <matplotlib.lines.Line2D at 0x20d619dacf8>,\n",
       " <matplotlib.lines.Line2D at 0x20d619daef0>,\n",
       " <matplotlib.lines.Line2D at 0x20d619de128>,\n",
       " <matplotlib.lines.Line2D at 0x20d619da518>,\n",
       " <matplotlib.lines.Line2D at 0x20d619de518>,\n",
       " <matplotlib.lines.Line2D at 0x20d619de710>,\n",
       " <matplotlib.lines.Line2D at 0x20d619de908>,\n",
       " <matplotlib.lines.Line2D at 0x20d619deb00>,\n",
       " <matplotlib.lines.Line2D at 0x20d619decf8>,\n",
       " <matplotlib.lines.Line2D at 0x20d619deef0>,\n",
       " <matplotlib.lines.Line2D at 0x20d619de320>,\n",
       " <matplotlib.lines.Line2D at 0x20d619e2320>,\n",
       " <matplotlib.lines.Line2D at 0x20d619e2518>,\n",
       " <matplotlib.lines.Line2D at 0x20d619e2710>,\n",
       " <matplotlib.lines.Line2D at 0x20d619e2908>,\n",
       " <matplotlib.lines.Line2D at 0x20d619e2b00>,\n",
       " <matplotlib.lines.Line2D at 0x20d619e2cf8>,\n",
       " <matplotlib.lines.Line2D at 0x20d619e2128>,\n",
       " <matplotlib.lines.Line2D at 0x20d619e6128>,\n",
       " <matplotlib.lines.Line2D at 0x20d619e6320>,\n",
       " <matplotlib.lines.Line2D at 0x20d619e6518>,\n",
       " <matplotlib.lines.Line2D at 0x20d619e6710>,\n",
       " <matplotlib.lines.Line2D at 0x20d619e6908>,\n",
       " <matplotlib.lines.Line2D at 0x20d619e6b00>,\n",
       " <matplotlib.lines.Line2D at 0x20d619e2ef0>,\n",
       " <matplotlib.lines.Line2D at 0x20d619e6ef0>,\n",
       " <matplotlib.lines.Line2D at 0x20d619e8128>,\n",
       " <matplotlib.lines.Line2D at 0x20d619e8320>,\n",
       " <matplotlib.lines.Line2D at 0x20d619e8518>,\n",
       " <matplotlib.lines.Line2D at 0x20d619e8710>,\n",
       " <matplotlib.lines.Line2D at 0x20d619e8908>,\n",
       " <matplotlib.lines.Line2D at 0x20d619e6cf8>,\n",
       " <matplotlib.lines.Line2D at 0x20d619e8cf8>,\n",
       " <matplotlib.lines.Line2D at 0x20d619e8ef0>,\n",
       " <matplotlib.lines.Line2D at 0x20d619ed128>,\n",
       " <matplotlib.lines.Line2D at 0x20d619ed320>,\n",
       " <matplotlib.lines.Line2D at 0x20d619ed518>,\n",
       " <matplotlib.lines.Line2D at 0x20d619ed710>,\n",
       " <matplotlib.lines.Line2D at 0x20d619e8b00>,\n",
       " <matplotlib.lines.Line2D at 0x20d619edb00>,\n",
       " <matplotlib.lines.Line2D at 0x20d619edcf8>,\n",
       " <matplotlib.lines.Line2D at 0x20d619edef0>,\n",
       " <matplotlib.lines.Line2D at 0x20d619f1128>,\n",
       " <matplotlib.lines.Line2D at 0x20d619f1320>,\n",
       " <matplotlib.lines.Line2D at 0x20d619f1518>,\n",
       " <matplotlib.lines.Line2D at 0x20d619ed908>,\n",
       " <matplotlib.lines.Line2D at 0x20d619f1908>,\n",
       " <matplotlib.lines.Line2D at 0x20d619f1b00>,\n",
       " <matplotlib.lines.Line2D at 0x20d619f1cf8>,\n",
       " <matplotlib.lines.Line2D at 0x20d619f1ef0>,\n",
       " <matplotlib.lines.Line2D at 0x20d619f3128>,\n",
       " <matplotlib.lines.Line2D at 0x20d619f3320>,\n",
       " <matplotlib.lines.Line2D at 0x20d619f1710>,\n",
       " <matplotlib.lines.Line2D at 0x20d619f3710>,\n",
       " <matplotlib.lines.Line2D at 0x20d619f3908>,\n",
       " <matplotlib.lines.Line2D at 0x20d619f3b00>,\n",
       " <matplotlib.lines.Line2D at 0x20d619f3cf8>,\n",
       " <matplotlib.lines.Line2D at 0x20d619f3ef0>,\n",
       " <matplotlib.lines.Line2D at 0x20d619f7128>,\n",
       " <matplotlib.lines.Line2D at 0x20d619f3518>,\n",
       " <matplotlib.lines.Line2D at 0x20d619f7518>,\n",
       " <matplotlib.lines.Line2D at 0x20d619f7710>,\n",
       " <matplotlib.lines.Line2D at 0x20d619f7908>,\n",
       " <matplotlib.lines.Line2D at 0x20d619f7b00>,\n",
       " <matplotlib.lines.Line2D at 0x20d619f7cf8>,\n",
       " <matplotlib.lines.Line2D at 0x20d619f7ef0>,\n",
       " <matplotlib.lines.Line2D at 0x20d619f7320>,\n",
       " <matplotlib.lines.Line2D at 0x20d619fc320>,\n",
       " <matplotlib.lines.Line2D at 0x20d619fc518>,\n",
       " <matplotlib.lines.Line2D at 0x20d619fc710>,\n",
       " <matplotlib.lines.Line2D at 0x20d619fc908>,\n",
       " <matplotlib.lines.Line2D at 0x20d619fcb00>,\n",
       " <matplotlib.lines.Line2D at 0x20d619fccf8>,\n",
       " <matplotlib.lines.Line2D at 0x20d619fc128>,\n",
       " <matplotlib.lines.Line2D at 0x20d619ff128>,\n",
       " <matplotlib.lines.Line2D at 0x20d619ff320>,\n",
       " <matplotlib.lines.Line2D at 0x20d619ff518>,\n",
       " <matplotlib.lines.Line2D at 0x20d619ff710>,\n",
       " <matplotlib.lines.Line2D at 0x20d619ff908>,\n",
       " <matplotlib.lines.Line2D at 0x20d619ffb00>,\n",
       " <matplotlib.lines.Line2D at 0x20d619fcef0>,\n",
       " <matplotlib.lines.Line2D at 0x20d619ffef0>,\n",
       " <matplotlib.lines.Line2D at 0x20d61a02128>,\n",
       " <matplotlib.lines.Line2D at 0x20d61a02320>,\n",
       " <matplotlib.lines.Line2D at 0x20d61a02518>,\n",
       " <matplotlib.lines.Line2D at 0x20d61a02710>,\n",
       " <matplotlib.lines.Line2D at 0x20d61a02908>,\n",
       " <matplotlib.lines.Line2D at 0x20d619ffcf8>,\n",
       " <matplotlib.lines.Line2D at 0x20d61a02cf8>,\n",
       " <matplotlib.lines.Line2D at 0x20d61a02ef0>,\n",
       " <matplotlib.lines.Line2D at 0x20d61a06128>,\n",
       " <matplotlib.lines.Line2D at 0x20d61a06320>,\n",
       " <matplotlib.lines.Line2D at 0x20d61a06518>,\n",
       " <matplotlib.lines.Line2D at 0x20d61a06710>,\n",
       " <matplotlib.lines.Line2D at 0x20d61a02b00>,\n",
       " <matplotlib.lines.Line2D at 0x20d61a06b00>,\n",
       " <matplotlib.lines.Line2D at 0x20d61a06cf8>,\n",
       " <matplotlib.lines.Line2D at 0x20d61a06ef0>,\n",
       " <matplotlib.lines.Line2D at 0x20d61a0a128>,\n",
       " <matplotlib.lines.Line2D at 0x20d61a0a320>,\n",
       " <matplotlib.lines.Line2D at 0x20d61a0a518>,\n",
       " <matplotlib.lines.Line2D at 0x20d61a06908>,\n",
       " <matplotlib.lines.Line2D at 0x20d61a0a908>,\n",
       " <matplotlib.lines.Line2D at 0x20d61a0ab00>,\n",
       " <matplotlib.lines.Line2D at 0x20d61a0acf8>,\n",
       " <matplotlib.lines.Line2D at 0x20d61a0aef0>,\n",
       " <matplotlib.lines.Line2D at 0x20d61a0e128>,\n",
       " <matplotlib.lines.Line2D at 0x20d61a0e320>,\n",
       " <matplotlib.lines.Line2D at 0x20d61a0a710>,\n",
       " <matplotlib.lines.Line2D at 0x20d61a0e710>,\n",
       " <matplotlib.lines.Line2D at 0x20d61a0e908>,\n",
       " <matplotlib.lines.Line2D at 0x20d61a0eb00>,\n",
       " <matplotlib.lines.Line2D at 0x20d61a0ecf8>,\n",
       " <matplotlib.lines.Line2D at 0x20d61a0eef0>,\n",
       " <matplotlib.lines.Line2D at 0x20d61a10128>,\n",
       " <matplotlib.lines.Line2D at 0x20d61a0e518>,\n",
       " <matplotlib.lines.Line2D at 0x20d61a10518>,\n",
       " <matplotlib.lines.Line2D at 0x20d61a10710>,\n",
       " <matplotlib.lines.Line2D at 0x20d61a10908>,\n",
       " <matplotlib.lines.Line2D at 0x20d61a10b00>,\n",
       " <matplotlib.lines.Line2D at 0x20d61a10cf8>,\n",
       " <matplotlib.lines.Line2D at 0x20d61a10ef0>,\n",
       " <matplotlib.lines.Line2D at 0x20d61a10320>,\n",
       " <matplotlib.lines.Line2D at 0x20d61a14320>,\n",
       " <matplotlib.lines.Line2D at 0x20d61a14518>,\n",
       " <matplotlib.lines.Line2D at 0x20d61a14710>,\n",
       " <matplotlib.lines.Line2D at 0x20d61a14908>,\n",
       " <matplotlib.lines.Line2D at 0x20d61a14b00>,\n",
       " <matplotlib.lines.Line2D at 0x20d61a14cf8>,\n",
       " <matplotlib.lines.Line2D at 0x20d61a14128>,\n",
       " <matplotlib.lines.Line2D at 0x20d61a19128>,\n",
       " <matplotlib.lines.Line2D at 0x20d61a19320>,\n",
       " <matplotlib.lines.Line2D at 0x20d61a19518>,\n",
       " <matplotlib.lines.Line2D at 0x20d61a19710>,\n",
       " <matplotlib.lines.Line2D at 0x20d61a19908>,\n",
       " <matplotlib.lines.Line2D at 0x20d61a19b00>,\n",
       " <matplotlib.lines.Line2D at 0x20d61a14ef0>,\n",
       " <matplotlib.lines.Line2D at 0x20d61a19ef0>,\n",
       " <matplotlib.lines.Line2D at 0x20d61a1b128>,\n",
       " <matplotlib.lines.Line2D at 0x20d61a1b320>,\n",
       " <matplotlib.lines.Line2D at 0x20d61a1b518>,\n",
       " <matplotlib.lines.Line2D at 0x20d61a1b710>,\n",
       " <matplotlib.lines.Line2D at 0x20d61a1b908>,\n",
       " <matplotlib.lines.Line2D at 0x20d61a19cf8>,\n",
       " <matplotlib.lines.Line2D at 0x20d61a1bcf8>,\n",
       " <matplotlib.lines.Line2D at 0x20d61a1bef0>,\n",
       " <matplotlib.lines.Line2D at 0x20d61a20128>,\n",
       " <matplotlib.lines.Line2D at 0x20d61a20320>,\n",
       " <matplotlib.lines.Line2D at 0x20d61a20518>,\n",
       " <matplotlib.lines.Line2D at 0x20d61a20710>,\n",
       " <matplotlib.lines.Line2D at 0x20d61a1bb00>,\n",
       " <matplotlib.lines.Line2D at 0x20d61a20b00>,\n",
       " <matplotlib.lines.Line2D at 0x20d61a20cf8>,\n",
       " <matplotlib.lines.Line2D at 0x20d61a20ef0>,\n",
       " <matplotlib.lines.Line2D at 0x20d61a24128>,\n",
       " <matplotlib.lines.Line2D at 0x20d61a24320>,\n",
       " <matplotlib.lines.Line2D at 0x20d61a24518>,\n",
       " <matplotlib.lines.Line2D at 0x20d61a20908>,\n",
       " <matplotlib.lines.Line2D at 0x20d61a24908>,\n",
       " <matplotlib.lines.Line2D at 0x20d61a24b00>,\n",
       " <matplotlib.lines.Line2D at 0x20d61a24cf8>,\n",
       " <matplotlib.lines.Line2D at 0x20d61a24ef0>,\n",
       " <matplotlib.lines.Line2D at 0x20d61a27128>,\n",
       " <matplotlib.lines.Line2D at 0x20d61a27320>,\n",
       " <matplotlib.lines.Line2D at 0x20d61a24710>,\n",
       " <matplotlib.lines.Line2D at 0x20d61a27710>,\n",
       " <matplotlib.lines.Line2D at 0x20d61a27908>,\n",
       " <matplotlib.lines.Line2D at 0x20d61a27b00>,\n",
       " <matplotlib.lines.Line2D at 0x20d61a27cf8>,\n",
       " <matplotlib.lines.Line2D at 0x20d61a27ef0>,\n",
       " <matplotlib.lines.Line2D at 0x20d61a2a128>,\n",
       " <matplotlib.lines.Line2D at 0x20d61a27518>,\n",
       " <matplotlib.lines.Line2D at 0x20d61a2a518>,\n",
       " <matplotlib.lines.Line2D at 0x20d61a2a710>,\n",
       " <matplotlib.lines.Line2D at 0x20d61a2a908>,\n",
       " <matplotlib.lines.Line2D at 0x20d61a2ab00>,\n",
       " <matplotlib.lines.Line2D at 0x20d61a2acf8>,\n",
       " <matplotlib.lines.Line2D at 0x20d61a2aef0>,\n",
       " <matplotlib.lines.Line2D at 0x20d61a2a320>,\n",
       " <matplotlib.lines.Line2D at 0x20d61a2e320>,\n",
       " <matplotlib.lines.Line2D at 0x20d61a2e518>,\n",
       " <matplotlib.lines.Line2D at 0x20d61a2e710>,\n",
       " <matplotlib.lines.Line2D at 0x20d61a2e908>,\n",
       " <matplotlib.lines.Line2D at 0x20d61a2eb00>,\n",
       " <matplotlib.lines.Line2D at 0x20d61a2ecf8>,\n",
       " <matplotlib.lines.Line2D at 0x20d61a2e128>,\n",
       " <matplotlib.lines.Line2D at 0x20d61a32128>,\n",
       " <matplotlib.lines.Line2D at 0x20d61a32320>,\n",
       " <matplotlib.lines.Line2D at 0x20d61a32518>,\n",
       " <matplotlib.lines.Line2D at 0x20d61a32710>,\n",
       " <matplotlib.lines.Line2D at 0x20d61a32908>,\n",
       " <matplotlib.lines.Line2D at 0x20d61a32b00>,\n",
       " <matplotlib.lines.Line2D at 0x20d61a2eef0>,\n",
       " <matplotlib.lines.Line2D at 0x20d61a32ef0>,\n",
       " <matplotlib.lines.Line2D at 0x20d61a35128>,\n",
       " <matplotlib.lines.Line2D at 0x20d61a35320>,\n",
       " <matplotlib.lines.Line2D at 0x20d61a35518>,\n",
       " <matplotlib.lines.Line2D at 0x20d61a35710>,\n",
       " ...]"
      ]
     },
     "execution_count": 28,
     "metadata": {},
     "output_type": "execute_result"
    },
    {
     "data": {
      "image/png": "[encoded data removed]",
      "text/plain": [
       "<matplotlib.figure.Figure at 0x20d5f32b860>"
      ]
     },
     "metadata": {},
     "output_type": "display_data"
    }
   ],
   "source": [
    "import matplotlib.pyplot as plt\n",
    "%matplotlib inline\n",
    "plt.plot(S)"
   ]
  },
  {
   "cell_type": "markdown",
   "metadata": {},
   "source": [
    "### Sequential Valuation"
   ]
  },
  {
   "cell_type": "code",
   "execution_count": 29,
   "metadata": {
    "collapsed": true
   },
   "outputs": [],
   "source": [
    "def seq_value(n):\n",
    "    ''' Sequential option valuation. \n",
    "    Parameters = = = = = = = = = = \n",
    "    n : int number of option valuations/ strikes ''' \n",
    "    \n",
    "    strikes = np.linspace(80, 120, n) \n",
    "    option_values = [] \n",
    "    \n",
    "    for strike in strikes: \n",
    "        option_values.append(bsm_mcs_valuation(strike)) \n",
    "    \n",
    "    return strikes, option_values"
   ]
  },
  {
   "cell_type": "code",
   "execution_count": 30,
   "metadata": {
    "collapsed": false
   },
   "outputs": [
    {
     "name": "stdout",
     "output_type": "stream",
     "text": [
      "Wall time: 9.58 s\n"
     ]
    }
   ],
   "source": [
    "n = 100 # number of options to value\n",
    "%time strikes, option_values_seq = seq_value(n)"
   ]
  },
  {
   "cell_type": "code",
   "execution_count": 31,
   "metadata": {
    "collapsed": false
   },
   "outputs": [
    {
     "name": "stdout",
     "output_type": "stream",
     "text": [
      "Approximate options valued per second = 20.53s\n"
     ]
    }
   ],
   "source": [
    "print('Approximate options valued per second = {:.2f}s'.format(100/4.87))"
   ]
  },
  {
   "cell_type": "code",
   "execution_count": 32,
   "metadata": {
    "collapsed": false
   },
   "outputs": [
    {
     "data": {
      "text/plain": [
       "<matplotlib.text.Text at 0x20d0531e4a8>"
      ]
     },
     "execution_count": 32,
     "metadata": {},
     "output_type": "execute_result"
    },
    {
     "data": {
      "image/png": "[encoded data removed]",
      "text/plain": [
       "<matplotlib.figure.Figure at 0x20d05303438>"
      ]
     },
     "metadata": {},
     "output_type": "display_data"
    }
   ],
   "source": [
    "plt.figure(figsize =(8, 4)) \n",
    "plt.plot(strikes, option_values_seq, 'b') \n",
    "plt.plot(strikes, option_values_seq, 'r.') \n",
    "plt.grid(True) \n",
    "plt.xlabel('strikes') \n",
    "plt.ylabel('European call option values')"
   ]
  },
  {
   "cell_type": "markdown",
   "metadata": {},
   "source": [
    "### Parallel Valuation"
   ]
  },
  {
   "cell_type": "code",
   "execution_count": 33,
   "metadata": {
    "collapsed": false
   },
   "outputs": [],
   "source": [
    "# Before starting the parallel process, need to start the ip cluster by running the following line at a command prompt:\n",
    "# ipcluster start -n 4\n",
    "\n",
    "from ipyparallel import Client \n",
    "c = Client(profile = \"default\") \n",
    "view = c.load_balanced_view()"
   ]
  },
  {
   "cell_type": "code",
   "execution_count": 34,
   "metadata": {
    "collapsed": true
   },
   "outputs": [],
   "source": [
    "def par_value(n): \n",
    "    ''' Parallel option valuation. \n",
    "    Parameters = = = = = = = = = = \n",
    "    n : int number of option valuations/ strikes ''' \n",
    "    \n",
    "    strikes = np.linspace(80, 120, n) \n",
    "    option_values = [] \n",
    "    \n",
    "    for strike in strikes:\n",
    "        value = view.apply_async(bsm_mcs_valuation, strike) \n",
    "        option_values.append(value) \n",
    "    \n",
    "    c.wait(option_values) \n",
    "    return strikes, option_values"
   ]
  },
  {
   "cell_type": "code",
   "execution_count": 35,
   "metadata": {
    "collapsed": false
   },
   "outputs": [
    {
     "name": "stdout",
     "output_type": "stream",
     "text": [
      "Wall time: 2.93 s\n"
     ]
    }
   ],
   "source": [
    "%time strikes, option_values_obj = par_value(n)"
   ]
  },
  {
   "cell_type": "code",
   "execution_count": 36,
   "metadata": {
    "collapsed": false
   },
   "outputs": [
    {
     "name": "stdout",
     "output_type": "stream",
     "text": [
      "Approximate options valued per second = 36.10s\n"
     ]
    }
   ],
   "source": [
    "print('Approximate options valued per second = {:.2f}s'.format(100/2.77))"
   ]
  },
  {
   "cell_type": "code",
   "execution_count": 37,
   "metadata": {
    "collapsed": false
   },
   "outputs": [
    {
     "data": {
      "text/plain": [
       "{'after': [],\n",
       " 'completed': datetime.datetime(2016, 10, 1, 22, 47, 54, 831084),\n",
       " 'data': {},\n",
       " 'engine_id': 1,\n",
       " 'engine_uuid': '9eedf207-46c0-4476-acf9-0e53f40e7654',\n",
       " 'error': None,\n",
       " 'execute_input': None,\n",
       " 'execute_result': None,\n",
       " 'follow': [],\n",
       " 'msg_id': '4d6f1e58-1374-437e-833a-7c5336574e4e',\n",
       " 'outputs': [],\n",
       " 'received': datetime.datetime(2016, 10, 1, 22, 47, 54, 837602),\n",
       " 'started': datetime.datetime(2016, 10, 1, 22, 47, 54, 419491),\n",
       " 'status': 'ok',\n",
       " 'stderr': '',\n",
       " 'stdout': '',\n",
       " 'submitted': datetime.datetime(2016, 10, 1, 22, 47, 54, 388407)}"
      ]
     },
     "execution_count": 37,
     "metadata": {},
     "output_type": "execute_result"
    }
   ],
   "source": [
    "option_values_obj[0].metadata"
   ]
  },
  {
   "cell_type": "code",
   "execution_count": 38,
   "metadata": {
    "collapsed": false
   },
   "outputs": [
    {
     "data": {
      "text/plain": [
       "24.542313463900452"
      ]
     },
     "execution_count": 38,
     "metadata": {},
     "output_type": "execute_result"
    }
   ],
   "source": [
    "option_values_obj[0].get()"
   ]
  },
  {
   "cell_type": "code",
   "execution_count": 39,
   "metadata": {
    "collapsed": false
   },
   "outputs": [
    {
     "data": {
      "text/plain": [
       "24.542313463900452"
      ]
     },
     "execution_count": 39,
     "metadata": {},
     "output_type": "execute_result"
    }
   ],
   "source": [
    "option_values_obj[0].get()"
   ]
  },
  {
   "cell_type": "code",
   "execution_count": 40,
   "metadata": {
    "collapsed": false
   },
   "outputs": [],
   "source": [
    "option_values_par = []\n",
    "for res in option_values_obj:\n",
    "    option_values_par.append(res.get())"
   ]
  },
  {
   "cell_type": "code",
   "execution_count": 41,
   "metadata": {
    "collapsed": false
   },
   "outputs": [
    {
     "data": {
      "text/plain": [
       "<matplotlib.text.Text at 0x20d02f985c0>"
      ]
     },
     "execution_count": 41,
     "metadata": {},
     "output_type": "execute_result"
    },
    {
     "data": {
      "image/png": "[encoded data removed]",
      "text/plain": [
       "<matplotlib.figure.Figure at 0x20d0543af60>"
      ]
     },
     "metadata": {},
     "output_type": "display_data"
    }
   ],
   "source": [
    "plt.figure(figsize =(8, 4)) \n",
    "plt.plot(strikes, option_values_seq, 'b', label='Sequential') \n",
    "plt.plot(strikes, option_values_par, 'r.', label='Parallel') \n",
    "plt.grid(True) \n",
    "plt.legend(loc=0)\n",
    "plt.xlabel('strikes') \n",
    "plt.ylabel('European call option values')"
   ]
  },
  {
   "cell_type": "markdown",
   "metadata": {},
   "source": [
    "### Performance Comparison"
   ]
  },
  {
   "cell_type": "code",
   "execution_count": 42,
   "metadata": {
    "collapsed": false
   },
   "outputs": [
    {
     "name": "stdout",
     "output_type": "stream",
     "text": [
      "function: par_value, av. time sec:   1.32646, relative:    1.0\n",
      "function: seq_value, av. time sec:   3.67624, relative:    2.8\n"
     ]
    }
   ],
   "source": [
    "n = 50 # number of option valuations\n",
    "func_list = ['seq_value','par_value']\n",
    "data_list = 2*['n']\n",
    "perf_comp_data(func_list, data_list)"
   ]
  },
  {
   "cell_type": "markdown",
   "metadata": {},
   "source": [
    "##  Multiprocessing\n",
    "I think this has to be run on a server with 16 cores to match what is in the book. For some reason (maybe not enough cores) it does not run on my 2-core laptop."
   ]
  },
  {
   "cell_type": "code",
   "execution_count": null,
   "metadata": {
    "collapsed": true
   },
   "outputs": [],
   "source": [
    "import multiprocessing as mp\n",
    "import numpy as np"
   ]
  },
  {
   "cell_type": "code",
   "execution_count": null,
   "metadata": {
    "collapsed": true
   },
   "outputs": [],
   "source": [
    "import math\n",
    "def simulate_geometric_brownian_motion(p):\n",
    "    M, I = p\n",
    "    # time steps, paths\n",
    "    S0 = 100; r = 0.05; sigma = 0.2; T = 1.0\n",
    "    # model parameters\n",
    "    dt = T/M\n",
    "    paths = np.zeros((M+1, I))\n",
    "    paths[0] = S0\n",
    "    \n",
    "    for t in range(1, M+1):\n",
    "        paths[t] = paths[t-1] * np.exp((r-0.5*sigma**2)*dt + sigma*math.sqrt(dt)*np.random.standard_normal(I))\n",
    "    \n",
    "    return paths"
   ]
  },
  {
   "cell_type": "code",
   "execution_count": null,
   "metadata": {
    "collapsed": false
   },
   "outputs": [],
   "source": [
    "paths = simulate_geometric_brownian_motion((5,2))\n",
    "paths"
   ]
  },
  {
   "cell_type": "code",
   "execution_count": null,
   "metadata": {
    "collapsed": true
   },
   "outputs": [],
   "source": [
    "I = 10000\n",
    "M = 100\n",
    "t = 100"
   ]
  },
  {
   "cell_type": "code",
   "execution_count": null,
   "metadata": {
    "collapsed": true
   },
   "outputs": [],
   "source": [
    "from time import time\n",
    "times = []\n",
    "\n",
    "for w in range(1,17):\n",
    "    t0 = time()\n",
    "    pool = mp.Pool(processems=w)\n",
    "    #the pool of workers:\n",
    "    result = pool.map(simulate_geometric_brownian_motion, t*[(M,I),])\n",
    "    \n",
    "    #mapping the function results to the list of parameter tuples:\n",
    "    times.append(time()-t0)"
   ]
  },
  {
   "cell_type": "markdown",
   "metadata": {
    "collapsed": true
   },
   "source": [
    "## Dynamic Compiling\n",
    "Numba is an open source, NumPy-aware optimizing compiler for Python code. It uses the LLVM compiler infrastructure[ 31] to compile Python byte code to machine code especially for use in the NumPy runtime and SciPy modules.\n",
    "\n",
    "An example with nested loops:"
   ]
  },
  {
   "cell_type": "code",
   "execution_count": 2,
   "metadata": {
    "collapsed": false
   },
   "outputs": [],
   "source": [
    "from math import cos, log \n",
    "\n",
    "def f_py(I, J): \n",
    "    res = 0 \n",
    "    for i in range(I): \n",
    "        for j in range (J): \n",
    "            res += int(cos(log(1))) \n",
    "    return res"
   ]
  },
  {
   "cell_type": "code",
   "execution_count": 3,
   "metadata": {
    "collapsed": false
   },
   "outputs": [
    {
     "name": "stdout",
     "output_type": "stream",
     "text": [
      "Wall time: 11.8 s\n"
     ]
    },
    {
     "data": {
      "text/plain": [
       "25000000"
      ]
     },
     "execution_count": 3,
     "metadata": {},
     "output_type": "execute_result"
    }
   ],
   "source": [
    "I, J = 5000, 5000\n",
    "%time f_py(I,J)"
   ]
  },
  {
   "cell_type": "markdown",
   "metadata": {},
   "source": [
    "Vectorizing with NumPy arrays:"
   ]
  },
  {
   "cell_type": "code",
   "execution_count": 4,
   "metadata": {
    "collapsed": true
   },
   "outputs": [],
   "source": [
    "import numpy as np\n",
    "def f_np(I,J):\n",
    "    a = np.ones((I,J), dtype=np.float64)\n",
    "    return int(np.sum(np.cos(np.log(a)))), a"
   ]
  },
  {
   "cell_type": "code",
   "execution_count": 5,
   "metadata": {
    "collapsed": false
   },
   "outputs": [
    {
     "name": "stdout",
     "output_type": "stream",
     "text": [
      "Wall time: 560 ms\n"
     ]
    }
   ],
   "source": [
    "%time res, a = f_np(I, J)"
   ]
  },
  {
   "cell_type": "code",
   "execution_count": 6,
   "metadata": {
    "collapsed": false
   },
   "outputs": [
    {
     "data": {
      "text/plain": [
       "200000000"
      ]
     },
     "execution_count": 6,
     "metadata": {},
     "output_type": "execute_result"
    }
   ],
   "source": [
    "a.nbytes"
   ]
  },
  {
   "cell_type": "markdown",
   "metadata": {},
   "source": [
    "While fast, this approach uses up a lot of memory. Numba can help solve this problem."
   ]
  },
  {
   "cell_type": "code",
   "execution_count": 7,
   "metadata": {
    "collapsed": true
   },
   "outputs": [],
   "source": [
    "import numba as nb"
   ]
  },
  {
   "cell_type": "code",
   "execution_count": 8,
   "metadata": {
    "collapsed": true
   },
   "outputs": [],
   "source": [
    "f_nb = nb.jit(f_py)"
   ]
  },
  {
   "cell_type": "code",
   "execution_count": 9,
   "metadata": {
    "collapsed": false
   },
   "outputs": [
    {
     "name": "stdout",
     "output_type": "stream",
     "text": [
      "Wall time: 95.5 ms\n"
     ]
    },
    {
     "data": {
      "text/plain": [
       "25000000"
      ]
     },
     "execution_count": 9,
     "metadata": {},
     "output_type": "execute_result"
    }
   ],
   "source": [
    "%time f_nb(I, J)"
   ]
  },
  {
   "cell_type": "code",
   "execution_count": 10,
   "metadata": {
    "collapsed": false
   },
   "outputs": [
    {
     "name": "stdout",
     "output_type": "stream",
     "text": [
      "function: f_nb, av. time sec:   0.00000, relative:    1.0\n",
      "function: f_np, av. time sec:   0.53165, relative: 311515.3\n",
      "function: f_py, av. time sec:  11.74286, relative: 6880587.1\n"
     ]
    }
   ],
   "source": [
    "func_list = ['f_py','f_np','f_nb']\n",
    "data_list = 3*['I, J']\n",
    "perf_comp_data(func_list, data_list)"
   ]
  },
  {
   "cell_type": "markdown",
   "metadata": {},
   "source": [
    "### Binomial Option Pricing"
   ]
  },
  {
   "cell_type": "code",
   "execution_count": 11,
   "metadata": {
    "collapsed": false
   },
   "outputs": [],
   "source": [
    "from math import exp, sqrt\n",
    "# model & option parameters \n",
    "S0 = 100. # initial index level \n",
    "T = 1. # call option maturity \n",
    "r = 0.05 # constant short rate \n",
    "vol = 0.20 # constant volatility factor of diffusion \n",
    "\n",
    "# time parameters \n",
    "M = 1000 # time steps \n",
    "dt = T / M # length of time interval \n",
    "df = exp(-r * dt) # discount factor per time interval \n",
    "\n",
    "# binomial parameters \n",
    "u = exp(vol * sqrt(dt)) # up-movement \n",
    "d = 1 / u # down-movement \n",
    "q = (exp(r * dt) - d) / (u - d) # martingale probability"
   ]
  },
  {
   "cell_type": "code",
   "execution_count": 12,
   "metadata": {
    "collapsed": false
   },
   "outputs": [],
   "source": [
    "import numpy as np \n",
    "\n",
    "def binomial_py(strike): \n",
    "    ''' Binomial option pricing via looping. \n",
    "    Parameters = = = = = = = = = = \n",
    "    strike : float strike price of the European call option ''' \n",
    "    \n",
    "    # LOOP 1 - Index Levels \n",
    "    S = np.zeros((M + 1, M + 1), dtype = np.float64) \n",
    "    # index level array \n",
    "    S[0, 0] = S0 \n",
    "    z1 = 0 \n",
    "    for j in range(1, M + 1, 1):\n",
    "        z1 += 1 \n",
    "        for i in range(z1 + 1): \n",
    "            S[i, j] = S[0, 0] * (u ** j) * (d ** (i * 2)) \n",
    "            \n",
    "    # LOOP 2 - Inner Values \n",
    "    iv = np.zeros((M + 1, M + 1), dtype = np.float64) \n",
    "    # inner value array \n",
    "    z2 = 0\n",
    "    for j in range(0, M+1, 1): \n",
    "        for i in range(z2+1): \n",
    "            iv[i, j] = max(S[i, j] - strike, 0) \n",
    "        z2 += 1 \n",
    "                    \n",
    "    # LOOP 3 - Valuation \n",
    "    pv = np.zeros((M + 1, M + 1), dtype = np.float64) \n",
    "    # present value array \n",
    "    pv[:, M] = iv[:, M] # initialize last time point\n",
    "    z3 = M + 1 \n",
    "    for j in range(M - 1 , -1, -1): \n",
    "        z3 = z3 - 1 \n",
    "        for i in range(z3): \n",
    "            pv[i, j] = (q * pv[i, j + 1] + (1 - q) * pv[i + 1, j + 1]) * df\n",
    "            \n",
    "    return pv[0, 0]"
   ]
  },
  {
   "cell_type": "code",
   "execution_count": 13,
   "metadata": {
    "collapsed": false
   },
   "outputs": [
    {
     "name": "stdout",
     "output_type": "stream",
     "text": [
      "Wall time: 1.61 s\n"
     ]
    },
    {
     "data": {
      "text/plain": [
       "10.449"
      ]
     },
     "execution_count": 13,
     "metadata": {},
     "output_type": "execute_result"
    }
   ],
   "source": [
    "%time round(binomial_py(100),3)"
   ]
  },
  {
   "cell_type": "code",
   "execution_count": 16,
   "metadata": {
    "collapsed": false
   },
   "outputs": [
    {
     "name": "stdout",
     "output_type": "stream",
     "text": [
      "Wall time: 52.1 ms\n"
     ]
    },
    {
     "data": {
      "text/plain": [
       "10.295999999999999"
      ]
     },
     "execution_count": 16,
     "metadata": {},
     "output_type": "execute_result"
    }
   ],
   "source": [
    "%time round(bsm_mcs_valuation(100),3)"
   ]
  },
  {
   "cell_type": "code",
   "execution_count": 22,
   "metadata": {
    "collapsed": false
   },
   "outputs": [],
   "source": [
    "def binomial_np( strike): \n",
    "    ''' Binomial option pricing with NumPy. \n",
    "    Parameters = = = = = = = = = = \n",
    "    strike : float strike price of the European call option ''' \n",
    "    \n",
    "    # Index Levels with NumPy \n",
    "    mu = np.arange(M + 1) \n",
    "    mu = np.resize(mu, (M + 1, M + 1)) \n",
    "    md = np.transpose(mu) \n",
    "    mu = u ** (mu - md) \n",
    "    md = d ** md \n",
    "    S = S0 * mu * md \n",
    "    \n",
    "    # Valuation Loop \n",
    "    pv = np.maximum(S - strike, 0) \n",
    "    z = 0 \n",
    "    for t in range(M - 1, -1, -1): # backward iteration \n",
    "        pv[0: M - z, t] = (q * pv[0: M - z, t + 1] + (1 - q) * pv[ 1: M - z + 1, t + 1]) * df \n",
    "        z += 1\n",
    "    return pv[0, 0]"
   ]
  },
  {
   "cell_type": "code",
   "execution_count": 29,
   "metadata": {
    "collapsed": false
   },
   "outputs": [
    {
     "data": {
      "text/plain": [
       "array([0, 1, 2, 3, 4])"
      ]
     },
     "execution_count": 29,
     "metadata": {},
     "output_type": "execute_result"
    }
   ],
   "source": [
    "M = 4 # 4 time steps only\n",
    "mu = np.arange(M+1)\n",
    "mu"
   ]
  },
  {
   "cell_type": "code",
   "execution_count": 30,
   "metadata": {
    "collapsed": false
   },
   "outputs": [
    {
     "data": {
      "text/plain": [
       "array([[0, 1, 2, 3, 4],\n",
       "       [0, 1, 2, 3, 4],\n",
       "       [0, 1, 2, 3, 4],\n",
       "       [0, 1, 2, 3, 4],\n",
       "       [0, 1, 2, 3, 4]])"
      ]
     },
     "execution_count": 30,
     "metadata": {},
     "output_type": "execute_result"
    }
   ],
   "source": [
    "mu = np.resize(mu, (M + 1, M + 1))\n",
    "mu"
   ]
  },
  {
   "cell_type": "code",
   "execution_count": 31,
   "metadata": {
    "collapsed": false
   },
   "outputs": [
    {
     "data": {
      "text/plain": [
       "array([[0, 0, 0, 0, 0],\n",
       "       [1, 1, 1, 1, 1],\n",
       "       [2, 2, 2, 2, 2],\n",
       "       [3, 3, 3, 3, 3],\n",
       "       [4, 4, 4, 4, 4]])"
      ]
     },
     "execution_count": 31,
     "metadata": {},
     "output_type": "execute_result"
    }
   ],
   "source": [
    "md = np.transpose(mu)\n",
    "md"
   ]
  },
  {
   "cell_type": "code",
   "execution_count": 32,
   "metadata": {
    "collapsed": false
   },
   "outputs": [
    {
     "data": {
      "text/plain": [
       "array([[ 1.   ,  1.006,  1.013,  1.019,  1.026],\n",
       "       [ 0.994,  1.   ,  1.006,  1.013,  1.019],\n",
       "       [ 0.987,  0.994,  1.   ,  1.006,  1.013],\n",
       "       [ 0.981,  0.987,  0.994,  1.   ,  1.006],\n",
       "       [ 0.975,  0.981,  0.987,  0.994,  1.   ]])"
      ]
     },
     "execution_count": 32,
     "metadata": {},
     "output_type": "execute_result"
    }
   ],
   "source": [
    "mu = u**(mu-md)\n",
    "mu.round(3)"
   ]
  },
  {
   "cell_type": "code",
   "execution_count": 33,
   "metadata": {
    "collapsed": false
   },
   "outputs": [
    {
     "data": {
      "text/plain": [
       "array([[ 1.   ,  1.   ,  1.   ,  1.   ,  1.   ],\n",
       "       [ 0.994,  0.994,  0.994,  0.994,  0.994],\n",
       "       [ 0.987,  0.987,  0.987,  0.987,  0.987],\n",
       "       [ 0.981,  0.981,  0.981,  0.981,  0.981],\n",
       "       [ 0.975,  0.975,  0.975,  0.975,  0.975]])"
      ]
     },
     "execution_count": 33,
     "metadata": {},
     "output_type": "execute_result"
    }
   ],
   "source": [
    "md = d**md\n",
    "md.round(3)"
   ]
  },
  {
   "cell_type": "code",
   "execution_count": 34,
   "metadata": {
    "collapsed": false
   },
   "outputs": [
    {
     "data": {
      "text/plain": [
       "array([[ 100.   ,  100.634,  101.273,  101.915,  102.562],\n",
       "       [  98.743,   99.37 ,  100.   ,  100.634,  101.273],\n",
       "       [  97.502,   98.121,   98.743,   99.37 ,  100.   ],\n",
       "       [  96.276,   96.887,   97.502,   98.121,   98.743],\n",
       "       [  95.066,   95.669,   96.276,   96.887,   97.502]])"
      ]
     },
     "execution_count": 34,
     "metadata": {},
     "output_type": "execute_result"
    }
   ],
   "source": [
    "S = S0*mu*md\n",
    "S.round(3)"
   ]
  },
  {
   "cell_type": "code",
   "execution_count": 35,
   "metadata": {
    "collapsed": false
   },
   "outputs": [
    {
     "name": "stdout",
     "output_type": "stream",
     "text": [
      "Wall time: 153 ms\n"
     ]
    },
    {
     "data": {
      "text/plain": [
       "10.449"
      ]
     },
     "execution_count": 35,
     "metadata": {},
     "output_type": "execute_result"
    }
   ],
   "source": [
    "M = 1000 # reset number of time steps\n",
    "%time round(binomial_np(100),3)\n"
   ]
  },
  {
   "cell_type": "code",
   "execution_count": 38,
   "metadata": {
    "collapsed": true
   },
   "outputs": [],
   "source": [
    "import numba as nb\n",
    "binomial_nb = nb.jit(binomial_py)"
   ]
  },
  {
   "cell_type": "code",
   "execution_count": 39,
   "metadata": {
    "collapsed": false
   },
   "outputs": [
    {
     "name": "stdout",
     "output_type": "stream",
     "text": [
      "Wall time: 348 ms\n"
     ]
    },
    {
     "data": {
      "text/plain": [
       "10.449"
      ]
     },
     "execution_count": 39,
     "metadata": {},
     "output_type": "execute_result"
    }
   ],
   "source": [
    "%time round(binomial_nb(100),3)"
   ]
  },
  {
   "cell_type": "code",
   "execution_count": 40,
   "metadata": {
    "collapsed": true
   },
   "outputs": [],
   "source": [
    "func_list = ['binomial_py','binomial_np','binomial_nb']\n",
    "K = 100\n",
    "data_list = 3*['K'] "
   ]
  },
  {
   "cell_type": "code",
   "execution_count": 41,
   "metadata": {
    "collapsed": false
   },
   "outputs": [
    {
     "name": "stdout",
     "output_type": "stream",
     "text": [
      "function: binomial_nb, av. time sec:   0.04145, relative:    1.0\n",
      "function: binomial_np, av. time sec:   0.12830, relative:    3.1\n",
      "function: binomial_py, av. time sec:   1.57191, relative:   37.9\n"
     ]
    }
   ],
   "source": [
    "perf_comp_data(func_list, data_list)"
   ]
  },
  {
   "cell_type": "markdown",
   "metadata": {},
   "source": [
    "## Static Compiling with Cython"
   ]
  },
  {
   "cell_type": "code",
   "execution_count": 3,
   "metadata": {
    "collapsed": true
   },
   "outputs": [],
   "source": [
    "def f_py(I, J):\n",
    "    res = 0. # working with a float object\n",
    "    for i in range(I):\n",
    "        for j in range(J*I):\n",
    "            res += 1\n",
    "    return res"
   ]
  },
  {
   "cell_type": "code",
   "execution_count": 4,
   "metadata": {
    "collapsed": false
   },
   "outputs": [
    {
     "name": "stdout",
     "output_type": "stream",
     "text": [
      "Wall time: 15 s\n"
     ]
    },
    {
     "data": {
      "text/plain": [
       "125000000.0"
      ]
     },
     "execution_count": 4,
     "metadata": {},
     "output_type": "execute_result"
    }
   ],
   "source": [
    "I, J = 500, 500\n",
    "%time f_py(I, J)"
   ]
  },
  {
   "cell_type": "markdown",
   "metadata": {},
   "source": [
    "### Nested loop with Cython static type declarations"
   ]
  },
  {
   "cell_type": "code",
   "execution_count": 13,
   "metadata": {
    "collapsed": false
   },
   "outputs": [
    {
     "name": "stdout",
     "output_type": "stream",
     "text": [
      "The Cython extension is already loaded. To reload it, use:\n",
      "  %reload_ext Cython\n"
     ]
    }
   ],
   "source": [
    "%load_ext Cython"
   ]
  },
  {
   "cell_type": "code",
   "execution_count": 14,
   "metadata": {
    "collapsed": false
   },
   "outputs": [],
   "source": [
    "%%cython\n",
    "def f_cy(int I, int J):\n",
    "    cdef double res = 0\n",
    "    # double float much slower than int or long\n",
    "    for i in range(I):\n",
    "        for j in range(J*I):\n",
    "            res += 1\n",
    "    return res"
   ]
  },
  {
   "cell_type": "code",
   "execution_count": 15,
   "metadata": {
    "collapsed": false
   },
   "outputs": [
    {
     "name": "stdout",
     "output_type": "stream",
     "text": [
      "Wall time: 191 ms\n"
     ]
    }
   ],
   "source": [
    "%time res = f_cy(I, J)"
   ]
  },
  {
   "cell_type": "code",
   "execution_count": 16,
   "metadata": {
    "collapsed": false
   },
   "outputs": [
    {
     "data": {
      "text/plain": [
       "125000000.0"
      ]
     },
     "execution_count": 16,
     "metadata": {},
     "output_type": "execute_result"
    }
   ],
   "source": [
    "res"
   ]
  },
  {
   "cell_type": "code",
   "execution_count": 17,
   "metadata": {
    "collapsed": true
   },
   "outputs": [],
   "source": [
    "import numba as nb\n",
    "f_nb = nb.jit(f_py)"
   ]
  },
  {
   "cell_type": "code",
   "execution_count": 18,
   "metadata": {
    "collapsed": false
   },
   "outputs": [
    {
     "name": "stdout",
     "output_type": "stream",
     "text": [
      "Wall time: 311 ms\n"
     ]
    },
    {
     "data": {
      "text/plain": [
       "125000000.0"
      ]
     },
     "execution_count": 18,
     "metadata": {},
     "output_type": "execute_result"
    }
   ],
   "source": [
    "%time f_nb(I, J)"
   ]
  },
  {
   "cell_type": "code",
   "execution_count": 20,
   "metadata": {
    "collapsed": false
   },
   "outputs": [
    {
     "name": "stdout",
     "output_type": "stream",
     "text": [
      "function: f_nb, av. time sec:   0.18906, relative:    1.0\n",
      "function: f_cy, av. time sec:   0.18976, relative:    1.0\n",
      "function: f_py, av. time sec:  14.97294, relative:   79.2\n"
     ]
    }
   ],
   "source": [
    "func_list = ['f_py','f_cy','f_nb']\n",
    "I, J = 500, 500\n",
    "data_list = 3*['I,J']\n",
    "perf_comp_data(func_list, data_list)"
   ]
  },
  {
   "cell_type": "markdown",
   "metadata": {},
   "source": [
    "## GPU computing"
   ]
  },
  {
   "cell_type": "code",
   "execution_count": 34,
   "metadata": {
    "collapsed": false
   },
   "outputs": [],
   "source": [
    "from numbapro.cudalib import curand\n",
    "import numpy as np"
   ]
  },
  {
   "cell_type": "code",
   "execution_count": 37,
   "metadata": {
    "collapsed": true
   },
   "outputs": [],
   "source": [
    "def get_randoms(x,y):\n",
    "    rand = np.random.standard_normal((x,y))\n",
    "    return rand"
   ]
  },
  {
   "cell_type": "code",
   "execution_count": 38,
   "metadata": {
    "collapsed": false
   },
   "outputs": [
    {
     "data": {
      "text/plain": [
       "array([[ 1.11657296, -0.25223927],\n",
       "       [-0.60785832, -0.1033971 ]])"
      ]
     },
     "execution_count": 38,
     "metadata": {},
     "output_type": "execute_result"
    }
   ],
   "source": [
    "get_randoms(2,2)"
   ]
  },
  {
   "cell_type": "code",
   "execution_count": 40,
   "metadata": {
    "collapsed": true
   },
   "outputs": [],
   "source": [
    "def get_cuda_randoms(x,y):\n",
    "    rand = np.empty((x*y), np.float64)\n",
    "        # rand serves as a contaier for the randoms\n",
    "        # CUDA only fills 1 dimensional arrays\n",
    "    prng = curand.PRNG(rndtype=curand.PRNG.XORWOW)\n",
    "        # the argument sets the random number algorithm\n",
    "    prng.normal(rand,0,1) # filling the container\n",
    "    rand = rand.reshape((x,y))\n",
    "        # to be fair we reshape rand to 2 dimensions\n",
    "    return rand"
   ]
  },
  {
   "cell_type": "code",
   "execution_count": 42,
   "metadata": {
    "collapsed": false
   },
   "outputs": [],
   "source": [
    "# get_cuda_randoms(2,2)\n",
    "# Looks like cuda doesn't run because the CUDA driver library is not loaded"
   ]
  },
  {
   "cell_type": "code",
   "execution_count": null,
   "metadata": {
    "collapsed": true
   },
   "outputs": [],
   "source": []
  }
 ],
 "metadata": {
  "anaconda-cloud": {},
  "kernelspec": {
   "display_name": "Python [default]",
   "language": "python",
   "name": "python3"
  },
  "language_info": {
   "codemirror_mode": {
    "name": "ipython",
    "version": 3
   },
   "file_extension": ".py",
   "mimetype": "text/x-python",
   "name": "python",
   "nbconvert_exporter": "python",
   "pygments_lexer": "ipython3",
   "version": "3.6.0"
  }
 },
 "nbformat": 4,
 "nbformat_minor": 0
}
