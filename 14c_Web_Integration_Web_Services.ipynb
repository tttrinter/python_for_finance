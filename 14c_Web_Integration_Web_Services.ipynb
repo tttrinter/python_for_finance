{
 "cells": [
  {
   "cell_type": "markdown",
   "metadata": {},
   "source": [
    "# 14. Web Integration - Web Services\n",
    "\n",
    "Chapter 14 of Python for Finance (continued)\n",
    "\n",
    "Hilpisch, Yves. Python for Finance: Analyze Big Financial Data. O'Reilly Media. Kindle Edition."
   ]
  },
  {
   "cell_type": "markdown",
   "metadata": {},
   "source": [
    "**Call option formula of Gruenbichler and Longstaff (1996)**\n",
    "\n",
    "$ \\begin{aligned} C(V_0, K, T) = {} & D(T) \\cdot [ (e^{-\\beta T} \\cdot V_0 \\cdot Q(\\gamma \\cdot K | \\nu + 4, \\lambda) \\\\\n",
    "& \\frac{\\alpha}{\\beta} \\cdot (1-e^{\\beta T}) \\cdot Q(\\gamma \\cdot K| \\nu + 2, \\lambda) \\\\\n",
    "& - K \\cdot Q(\\gamma \\cdot K| \\nu , \\lambda) ]\n",
    "\\end{aligned}$\n",
    "\n",
    "$ \\begin{aligned} \n",
    "& \\alpha = \\kappa \\Theta \\\\\n",
    "& \\beta = \\kappa + \\zeta \\\\\n",
    "& \\gamma = \\frac{4 \\beta }{\\sigma^2(1-e^{- \\beta T})} \\\\\n",
    "& \\nu = \\frac{4 \\alpha}{\\sigma ^2} \\\\\n",
    "& \\lambda = \\gamma \\cdot e^{- \\beta T} \\cdot V\n",
    "\\end{aligned}$\n",
    "\n"
   ]
  },
  {
   "cell_type": "code",
   "execution_count": 1,
   "metadata": {
    "collapsed": true
   },
   "outputs": [],
   "source": [
    "from scipy.stats import ncx2 \n",
    "import numpy as np"
   ]
  },
  {
   "cell_type": "code",
   "execution_count": 2,
   "metadata": {
    "collapsed": false
   },
   "outputs": [],
   "source": [
    "# Semianalytical option pricing formula of GL96 \n",
    "def calculate_option_value( V0, kappa, theta, sigma, zeta, T, r, K): \n",
    "    ''' Calculation of European call option price in GL96 model. \n",
    "    Parameters = = = = = = = = = = \n",
    "    V0 : float current volatility level \n",
    "    kappa : float mean reversion factor \n",
    "    theta : float long-run mean of volatility \n",
    "    sigma : float volatility of volatility\n",
    "    zeta  : volatility risk premium\n",
    "    T     : float, time to maturity\n",
    "    r     : float, risk free rate\n",
    "    K     : float, strike price of the option\n",
    "\n",
    "    Returns:\n",
    "    ========================\n",
    "    value : float, npv of the option\n",
    "    '''\n",
    "\n",
    "    # Discount factor\n",
    "    D = np.exp(-r * T) \n",
    "\n",
    "    #Variables\n",
    "    alpha = kappa * theta\n",
    "    beta = kappa + zeta\n",
    "    gamma = 4 * beta / (sigma ** 2 * (1-np.exp(-beta*T)))\n",
    "    nu = 4*alpha/(sigma**2)\n",
    "    lamb = gamma *np.exp(-beta*T)*V0\n",
    "    cx1 = 1 - ncx2.cdf(gamma * K, nu + 4, lamb) \n",
    "    cx2 = 1 - ncx2.cdf(gamma * K, nu + 2, lamb)\n",
    "    cx3 = 1 - ncx2.cdf(gamma * K, nu, lamb) \n",
    "\n",
    "    # formula for European call price \n",
    "    value = D * (np.exp(-beta * T) * V0 * cx1 + (alpha / beta) * (1 - np.exp(-beta * T)) * cx2 - K * cx3) \n",
    "    return value"
   ]
  },
  {
   "cell_type": "code",
   "execution_count": 3,
   "metadata": {
    "collapsed": false
   },
   "outputs": [
    {
     "data": {
      "text/plain": [
       "0.20293770593386112"
      ]
     },
     "execution_count": 3,
     "metadata": {},
     "output_type": "execute_result"
    }
   ],
   "source": [
    "calculate_option_value(25, 2.0, 20, 1.0, 0.0, 1.5, 0.02, 22.5)"
   ]
  },
  {
   "cell_type": "code",
   "execution_count": 4,
   "metadata": {
    "collapsed": true
   },
   "outputs": [],
   "source": [
    "from urllib.request import urlopen"
   ]
  },
  {
   "cell_type": "code",
   "execution_count": 5,
   "metadata": {
    "collapsed": true
   },
   "outputs": [],
   "source": [
    "url = 'http://localhost:4000/'"
   ]
  },
  {
   "cell_type": "code",
   "execution_count": 6,
   "metadata": {
    "collapsed": false
   },
   "outputs": [
    {
     "name": "stdout",
     "output_type": "stream",
     "text": [
      "b'Missing parameter sigma (volatility of volatility)\\nMissing parameter T (time horizon in years)\\nMissing parameter theta (long-run mean of volatility)\\nMissing parameter K (strike)\\nMissing parameter r (risk-free interest rate)\\nMissing parameter V0 (current volatility level)\\nMissing parameter kappa (mean reversion factor)\\nMissing parameter zeta (factor of the expected volatility risk premium)\\n'\n"
     ]
    }
   ],
   "source": [
    "print(urlopen(url).read())"
   ]
  },
  {
   "cell_type": "code",
   "execution_count": 7,
   "metadata": {
    "collapsed": false
   },
   "outputs": [
    {
     "data": {
      "text/plain": [
       "'http://localhost:4000/application?V0=25&kappa=2.0&theta=20&sigma=1.0&zeta=0.0&T=1.5&r=0.02&K=22.5'"
      ]
     },
     "execution_count": 7,
     "metadata": {},
     "output_type": "execute_result"
    }
   ],
   "source": [
    "urlpara = url + 'application?V0=%s&kappa=%s&theta=%s&sigma=%s&zeta=%s&T=%s&r=%s&K=%s'\n",
    "urlval = urlpara % (25, 2.0, 20, 1.0, 0.0, 1.5, 0.02, 22.5)\n",
    "urlval"
   ]
  },
  {
   "cell_type": "code",
   "execution_count": 8,
   "metadata": {
    "collapsed": false
   },
   "outputs": [
    {
     "name": "stdout",
     "output_type": "stream",
     "text": [
      "b'0.202937705934'\n"
     ]
    }
   ],
   "source": [
    "print(urlopen(urlval).read())"
   ]
  },
  {
   "cell_type": "code",
   "execution_count": 9,
   "metadata": {
    "collapsed": false
   },
   "outputs": [
    {
     "name": "stdout",
     "output_type": "stream",
     "text": [
      "Wall time: 50.4 s\n"
     ]
    }
   ],
   "source": [
    "%%time \n",
    "urlpara = 'http://localhost:4000/application?V0=25&kappa=2.0' \n",
    "urlpara += '&theta=25&sigma=1.0&zeta=0.0&T=1&r=0.02&K=%s' \n",
    "\n",
    "strikes = np.linspace(20,30,50) \n",
    "results = [] \n",
    "\n",
    "for K in strikes: \n",
    "    results.append(float(urlopen(urlpara % K).read()))\n",
    "\n",
    "results = np.array(results)"
   ]
  },
  {
   "cell_type": "code",
   "execution_count": 10,
   "metadata": {
    "collapsed": false
   },
   "outputs": [
    {
     "data": {
      "text/plain": [
       "array([ 4.91296701,  4.71661296,  4.52120153,  4.32692516,  4.1339945 ,\n",
       "        3.94264561,  3.75313813,  3.56575972,  3.38079846,  3.19858765,\n",
       "        3.01946028,  2.8437621 ,  2.67184576,  2.50406508,  2.34078693,\n",
       "        2.18230495,  2.02898213,  1.88111287,  1.738968  ,  1.60280064,\n",
       "        1.47281111,  1.34917004,  1.23204859,  1.12141092,  1.01739405,\n",
       "        0.9199686 ,  0.82907686,  0.74462353,  0.66647327,  0.59445387,\n",
       "        0.52843174,  0.46798166,  0.41300694,  0.36319553,  0.31824647,\n",
       "        0.27785656,  0.24171678,  0.20951651,  0.18094732,  0.1557064 ,\n",
       "        0.1334996 ,  0.11414975,  0.09710449,  0.08234678,  0.06958767,\n",
       "        0.05859317,  0.04915788,  0.04109348,  0.03422854,  0.02840802])"
      ]
     },
     "execution_count": 10,
     "metadata": {},
     "output_type": "execute_result"
    }
   ],
   "source": [
    "results"
   ]
  },
  {
   "cell_type": "code",
   "execution_count": 11,
   "metadata": {
    "collapsed": true
   },
   "outputs": [],
   "source": [
    "import matplotlib.pyplot as plt\n",
    "%matplotlib inline"
   ]
  },
  {
   "cell_type": "code",
   "execution_count": 12,
   "metadata": {
    "collapsed": false
   },
   "outputs": [
    {
     "data": {
      "text/plain": [
       "<matplotlib.text.Text at 0x23248ebd550>"
      ]
     },
     "execution_count": 12,
     "metadata": {},
     "output_type": "execute_result"
    },
    {
     "data": {
      "image/png": "[encoded data removed]",
      "text/plain": [
       "<matplotlib.figure.Figure at 0x23248e472e8>"
      ]
     },
     "metadata": {},
     "output_type": "display_data"
    }
   ],
   "source": [
    "plt.plot(strikes, results, 'b')\n",
    "plt.plot(strikes, results, 'ro')\n",
    "plt.grid(True)\n",
    "plt.xlabel('strike')\n",
    "plt.ylabel('European Call Option Value')"
   ]
  },
  {
   "cell_type": "code",
   "execution_count": null,
   "metadata": {
    "collapsed": true
   },
   "outputs": [],
   "source": []
  }
 ],
 "metadata": {
  "anaconda-cloud": {},
  "kernelspec": {
   "display_name": "Python [conda root]",
   "language": "python",
   "name": "conda-root-py"
  },
  "language_info": {
   "codemirror_mode": {
    "name": "ipython",
    "version": 3
   },
   "file_extension": ".py",
   "mimetype": "text/x-python",
   "name": "python",
   "nbconvert_exporter": "python",
   "pygments_lexer": "ipython3",
   "version": "3.5.2"
  }
 },
 "nbformat": 4,
 "nbformat_minor": 1
}
