{
 "cells": [
  {
   "cell_type": "markdown",
   "metadata": {},
   "source": [
    "# Python for Finance - Monte Carlo"
   ]
  },
  {
   "cell_type": "code",
   "execution_count": 1,
   "metadata": {
    "collapsed": false
   },
   "outputs": [],
   "source": [
    "import bsm_functions as bsm\n",
    "import pandas as pd\n",
    "import matplotlib.pyplot as plt\n",
    "import numpy as np\n",
    "from time import time\n",
    "from math import exp, sqrt, log\n",
    "from random import gauss, seed\n",
    "\n",
    "%matplotlib inline "
   ]
  },
  {
   "cell_type": "markdown",
   "metadata": {},
   "source": [
    "### Three approaches:\n",
    "* Pure Python\n",
    "* Vectorized NumPy\n",
    "* Fully vectorized NumPy\n",
    "\n",
    "Looking at the Black-Scholes-Merton stochastic differential equation:\n",
    "$$dS_t = rS_tdt + \\sigma S_tdZ_t$$\n",
    "\n",
    "Euler discretization of the same equation:\n",
    "$$S_t = S_{t-\\Delta t}e^{((r-\\frac{1}{2}\\sigma^2)\\Delta t + \\sigma\\sqrt{\\Delta t}z_t}$$ \n",
    "\n",
    "The call option is approximated by:\n",
    "\n",
    "$$ C_0 \\approx e^{-rT}\\frac{1}{I}\\sum\\limits_{I}h_tS_t(i)$$\n",
    "\n",
    "We'll start by calculating an option value using the Black-Scholes-Morton equation above."
   ]
  },
  {
   "cell_type": "code",
   "execution_count": 2,
   "metadata": {
    "collapsed": false
   },
   "outputs": [
    {
     "data": {
      "text/plain": [
       "8.0213522351431763"
      ]
     },
     "execution_count": 2,
     "metadata": {},
     "output_type": "execute_result"
    }
   ],
   "source": [
    "S0 = 100 # initial value\n",
    "K = 105 # strike price\n",
    "T = 1.0 # maturity\n",
    "r = 0.05 # riskless short rate\n",
    "sigma = 0.2 # volatility\n",
    "bsm.bsm_call_value(S0,K,T,r,sigma)"
   ]
  },
  {
   "cell_type": "markdown",
   "metadata": {},
   "source": [
    "## Pure Python"
   ]
  },
  {
   "cell_type": "code",
   "execution_count": 3,
   "metadata": {
    "collapsed": true
   },
   "outputs": [],
   "source": [
    "# Setting the Monte Carlo parameters\n",
    "seed(2000)\n",
    "M = 50 # number of time steps\n",
    "dt = T/M # length of time interval\n",
    "I = 250000 # number of paths"
   ]
  },
  {
   "cell_type": "markdown",
   "metadata": {},
   "source": [
    "#### Simulating I paths with M timesteps"
   ]
  },
  {
   "cell_type": "code",
   "execution_count": 4,
   "metadata": {
    "collapsed": false
   },
   "outputs": [
    {
     "name": "stdout",
     "output_type": "stream",
     "text": [
      "European Option Value:   8.011\n",
      "Duration in seconds:  26.771\n"
     ]
    }
   ],
   "source": [
    "t0 = time()\n",
    "S = []\n",
    "for i in range(I):\n",
    "    path = []\n",
    "    for t in range(M + 1):\n",
    "        if t == 0:\n",
    "            path.append(S0)\n",
    "        else:\n",
    "            z = gauss(0.0,1.0)\n",
    "            St = path[t-1] * exp((r-0.5*sigma**2)*dt + sigma*sqrt(dt)*z)\n",
    "            path.append(St)\n",
    "    S.append(path)\n",
    "\n",
    "# Calculating the Monte Carlo Estimator\n",
    "C0 = exp(-r * T) * sum([max(path[-1] - K, 0) for path in S]) / I\n",
    "\n",
    "tpy = time() - t0\n",
    "print(\"European Option Value: %7.3f\" %C0)\n",
    "print(\"Duration in seconds: %7.3f\" %tpy)"
   ]
  },
  {
   "cell_type": "markdown",
   "metadata": {},
   "source": [
    "\n",
    "## Vectorized NumPy"
   ]
  },
  {
   "cell_type": "code",
   "execution_count": 5,
   "metadata": {
    "collapsed": true
   },
   "outputs": [],
   "source": [
    "np.random.seed(20000)\n",
    "S0 = 100 # initial value\n",
    "K = 105 # strike price\n",
    "T = 1.0 # maturity\n",
    "r = 0.05 # riskless short rate\n",
    "M = 50 # number of time steps\n",
    "sigma = 0.2 # volatility"
   ]
  },
  {
   "cell_type": "code",
   "execution_count": 6,
   "metadata": {
    "collapsed": false
   },
   "outputs": [
    {
     "name": "stdout",
     "output_type": "stream",
     "text": [
      "European Option Value:   8.037\n",
      "Duration in seconds:   0.982\n"
     ]
    }
   ],
   "source": [
    "t0 = time()\n",
    "S = np.zeros((M+1,I))\n",
    "S[0] = S0\n",
    "\n",
    "for t in range(1, M+1):\n",
    "    z = np.random.standard_normal(I)\n",
    "    #vectorized operation per time step over all paths\n",
    "    S[t] = S[t-1] * np.exp((r-0.5*sigma**2)*dt + sigma*sqrt(dt)*z)\n",
    "\n",
    "C0 = exp(-r * T) * np.sum(np.maximum(S[-1] - K,0)) / I\n",
    "\n",
    "tnp1 = time() - t0\n",
    "print(\"European Option Value: %7.3f\" %C0)\n",
    "print(\"Duration in seconds: %7.3f\" %tnp1)"
   ]
  },
  {
   "cell_type": "markdown",
   "metadata": {
    "collapsed": true
   },
   "source": [
    "## Full Vectorization with Log Euler Scheme\n",
    "\n",
    "This alternative discretization of the Black-Scholes-Merton equation should be even faster than the previous approach.\n",
    "\n",
    "$$logS_t = logS_{t-\\Delta t} + (r-\\frac{1}{2}\\sigma^2)\\Delta t + \\sigma\\sqrt{\\Delta t}z_t$$"
   ]
  },
  {
   "cell_type": "code",
   "execution_count": 7,
   "metadata": {
    "collapsed": true
   },
   "outputs": [],
   "source": [
    "S0 = 100. # initial value\n",
    "K = 105. # strike price\n",
    "T = 1.0 # maturity\n",
    "r = 0.05 # riskless short rate\n",
    "M = 50 # number of time steps\n",
    "sigma = 0.2 # volatility"
   ]
  },
  {
   "cell_type": "code",
   "execution_count": 8,
   "metadata": {
    "collapsed": false
   },
   "outputs": [
    {
     "name": "stdout",
     "output_type": "stream",
     "text": [
      "European Option Value:   8.166\n",
      "Duration in seconds:   0.949\n"
     ]
    }
   ],
   "source": [
    "t0 = time()\n",
    "np.random.seed(20000)\n",
    "I = 250000\n",
    "dt = T/M\n",
    "z = np.random.standard_normal((M+1, I))\n",
    "\n",
    "S = S0 * np.exp(np.cumsum((r-0.5*sigma**2)*dt + sigma*sqrt(dt)*z,axis=0))\n",
    "S[0] = S0\n",
    "\n",
    "C0 =exp(-r*T) * sum(np.maximum(S[-1] - K,0)) / I\n",
    "tnp2 = time()-t0\n",
    "\n",
    "print(\"European Option Value: %7.3f\" %C0)\n",
    "print(\"Duration in seconds: %7.3f\" %tnp2)"
   ]
  },
  {
   "cell_type": "markdown",
   "metadata": {
    "collapsed": true
   },
   "source": [
    "## Graphical Analysis\n",
    "Looking at the first 10 paths of the Monte Carlo simulation:"
   ]
  },
  {
   "cell_type": "code",
   "execution_count": 9,
   "metadata": {
    "collapsed": false
   },
   "outputs": [
    {
     "data": {
      "text/plain": [
       "<matplotlib.text.Text at 0x15f01af4c50>"
      ]
     },
     "execution_count": 9,
     "metadata": {},
     "output_type": "execute_result"
    },
    {
     "data": {
      "image/png": "[encoded data removed]",
      "text/plain": [
       "<matplotlib.figure.Figure at 0x15f01ae8fd0>"
      ]
     },
     "metadata": {},
     "output_type": "display_data"
    }
   ],
   "source": [
    "plt.plot(S[:,:10])\n",
    "plt.grid = True\n",
    "plt.xlabel('time step')\n",
    "plt.ylabel('index level')"
   ]
  },
  {
   "cell_type": "markdown",
   "metadata": {},
   "source": [
    "Frequency of the different levels in a histogram:"
   ]
  },
  {
   "cell_type": "code",
   "execution_count": 11,
   "metadata": {
    "collapsed": false
   },
   "outputs": [
    {
     "data": {
      "text/plain": [
       "<matplotlib.text.Text at 0x15f01bb21d0>"
      ]
     },
     "execution_count": 11,
     "metadata": {},
     "output_type": "execute_result"
    },
    {
     "data": {
      "image/png": "[encoded data removed]",
      "text/plain": [
       "<matplotlib.figure.Figure at 0x15f01ae8e48>"
      ]
     },
     "metadata": {},
     "output_type": "display_data"
    }
   ],
   "source": [
    "plt.hist(S[-1], bins = 50)\n",
    "plt.grid = True\n",
    "plt.xlabel('index level')\n",
    "plt.ylabel('frequency')"
   ]
  },
  {
   "cell_type": "markdown",
   "metadata": {},
   "source": [
    "Now looking at the options's end of period maturity inner values:"
   ]
  },
  {
   "cell_type": "code",
   "execution_count": 12,
   "metadata": {
    "collapsed": false
   },
   "outputs": [
    {
     "data": {
      "text/plain": [
       "(0, 50000)"
      ]
     },
     "execution_count": 12,
     "metadata": {},
     "output_type": "execute_result"
    },
    {
     "data": {
      "image/png": "[encoded data removed]",
      "text/plain": [
       "<matplotlib.figure.Figure at 0x15f7e666da0>"
      ]
     },
     "metadata": {},
     "output_type": "display_data"
    }
   ],
   "source": [
    "plt.hist(np.maximum(S[-1]-K,0),bins = 50)\n",
    "plt.grid = True\n",
    "plt.xlabel('option inner value')\n",
    "plt.ylabel('frequency')\n",
    "plt.ylim(0,50000)"
   ]
  },
  {
   "cell_type": "code",
   "execution_count": 13,
   "metadata": {
    "collapsed": false
   },
   "outputs": [
    {
     "data": {
      "text/plain": [
       "133533"
      ]
     },
     "execution_count": 13,
     "metadata": {},
     "output_type": "execute_result"
    }
   ],
   "source": [
    "# The number of simulated options expiring out of the money:\n",
    "sum(S[-1]<K)"
   ]
  }
 ],
 "metadata": {
  "anaconda-cloud": {},
  "kernelspec": {
   "display_name": "Python [default]",
   "language": "python",
   "name": "python3"
  },
  "language_info": {
   "codemirror_mode": {
    "name": "ipython",
    "version": 3
   },
   "file_extension": ".py",
   "mimetype": "text/x-python",
   "name": "python",
   "nbconvert_exporter": "python",
   "pygments_lexer": "ipython3",
   "version": "3.5.2"
  }
 },
 "nbformat": 4,
 "nbformat_minor": 0
}
